{
 "cells": [
  {
   "cell_type": "markdown",
   "metadata": {},
   "source": [
    "Zafrin Dhali <br>\n",
    "A121222669 <br>\n",
    "Cogs 118A <br>\n",
    "HW 2 "
   ]
  },
  {
   "cell_type": "code",
   "execution_count": 6,
   "metadata": {
    "collapsed": true
   },
   "outputs": [],
   "source": [
    "import numpy as np\n",
    "import matplotlib.pyplot as plt\n",
    "from sympy import *"
   ]
  },
  {
   "cell_type": "code",
   "execution_count": 2,
   "metadata": {},
   "outputs": [
    {
     "name": "stdout",
     "output_type": "stream",
     "text": [
      "Solved for x2 as as x in y=m*x+b form:  {-x1/2 + 2}\n",
      "Solved for x1 as as x in y=m*x+b form:  {-2*x2 + 4}\n"
     ]
    },
    {
     "data": {
      "image/png": "[encoded data removed]",
      "text/plain": [
       "<matplotlib.figure.Figure at 0x248b9719d68>"
      ]
     },
     "metadata": {},
     "output_type": "display_data"
    }
   ],
   "source": [
    "#1.1\n",
    "\n",
    "x1 , x2= var('x1 x2')\n",
    "x=np.arange(-15,15,1)\n",
    "x_axis=x*0\n",
    "y_axis=0*x\n",
    "print (\"Solved for x2 as as x in y=m*x+b form: \", solveset(Eq(x1 + 2 * x2 -4), x2))\n",
    "y_line=y= x * (-.5) + 2\n",
    "print (\"Solved for x1 as as x in y=m*x+b form: \",solveset(Eq(x1 + 2 * x2 -4), x1))\n",
    "\n",
    "#y_int x1=0\n",
    "zero=0\n",
    "y_int=-(zero) /2 + 2\n",
    "\n",
    "#x_int x2=0\n",
    "zero=0\n",
    "x_int=-2*zero + 4\n",
    "\n",
    "\n",
    "#plot\n",
    "plt.plot(x, y_line, 'b')\n",
    "plt.plot(zero, y_int, 'g*')\n",
    "plt.plot(x_int, zero, 'g*')\n",
    "plt.plot(x,x_axis,'y--',lw=.5)\n",
    "plt.plot(y_axis,x,'y--',lw=.5)\n",
    "\n",
    "plt.title('#1.1 Decision Boundary : X1+ 2* X2 -4>=0')\n",
    "plt.xlabel(\"X1\")\n",
    "plt.ylabel(\"X2\")\n",
    "plt.show()"
   ]
  },
  {
   "cell_type": "code",
   "execution_count": 3,
   "metadata": {
    "collapsed": true
   },
   "outputs": [],
   "source": [
    "#1.2\n",
    "x1 , x2 , w1 , w2, b= var('x1 x2 w1 w2 b')\n",
    "x=np.arange(-15,15,1)"
   ]
  },
  {
   "cell_type": "code",
   "execution_count": 4,
   "metadata": {},
   "outputs": [
    {
     "data": {
      "text/plain": [
       "{-(b + w2*x2)/w1}"
      ]
     },
     "execution_count": 4,
     "metadata": {},
     "output_type": "execute_result"
    }
   ],
   "source": [
    "solveset(Eq(w1*x1+w2*x2+b), x1)"
   ]
  },
  {
   "cell_type": "code",
   "execution_count": null,
   "metadata": {
    "collapsed": true
   },
   "outputs": [],
   "source": []
  },
  {
   "cell_type": "code",
   "execution_count": null,
   "metadata": {
    "collapsed": true
   },
   "outputs": [],
   "source": []
  },
  {
   "cell_type": "code",
   "execution_count": null,
   "metadata": {
    "collapsed": true
   },
   "outputs": [],
   "source": []
  },
  {
   "cell_type": "code",
   "execution_count": null,
   "metadata": {
    "collapsed": true
   },
   "outputs": [],
   "source": []
  },
  {
   "cell_type": "code",
   "execution_count": null,
   "metadata": {
    "collapsed": true
   },
   "outputs": [],
   "source": []
  },
  {
   "cell_type": "code",
   "execution_count": 5,
   "metadata": {
    "collapsed": true
   },
   "outputs": [],
   "source": [
    "#2\n"
   ]
  },
  {
   "cell_type": "markdown",
   "metadata": {},
   "source": [
    "TP=P(T+|S+)\n",
    "FP=P(T+|S-)\n",
    "TN=P(T-|S-)\n",
    "FN=P(T-|S+)\n",
    "\n",
    "\n",
    "TP=.98\n",
    "TN=.94\n",
    "Ir=.0006"
   ]
  },
  {
   "cell_type": "code",
   "execution_count": null,
   "metadata": {
    "collapsed": true
   },
   "outputs": [],
   "source": [
    "#2.1"
   ]
  }
 ],
 "metadata": {
  "kernelspec": {
   "display_name": "Python 3",
   "language": "python",
   "name": "python3"
  },
  "language_info": {
   "codemirror_mode": {
    "name": "ipython",
    "version": 3
   },
   "file_extension": ".py",
   "mimetype": "text/x-python",
   "name": "python",
   "nbconvert_exporter": "python",
   "pygments_lexer": "ipython3",
   "version": "3.6.3"
  }
 },
 "nbformat": 4,
 "nbformat_minor": 2
}
