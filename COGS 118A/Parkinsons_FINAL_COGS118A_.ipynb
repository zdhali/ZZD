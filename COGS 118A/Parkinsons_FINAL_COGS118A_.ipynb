{
 "cells": [
  {
   "cell_type": "code",
   "execution_count": 1,
   "metadata": {},
   "outputs": [
    {
     "name": "stderr",
     "output_type": "stream",
     "text": [
      "C:\\Users\\zafri\\Anaconda2\\envs\\py36\\lib\\site-packages\\sklearn\\cross_validation.py:41: DeprecationWarning: This module was deprecated in version 0.18 in favor of the model_selection module into which all the refactored classes and functions are moved. Also note that the interface of the new CV iterators are different from that of this module. This module will be removed in 0.20.\n",
      "  \"This module will be removed in 0.20.\", DeprecationWarning)\n"
     ]
    }
   ],
   "source": [
    "import sklearn as skl\n",
    "import sklearn.preprocessing as preprocessing\n",
    "import sklearn.linear_model as linear_model\n",
    "import sklearn.cross_validation as cross_validation\n",
    "from sklearn.model_selection import train_test_split\n",
    "import sklearn.metrics as metrics\n",
    "import sklearn.tree as tree\n",
    "import graphviz \n",
    "import pydotplus\n",
    "\n",
    "from sklearn import model_selection\n",
    "from sklearn.metrics import accuracy_score"
   ]
  },
  {
   "cell_type": "code",
   "execution_count": 2,
   "metadata": {
    "collapsed": true
   },
   "outputs": [],
   "source": [
    "#FOR MODEL SELECTION\n",
    "from sklearn.linear_model import LogisticRegression\n",
    "from sklearn.ensemble import RandomForestClassifier\n",
    "from sklearn.neural_network import MLPClassifier\n",
    "from sklearn.naive_bayes import GaussianNB\n",
    "from sklearn.tree import DecisionTreeClassifier\n",
    "from sklearn.svm import SVC\n",
    "from sklearn import svm\n",
    "from sklearn.model_selection import GridSearchCV\n"
   ]
  },
  {
   "cell_type": "code",
   "execution_count": 3,
   "metadata": {
    "collapsed": true
   },
   "outputs": [],
   "source": [
    "import os\n",
    "import pandas as pd\n",
    "import numpy as np\n",
    "import math \n",
    "import statsmodels as sm\n",
    "import winsound\n",
    "from math import sqrt\n",
    "import seaborn as sns\n",
    "import matplotlib.pyplot as plt\n",
    "%matplotlib inline"
   ]
  },
  {
   "cell_type": "code",
   "execution_count": null,
   "metadata": {
    "collapsed": true
   },
   "outputs": [],
   "source": []
  },
  {
   "cell_type": "markdown",
   "metadata": {},
   "source": [
    "# Locate Data"
   ]
  },
  {
   "cell_type": "code",
   "execution_count": 4,
   "metadata": {},
   "outputs": [
    {
     "name": "stdout",
     "output_type": "stream",
     "text": [
      "C:\\Users\\zafri\\Documents\\COGS 118A\\final\n"
     ]
    }
   ],
   "source": [
    "cwd=os.getcwd()\n",
    "print (cwd)"
   ]
  },
  {
   "cell_type": "code",
   "execution_count": 5,
   "metadata": {
    "collapsed": true
   },
   "outputs": [],
   "source": [
    "def data_locate(rel_path_to_input,a):\n",
    "    cwd = os.getcwd()\n",
    "    stem=cwd\n",
    "    for i in range(a):\n",
    "        stem=os.path.abspath(os.path.join(stem, '..'))\n",
    "    data_loc=os.path.join(stem , rel_path_to_input)\n",
    "    os.chdir(data_loc)\n",
    "    sub_files = os.listdir(data_loc)\n",
    "    print (\"Current Directory: \", cwd)\n",
    "    print (\"Data location: \" , data_loc)\n",
    "    print (sub_files)\n",
    "    return data_loc, sub_files"
   ]
  },
  {
   "cell_type": "code",
   "execution_count": 6,
   "metadata": {},
   "outputs": [
    {
     "name": "stdout",
     "output_type": "stream",
     "text": [
      "Current Directory:  C:\\Users\\zafri\\Documents\\COGS 118A\\final\n",
      "Data location:  C:\\Users\\zafri\\Documents\\COGS 118A\\final\\Datasets/Parkinsons\n",
      "['data', 'data.csv', 'download_data', 'parkinsons.data.txt', 'parkinsons.names.txt', 'Parkinsons_OG_Data_results.csv', 'Parkinsons_OG_Data___20', 'Parkinsons_OG_Data___20.pdf', 'Parkinsons_OG_Data___50', 'Parkinsons_OG_Data___50.pdf', 'Parkinsons_OG_Data___80', 'Parkinsons_OG_Data___80.pdf']\n"
     ]
    }
   ],
   "source": [
    "data_loc, sub_files=data_locate(\"Datasets/Parkinsons\", 0)"
   ]
  },
  {
   "cell_type": "code",
   "execution_count": 7,
   "metadata": {
    "collapsed": true
   },
   "outputs": [],
   "source": [
    "control_data_path=os.path.join('data', 'control')\n",
    "parkinson_data_path=os.path.join('data', 'parkinson')"
   ]
  },
  {
   "cell_type": "code",
   "execution_count": 8,
   "metadata": {
    "collapsed": true
   },
   "outputs": [],
   "source": [
    "control_file_list=[os.path.join(control_data_path, x) for x in os.listdir(control_data_path)]\n",
    "parkinson_file_list=[os.path.join(parkinson_data_path, x) for x in os.listdir(parkinson_data_path)]"
   ]
  },
  {
   "cell_type": "markdown",
   "metadata": {},
   "source": [
    "### Features\n",
    "1. No of strokes\n",
    "2. Stroke speed\n",
    "3. Velocity\n",
    "4. Acceleration\n",
    "5. Jerk\n",
    "6. Horizontal velocity/acceleration/jerk\n",
    "7. Vertical velocity/acceleration/jerk\n",
    "8. Number of changes in velocity direction\n",
    "9. Number of changes in acceleration direction\n",
    "10. Relative NCV\n",
    "11. Relative NCA\n",
    "12. in-air time\n",
    "13. on-surface time\n",
    "14. normalized in-air time\n",
    "15. normalized on-surface time\n",
    "16. in-air/on-surface ratio"
   ]
  },
  {
   "cell_type": "markdown",
   "metadata": {},
   "source": [
    "## Feature Extraction"
   ]
  },
  {
   "cell_type": "code",
   "execution_count": 9,
   "metadata": {
    "collapsed": true
   },
   "outputs": [],
   "source": [
    "header_row=[\"X\", \"Y\", \"Z\", \"Pressure\" , \"GripAngle\" , \"Timestamp\" , \"Test_ID\"]"
   ]
  },
  {
   "cell_type": "code",
   "execution_count": 10,
   "metadata": {
    "collapsed": true
   },
   "outputs": [],
   "source": [
    "#\n",
    "def get_no_strokes(df):\n",
    "    pressure_data=df['Pressure'].as_matrix()\n",
    "    on_surface = (pressure_data>600).astype(int)\n",
    "    return ((np.roll(on_surface, 1) - on_surface) != 0).astype(int).sum()"
   ]
  },
  {
   "cell_type": "code",
   "execution_count": 11,
   "metadata": {
    "collapsed": true
   },
   "outputs": [],
   "source": [
    "#\n",
    "def get_speed(df):\n",
    "    total_dist=0\n",
    "    duration=df['Timestamp'].as_matrix()[-1]\n",
    "    coords=df[['X', 'Y', 'Z']].as_matrix()\n",
    "    for i in range(10, df.shape[0]):\n",
    "        temp=np.linalg.norm(coords[i, :]-coords[i-10, :])\n",
    "        total_dist+=temp\n",
    "    speed=total_dist/duration\n",
    "    return speed"
   ]
  },
  {
   "cell_type": "code",
   "execution_count": 12,
   "metadata": {
    "collapsed": true
   },
   "outputs": [],
   "source": [
    "#\n",
    "def get_in_air_time(data):\n",
    "    data=data['Pressure'].as_matrix()\n",
    "    return (data<600).astype(int).sum()"
   ]
  },
  {
   "cell_type": "code",
   "execution_count": 13,
   "metadata": {
    "collapsed": true
   },
   "outputs": [],
   "source": [
    "#\n",
    "def get_on_surface_time(data):\n",
    "    data=data['Pressure'].as_matrix()\n",
    "    return (data>600).astype(int).sum()"
   ]
  },
  {
   "cell_type": "code",
   "execution_count": 14,
   "metadata": {
    "collapsed": true
   },
   "outputs": [],
   "source": [
    "def find_velocity(f):\n",
    "    '''\n",
    "    change in direction and its position\n",
    "    \n",
    "    '''\n",
    "    data_pat=f\n",
    "    Vel = []\n",
    "    horz_Vel = []\n",
    "    horz_vel_mag = []\n",
    "    vert_vel_mag = []\n",
    "    vert_Vel = []\n",
    "    magnitude = []\n",
    "    timestamp_diff =  []\n",
    "    \n",
    "    t = 0\n",
    "    for i in range(len(data_pat)-2):\n",
    "        if t+10 <= len(data_pat)-1:\n",
    "            Vel.append(((data_pat['X'].as_matrix()[t+10] - data_pat['X'].as_matrix()[t])/(data_pat['Timestamp'].as_matrix()[t+10]-data_pat['Timestamp'].as_matrix()[t]) , (data_pat['Y'].as_matrix()[t+10]-data_pat['Y'].as_matrix()[t])/(data_pat['Timestamp'].as_matrix()[t+10]-data_pat['Timestamp'].as_matrix()[t])))\n",
    "            horz_Vel.append((data_pat['X'].as_matrix()[t+10] - data_pat['X'].as_matrix()[t])/(data_pat['Timestamp'].as_matrix()[t+10]-data_pat['Timestamp'].as_matrix()[t]))\n",
    "            \n",
    "            vert_Vel.append((data_pat['Y'].as_matrix()[t+10] - data_pat['Y'].as_matrix()[t])/(data_pat['Timestamp'].as_matrix()[t+10]-data_pat['Timestamp'].as_matrix()[t]))\n",
    "            magnitude.append(sqrt(((data_pat['X'].as_matrix()[t+10]-data_pat['X'].as_matrix()[t])/(data_pat['Timestamp'].as_matrix()[t+10]-data_pat['Timestamp'].as_matrix()[t]))**2 + (((data_pat['Y'].as_matrix()[t+10]-data_pat['Y'].as_matrix()[t])/(data_pat['Timestamp'].as_matrix()[t+10]-data_pat['Timestamp'].as_matrix()[t]))**2)))\n",
    "            timestamp_diff.append(data_pat['Timestamp'].as_matrix()[t+10]-data_pat['Timestamp'].as_matrix()[t])\n",
    "            horz_vel_mag.append(abs(horz_Vel[len(horz_Vel)-1]))\n",
    "            vert_vel_mag.append(abs(vert_Vel[len(vert_Vel)-1]))\n",
    "            t = t+10\n",
    "        else:\n",
    "            break\n",
    "    magnitude_vel = np.mean(magnitude)  \n",
    "    magnitude_horz_vel = np.mean(horz_vel_mag)\n",
    "    magnitude_vert_vel = np.mean(vert_vel_mag)\n",
    "    return Vel,magnitude,timestamp_diff,horz_Vel,vert_Vel,magnitude_vel,magnitude_horz_vel,magnitude_vert_vel"
   ]
  },
  {
   "cell_type": "code",
   "execution_count": 15,
   "metadata": {
    "collapsed": true
   },
   "outputs": [],
   "source": [
    "def find_acceleration(f):\n",
    "    '''\n",
    "    change in direction and its velocity\n",
    "   \n",
    "    '''\n",
    "    Vel,magnitude,timestamp_diff,horz_Vel,vert_Vel,magnitude_vel,magnitude_horz_vel,magnitude_vert_vel = find_velocity(f)\n",
    "    accl = []\n",
    "    horz_Accl =  []\n",
    "    vert_Accl = []\n",
    "    magnitude = []\n",
    "    horz_acc_mag = []\n",
    "    vert_acc_mag = []\n",
    "    for i in range(len(Vel)-2):\n",
    "        accl.append(((Vel[i+1][0]-Vel[i][0])/timestamp_diff[i] , (Vel[i+1][1]-Vel[i][1])/timestamp_diff[i]))\n",
    "        horz_Accl.append((horz_Vel[i+1]-horz_Vel[i])/timestamp_diff[i])\n",
    "        vert_Accl.append((vert_Vel[i+1]-vert_Vel[i])/timestamp_diff[i])\n",
    "        horz_acc_mag.append(abs(horz_Accl[len(horz_Accl)-1]))\n",
    "        vert_acc_mag.append(abs(vert_Accl[len(vert_Accl)-1]))\n",
    "        magnitude.append(sqrt(((Vel[i+1][0]-Vel[i][0])/timestamp_diff[i])**2 + ((Vel[i+1][1]-Vel[i][1])/timestamp_diff[i])**2))\n",
    "    \n",
    "    magnitude_acc = np.mean(magnitude)  \n",
    "    magnitude_horz_acc = np.mean(horz_acc_mag)\n",
    "    magnitude_vert_acc = np.mean(vert_acc_mag)\n",
    "    return accl,magnitude,horz_Accl,vert_Accl,timestamp_diff,magnitude_acc,magnitude_horz_acc,magnitude_vert_acc\n",
    "    "
   ]
  },
  {
   "cell_type": "code",
   "execution_count": 16,
   "metadata": {
    "collapsed": true
   },
   "outputs": [],
   "source": [
    "def find_jerk(f):\n",
    "    accl,magnitude,horz_Accl,vert_Accl,timestamp_diff,magnitude_acc,magnitude_horz_acc,magnitude_vert_acc = find_acceleration(f)\n",
    "    jerk = []\n",
    "    hrz_jerk = []\n",
    "    vert_jerk = []\n",
    "    magnitude = []\n",
    "    horz_jerk_mag = []\n",
    "    vert_jerk_mag = []\n",
    "    \n",
    "    for i in range(len(accl)-2):\n",
    "        jerk.append(((accl[i+1][0]-accl[i][0])/timestamp_diff[i] , (accl[i+1][1]-accl[i][1])/timestamp_diff[i]))\n",
    "        hrz_jerk.append((horz_Accl[i+1]-horz_Accl[i])/timestamp_diff[i])\n",
    "        vert_jerk.append((vert_Accl[i+1]-vert_Accl[i])/timestamp_diff[i])\n",
    "        horz_jerk_mag.append(abs(hrz_jerk[len(hrz_jerk)-1]))\n",
    "        vert_jerk_mag.append(abs(vert_jerk[len(vert_jerk)-1]))\n",
    "        magnitude.append(sqrt(((accl[i+1][0]-accl[i][0])/timestamp_diff[i])**2 + ((accl[i+1][1]-accl[i][1])/timestamp_diff[i])**2))\n",
    "        \n",
    "    magnitude_jerk = np.mean(magnitude)  \n",
    "    magnitude_horz_jerk = np.mean(horz_jerk_mag)\n",
    "    magnitude_vert_jerk = np.mean(vert_jerk_mag)\n",
    "    return jerk,magnitude,hrz_jerk,vert_jerk,timestamp_diff,magnitude_jerk,magnitude_horz_jerk,magnitude_vert_jerk\n"
   ]
  },
  {
   "cell_type": "code",
   "execution_count": 17,
   "metadata": {
    "collapsed": true
   },
   "outputs": [],
   "source": [
    "def NCV_per_halfcircle(f):\n",
    "    data_pat=f\n",
    "    Vel = []\n",
    "    ncv = []\n",
    "    temp_ncv = 0\n",
    "    basex = data_pat['X'].as_matrix()[0]\n",
    "    for i in range(len(data_pat)-2):\n",
    "        if data_pat['X'].as_matrix()[i] == basex:\n",
    "            ncv.append(temp_ncv)\n",
    "            temp_ncv = 0\n",
    "            continue\n",
    "            \n",
    "        Vel.append(((data_pat['X'].as_matrix()[i+1] - data_pat['X'].as_matrix()[i])/(data_pat['Timestamp'].as_matrix()[i+1]-data_pat['Timestamp'].as_matrix()[i]) , (data_pat['Y'].as_matrix()[i+1]-data_pat['Y'].as_matrix()[i])/(data_pat['Timestamp'].as_matrix()[i+1]-data_pat['Timestamp'].as_matrix()[i])))\n",
    "        if Vel[len(Vel)-1] != (0,0):\n",
    "            temp_ncv+=1\n",
    "    ncv.append(temp_ncv)\n",
    "    #ncv = list(filter((2).__ne__, ncv))\n",
    "    ncv_Val = np.sum(ncv)/np.count_nonzero(ncv)\n",
    "    return ncv,ncv_Val"
   ]
  },
  {
   "cell_type": "code",
   "execution_count": 18,
   "metadata": {
    "collapsed": true
   },
   "outputs": [],
   "source": [
    "def NCA_per_halfcircle(f):\n",
    "    data_pat=f\n",
    "    Vel,magnitude,timestamp_diff,horz_Vel,vert_Vel,magnitude_vel,magnitude_horz_vel,magnitude_vert_vel = find_velocity(f)\n",
    "    accl = []\n",
    "    nca = []\n",
    "    temp_nca = 0\n",
    "    basex = data_pat['X'].as_matrix()[0]\n",
    "    for i in range(len(Vel)-2):\n",
    "        if data_pat['X'].as_matrix()[i] == basex:\n",
    "            nca.append(temp_nca)\n",
    "            #print ('tempNCa::',temp_nca)\n",
    "            temp_nca = 0\n",
    "            continue\n",
    "            \n",
    "        accl.append(((Vel[i+1][0]-Vel[i][0])/timestamp_diff[i] , (Vel[i+1][1]-Vel[i][1])/timestamp_diff[i]))\n",
    "        if accl[len(accl)-1] != (0,0):\n",
    "            temp_nca+=1\n",
    "    nca.append(temp_nca)\n",
    "    nca = list(filter((2).__ne__, nca))\n",
    "    nca_Val = np.sum(nca)/np.count_nonzero(nca)\n",
    "    return nca,nca_Val"
   ]
  },
  {
   "cell_type": "code",
   "execution_count": 19,
   "metadata": {
    "collapsed": true
   },
   "outputs": [],
   "source": [
    "#\n",
    "def get_features(f, parkinson_target):\n",
    "    global header_row\n",
    "    df=pd.read_csv(f, sep=';', header=None, names=header_row)\n",
    "    \n",
    "    df_static=df[df[\"Test_ID\"]==0]    # static test\n",
    "    df_dynamic=df[df[\"Test_ID\"]==1]    # dynamic test\n",
    "    df_stcp=df[df[\"Test_ID\"]==2]    # STCP\n",
    "    #df_static_dynamic=pd.concat([df_static, df_dynamic])\n",
    "    \n",
    "    initial_timestamp=df['Timestamp'][0]\n",
    "    df['Timestamp']=df['Timestamp']- initial_timestamp # offset timestamps\n",
    "    \n",
    "    duration_static = df_static['Timestamp'].as_matrix()[-1] if df_static.shape[0] else 1\n",
    "    duration_dynamic = df_dynamic['Timestamp'].as_matrix()[-1] if df_dynamic.shape[0] else 1\n",
    "    duration_STCP = df_stcp['Timestamp'].as_matrix()[-1] if df_stcp.shape[0] else 1\n",
    "\n",
    "    \n",
    "    data_point=[]\n",
    "    data_point.append(get_no_strokes(df_static) if df_static.shape[0] else 0) # no. of strokes for static test\n",
    "    data_point.append(get_no_strokes(df_dynamic) if df_dynamic.shape[0] else 0) # no. of strokes for dynamic test\n",
    "    data_point.append(get_speed(df_static) if df_static.shape[0] else 0) # speed for static test\n",
    "    data_point.append(get_speed(df_dynamic) if df_dynamic.shape[0] else 0) # speed for dynamic test\n",
    "\n",
    "    Vel,magnitude,timestamp_diff,horz_Vel,vert_Vel,magnitude_vel,magnitude_horz_vel,magnitude_vert_vel = find_velocity(df_static) if df_static.shape[0] else (0,0,0,0,0,0,0,0) # magnitudes of velocity, horizontal velocity and vertical velocity for static test\n",
    "    data_point.extend([magnitude_vel, magnitude_horz_vel,magnitude_vert_vel])\n",
    "    Vel,magnitude,timestamp_diff,horz_Vel,vert_Vel,magnitude_vel,magnitude_horz_vel,magnitude_vert_vel = find_velocity(df_dynamic) if df_dynamic.shape[0] else (0,0,0,0,0,0,0,0) # magnitudes of velocity, horizontal velocity and vertical velocity for dynamic test\n",
    "    data_point.extend([magnitude_vel, magnitude_horz_vel,magnitude_vert_vel])\n",
    "    \n",
    "    accl,magnitude,horz_Accl,vert_Accl,timestamp_diff,magnitude_acc,magnitude_horz_acc,magnitude_vert_acc=find_acceleration(df_static) if df_static.shape[0] else (0,0,0,0,0,0,0,0)# magnitudes of acceleration, horizontal acceleration and vertical acceleration for static test        \n",
    "    data_point.extend([magnitude_acc,magnitude_horz_acc,magnitude_vert_acc])\n",
    "    accl,magnitude,horz_Accl,vert_Accl,timestamp_diff,magnitude_acc,magnitude_horz_acc,magnitude_vert_acc=find_acceleration(df_dynamic) if df_dynamic.shape[0] else (0,0,0,0,0,0,0,0)# magnitudes of acceleration, horizontal acceleration and vertical acceleration for dynamic test        \n",
    "    data_point.extend([magnitude_acc,magnitude_horz_acc,magnitude_vert_acc])\n",
    "    \n",
    "    jerk,magnitude,hrz_jerk,vert_jerk,timestamp_diff,magnitude_jerk,magnitude_horz_jerk,magnitude_vert_jerk=find_jerk(df_static) if df_static.shape[0] else (0,0,0,0,0,0,0,0) # magnitudes of jerk, horizontal jerk and vertical jerk for static test\n",
    "    data_point.extend([magnitude_jerk,magnitude_horz_jerk,magnitude_vert_jerk])\n",
    "    jerk,magnitude,hrz_jerk,vert_jerk,timestamp_diff,magnitude_jerk,magnitude_horz_jerk,magnitude_vert_jerk=find_jerk(df_dynamic) if df_dynamic.shape[0] else (0,0,0,0,0,0,0,0) # magnitudes of jerk, horizontal jerk and vertical jerk for dynamic test\n",
    "    data_point.extend([magnitude_jerk,magnitude_horz_jerk,magnitude_vert_jerk])\n",
    "    \n",
    "    ncv,ncv_Val=NCV_per_halfcircle(df_static) if df_static.shape[0] else (0,0) # NCV for static test\n",
    "    data_point.append(ncv_Val)\n",
    "    ncv,ncv_Val=NCV_per_halfcircle(df_dynamic) if df_dynamic.shape[0] else (0,0) # NCV for dynamic test\n",
    "    data_point.append(ncv_Val)\n",
    "    \n",
    "    nca,nca_Val=NCA_per_halfcircle(df_static) if df_static.shape[0] else (0,0) # NCA for static test\n",
    "    data_point.append(nca_Val)\n",
    "    nca,nca_Val=NCA_per_halfcircle(df_dynamic) if df_dynamic.shape[0] else (0,0) # NCA for dynamic test\n",
    "    data_point.append(nca_Val)\n",
    "    \n",
    "    data_point.append(get_in_air_time(df_stcp) if df_stcp.shape[0] else 0) # in air time for STCP\n",
    "    data_point.append(get_on_surface_time(df_static) if df_static.shape[0] else 0) # on surface time for static test\n",
    "    data_point.append(get_on_surface_time(df_dynamic) if df_dynamic.shape[0] else 0) # on surface time for dynamic test\n",
    "    \n",
    "    data_point.append(parkinson_target)    # traget. 1 for parkinson. 0 for control.\n",
    "    \n",
    "    return data_point"
   ]
  },
  {
   "cell_type": "code",
   "execution_count": 20,
   "metadata": {
    "collapsed": true
   },
   "outputs": [],
   "source": [
    "temp_feat=get_features(parkinson_file_list[35], 1)"
   ]
  },
  {
   "cell_type": "code",
   "execution_count": 21,
   "metadata": {},
   "outputs": [
    {
     "name": "stdout",
     "output_type": "stream",
     "text": [
      "[30, 72, 1.3588757917667431e-05, 2.623651083117971e-05, 0.12890441251529997, 0.08047123319627912, 0.08363708822986228, 0.1922934911107952, 0.11555023022027296, 0.1288027792221494, 0.0009161539523279476, 0.0005188222133507725, 0.0006655622008045722, 0.0010669055486579792, 0.0006104727526160723, 0.0007563033567564607, 2.2116391163746176e-05, 1.2543602500530039e-05, 1.646637220347185e-05, 2.250461762705396e-05, 1.3394439474233898e-05, 1.569201046814677e-05, 230.14285714285714, 269.8888888888889, 85.5, 86.66666666666667, 850, 524, 1230, 1]\n"
     ]
    }
   ],
   "source": [
    "print(temp_feat)"
   ]
  },
  {
   "cell_type": "code",
   "execution_count": 22,
   "metadata": {
    "collapsed": true,
    "scrolled": false
   },
   "outputs": [],
   "source": [
    "raw=[]\n",
    "for x in parkinson_file_list:\n",
    "    raw.append(get_features(x, 1))\n",
    "for x in control_file_list:\n",
    "    raw.append(get_features(x, 0))"
   ]
  },
  {
   "cell_type": "code",
   "execution_count": 23,
   "metadata": {
    "collapsed": true,
    "scrolled": true
   },
   "outputs": [],
   "source": [
    "raw=np.array(raw)"
   ]
  },
  {
   "cell_type": "code",
   "execution_count": 24,
   "metadata": {
    "collapsed": true
   },
   "outputs": [],
   "source": [
    "features_headers=['no_strokes_st', 'no_strokes_dy', 'speed_st', 'speed_dy', 'magnitude_vel_st' , 'magnitude_horz_vel_st' , 'magnitude_vert_vel_st', 'magnitude_vel_dy', 'magnitude_horz_vel_dy' , 'magnitude_vert_vel_dy', 'magnitude_acc_st' , 'magnitude_horz_acc_st' , 'magnitude_vert_acc_st','magnitude_acc_dy' , 'magnitude_horz_acc_dy' , 'magnitude_vert_acc_dy', 'magnitude_jerk_st', 'magnitude_horz_jerk_st' , 'magnitude_vert_jerk_st', 'magnitude_jerk_dy', 'magnitude_horz_jerk_dy' , 'magnitude_vert_jerk_dy', 'ncv_st', 'ncv_dy', 'nca_st', 'nca_dy', 'in_air_stcp','on_surface_st', 'on_surface_dy', 'target']"
   ]
  },
  {
   "cell_type": "markdown",
   "metadata": {},
   "source": [
    "# Parkinsons Movement Data Set \n"
   ]
  },
  {
   "cell_type": "code",
   "execution_count": 25,
   "metadata": {
    "collapsed": true
   },
   "outputs": [],
   "source": [
    "Parkinsons_OG_Data=pd.DataFrame(raw, columns=features_headers)\n",
    "DATASET='Parkinsons_OG_Data'"
   ]
  },
  {
   "cell_type": "code",
   "execution_count": 26,
   "metadata": {
    "scrolled": true
   },
   "outputs": [
    {
     "data": {
      "text/html": [
       "<div>\n",
       "<style>\n",
       "    .dataframe thead tr:only-child th {\n",
       "        text-align: right;\n",
       "    }\n",
       "\n",
       "    .dataframe thead th {\n",
       "        text-align: left;\n",
       "    }\n",
       "\n",
       "    .dataframe tbody tr th {\n",
       "        vertical-align: top;\n",
       "    }\n",
       "</style>\n",
       "<table border=\"1\" class=\"dataframe\">\n",
       "  <thead>\n",
       "    <tr style=\"text-align: right;\">\n",
       "      <th></th>\n",
       "      <th>no_strokes_st</th>\n",
       "      <th>no_strokes_dy</th>\n",
       "      <th>speed_st</th>\n",
       "      <th>speed_dy</th>\n",
       "      <th>magnitude_vel_st</th>\n",
       "      <th>magnitude_horz_vel_st</th>\n",
       "      <th>magnitude_vert_vel_st</th>\n",
       "      <th>magnitude_vel_dy</th>\n",
       "      <th>magnitude_horz_vel_dy</th>\n",
       "      <th>magnitude_vert_vel_dy</th>\n",
       "      <th>...</th>\n",
       "      <th>magnitude_horz_jerk_dy</th>\n",
       "      <th>magnitude_vert_jerk_dy</th>\n",
       "      <th>ncv_st</th>\n",
       "      <th>ncv_dy</th>\n",
       "      <th>nca_st</th>\n",
       "      <th>nca_dy</th>\n",
       "      <th>in_air_stcp</th>\n",
       "      <th>on_surface_st</th>\n",
       "      <th>on_surface_dy</th>\n",
       "      <th>target</th>\n",
       "    </tr>\n",
       "  </thead>\n",
       "  <tbody>\n",
       "    <tr>\n",
       "      <th>72</th>\n",
       "      <td>2.0</td>\n",
       "      <td>2.0</td>\n",
       "      <td>0.001592</td>\n",
       "      <td>0.001560</td>\n",
       "      <td>0.046842</td>\n",
       "      <td>0.029474</td>\n",
       "      <td>0.029731</td>\n",
       "      <td>0.042719</td>\n",
       "      <td>0.026828</td>\n",
       "      <td>0.026851</td>\n",
       "      <td>...</td>\n",
       "      <td>0.000004</td>\n",
       "      <td>0.000004</td>\n",
       "      <td>330.571429</td>\n",
       "      <td>324.571429</td>\n",
       "      <td>275.500000</td>\n",
       "      <td>282.000000</td>\n",
       "      <td>1536.0</td>\n",
       "      <td>5867.0</td>\n",
       "      <td>6558.0</td>\n",
       "      <td>0.0</td>\n",
       "    </tr>\n",
       "    <tr>\n",
       "      <th>73</th>\n",
       "      <td>2.0</td>\n",
       "      <td>2.0</td>\n",
       "      <td>0.001387</td>\n",
       "      <td>0.001339</td>\n",
       "      <td>0.088510</td>\n",
       "      <td>0.055965</td>\n",
       "      <td>0.055433</td>\n",
       "      <td>0.114583</td>\n",
       "      <td>0.073060</td>\n",
       "      <td>0.070357</td>\n",
       "      <td>...</td>\n",
       "      <td>0.000006</td>\n",
       "      <td>0.000005</td>\n",
       "      <td>224.222222</td>\n",
       "      <td>227.125000</td>\n",
       "      <td>71.500000</td>\n",
       "      <td>73.666667</td>\n",
       "      <td>1536.0</td>\n",
       "      <td>3029.0</td>\n",
       "      <td>2312.0</td>\n",
       "      <td>0.0</td>\n",
       "    </tr>\n",
       "    <tr>\n",
       "      <th>74</th>\n",
       "      <td>48.0</td>\n",
       "      <td>176.0</td>\n",
       "      <td>0.001201</td>\n",
       "      <td>0.001194</td>\n",
       "      <td>0.200499</td>\n",
       "      <td>0.124995</td>\n",
       "      <td>0.126018</td>\n",
       "      <td>0.175576</td>\n",
       "      <td>0.111122</td>\n",
       "      <td>0.109489</td>\n",
       "      <td>...</td>\n",
       "      <td>0.000007</td>\n",
       "      <td>0.000006</td>\n",
       "      <td>206.833333</td>\n",
       "      <td>276.400000</td>\n",
       "      <td>29.333333</td>\n",
       "      <td>74.500000</td>\n",
       "      <td>1536.0</td>\n",
       "      <td>572.0</td>\n",
       "      <td>575.0</td>\n",
       "      <td>0.0</td>\n",
       "    </tr>\n",
       "    <tr>\n",
       "      <th>75</th>\n",
       "      <td>6.0</td>\n",
       "      <td>10.0</td>\n",
       "      <td>0.001159</td>\n",
       "      <td>0.001157</td>\n",
       "      <td>0.150016</td>\n",
       "      <td>0.095055</td>\n",
       "      <td>0.095358</td>\n",
       "      <td>0.136387</td>\n",
       "      <td>0.090064</td>\n",
       "      <td>0.085038</td>\n",
       "      <td>...</td>\n",
       "      <td>0.000007</td>\n",
       "      <td>0.000005</td>\n",
       "      <td>189.125000</td>\n",
       "      <td>234.571429</td>\n",
       "      <td>14.000000</td>\n",
       "      <td>58.333333</td>\n",
       "      <td>1536.0</td>\n",
       "      <td>835.0</td>\n",
       "      <td>363.0</td>\n",
       "      <td>0.0</td>\n",
       "    </tr>\n",
       "    <tr>\n",
       "      <th>76</th>\n",
       "      <td>0.0</td>\n",
       "      <td>0.0</td>\n",
       "      <td>0.001152</td>\n",
       "      <td>0.001140</td>\n",
       "      <td>0.103493</td>\n",
       "      <td>0.066596</td>\n",
       "      <td>0.064488</td>\n",
       "      <td>0.106868</td>\n",
       "      <td>0.068777</td>\n",
       "      <td>0.067774</td>\n",
       "      <td>...</td>\n",
       "      <td>0.000005</td>\n",
       "      <td>0.000006</td>\n",
       "      <td>277.285714</td>\n",
       "      <td>266.285714</td>\n",
       "      <td>81.333333</td>\n",
       "      <td>117.000000</td>\n",
       "      <td>1536.0</td>\n",
       "      <td>0.0</td>\n",
       "      <td>0.0</td>\n",
       "      <td>0.0</td>\n",
       "    </tr>\n",
       "  </tbody>\n",
       "</table>\n",
       "<p>5 rows × 30 columns</p>\n",
       "</div>"
      ],
      "text/plain": [
       "    no_strokes_st  no_strokes_dy  speed_st  speed_dy  magnitude_vel_st  \\\n",
       "72            2.0            2.0  0.001592  0.001560          0.046842   \n",
       "73            2.0            2.0  0.001387  0.001339          0.088510   \n",
       "74           48.0          176.0  0.001201  0.001194          0.200499   \n",
       "75            6.0           10.0  0.001159  0.001157          0.150016   \n",
       "76            0.0            0.0  0.001152  0.001140          0.103493   \n",
       "\n",
       "    magnitude_horz_vel_st  magnitude_vert_vel_st  magnitude_vel_dy  \\\n",
       "72               0.029474               0.029731          0.042719   \n",
       "73               0.055965               0.055433          0.114583   \n",
       "74               0.124995               0.126018          0.175576   \n",
       "75               0.095055               0.095358          0.136387   \n",
       "76               0.066596               0.064488          0.106868   \n",
       "\n",
       "    magnitude_horz_vel_dy  magnitude_vert_vel_dy   ...    \\\n",
       "72               0.026828               0.026851   ...     \n",
       "73               0.073060               0.070357   ...     \n",
       "74               0.111122               0.109489   ...     \n",
       "75               0.090064               0.085038   ...     \n",
       "76               0.068777               0.067774   ...     \n",
       "\n",
       "    magnitude_horz_jerk_dy  magnitude_vert_jerk_dy      ncv_st      ncv_dy  \\\n",
       "72                0.000004                0.000004  330.571429  324.571429   \n",
       "73                0.000006                0.000005  224.222222  227.125000   \n",
       "74                0.000007                0.000006  206.833333  276.400000   \n",
       "75                0.000007                0.000005  189.125000  234.571429   \n",
       "76                0.000005                0.000006  277.285714  266.285714   \n",
       "\n",
       "        nca_st      nca_dy  in_air_stcp  on_surface_st  on_surface_dy  target  \n",
       "72  275.500000  282.000000       1536.0         5867.0         6558.0     0.0  \n",
       "73   71.500000   73.666667       1536.0         3029.0         2312.0     0.0  \n",
       "74   29.333333   74.500000       1536.0          572.0          575.0     0.0  \n",
       "75   14.000000   58.333333       1536.0          835.0          363.0     0.0  \n",
       "76   81.333333  117.000000       1536.0            0.0            0.0     0.0  \n",
       "\n",
       "[5 rows x 30 columns]"
      ]
     },
     "execution_count": 26,
     "metadata": {},
     "output_type": "execute_result"
    }
   ],
   "source": [
    "Parkinsons_OG_Data.tail()"
   ]
  },
  {
   "cell_type": "code",
   "execution_count": 27,
   "metadata": {
    "collapsed": true
   },
   "outputs": [],
   "source": [
    "Parkinsons_OG_Data.to_csv('data.csv')"
   ]
  },
  {
   "cell_type": "code",
   "execution_count": null,
   "metadata": {
    "collapsed": true
   },
   "outputs": [],
   "source": []
  },
  {
   "cell_type": "markdown",
   "metadata": {},
   "source": [
    "#### Let's Peek at the Features"
   ]
  },
  {
   "cell_type": "code",
   "execution_count": 28,
   "metadata": {},
   "outputs": [
    {
     "data": {
      "image/png": "[encoded data removed]",
      "text/plain": [
       "<matplotlib.figure.Figure at 0x225765a6c50>"
      ]
     },
     "metadata": {},
     "output_type": "display_data"
    }
   ],
   "source": [
    "fig = plt.figure(figsize=(20,15))\n",
    "cols = 5\n",
    "rows = math.ceil(float(Parkinsons_OG_Data.shape[1]) / cols)\n",
    "for i, column in enumerate(Parkinsons_OG_Data.columns):\n",
    "    ax = fig.add_subplot(rows, cols, i + 1)\n",
    "    ax.set_title(column)\n",
    "    if Parkinsons_OG_Data.dtypes[column] == np.object:\n",
    "        Parkinsons_OG_Data[column].value_counts().plot(kind=\"bar\", axes=ax)\n",
    "    else:\n",
    "        Parkinsons_OG_Data[column].hist(axes=ax)\n",
    "        plt.xticks(rotation=\"vertical\")\n",
    "plt.subplots_adjust(hspace=0.7, wspace=0.2)"
   ]
  },
  {
   "cell_type": "markdown",
   "metadata": {},
   "source": [
    "#### Let's look at correlation between magnitude_horz_jerk and Class"
   ]
  },
  {
   "cell_type": "code",
   "execution_count": 29,
   "metadata": {},
   "outputs": [
    {
     "data": {
      "text/plain": [
       "<matplotlib.axes._subplots.AxesSubplot at 0x22578af1d30>"
      ]
     },
     "execution_count": 29,
     "metadata": {},
     "output_type": "execute_result"
    },
    {
     "data": {
      "image/png": "[encoded data removed]",
      "text/plain": [
       "<matplotlib.figure.Figure at 0x22577af1c88>"
      ]
     },
     "metadata": {},
     "output_type": "display_data"
    }
   ],
   "source": [
    "sns.countplot(y='magnitude_horz_jerk_dy', hue='target', data=Parkinsons_OG_Data)"
   ]
  },
  {
   "cell_type": "markdown",
   "metadata": {
    "collapsed": true
   },
   "source": [
    "#### Let's look at correlation between on surface st and Class"
   ]
  },
  {
   "cell_type": "code",
   "execution_count": 30,
   "metadata": {},
   "outputs": [
    {
     "data": {
      "text/plain": [
       "<matplotlib.axes._subplots.AxesSubplot at 0x225784066a0>"
      ]
     },
     "execution_count": 30,
     "metadata": {},
     "output_type": "execute_result"
    },
    {
     "data": {
      "image/png": "[encoded data removed]",
      "text/plain": [
       "<matplotlib.figure.Figure at 0x225781bf0b8>"
      ]
     },
     "metadata": {},
     "output_type": "display_data"
    }
   ],
   "source": [
    "sns.countplot(y='on_surface_st', hue='target', data=Parkinsons_OG_Data)"
   ]
  },
  {
   "cell_type": "markdown",
   "metadata": {
    "collapsed": true
   },
   "source": [
    "#### Let's look at correlation across all variables\n"
   ]
  },
  {
   "cell_type": "code",
   "execution_count": 31,
   "metadata": {
    "collapsed": true
   },
   "outputs": [],
   "source": [
    "def plot_correlation(df, size=15):\n",
    "    corr= df.corr()\n",
    "    fig, ax =plt.subplots(figsize=(size,size))\n",
    "    cax=ax.matshow(corr, cmap='GnBu')\n",
    "    plt.xticks(range(len(corr.columns)),corr.columns)\n",
    "    plt.yticks(range(len(corr.columns)),corr.columns)\n",
    "    plt.colorbar(cax)\n",
    "    plt.show()"
   ]
  },
  {
   "cell_type": "code",
   "execution_count": 32,
   "metadata": {},
   "outputs": [
    {
     "data": {
      "image/png": "[encoded data removed]",
      "text/plain": [
       "<matplotlib.figure.Figure at 0x22578632e80>"
      ]
     },
     "metadata": {},
     "output_type": "display_data"
    }
   ],
   "source": [
    "plot_correlation(Parkinsons_OG_Data, size=15 )"
   ]
  },
  {
   "cell_type": "markdown",
   "metadata": {},
   "source": [
    "# Let's Clean up the data\n"
   ]
  },
  {
   "cell_type": "code",
   "execution_count": 33,
   "metadata": {},
   "outputs": [
    {
     "data": {
      "text/plain": [
       "0"
      ]
     },
     "execution_count": 33,
     "metadata": {},
     "output_type": "execute_result"
    }
   ],
   "source": [
    "# Let's Clean up the data\n",
    "NAN_index_list=Parkinsons_OG_Data[Parkinsons_OG_Data.isnull().any(axis=1)].index\n",
    "len(NAN_index_list)"
   ]
  },
  {
   "cell_type": "markdown",
   "metadata": {},
   "source": [
    "_____________________________________________________________________________________________________________\n",
    "# Functions\n",
    "_____________________________________________________________________________________________________________"
   ]
  },
  {
   "cell_type": "code",
   "execution_count": 34,
   "metadata": {
    "collapsed": true
   },
   "outputs": [],
   "source": [
    "#SPLIT DATA INTO TEST AND TRAINVAL\n",
    "def split_Data_TV_Test(df,class_col, test_):\n",
    "    X= df.drop([str(class_col)],axis=1)\n",
    "    Y=df[str(class_col)]\n",
    "    \n",
    "    test_split_size=test_\n",
    "    #Creation of Train and Test dataset\n",
    "    X_TV, X_test, y_TV, y_test = train_test_split(X,Y,test_size=test_split_size,random_state=22)\n",
    "    train_=round((1-test_)*100)\n",
    "    print (\"Train: {0}% Test: {1}%\".format(train_,(test_*100)))\n",
    "    print (\"Train/Validation dataset: {0}  {1}\".format(X_TV.shape, y_TV.shape))\n",
    "    print (\"Test dataset: {0}  {1}\".format(X_test.shape, y_test.shape))\n",
    "    return X_TV, X_test, y_TV, y_test, train_"
   ]
  },
  {
   "cell_type": "code",
   "execution_count": 35,
   "metadata": {
    "collapsed": true
   },
   "outputs": [],
   "source": [
    "#SPLIT DATA INTO TRAIN AND VAL\n",
    "def split_Data_T_V_(X_tv, y_tv, val_):\n",
    "    val_split_size=val_\n",
    "    #Creation of Train and Test dataset\n",
    "    X_Tr, X_val, y_Tr, y_val = train_test_split(X_tv,y_tv,test_size=val_split_size,random_state=22)\n",
    "   \n",
    "    print (\"Train: {0}% Validation: {1}%\".format(round((1-val_)*100),(val_*100)))\n",
    "    print (\"Train dataset: {0}  {1}\".format(X_Tr.shape, y_Tr.shape))\n",
    "    print (\"Validation dataset: {0}  {1}\".format(X_val.shape, y_val.shape))\n",
    "\n",
    "    return X_Tr, X_val, y_Tr, y_val"
   ]
  },
  {
   "cell_type": "code",
   "execution_count": 36,
   "metadata": {
    "collapsed": true
   },
   "outputs": [],
   "source": [
    "def Model_Selection(X_TV, y_TV, val_):\n",
    "    models = []\n",
    "    names = ['LR','Random Forest','Neural Network','GaussianNB','DecisionTreeClassifier','SVM',]\n",
    "\n",
    "    models.append((LogisticRegression()))\n",
    "    models.append((RandomForestClassifier(n_estimators=100)))\n",
    "    models.append((MLPClassifier()))\n",
    "    models.append((GaussianNB()))\n",
    "    models.append((DecisionTreeClassifier()))\n",
    "    models.append((SVC()))\n",
    "\n",
    "\n",
    "\n",
    "\n",
    "    X_Tr, X_val, y_Tr, y_val=split_Data_T_V_(X_TV, y_TV, val_)\n",
    "    rand_ints=[35,56,82]\n",
    "    for r in range(len(rand_ints)):\n",
    "        kfold = model_selection.KFold(n_splits=5,random_state=rand_ints[r])\n",
    "        print ('-'*40)\n",
    "        print ('Random kfold selection #{0}'.format(r+1))\n",
    "\n",
    "        for i in range(0,len(models)):    \n",
    "            cv_result = model_selection.cross_val_score(models[i],X_Tr,y_Tr,cv=kfold,scoring='accuracy')\n",
    "            score=models[i].fit(X_Tr,y_Tr)\n",
    "            prediction = models[i].predict(X_val)\n",
    "            acc_score = accuracy_score(y_val,prediction)     \n",
    "        \n",
    "            print ('{0}: {1}'.format(names[i],acc_score))\n",
    "\n",
    "    duration = 1000  # millisecond\n",
    "    freq = 500  # Hz\n",
    "    winsound.Beep(freq, duration)"
   ]
  },
  {
   "cell_type": "code",
   "execution_count": 37,
   "metadata": {
    "collapsed": true
   },
   "outputs": [],
   "source": [
    "def Linear_SVM_GRID_Search(DATASET, df,class_col, test_):\n",
    "    X_TV, X_test, y_TV, y_test, train_ =split_Data_TV_Test(df,class_col, test_)\n",
    "    #3 Trials\n",
    "    tuned_parameters = [{'kernel': ['linear'],'C': [10**-3,10**-1,1,10,100]},\n",
    "                        {'kernel': ['linear'],'C': [10**-3,10**-1,1,10,100]},\n",
    "                        {'kernel': ['linear'],'C': [10**-3,10**-1,1,10,100]}]\n",
    "    #Accuracy optimized\n",
    "    #Cross Validation=3\n",
    "    scores = 'accuracy'\n",
    "    c=0\n",
    "    data_all=[]\n",
    "    for parameter in tuned_parameters:\n",
    "        print(\"# Tuning hyper-parameters for %s\" % scores)\n",
    "        print()\n",
    "\n",
    "        clf = GridSearchCV(svm.SVC(), parameter, cv=3,scoring=scores)\n",
    "        clf.fit(X_TV, y_TV)\n",
    "        c+=1\n",
    "    \n",
    "    \n",
    "        print(\"Trial # {0}\".format(c))\n",
    "        print(\"Best parameters set found on development set:\")\n",
    "        print()\n",
    "        print(clf.best_params_)\n",
    "        print()\n",
    "        print(\"Grid scores on development set:\")\n",
    "        print()\n",
    "        means = clf.cv_results_['mean_test_score']\n",
    "        stds = clf.cv_results_['std_test_score']\n",
    "        \n",
    "        #write data to a CSV \n",
    "        #outputs \n",
    "        \n",
    "        # DF | Train % | Test % \n",
    "        row1=[DATASET, train_, test_ ]\n",
    "        #TV | Len(X_TV) | Len(y_TV)\n",
    "        row2=[ \"Training/Validation\", \"#TV Feature Samples\", \"#TV Class Labels\"]\n",
    "        row3=[ \"\",X_TV.shape, y_TV.shape ]\n",
    "\n",
    "        #Test | Len(X_Test) | Len(y_Test)\n",
    "        row4=[ \"Test\", \"#Test Feature Samples\", \"#Test Class Labels\"]\n",
    "        row5=[ \"\",X_test.shape, y_test.shape ]\n",
    "        #Trial #         #Best Parameter: \n",
    "        row6=['Trial/ Best Parameter', c, clf.best_params_]\n",
    "        #Grid Scores=\n",
    "        \n",
    "        Grid_of_scores=[]\n",
    "        row7=[\"Training Accuracies\",\"_\",\"_\"]\n",
    "        row8=[\"Mean\", \"Standard Deviation\", \"Parameter\"]\n",
    "        for mean, std, params in zip(means, stds, clf.cv_results_['params']):\n",
    "            print(\"%0.3f (+/-%0.03f) for %r\"% (mean, std * 2, params))\n",
    "            Grid_of_scores.append([mean, std * 2, params])\n",
    "        \n",
    "        data=[row1, row2, row3, row4,row5, row6, row7, row8]\n",
    "        for i in data:\n",
    "            data_all.append(i)\n",
    "        for i in Grid_of_scores:\n",
    "            data_all.append(i) \n",
    "            \n",
    "        #SAVE RESULTS\n",
    "    output=pd.DataFrame(data=data_all)\n",
    "        \n",
    "    return output"
   ]
  },
  {
   "cell_type": "code",
   "execution_count": 38,
   "metadata": {
    "collapsed": true
   },
   "outputs": [],
   "source": [
    "def Linear_SVM_TEST(DATASET,X_TV, y_TV, X_test, y_test, best_param, Accuracies_DF):\n",
    "    clf =svm.SVC(kernel='linear', C=best_param)\n",
    "    clf.fit(X_TV, y_TV)\n",
    "    y_pred=clf.predict(X_test)\n",
    "    Test_accuracy=(accuracy_score(y_test, y_pred, normalize=False))/(len(y_test))\n",
    "    print (Test_accuracy)\n",
    "    num=[len(Accuracies_DF)]\n",
    "    df3 = pd.DataFrame({0: \"Test Accuracy\",\n",
    "                        1: Test_accuracy , \n",
    "                        2: \"_____________\"}, index=[num])\n",
    "    \n",
    "    \n",
    "    Accuracies_DF=Accuracies_DF.append(df3)\n",
    "    return Accuracies_DF"
   ]
  },
  {
   "cell_type": "code",
   "execution_count": 39,
   "metadata": {
    "collapsed": true
   },
   "outputs": [],
   "source": [
    "def Decision_Tree_GRID_Search(DATASET, df,class_col, test_):\n",
    "    X_TV, X_test, y_TV, y_test, train_ =split_Data_TV_Test(df,class_col, test_)\n",
    "    #3 Trials\n",
    "    tuned_parameters = [{'max_depth': (3, 5, 7)},\n",
    "                        {'max_depth': (3, 5, 7)},\n",
    "                        {'max_depth': (3, 5, 7)}]\n",
    "    \n",
    "    #Accuracy optimized\n",
    "    #Cross Validation=3\n",
    "    scores = 'accuracy'\n",
    "    c=0\n",
    "    data_all=[]\n",
    "    for parameter in tuned_parameters:\n",
    "        print(\"# Tuning hyper-parameters for %s\" % scores)\n",
    "        print()\n",
    "\n",
    "        clf = GridSearchCV(tree.DecisionTreeClassifier(), parameter, cv=3,scoring=scores)\n",
    "        clf.fit(X_TV, y_TV)\n",
    "        c+=1\n",
    "    \n",
    "    \n",
    "        print(\"Trial # {0}\".format(c))\n",
    "        print(\"Best parameters set found on development set:\")\n",
    "        print()\n",
    "        print(clf.best_params_)\n",
    "        print()\n",
    "        print(\"Grid scores on development set:\")\n",
    "        print()\n",
    "        means = clf.cv_results_['mean_test_score']\n",
    "        stds = clf.cv_results_['std_test_score']\n",
    "        \n",
    "         #write data to a CSV \n",
    "        #outputs \n",
    "        \n",
    "        # DF | Train % | Test % \n",
    "        row1=[DATASET, train_, test_ ]\n",
    "        #TV | Len(X_TV) | Len(y_TV)\n",
    "        row2=[ \"Training/Validation\", \"#TV Feature Samples\", \"#TV Class Labels\"]\n",
    "        row3=[ \"\",X_TV.shape, y_TV.shape ]\n",
    "\n",
    "        #Test | Len(X_Test) | Len(y_Test)\n",
    "        row4=[ \"Test\", \"#Test Feature Samples\", \"#Test Class Labels\"]\n",
    "        row5=[ \"\",X_test.shape, y_test.shape ]\n",
    "        #Trial #         #Best Parameter: \n",
    "        row6=['Trial/ Best Parameter', c, clf.best_params_]\n",
    "        #Grid Scores=\n",
    "        \n",
    "        Grid_of_scores=[]\n",
    "        row7=[\"Training Accuracies\",\"_\",\"_\"]\n",
    "        row8=[\"Mean\", \"Standard Deviation\", \"Parameter\"]\n",
    "        for mean, std, params in zip(means, stds, clf.cv_results_['params']):\n",
    "            print(\"%0.3f (+/-%0.03f) for %r\"% (mean, std * 2, params))\n",
    "            Grid_of_scores.append([mean, std * 2, params])\n",
    "        \n",
    "        data=[row1, row2, row3, row4,row5, row6, row7, row8]\n",
    "        for i in data:\n",
    "            data_all.append(i)\n",
    "        for i in Grid_of_scores:\n",
    "            data_all.append(i) \n",
    "            \n",
    "        #SAVE RESULTS\n",
    "    output=pd.DataFrame(data=data_all)\n",
    "        \n",
    "    return output"
   ]
  },
  {
   "cell_type": "code",
   "execution_count": 40,
   "metadata": {
    "collapsed": true
   },
   "outputs": [],
   "source": [
    "def Decision_Tree_TEST(DATASET,df,train_, X_TV, y_TV, X_test, y_test, best_param, Accuracies_DF):\n",
    "    \n",
    "    \n",
    "    labels=Parkinsons_OG_Data.columns\n",
    "    labels=labels.drop(\"target\")\n",
    "    \n",
    "    clf =tree.DecisionTreeClassifier(max_depth=best_param)\n",
    "    clf.fit(X_TV, y_TV) \n",
    "    \n",
    "    \n",
    "    dot_data = tree.export_graphviz(clf, out_file=None, \n",
    "                         feature_names=labels,  \n",
    "                         class_names=['open','close'],  \n",
    "                         filled=True, rounded=True,  \n",
    "                         special_characters=True)  \n",
    "    graph = graphviz.Source(dot_data)  \n",
    "    graph.render(str(DATASET)+'___'+str(train_))\n",
    "    \n",
    "    y_pred=clf.predict(X_test)\n",
    "    Test_accuracy=(accuracy_score(y_test, y_pred, normalize=False))/(len(y_test))\n",
    "    print (Test_accuracy)\n",
    "    \n",
    "    \n",
    "    num=[len(Accuracies_DF)]\n",
    "    df3 = pd.DataFrame({0: \"Test Accuracy\",\n",
    "                        1: Test_accuracy , \n",
    "                        2: \"_____________\"}, index=[num])\n",
    "    \n",
    "    \n",
    "    Accuracies_DF=Accuracies_DF.append(df3)\n",
    "    return Accuracies_DF"
   ]
  },
  {
   "cell_type": "code",
   "execution_count": 41,
   "metadata": {
    "collapsed": true
   },
   "outputs": [],
   "source": [
    "def Random_Forest_GRID_Search(DATASET, df,class_col, test_):\n",
    "    X_TV, X_test, y_TV, y_test, train_ =split_Data_TV_Test(df,class_col, test_)\n",
    "    #3 Trials\n",
    "    tuned_parameters = [{'max_depth': range(1,10,2), 'n_estimators':(10,50,100)},\n",
    "                        {'max_depth': range(1,10,2), 'n_estimators':(10,50,100)},\n",
    "                        {'max_depth': range(1,10,2), 'n_estimators':(10,50,100)}]\n",
    "    \n",
    "    #Accuracy optimized\n",
    "    #Cross Validation=3\n",
    "    scores = 'accuracy'\n",
    "    c=0\n",
    "    data_all=[]\n",
    "    for parameter in tuned_parameters:\n",
    "        print(\"# Tuning hyper-parameters for %s\" % scores)\n",
    "        print()\n",
    "\n",
    "        clf = GridSearchCV(RandomForestClassifier(), parameter, cv=3,scoring=scores)\n",
    "        clf.fit(X_TV, y_TV)\n",
    "        c+=1\n",
    "    \n",
    "    \n",
    "        print(\"Trial # {0}\".format(c))\n",
    "        print(\"Best parameters set found on development set:\")\n",
    "        print()\n",
    "        print(clf.best_params_)\n",
    "        print()\n",
    "        print(\"Grid scores on development set:\")\n",
    "        print()\n",
    "        means = clf.cv_results_['mean_test_score']\n",
    "        stds = clf.cv_results_['std_test_score']\n",
    "        \n",
    "         #write data to a CSV \n",
    "        #outputs \n",
    "        \n",
    "        # DF | Train % | Test % \n",
    "        row1=[DATASET, train_, test_ ]\n",
    "        #TV | Len(X_TV) | Len(y_TV)\n",
    "        row2=[ \"Training/Validation\", \"#TV Feature Samples\", \"#TV Class Labels\"]\n",
    "        row3=[ \"\",X_TV.shape, y_TV.shape ]\n",
    "\n",
    "        #Test | Len(X_Test) | Len(y_Test)\n",
    "        row4=[ \"Test\", \"#Test Feature Samples\", \"#Test Class Labels\"]\n",
    "        row5=[ \"\",X_test.shape, y_test.shape ]\n",
    "        #Trial #         #Best Parameter: \n",
    "        row6=['Trial/ Best Parameter', c, clf.best_params_]\n",
    "        #Grid Scores=\n",
    "        \n",
    "        Grid_of_scores=[]\n",
    "        row7=[\"Training Accuracies\",\"_\",\"_\"]\n",
    "        row8=[\"Mean\", \"Standard Deviation\", \"Parameter\"]\n",
    "        for mean, std, params in zip(means, stds, clf.cv_results_['params']):\n",
    "            print(\"%0.3f (+/-%0.03f) for %r\"% (mean, std * 2, params))\n",
    "            Grid_of_scores.append([mean, std * 2, params])\n",
    "        \n",
    "        data=[row1, row2, row3, row4,row5, row6, row7, row8]\n",
    "        for i in data:\n",
    "            data_all.append(i)\n",
    "        for i in Grid_of_scores:\n",
    "            data_all.append(i) \n",
    "            \n",
    "        #SAVE RESULTS\n",
    "    output=pd.DataFrame(data=data_all)\n",
    "        \n",
    "    return output"
   ]
  },
  {
   "cell_type": "code",
   "execution_count": 42,
   "metadata": {
    "collapsed": true
   },
   "outputs": [],
   "source": [
    "def Random_Forest_TEST(DATASET,X_TV, y_TV, X_test, y_test, Best_depth, Best_n, Accuracies_DF):\n",
    "    clf =RandomForestClassifier(max_depth=Best_depth, n_estimators=Best_n)\n",
    "    clf.fit(X_TV, y_TV)\n",
    "    y_pred=clf.predict(X_test)\n",
    "    Test_accuracy=(accuracy_score(y_test, y_pred, normalize=False))/(len(y_test))\n",
    "    print (Test_accuracy)\n",
    "    num=[len(Accuracies_DF)]\n",
    "    df3 = pd.DataFrame({0: \"Test Accuracy\",\n",
    "                        1: Test_accuracy , \n",
    "                        2: \"_____________\"}, index=[num])\n",
    "    \n",
    "    \n",
    "    Accuracies_DF=Accuracies_DF.append(df3)\n",
    "    return Accuracies_DF"
   ]
  },
  {
   "cell_type": "markdown",
   "metadata": {},
   "source": [
    "\n",
    "\n",
    "### Splits include \n",
    "    - 20% TV, 80% Test\n",
    "    - 50% TV, 50% Test\n",
    "    - 80% TV, 20% Test\n",
    "    \n",
    "# Split 1 : 20% Train, 80% Test    "
   ]
  },
  {
   "cell_type": "code",
   "execution_count": 43,
   "metadata": {},
   "outputs": [
    {
     "name": "stdout",
     "output_type": "stream",
     "text": [
      "Train: 20% Test: 80.0%\n",
      "Train/Validation dataset: (15, 29)  (15,)\n",
      "Test dataset: (62, 29)  (62,)\n"
     ]
    }
   ],
   "source": [
    "X_TV, X_test, y_TV, y_test, train_ =split_Data_TV_Test(Parkinsons_OG_Data, \"target\" , .8)"
   ]
  },
  {
   "cell_type": "markdown",
   "metadata": {},
   "source": [
    "#### Model Selection \n",
    "\n",
    "Lets see how different classifiers perform on set\n",
    "\n",
    "k-fold implementation (k=3)"
   ]
  },
  {
   "cell_type": "code",
   "execution_count": 44,
   "metadata": {},
   "outputs": [
    {
     "name": "stdout",
     "output_type": "stream",
     "text": [
      "Train: 75% Validation: 25.0%\n",
      "Train dataset: (11, 29)  (11,)\n",
      "Validation dataset: (4, 29)  (4,)\n",
      "----------------------------------------\n",
      "Random kfold selection #1\n",
      "LR: 0.5\n",
      "Random Forest: 1.0\n",
      "Neural Network: 1.0\n",
      "GaussianNB: 0.75\n",
      "DecisionTreeClassifier: 0.5\n",
      "SVM: 1.0\n",
      "----------------------------------------\n",
      "Random kfold selection #2\n",
      "LR: 0.5\n",
      "Random Forest: 1.0\n",
      "Neural Network: 1.0\n",
      "GaussianNB: 0.75\n",
      "DecisionTreeClassifier: 0.5\n",
      "SVM: 1.0\n",
      "----------------------------------------\n",
      "Random kfold selection #3\n",
      "LR: 0.5\n",
      "Random Forest: 1.0\n",
      "Neural Network: 0.0\n",
      "GaussianNB: 0.75\n",
      "DecisionTreeClassifier: 0.25\n",
      "SVM: 1.0\n"
     ]
    }
   ],
   "source": [
    "#val_=.25 \n",
    "Model_Selection(X_TV, y_TV, .25)"
   ]
  },
  {
   "cell_type": "markdown",
   "metadata": {},
   "source": [
    "  #### Linear SVM\n",
    "  \n",
    "  <p> Implementation using sklearn svm.SVC(Kernel='Linear') </p>"
   ]
  },
  {
   "cell_type": "code",
   "execution_count": 45,
   "metadata": {},
   "outputs": [
    {
     "name": "stdout",
     "output_type": "stream",
     "text": [
      "Train: 20% Test: 80.0%\n",
      "Train/Validation dataset: (15, 29)  (15,)\n",
      "Test dataset: (62, 29)  (62,)\n",
      "# Tuning hyper-parameters for accuracy\n",
      "\n",
      "Trial # 1\n",
      "Best parameters set found on development set:\n",
      "\n",
      "{'C': 0.001, 'kernel': 'linear'}\n",
      "\n",
      "Grid scores on development set:\n",
      "\n",
      "0.800 (+/-0.067) for {'C': 0.001, 'kernel': 'linear'}\n",
      "0.800 (+/-0.067) for {'C': 0.1, 'kernel': 'linear'}\n",
      "0.800 (+/-0.067) for {'C': 1, 'kernel': 'linear'}\n",
      "0.800 (+/-0.067) for {'C': 10, 'kernel': 'linear'}\n",
      "0.800 (+/-0.067) for {'C': 100, 'kernel': 'linear'}\n",
      "# Tuning hyper-parameters for accuracy\n",
      "\n",
      "Trial # 2\n",
      "Best parameters set found on development set:\n",
      "\n",
      "{'C': 0.001, 'kernel': 'linear'}\n",
      "\n",
      "Grid scores on development set:\n",
      "\n",
      "0.800 (+/-0.067) for {'C': 0.001, 'kernel': 'linear'}\n",
      "0.800 (+/-0.067) for {'C': 0.1, 'kernel': 'linear'}\n",
      "0.800 (+/-0.067) for {'C': 1, 'kernel': 'linear'}\n",
      "0.800 (+/-0.067) for {'C': 10, 'kernel': 'linear'}\n",
      "0.800 (+/-0.067) for {'C': 100, 'kernel': 'linear'}\n",
      "# Tuning hyper-parameters for accuracy\n",
      "\n",
      "Trial # 3\n",
      "Best parameters set found on development set:\n",
      "\n",
      "{'C': 0.001, 'kernel': 'linear'}\n",
      "\n",
      "Grid scores on development set:\n",
      "\n",
      "0.800 (+/-0.067) for {'C': 0.001, 'kernel': 'linear'}\n",
      "0.800 (+/-0.067) for {'C': 0.1, 'kernel': 'linear'}\n",
      "0.800 (+/-0.067) for {'C': 1, 'kernel': 'linear'}\n",
      "0.800 (+/-0.067) for {'C': 10, 'kernel': 'linear'}\n",
      "0.800 (+/-0.067) for {'C': 100, 'kernel': 'linear'}\n"
     ]
    },
    {
     "name": "stderr",
     "output_type": "stream",
     "text": [
      "C:\\Users\\zafri\\Anaconda2\\envs\\py36\\lib\\site-packages\\sklearn\\model_selection\\_split.py:605: Warning: The least populated class in y has only 2 members, which is too few. The minimum number of members in any class cannot be less than n_splits=3.\n",
      "  % (min_groups, self.n_splits)), Warning)\n",
      "C:\\Users\\zafri\\Anaconda2\\envs\\py36\\lib\\site-packages\\sklearn\\model_selection\\_split.py:605: Warning: The least populated class in y has only 2 members, which is too few. The minimum number of members in any class cannot be less than n_splits=3.\n",
      "  % (min_groups, self.n_splits)), Warning)\n",
      "C:\\Users\\zafri\\Anaconda2\\envs\\py36\\lib\\site-packages\\sklearn\\model_selection\\_split.py:605: Warning: The least populated class in y has only 2 members, which is too few. The minimum number of members in any class cannot be less than n_splits=3.\n",
      "  % (min_groups, self.n_splits)), Warning)\n"
     ]
    }
   ],
   "source": [
    "SP1_SVM_Accuracies_DF=Linear_SVM_GRID_Search(DATASET, Parkinsons_OG_Data,\"target\", .8)"
   ]
  },
  {
   "cell_type": "code",
   "execution_count": 46,
   "metadata": {},
   "outputs": [
    {
     "name": "stdout",
     "output_type": "stream",
     "text": [
      "0.6935483870967742\n"
     ]
    }
   ],
   "source": [
    "SP1_SVM_Accuracies_DF=Linear_SVM_TEST(DATASET,X_TV, y_TV, X_test, y_test, 0.001 , SP1_SVM_Accuracies_DF)"
   ]
  },
  {
   "cell_type": "markdown",
   "metadata": {},
   "source": [
    "#### Decision Tree"
   ]
  },
  {
   "cell_type": "code",
   "execution_count": 47,
   "metadata": {},
   "outputs": [
    {
     "name": "stdout",
     "output_type": "stream",
     "text": [
      "Train: 20% Test: 80.0%\n",
      "Train/Validation dataset: (15, 29)  (15,)\n",
      "Test dataset: (62, 29)  (62,)\n",
      "# Tuning hyper-parameters for accuracy\n",
      "\n",
      "Trial # 1\n",
      "Best parameters set found on development set:\n",
      "\n",
      "{'max_depth': 3}\n",
      "\n",
      "Grid scores on development set:\n",
      "\n",
      "0.800 (+/-0.313) for {'max_depth': 3}\n",
      "0.733 (+/-0.200) for {'max_depth': 5}\n",
      "0.733 (+/-0.200) for {'max_depth': 7}\n",
      "# Tuning hyper-parameters for accuracy\n",
      "\n",
      "Trial # 2\n",
      "Best parameters set found on development set:\n",
      "\n",
      "{'max_depth': 3}\n",
      "\n",
      "Grid scores on development set:\n",
      "\n",
      "0.800 (+/-0.313) for {'max_depth': 3}\n",
      "0.800 (+/-0.313) for {'max_depth': 5}\n",
      "0.800 (+/-0.313) for {'max_depth': 7}\n",
      "# Tuning hyper-parameters for accuracy\n",
      "\n",
      "Trial # 3\n",
      "Best parameters set found on development set:\n",
      "\n",
      "{'max_depth': 3}\n",
      "\n",
      "Grid scores on development set:\n",
      "\n",
      "0.733 (+/-0.200) for {'max_depth': 3}\n",
      "0.733 (+/-0.200) for {'max_depth': 5}\n",
      "0.733 (+/-0.200) for {'max_depth': 7}\n"
     ]
    },
    {
     "name": "stderr",
     "output_type": "stream",
     "text": [
      "C:\\Users\\zafri\\Anaconda2\\envs\\py36\\lib\\site-packages\\sklearn\\model_selection\\_split.py:605: Warning: The least populated class in y has only 2 members, which is too few. The minimum number of members in any class cannot be less than n_splits=3.\n",
      "  % (min_groups, self.n_splits)), Warning)\n",
      "C:\\Users\\zafri\\Anaconda2\\envs\\py36\\lib\\site-packages\\sklearn\\model_selection\\_split.py:605: Warning: The least populated class in y has only 2 members, which is too few. The minimum number of members in any class cannot be less than n_splits=3.\n",
      "  % (min_groups, self.n_splits)), Warning)\n",
      "C:\\Users\\zafri\\Anaconda2\\envs\\py36\\lib\\site-packages\\sklearn\\model_selection\\_split.py:605: Warning: The least populated class in y has only 2 members, which is too few. The minimum number of members in any class cannot be less than n_splits=3.\n",
      "  % (min_groups, self.n_splits)), Warning)\n"
     ]
    }
   ],
   "source": [
    "SP1_Decision_Tree_Accuracies_DF=Decision_Tree_GRID_Search(DATASET, Parkinsons_OG_Data,\"target\", .8)"
   ]
  },
  {
   "cell_type": "code",
   "execution_count": 48,
   "metadata": {},
   "outputs": [
    {
     "name": "stdout",
     "output_type": "stream",
     "text": [
      "0.6451612903225806\n"
     ]
    }
   ],
   "source": [
    "SP1_Decision_Tree_Accuracies_DF=Decision_Tree_TEST(DATASET,Parkinsons_OG_Data, train_, X_TV, y_TV, X_test, y_test, 3 , SP1_Decision_Tree_Accuracies_DF)"
   ]
  },
  {
   "cell_type": "markdown",
   "metadata": {},
   "source": [
    "#### Random Forest\n"
   ]
  },
  {
   "cell_type": "code",
   "execution_count": 49,
   "metadata": {},
   "outputs": [
    {
     "name": "stdout",
     "output_type": "stream",
     "text": [
      "Train: 20% Test: 80.0%\n",
      "Train/Validation dataset: (15, 29)  (15,)\n",
      "Test dataset: (62, 29)  (62,)\n",
      "# Tuning hyper-parameters for accuracy\n",
      "\n"
     ]
    },
    {
     "name": "stderr",
     "output_type": "stream",
     "text": [
      "C:\\Users\\zafri\\Anaconda2\\envs\\py36\\lib\\site-packages\\sklearn\\model_selection\\_split.py:605: Warning: The least populated class in y has only 2 members, which is too few. The minimum number of members in any class cannot be less than n_splits=3.\n",
      "  % (min_groups, self.n_splits)), Warning)\n"
     ]
    },
    {
     "name": "stdout",
     "output_type": "stream",
     "text": [
      "Trial # 1\n",
      "Best parameters set found on development set:\n",
      "\n",
      "{'max_depth': 1, 'n_estimators': 10}\n",
      "\n",
      "Grid scores on development set:\n",
      "\n",
      "0.867 (+/-0.163) for {'max_depth': 1, 'n_estimators': 10}\n",
      "0.867 (+/-0.163) for {'max_depth': 1, 'n_estimators': 50}\n",
      "0.867 (+/-0.163) for {'max_depth': 1, 'n_estimators': 100}\n",
      "0.867 (+/-0.163) for {'max_depth': 3, 'n_estimators': 10}\n",
      "0.867 (+/-0.163) for {'max_depth': 3, 'n_estimators': 50}\n",
      "0.867 (+/-0.163) for {'max_depth': 3, 'n_estimators': 100}\n",
      "0.867 (+/-0.163) for {'max_depth': 5, 'n_estimators': 10}\n",
      "0.867 (+/-0.163) for {'max_depth': 5, 'n_estimators': 50}\n",
      "0.867 (+/-0.163) for {'max_depth': 5, 'n_estimators': 100}\n",
      "0.800 (+/-0.067) for {'max_depth': 7, 'n_estimators': 10}\n",
      "0.867 (+/-0.163) for {'max_depth': 7, 'n_estimators': 50}\n",
      "0.867 (+/-0.163) for {'max_depth': 7, 'n_estimators': 100}\n",
      "0.867 (+/-0.163) for {'max_depth': 9, 'n_estimators': 10}\n",
      "0.867 (+/-0.163) for {'max_depth': 9, 'n_estimators': 50}\n",
      "0.867 (+/-0.163) for {'max_depth': 9, 'n_estimators': 100}\n",
      "# Tuning hyper-parameters for accuracy\n",
      "\n"
     ]
    },
    {
     "name": "stderr",
     "output_type": "stream",
     "text": [
      "C:\\Users\\zafri\\Anaconda2\\envs\\py36\\lib\\site-packages\\sklearn\\model_selection\\_split.py:605: Warning: The least populated class in y has only 2 members, which is too few. The minimum number of members in any class cannot be less than n_splits=3.\n",
      "  % (min_groups, self.n_splits)), Warning)\n"
     ]
    },
    {
     "name": "stdout",
     "output_type": "stream",
     "text": [
      "Trial # 2\n",
      "Best parameters set found on development set:\n",
      "\n",
      "{'max_depth': 1, 'n_estimators': 10}\n",
      "\n",
      "Grid scores on development set:\n",
      "\n",
      "0.867 (+/-0.163) for {'max_depth': 1, 'n_estimators': 10}\n",
      "0.867 (+/-0.163) for {'max_depth': 1, 'n_estimators': 50}\n",
      "0.867 (+/-0.163) for {'max_depth': 1, 'n_estimators': 100}\n",
      "0.867 (+/-0.163) for {'max_depth': 3, 'n_estimators': 10}\n",
      "0.867 (+/-0.163) for {'max_depth': 3, 'n_estimators': 50}\n",
      "0.867 (+/-0.163) for {'max_depth': 3, 'n_estimators': 100}\n",
      "0.733 (+/-0.200) for {'max_depth': 5, 'n_estimators': 10}\n",
      "0.867 (+/-0.163) for {'max_depth': 5, 'n_estimators': 50}\n",
      "0.867 (+/-0.163) for {'max_depth': 5, 'n_estimators': 100}\n",
      "0.800 (+/-0.067) for {'max_depth': 7, 'n_estimators': 10}\n",
      "0.867 (+/-0.163) for {'max_depth': 7, 'n_estimators': 50}\n",
      "0.867 (+/-0.163) for {'max_depth': 7, 'n_estimators': 100}\n",
      "0.867 (+/-0.163) for {'max_depth': 9, 'n_estimators': 10}\n",
      "0.867 (+/-0.163) for {'max_depth': 9, 'n_estimators': 50}\n",
      "0.867 (+/-0.163) for {'max_depth': 9, 'n_estimators': 100}\n",
      "# Tuning hyper-parameters for accuracy\n",
      "\n"
     ]
    },
    {
     "name": "stderr",
     "output_type": "stream",
     "text": [
      "C:\\Users\\zafri\\Anaconda2\\envs\\py36\\lib\\site-packages\\sklearn\\model_selection\\_split.py:605: Warning: The least populated class in y has only 2 members, which is too few. The minimum number of members in any class cannot be less than n_splits=3.\n",
      "  % (min_groups, self.n_splits)), Warning)\n"
     ]
    },
    {
     "name": "stdout",
     "output_type": "stream",
     "text": [
      "Trial # 3\n",
      "Best parameters set found on development set:\n",
      "\n",
      "{'max_depth': 1, 'n_estimators': 10}\n",
      "\n",
      "Grid scores on development set:\n",
      "\n",
      "0.867 (+/-0.163) for {'max_depth': 1, 'n_estimators': 10}\n",
      "0.867 (+/-0.163) for {'max_depth': 1, 'n_estimators': 50}\n",
      "0.867 (+/-0.163) for {'max_depth': 1, 'n_estimators': 100}\n",
      "0.733 (+/-0.283) for {'max_depth': 3, 'n_estimators': 10}\n",
      "0.867 (+/-0.163) for {'max_depth': 3, 'n_estimators': 50}\n",
      "0.867 (+/-0.163) for {'max_depth': 3, 'n_estimators': 100}\n",
      "0.867 (+/-0.163) for {'max_depth': 5, 'n_estimators': 10}\n",
      "0.867 (+/-0.163) for {'max_depth': 5, 'n_estimators': 50}\n",
      "0.867 (+/-0.163) for {'max_depth': 5, 'n_estimators': 100}\n",
      "0.867 (+/-0.163) for {'max_depth': 7, 'n_estimators': 10}\n",
      "0.867 (+/-0.163) for {'max_depth': 7, 'n_estimators': 50}\n",
      "0.867 (+/-0.163) for {'max_depth': 7, 'n_estimators': 100}\n",
      "0.733 (+/-0.283) for {'max_depth': 9, 'n_estimators': 10}\n",
      "0.867 (+/-0.163) for {'max_depth': 9, 'n_estimators': 50}\n",
      "0.867 (+/-0.163) for {'max_depth': 9, 'n_estimators': 100}\n"
     ]
    }
   ],
   "source": [
    "SP1_Random_Forest_Accuracies_DF=Random_Forest_GRID_Search(DATASET, Parkinsons_OG_Data, 'target', .8)"
   ]
  },
  {
   "cell_type": "code",
   "execution_count": 50,
   "metadata": {},
   "outputs": [
    {
     "name": "stdout",
     "output_type": "stream",
     "text": [
      "0.7903225806451613\n"
     ]
    }
   ],
   "source": [
    "SP1_Random_Forest_Accuracies_DF=Random_Forest_TEST(DATASET,X_TV, y_TV, X_test, y_test, 1, 50 , SP1_Random_Forest_Accuracies_DF)"
   ]
  },
  {
   "cell_type": "markdown",
   "metadata": {},
   "source": [
    "# Split 2 : 50% Train, 50% Test    "
   ]
  },
  {
   "cell_type": "code",
   "execution_count": 51,
   "metadata": {},
   "outputs": [
    {
     "name": "stdout",
     "output_type": "stream",
     "text": [
      "Train: 50% Test: 50.0%\n",
      "Train/Validation dataset: (38, 29)  (38,)\n",
      "Test dataset: (39, 29)  (39,)\n"
     ]
    }
   ],
   "source": [
    "X_TV, X_test, y_TV, y_test, train_ =split_Data_TV_Test(Parkinsons_OG_Data, \"target\" , .5)"
   ]
  },
  {
   "cell_type": "markdown",
   "metadata": {},
   "source": [
    "#### Model Selection \n",
    "\n",
    "Lets see how different classifiers perform on set\n",
    "\n",
    "k-fold implementation (k=3)"
   ]
  },
  {
   "cell_type": "code",
   "execution_count": 52,
   "metadata": {},
   "outputs": [
    {
     "name": "stdout",
     "output_type": "stream",
     "text": [
      "Train: 75% Validation: 25.0%\n",
      "Train dataset: (28, 29)  (28,)\n",
      "Validation dataset: (10, 29)  (10,)\n",
      "----------------------------------------\n",
      "Random kfold selection #1\n",
      "LR: 0.7\n",
      "Random Forest: 0.7\n",
      "Neural Network: 0.5\n",
      "GaussianNB: 0.7\n",
      "DecisionTreeClassifier: 0.7\n",
      "SVM: 0.6\n",
      "----------------------------------------\n",
      "Random kfold selection #2\n",
      "LR: 0.7\n",
      "Random Forest: 0.7\n",
      "Neural Network: 0.6\n",
      "GaussianNB: 0.7\n",
      "DecisionTreeClassifier: 0.7\n",
      "SVM: 0.6\n",
      "----------------------------------------\n",
      "Random kfold selection #3\n",
      "LR: 0.7\n",
      "Random Forest: 0.7\n",
      "Neural Network: 0.6\n",
      "GaussianNB: 0.7\n",
      "DecisionTreeClassifier: 0.7\n",
      "SVM: 0.6\n"
     ]
    }
   ],
   "source": [
    "#val_=.25 \n",
    "Model_Selection(X_TV, y_TV, .25)"
   ]
  },
  {
   "cell_type": "markdown",
   "metadata": {},
   "source": [
    "  #### Linear SVM\n",
    "  \n",
    "  <p> Implementation using sklearn svm.SVC(Kernel='Linear') </p>"
   ]
  },
  {
   "cell_type": "code",
   "execution_count": 53,
   "metadata": {},
   "outputs": [
    {
     "name": "stdout",
     "output_type": "stream",
     "text": [
      "Train: 50% Test: 50.0%\n",
      "Train/Validation dataset: (38, 29)  (38,)\n",
      "Test dataset: (39, 29)  (39,)\n",
      "# Tuning hyper-parameters for accuracy\n",
      "\n",
      "Trial # 1\n",
      "Best parameters set found on development set:\n",
      "\n",
      "{'C': 0.001, 'kernel': 'linear'}\n",
      "\n",
      "Grid scores on development set:\n",
      "\n",
      "0.684 (+/-0.289) for {'C': 0.001, 'kernel': 'linear'}\n",
      "0.658 (+/-0.148) for {'C': 0.1, 'kernel': 'linear'}\n",
      "0.605 (+/-0.205) for {'C': 1, 'kernel': 'linear'}\n",
      "0.579 (+/-0.265) for {'C': 10, 'kernel': 'linear'}\n",
      "0.605 (+/-0.205) for {'C': 100, 'kernel': 'linear'}\n",
      "# Tuning hyper-parameters for accuracy\n",
      "\n",
      "Trial # 2\n",
      "Best parameters set found on development set:\n",
      "\n",
      "{'C': 0.001, 'kernel': 'linear'}\n",
      "\n",
      "Grid scores on development set:\n",
      "\n",
      "0.684 (+/-0.289) for {'C': 0.001, 'kernel': 'linear'}\n",
      "0.658 (+/-0.148) for {'C': 0.1, 'kernel': 'linear'}\n",
      "0.605 (+/-0.205) for {'C': 1, 'kernel': 'linear'}\n",
      "0.579 (+/-0.265) for {'C': 10, 'kernel': 'linear'}\n",
      "0.605 (+/-0.205) for {'C': 100, 'kernel': 'linear'}\n",
      "# Tuning hyper-parameters for accuracy\n",
      "\n",
      "Trial # 3\n",
      "Best parameters set found on development set:\n",
      "\n",
      "{'C': 0.001, 'kernel': 'linear'}\n",
      "\n",
      "Grid scores on development set:\n",
      "\n",
      "0.684 (+/-0.289) for {'C': 0.001, 'kernel': 'linear'}\n",
      "0.658 (+/-0.148) for {'C': 0.1, 'kernel': 'linear'}\n",
      "0.605 (+/-0.205) for {'C': 1, 'kernel': 'linear'}\n",
      "0.579 (+/-0.265) for {'C': 10, 'kernel': 'linear'}\n",
      "0.605 (+/-0.205) for {'C': 100, 'kernel': 'linear'}\n"
     ]
    }
   ],
   "source": [
    "SP2_SVM_Accuracies_DF=Linear_SVM_GRID_Search(DATASET, Parkinsons_OG_Data,\"target\", .5)"
   ]
  },
  {
   "cell_type": "code",
   "execution_count": 54,
   "metadata": {},
   "outputs": [
    {
     "name": "stdout",
     "output_type": "stream",
     "text": [
      "0.7435897435897436\n"
     ]
    }
   ],
   "source": [
    "SP2_SVM_Accuracies_DF=Linear_SVM_TEST(DATASET,X_TV, y_TV, X_test, y_test, 0.001 , SP2_SVM_Accuracies_DF)"
   ]
  },
  {
   "cell_type": "markdown",
   "metadata": {},
   "source": [
    "#### Decision Tree"
   ]
  },
  {
   "cell_type": "code",
   "execution_count": 55,
   "metadata": {},
   "outputs": [
    {
     "name": "stdout",
     "output_type": "stream",
     "text": [
      "Train: 50% Test: 50.0%\n",
      "Train/Validation dataset: (38, 29)  (38,)\n",
      "Test dataset: (39, 29)  (39,)\n",
      "# Tuning hyper-parameters for accuracy\n",
      "\n",
      "Trial # 1\n",
      "Best parameters set found on development set:\n",
      "\n",
      "{'max_depth': 3}\n",
      "\n",
      "Grid scores on development set:\n",
      "\n",
      "0.789 (+/-0.175) for {'max_depth': 3}\n",
      "0.711 (+/-0.066) for {'max_depth': 5}\n",
      "0.737 (+/-0.137) for {'max_depth': 7}\n",
      "# Tuning hyper-parameters for accuracy\n",
      "\n",
      "Trial # 2\n",
      "Best parameters set found on development set:\n",
      "\n",
      "{'max_depth': 3}\n",
      "\n",
      "Grid scores on development set:\n",
      "\n",
      "0.763 (+/-0.100) for {'max_depth': 3}\n",
      "0.684 (+/-0.217) for {'max_depth': 5}\n",
      "0.763 (+/-0.100) for {'max_depth': 7}\n",
      "# Tuning hyper-parameters for accuracy\n",
      "\n",
      "Trial # 3\n",
      "Best parameters set found on development set:\n",
      "\n",
      "{'max_depth': 3}\n",
      "\n",
      "Grid scores on development set:\n",
      "\n",
      "0.789 (+/-0.066) for {'max_depth': 3}\n",
      "0.789 (+/-0.066) for {'max_depth': 5}\n",
      "0.763 (+/-0.100) for {'max_depth': 7}\n"
     ]
    }
   ],
   "source": [
    "SP2_Decision_Tree_Accuracies_DF=Decision_Tree_GRID_Search(DATASET, Parkinsons_OG_Data,\"target\", .5)"
   ]
  },
  {
   "cell_type": "code",
   "execution_count": 56,
   "metadata": {},
   "outputs": [
    {
     "name": "stdout",
     "output_type": "stream",
     "text": [
      "0.8205128205128205\n"
     ]
    }
   ],
   "source": [
    "SP2_Decision_Tree_Accuracies_DF=Decision_Tree_TEST(DATASET,Parkinsons_OG_Data, train_, X_TV, y_TV, X_test, y_test, 7 , SP2_Decision_Tree_Accuracies_DF)"
   ]
  },
  {
   "cell_type": "markdown",
   "metadata": {},
   "source": [
    "#### Random Forest\n"
   ]
  },
  {
   "cell_type": "code",
   "execution_count": 57,
   "metadata": {},
   "outputs": [
    {
     "name": "stdout",
     "output_type": "stream",
     "text": [
      "Train: 50% Test: 50.0%\n",
      "Train/Validation dataset: (38, 29)  (38,)\n",
      "Test dataset: (39, 29)  (39,)\n",
      "# Tuning hyper-parameters for accuracy\n",
      "\n",
      "Trial # 1\n",
      "Best parameters set found on development set:\n",
      "\n",
      "{'max_depth': 5, 'n_estimators': 10}\n",
      "\n",
      "Grid scores on development set:\n",
      "\n",
      "0.842 (+/-0.109) for {'max_depth': 1, 'n_estimators': 10}\n",
      "0.842 (+/-0.109) for {'max_depth': 1, 'n_estimators': 50}\n",
      "0.816 (+/-0.046) for {'max_depth': 1, 'n_estimators': 100}\n",
      "0.789 (+/-0.234) for {'max_depth': 3, 'n_estimators': 10}\n",
      "0.842 (+/-0.109) for {'max_depth': 3, 'n_estimators': 50}\n",
      "0.895 (+/-0.084) for {'max_depth': 3, 'n_estimators': 100}\n",
      "0.921 (+/-0.011) for {'max_depth': 5, 'n_estimators': 10}\n",
      "0.895 (+/-0.084) for {'max_depth': 5, 'n_estimators': 50}\n",
      "0.868 (+/-0.068) for {'max_depth': 5, 'n_estimators': 100}\n",
      "0.789 (+/-0.103) for {'max_depth': 7, 'n_estimators': 10}\n",
      "0.868 (+/-0.092) for {'max_depth': 7, 'n_estimators': 50}\n",
      "0.868 (+/-0.068) for {'max_depth': 7, 'n_estimators': 100}\n",
      "0.842 (+/-0.109) for {'max_depth': 9, 'n_estimators': 10}\n",
      "0.842 (+/-0.109) for {'max_depth': 9, 'n_estimators': 50}\n",
      "0.842 (+/-0.109) for {'max_depth': 9, 'n_estimators': 100}\n",
      "# Tuning hyper-parameters for accuracy\n",
      "\n",
      "Trial # 2\n",
      "Best parameters set found on development set:\n",
      "\n",
      "{'max_depth': 7, 'n_estimators': 50}\n",
      "\n",
      "Grid scores on development set:\n",
      "\n",
      "0.789 (+/-0.066) for {'max_depth': 1, 'n_estimators': 10}\n",
      "0.816 (+/-0.046) for {'max_depth': 1, 'n_estimators': 50}\n",
      "0.816 (+/-0.046) for {'max_depth': 1, 'n_estimators': 100}\n",
      "0.816 (+/-0.316) for {'max_depth': 3, 'n_estimators': 10}\n",
      "0.816 (+/-0.046) for {'max_depth': 3, 'n_estimators': 50}\n",
      "0.842 (+/-0.023) for {'max_depth': 3, 'n_estimators': 100}\n",
      "0.868 (+/-0.183) for {'max_depth': 5, 'n_estimators': 10}\n",
      "0.763 (+/-0.184) for {'max_depth': 5, 'n_estimators': 50}\n",
      "0.842 (+/-0.109) for {'max_depth': 5, 'n_estimators': 100}\n",
      "0.816 (+/-0.092) for {'max_depth': 7, 'n_estimators': 10}\n",
      "0.921 (+/-0.011) for {'max_depth': 7, 'n_estimators': 50}\n",
      "0.895 (+/-0.084) for {'max_depth': 7, 'n_estimators': 100}\n",
      "0.842 (+/-0.134) for {'max_depth': 9, 'n_estimators': 10}\n",
      "0.868 (+/-0.068) for {'max_depth': 9, 'n_estimators': 50}\n",
      "0.895 (+/-0.084) for {'max_depth': 9, 'n_estimators': 100}\n",
      "# Tuning hyper-parameters for accuracy\n",
      "\n",
      "Trial # 3\n",
      "Best parameters set found on development set:\n",
      "\n",
      "{'max_depth': 3, 'n_estimators': 50}\n",
      "\n",
      "Grid scores on development set:\n",
      "\n",
      "0.816 (+/-0.046) for {'max_depth': 1, 'n_estimators': 10}\n",
      "0.816 (+/-0.046) for {'max_depth': 1, 'n_estimators': 50}\n",
      "0.816 (+/-0.046) for {'max_depth': 1, 'n_estimators': 100}\n",
      "0.842 (+/-0.134) for {'max_depth': 3, 'n_estimators': 10}\n",
      "0.868 (+/-0.068) for {'max_depth': 3, 'n_estimators': 50}\n",
      "0.868 (+/-0.068) for {'max_depth': 3, 'n_estimators': 100}\n",
      "0.737 (+/-0.158) for {'max_depth': 5, 'n_estimators': 10}\n",
      "0.868 (+/-0.161) for {'max_depth': 5, 'n_estimators': 50}\n",
      "0.868 (+/-0.068) for {'max_depth': 5, 'n_estimators': 100}\n",
      "0.816 (+/-0.316) for {'max_depth': 7, 'n_estimators': 10}\n",
      "0.816 (+/-0.046) for {'max_depth': 7, 'n_estimators': 50}\n",
      "0.868 (+/-0.068) for {'max_depth': 7, 'n_estimators': 100}\n",
      "0.842 (+/-0.109) for {'max_depth': 9, 'n_estimators': 10}\n",
      "0.842 (+/-0.109) for {'max_depth': 9, 'n_estimators': 50}\n",
      "0.842 (+/-0.023) for {'max_depth': 9, 'n_estimators': 100}\n"
     ]
    }
   ],
   "source": [
    "SP2_Random_Forest_Accuracies_DF=Random_Forest_GRID_Search(DATASET, Parkinsons_OG_Data, 'target', .5)"
   ]
  },
  {
   "cell_type": "code",
   "execution_count": 58,
   "metadata": {},
   "outputs": [
    {
     "name": "stdout",
     "output_type": "stream",
     "text": [
      "0.8717948717948718\n"
     ]
    }
   ],
   "source": [
    "SP2_Random_Forest_Accuracies_DF=Random_Forest_TEST(DATASET,X_TV, y_TV, X_test, y_test, 3, 50 , SP2_Random_Forest_Accuracies_DF)"
   ]
  },
  {
   "cell_type": "markdown",
   "metadata": {},
   "source": [
    "# Split 3 : 80% Train, 20% Test    "
   ]
  },
  {
   "cell_type": "code",
   "execution_count": 59,
   "metadata": {},
   "outputs": [
    {
     "name": "stdout",
     "output_type": "stream",
     "text": [
      "Train: 80% Test: 20.0%\n",
      "Train/Validation dataset: (61, 29)  (61,)\n",
      "Test dataset: (16, 29)  (16,)\n"
     ]
    }
   ],
   "source": [
    "X_TV, X_test, y_TV, y_test, train_ =split_Data_TV_Test(Parkinsons_OG_Data, \"target\" , .2)"
   ]
  },
  {
   "cell_type": "markdown",
   "metadata": {},
   "source": [
    "#### Model Selection \n",
    "\n",
    "Lets see how different classifiers perform on set\n",
    "\n",
    "k-fold implementation (k=3)"
   ]
  },
  {
   "cell_type": "code",
   "execution_count": 60,
   "metadata": {},
   "outputs": [
    {
     "name": "stdout",
     "output_type": "stream",
     "text": [
      "Train: 75% Validation: 25.0%\n",
      "Train dataset: (45, 29)  (45,)\n",
      "Validation dataset: (16, 29)  (16,)\n",
      "----------------------------------------\n",
      "Random kfold selection #1\n",
      "LR: 0.75\n",
      "Random Forest: 0.8125\n",
      "Neural Network: 0.8125\n",
      "GaussianNB: 0.875\n",
      "DecisionTreeClassifier: 0.75\n",
      "SVM: 0.75\n",
      "----------------------------------------\n",
      "Random kfold selection #2\n",
      "LR: 0.75\n",
      "Random Forest: 0.8125\n",
      "Neural Network: 0.5\n",
      "GaussianNB: 0.875\n",
      "DecisionTreeClassifier: 0.625\n",
      "SVM: 0.75\n",
      "----------------------------------------\n",
      "Random kfold selection #3\n",
      "LR: 0.75\n",
      "Random Forest: 0.8125\n",
      "Neural Network: 0.75\n",
      "GaussianNB: 0.875\n",
      "DecisionTreeClassifier: 0.75\n",
      "SVM: 0.75\n"
     ]
    }
   ],
   "source": [
    "#val_=.25 \n",
    "Model_Selection(X_TV, y_TV, .25)"
   ]
  },
  {
   "cell_type": "markdown",
   "metadata": {},
   "source": [
    "  #### Linear SVM\n",
    "  \n",
    "  <p> Implementation using sklearn svm.SVC(Kernel='Linear') </p>"
   ]
  },
  {
   "cell_type": "code",
   "execution_count": 61,
   "metadata": {},
   "outputs": [
    {
     "name": "stdout",
     "output_type": "stream",
     "text": [
      "Train: 80% Test: 20.0%\n",
      "Train/Validation dataset: (61, 29)  (61,)\n",
      "Test dataset: (16, 29)  (16,)\n",
      "# Tuning hyper-parameters for accuracy\n",
      "\n",
      "Trial # 1\n",
      "Best parameters set found on development set:\n",
      "\n",
      "{'C': 0.001, 'kernel': 'linear'}\n",
      "\n",
      "Grid scores on development set:\n",
      "\n",
      "0.803 (+/-0.081) for {'C': 0.001, 'kernel': 'linear'}\n",
      "0.770 (+/-0.175) for {'C': 0.1, 'kernel': 'linear'}\n",
      "0.656 (+/-0.067) for {'C': 1, 'kernel': 'linear'}\n",
      "0.705 (+/-0.092) for {'C': 10, 'kernel': 'linear'}\n",
      "0.607 (+/-0.193) for {'C': 100, 'kernel': 'linear'}\n",
      "# Tuning hyper-parameters for accuracy\n",
      "\n",
      "Trial # 2\n",
      "Best parameters set found on development set:\n",
      "\n",
      "{'C': 0.001, 'kernel': 'linear'}\n",
      "\n",
      "Grid scores on development set:\n",
      "\n",
      "0.803 (+/-0.081) for {'C': 0.001, 'kernel': 'linear'}\n",
      "0.770 (+/-0.175) for {'C': 0.1, 'kernel': 'linear'}\n",
      "0.656 (+/-0.067) for {'C': 1, 'kernel': 'linear'}\n",
      "0.705 (+/-0.092) for {'C': 10, 'kernel': 'linear'}\n",
      "0.607 (+/-0.193) for {'C': 100, 'kernel': 'linear'}\n",
      "# Tuning hyper-parameters for accuracy\n",
      "\n",
      "Trial # 3\n",
      "Best parameters set found on development set:\n",
      "\n",
      "{'C': 0.001, 'kernel': 'linear'}\n",
      "\n",
      "Grid scores on development set:\n",
      "\n",
      "0.803 (+/-0.081) for {'C': 0.001, 'kernel': 'linear'}\n",
      "0.770 (+/-0.175) for {'C': 0.1, 'kernel': 'linear'}\n",
      "0.656 (+/-0.067) for {'C': 1, 'kernel': 'linear'}\n",
      "0.705 (+/-0.092) for {'C': 10, 'kernel': 'linear'}\n",
      "0.607 (+/-0.193) for {'C': 100, 'kernel': 'linear'}\n"
     ]
    }
   ],
   "source": [
    "SP3_SVM_Accuracies_DF=Linear_SVM_GRID_Search(DATASET, Parkinsons_OG_Data,\"target\", .2)"
   ]
  },
  {
   "cell_type": "code",
   "execution_count": 62,
   "metadata": {},
   "outputs": [
    {
     "name": "stdout",
     "output_type": "stream",
     "text": [
      "0.75\n"
     ]
    }
   ],
   "source": [
    "SP3_SVM_Accuracies_DF=Linear_SVM_TEST(DATASET,X_TV, y_TV, X_test, y_test, 0.001 , SP3_SVM_Accuracies_DF)"
   ]
  },
  {
   "cell_type": "markdown",
   "metadata": {},
   "source": [
    "#### Decision Tree"
   ]
  },
  {
   "cell_type": "code",
   "execution_count": 63,
   "metadata": {},
   "outputs": [
    {
     "name": "stdout",
     "output_type": "stream",
     "text": [
      "Train: 80% Test: 20.0%\n",
      "Train/Validation dataset: (61, 29)  (61,)\n",
      "Test dataset: (16, 29)  (16,)\n",
      "# Tuning hyper-parameters for accuracy\n",
      "\n",
      "Trial # 1\n",
      "Best parameters set found on development set:\n",
      "\n",
      "{'max_depth': 5}\n",
      "\n",
      "Grid scores on development set:\n",
      "\n",
      "0.803 (+/-0.219) for {'max_depth': 3}\n",
      "0.885 (+/-0.127) for {'max_depth': 5}\n",
      "0.869 (+/-0.236) for {'max_depth': 7}\n",
      "# Tuning hyper-parameters for accuracy\n",
      "\n",
      "Trial # 2\n",
      "Best parameters set found on development set:\n",
      "\n",
      "{'max_depth': 7}\n",
      "\n",
      "Grid scores on development set:\n",
      "\n",
      "0.885 (+/-0.125) for {'max_depth': 3}\n",
      "0.869 (+/-0.096) for {'max_depth': 5}\n",
      "0.918 (+/-0.045) for {'max_depth': 7}\n",
      "# Tuning hyper-parameters for accuracy\n",
      "\n",
      "Trial # 3\n",
      "Best parameters set found on development set:\n",
      "\n",
      "{'max_depth': 3}\n",
      "\n",
      "Grid scores on development set:\n",
      "\n",
      "0.803 (+/-0.219) for {'max_depth': 3}\n",
      "0.787 (+/-0.176) for {'max_depth': 5}\n",
      "0.803 (+/-0.168) for {'max_depth': 7}\n"
     ]
    }
   ],
   "source": [
    "SP3_Decision_Tree_Accuracies_DF=Decision_Tree_GRID_Search(DATASET, Parkinsons_OG_Data,\"target\", .2)"
   ]
  },
  {
   "cell_type": "code",
   "execution_count": 64,
   "metadata": {},
   "outputs": [
    {
     "name": "stdout",
     "output_type": "stream",
     "text": [
      "0.625\n"
     ]
    }
   ],
   "source": [
    "SP3_Decision_Tree_Accuracies_DF=Decision_Tree_TEST(DATASET,Parkinsons_OG_Data, train_, X_TV, y_TV, X_test, y_test, 5 , SP3_Decision_Tree_Accuracies_DF)"
   ]
  },
  {
   "cell_type": "markdown",
   "metadata": {},
   "source": [
    "#### Random Forest\n"
   ]
  },
  {
   "cell_type": "code",
   "execution_count": 65,
   "metadata": {},
   "outputs": [
    {
     "name": "stdout",
     "output_type": "stream",
     "text": [
      "Train: 80% Test: 20.0%\n",
      "Train/Validation dataset: (61, 29)  (61,)\n",
      "Test dataset: (16, 29)  (16,)\n",
      "# Tuning hyper-parameters for accuracy\n",
      "\n",
      "Trial # 1\n",
      "Best parameters set found on development set:\n",
      "\n",
      "{'max_depth': 7, 'n_estimators': 100}\n",
      "\n",
      "Grid scores on development set:\n",
      "\n",
      "0.836 (+/-0.038) for {'max_depth': 1, 'n_estimators': 10}\n",
      "0.836 (+/-0.038) for {'max_depth': 1, 'n_estimators': 50}\n",
      "0.836 (+/-0.038) for {'max_depth': 1, 'n_estimators': 100}\n",
      "0.852 (+/-0.136) for {'max_depth': 3, 'n_estimators': 10}\n",
      "0.918 (+/-0.120) for {'max_depth': 3, 'n_estimators': 50}\n",
      "0.902 (+/-0.081) for {'max_depth': 3, 'n_estimators': 100}\n",
      "0.869 (+/-0.128) for {'max_depth': 5, 'n_estimators': 10}\n",
      "0.918 (+/-0.045) for {'max_depth': 5, 'n_estimators': 50}\n",
      "0.918 (+/-0.045) for {'max_depth': 5, 'n_estimators': 100}\n",
      "0.869 (+/-0.096) for {'max_depth': 7, 'n_estimators': 10}\n",
      "0.918 (+/-0.045) for {'max_depth': 7, 'n_estimators': 50}\n",
      "0.951 (+/-0.081) for {'max_depth': 7, 'n_estimators': 100}\n",
      "0.869 (+/-0.044) for {'max_depth': 9, 'n_estimators': 10}\n",
      "0.902 (+/-0.076) for {'max_depth': 9, 'n_estimators': 50}\n",
      "0.902 (+/-0.076) for {'max_depth': 9, 'n_estimators': 100}\n",
      "# Tuning hyper-parameters for accuracy\n",
      "\n",
      "Trial # 2\n",
      "Best parameters set found on development set:\n",
      "\n",
      "{'max_depth': 9, 'n_estimators': 50}\n",
      "\n",
      "Grid scores on development set:\n",
      "\n",
      "0.836 (+/-0.038) for {'max_depth': 1, 'n_estimators': 10}\n",
      "0.836 (+/-0.038) for {'max_depth': 1, 'n_estimators': 50}\n",
      "0.836 (+/-0.038) for {'max_depth': 1, 'n_estimators': 100}\n",
      "0.852 (+/-0.154) for {'max_depth': 3, 'n_estimators': 10}\n",
      "0.869 (+/-0.086) for {'max_depth': 3, 'n_estimators': 50}\n",
      "0.902 (+/-0.005) for {'max_depth': 3, 'n_estimators': 100}\n",
      "0.902 (+/-0.076) for {'max_depth': 5, 'n_estimators': 10}\n",
      "0.885 (+/-0.117) for {'max_depth': 5, 'n_estimators': 50}\n",
      "0.902 (+/-0.005) for {'max_depth': 5, 'n_estimators': 100}\n",
      "0.902 (+/-0.156) for {'max_depth': 7, 'n_estimators': 10}\n",
      "0.918 (+/-0.045) for {'max_depth': 7, 'n_estimators': 50}\n",
      "0.918 (+/-0.045) for {'max_depth': 7, 'n_estimators': 100}\n",
      "0.836 (+/-0.128) for {'max_depth': 9, 'n_estimators': 10}\n",
      "0.934 (+/-0.092) for {'max_depth': 9, 'n_estimators': 50}\n",
      "0.902 (+/-0.076) for {'max_depth': 9, 'n_estimators': 100}\n",
      "# Tuning hyper-parameters for accuracy\n",
      "\n",
      "Trial # 3\n",
      "Best parameters set found on development set:\n",
      "\n",
      "{'max_depth': 7, 'n_estimators': 10}\n",
      "\n",
      "Grid scores on development set:\n",
      "\n",
      "0.836 (+/-0.038) for {'max_depth': 1, 'n_estimators': 10}\n",
      "0.836 (+/-0.038) for {'max_depth': 1, 'n_estimators': 50}\n",
      "0.836 (+/-0.038) for {'max_depth': 1, 'n_estimators': 100}\n",
      "0.918 (+/-0.169) for {'max_depth': 3, 'n_estimators': 10}\n",
      "0.918 (+/-0.050) for {'max_depth': 3, 'n_estimators': 50}\n",
      "0.902 (+/-0.076) for {'max_depth': 3, 'n_estimators': 100}\n",
      "0.885 (+/-0.167) for {'max_depth': 5, 'n_estimators': 10}\n",
      "0.918 (+/-0.123) for {'max_depth': 5, 'n_estimators': 50}\n",
      "0.918 (+/-0.120) for {'max_depth': 5, 'n_estimators': 100}\n",
      "0.934 (+/-0.048) for {'max_depth': 7, 'n_estimators': 10}\n",
      "0.902 (+/-0.076) for {'max_depth': 7, 'n_estimators': 50}\n",
      "0.918 (+/-0.120) for {'max_depth': 7, 'n_estimators': 100}\n",
      "0.885 (+/-0.167) for {'max_depth': 9, 'n_estimators': 10}\n",
      "0.902 (+/-0.005) for {'max_depth': 9, 'n_estimators': 50}\n",
      "0.918 (+/-0.045) for {'max_depth': 9, 'n_estimators': 100}\n"
     ]
    }
   ],
   "source": [
    "SP3_Random_Forest_Accuracies_DF=Random_Forest_GRID_Search(DATASET, Parkinsons_OG_Data, 'target', .2)"
   ]
  },
  {
   "cell_type": "code",
   "execution_count": 66,
   "metadata": {},
   "outputs": [
    {
     "name": "stdout",
     "output_type": "stream",
     "text": [
      "0.8125\n"
     ]
    }
   ],
   "source": [
    "SP3_Random_Forest_Accuracies_DF=Random_Forest_TEST(DATASET,X_TV, y_TV, X_test, y_test, 7, 100 , SP3_Random_Forest_Accuracies_DF)"
   ]
  },
  {
   "cell_type": "markdown",
   "metadata": {
    "collapsed": true
   },
   "source": [
    "# Export Results "
   ]
  },
  {
   "cell_type": "code",
   "execution_count": null,
   "metadata": {
    "collapsed": true
   },
   "outputs": [],
   "source": []
  },
  {
   "cell_type": "code",
   "execution_count": 67,
   "metadata": {},
   "outputs": [],
   "source": [
    "list_of_Data_Results=[SP1_SVM_Accuracies_DF,SP1_Decision_Tree_Accuracies_DF,SP1_Random_Forest_Accuracies_DF,\n",
    "                      SP2_SVM_Accuracies_DF,SP2_Decision_Tree_Accuracies_DF,SP2_Random_Forest_Accuracies_DF,\n",
    "                      SP3_SVM_Accuracies_DF,SP3_Decision_Tree_Accuracies_DF,SP3_Random_Forest_Accuracies_DF]\n",
    "\n",
    "RESULTS = pd.concat(list_of_Data_Results, axis=0, ignore_index=True)\n",
    "\n"
   ]
  },
  {
   "cell_type": "code",
   "execution_count": 68,
   "metadata": {},
   "outputs": [],
   "source": [
    "RESULTS.to_csv((str(DATASET)+'_results.csv'))"
   ]
  },
  {
   "cell_type": "markdown",
   "metadata": {},
   "source": [
    "\n",
    "\n",
    "\n",
    "\n",
    "\n",
    "\n",
    "\n",
    "\n",
    "\n",
    "\n",
    "# Comparision to Analysis Results from Shubham Ja Originally\n",
    "\n",
    "### Methods for preprocessing of the data was obtained through his work\n",
    "\n",
    "\n",
    "\n",
    "## Classification"
   ]
  },
  {
   "cell_type": "code",
   "execution_count": 69,
   "metadata": {},
   "outputs": [
    {
     "name": "stdout",
     "output_type": "stream",
     "text": [
      "train shape (72, 30)\n"
     ]
    }
   ],
   "source": [
    "pos=Parkinsons_OG_Data[Parkinsons_OG_Data['target']==1]\n",
    "neg=Parkinsons_OG_Data[Parkinsons_OG_Data['target']==0]\n",
    "\n",
    "train_pos=pos.head(pos.shape[0]-5)\n",
    "train_neg=neg.head(pos.shape[0]-5)\n",
    "train=pd.concat([train_pos, train_neg])\n",
    "print('train shape', train.shape)\n",
    "\n",
    "test_pos=pos.tail(5)\n",
    "test_neg=neg.tail(5)\n",
    "test=pd.concat([test_pos, test_neg])\n",
    "\n",
    "\n",
    "train_y=train['target']\n",
    "train_x=train.drop(['target'], axis=1)\n",
    "test_y=test['target']\n",
    "test_x=test.drop(['target'], axis=1)\n"
   ]
  },
  {
   "cell_type": "code",
   "execution_count": 70,
   "metadata": {
    "collapsed": true
   },
   "outputs": [],
   "source": [
    "def accuracy(prediction,actual):\n",
    "    correct = 0\n",
    "    not_correct = 0\n",
    "    for i in range(len(prediction)):\n",
    "        if prediction[i] == actual[i]:\n",
    "            correct+=1\n",
    "        else:\n",
    "            not_correct+=1\n",
    "    return (correct*100)/(correct+not_correct)\n",
    "\n",
    "\n",
    "def metrics(prediction,actual):\n",
    "    tp = 0\n",
    "    tn = 0\n",
    "    fp = 0\n",
    "    fn = 0\n",
    "    for i in range(len(prediction)):\n",
    "        if prediction[i] == actual[i] and actual[i]==1:\n",
    "            tp+=1\n",
    "        if prediction[i] == actual[i] and actual[i]==0:\n",
    "            tn+=1\n",
    "        if prediction[i] != actual[i] and actual[i]==0:\n",
    "            fp+=1\n",
    "        if prediction[i] != actual[i] and actual[i]==1:\n",
    "            fn+=1\n",
    "    metrics = {'Precision':(tp/(tp+fp+tn+fn)),'Recall':(tp/(tp+fn)),'F1':(2*(tp/(tp+fp+tn+fn))*(tp/(tp+fn)))/((tp/(tp+fp+tn+fn))+(tp/(tp+fn)))}\n",
    "    return (metrics)"
   ]
  },
  {
   "cell_type": "code",
   "execution_count": 71,
   "metadata": {
    "collapsed": true
   },
   "outputs": [],
   "source": [
    "from sklearn.linear_model import LogisticRegression\n",
    "from sklearn.ensemble import RandomForestClassifier\n",
    "from sklearn.svm import SVC\n",
    "from sklearn.tree import DecisionTreeClassifier\n",
    "from sklearn.neighbors import KNeighborsClassifier"
   ]
  },
  {
   "cell_type": "markdown",
   "metadata": {},
   "source": [
    "### Logistic Regression"
   ]
  },
  {
   "cell_type": "code",
   "execution_count": 72,
   "metadata": {},
   "outputs": [
    {
     "name": "stdout",
     "output_type": "stream",
     "text": [
      "accuracy: 70.0 %\n",
      "{'Precision': 0.5, 'Recall': 0.625, 'F1': 0.5555555555555556}\n"
     ]
    }
   ],
   "source": [
    "clf=LogisticRegression()\n",
    "clf.fit(train_x, train_y)\n",
    "preds=clf.predict(test_x)\n",
    "print('accuracy:',accuracy(test_y.tolist(), preds.tolist()), '%')\n",
    "print(metrics(test_y.tolist(), preds.tolist()))"
   ]
  },
  {
   "cell_type": "markdown",
   "metadata": {},
   "source": [
    "### Random Forest"
   ]
  },
  {
   "cell_type": "code",
   "execution_count": 73,
   "metadata": {},
   "outputs": [
    {
     "name": "stdout",
     "output_type": "stream",
     "text": [
      "accuracy: 100.0 %\n",
      "{'Precision': 0.5, 'Recall': 1.0, 'F1': 0.6666666666666666}\n"
     ]
    }
   ],
   "source": [
    "clf=RandomForestClassifier()\n",
    "clf.fit(train_x, train_y)\n",
    "preds=clf.predict(test_x)\n",
    "print('accuracy:',accuracy(test_y.tolist(), preds.tolist()), '%')\n",
    "print(metrics(test_y.tolist(), preds.tolist()))"
   ]
  },
  {
   "cell_type": "markdown",
   "metadata": {},
   "source": [
    "### Support Vector Machine"
   ]
  },
  {
   "cell_type": "code",
   "execution_count": 74,
   "metadata": {},
   "outputs": [
    {
     "name": "stdout",
     "output_type": "stream",
     "text": [
      "accuracy: 100.0 %\n",
      "{'Precision': 0.5, 'Recall': 1.0, 'F1': 0.6666666666666666}\n"
     ]
    }
   ],
   "source": [
    "clf=SVC()\n",
    "clf.fit(train_x, train_y)\n",
    "preds=clf.predict(test_x)\n",
    "print('accuracy:',accuracy(test_y.tolist(), preds.tolist()), '%')\n",
    "print(metrics(test_y.tolist(), preds.tolist()))"
   ]
  },
  {
   "cell_type": "markdown",
   "metadata": {},
   "source": [
    "### Decision Tree"
   ]
  },
  {
   "cell_type": "code",
   "execution_count": 75,
   "metadata": {},
   "outputs": [
    {
     "name": "stdout",
     "output_type": "stream",
     "text": [
      "accuracy: 100.0 %\n",
      "{'Precision': 0.5, 'Recall': 1.0, 'F1': 0.6666666666666666}\n"
     ]
    }
   ],
   "source": [
    "clf=DecisionTreeClassifier()\n",
    "clf.fit(train_x, train_y)\n",
    "preds=clf.predict(test_x)\n",
    "print('accuracy:',accuracy(test_y.tolist(), preds.tolist()), '%')\n",
    "print(metrics(test_y.tolist(), preds.tolist()))"
   ]
  },
  {
   "cell_type": "markdown",
   "metadata": {},
   "source": [
    "### K-Nearest Neighbors"
   ]
  },
  {
   "cell_type": "code",
   "execution_count": 76,
   "metadata": {},
   "outputs": [
    {
     "name": "stdout",
     "output_type": "stream",
     "text": [
      "accuracy: 60.0 %\n",
      "{'Precision': 0.4, 'Recall': 0.5714285714285714, 'F1': 0.47058823529411764}\n"
     ]
    }
   ],
   "source": [
    "clf=KNeighborsClassifier()\n",
    "clf.fit(train_x, train_y)\n",
    "preds=clf.predict(test_x)\n",
    "print('accuracy:',accuracy(test_y.tolist(), preds.tolist()), '%')\n",
    "print(metrics(test_y.tolist(), preds.tolist()))"
   ]
  },
  {
   "cell_type": "markdown",
   "metadata": {},
   "source": [
    "## Some Plots"
   ]
  },
  {
   "cell_type": "code",
   "execution_count": 77,
   "metadata": {
    "collapsed": true
   },
   "outputs": [],
   "source": [
    "def plot(f, plot_func, t_id=0, x=None, y=None):\n",
    "    global header_row\n",
    "    df=pd.read_csv(f, sep=';', header=None, names=header_row)\n",
    "    df=df[df[\"Test_ID\"]==t_id]\n",
    "    initial_timestamp=df['Timestamp'][0]\n",
    "    df['Timestamp']=df['Timestamp']- initial_timestamp\n",
    "    plot_func(data=df, x=x, y=y, fit_reg=False, scatter_kws={\"s\": 0.5})\n",
    "    print(metrics(test_y.tolist(), preds.tolist()))"
   ]
  },
  {
   "cell_type": "markdown",
   "metadata": {},
   "source": [
    "#### Pressure (Parkinsons)"
   ]
  },
  {
   "cell_type": "code",
   "execution_count": 78,
   "metadata": {
    "scrolled": true
   },
   "outputs": [
    {
     "name": "stdout",
     "output_type": "stream",
     "text": [
      "{'Precision': 0.4, 'Recall': 0.5714285714285714, 'F1': 0.47058823529411764}\n"
     ]
    },
    {
     "data": {
      "image/png": "[encoded data removed]",
      "text/plain": [
       "<matplotlib.figure.Figure at 0x225736640f0>"
      ]
     },
     "metadata": {},
     "output_type": "display_data"
    }
   ],
   "source": [
    "plot(f=parkinson_file_list[35],  plot_func=sns.regplot, t_id=0, x='Timestamp', y='Pressure')"
   ]
  },
  {
   "cell_type": "markdown",
   "metadata": {},
   "source": [
    "#### Pressure (Control)"
   ]
  },
  {
   "cell_type": "code",
   "execution_count": 79,
   "metadata": {
    "scrolled": false
   },
   "outputs": [
    {
     "name": "stdout",
     "output_type": "stream",
     "text": [
      "{'Precision': 0.4, 'Recall': 0.5714285714285714, 'F1': 0.47058823529411764}\n"
     ]
    },
    {
     "data": {
      "image/png": "[encoded data removed]",
      "text/plain": [
       "<matplotlib.figure.Figure at 0x225736640f0>"
      ]
     },
     "metadata": {},
     "output_type": "display_data"
    }
   ],
   "source": [
    "plot(control_file_list[1], plot_func=sns.regplot, t_id=0, x='Timestamp', y='Pressure')"
   ]
  },
  {
   "cell_type": "code",
   "execution_count": 80,
   "metadata": {},
   "outputs": [
    {
     "name": "stdout",
     "output_type": "stream",
     "text": [
      "{'Precision': 0.4, 'Recall': 0.5714285714285714, 'F1': 0.47058823529411764}\n"
     ]
    },
    {
     "data": {
      "image/png": "[encoded data removed]",
      "text/plain": [
       "<matplotlib.figure.Figure at 0x225736640f0>"
      ]
     },
     "metadata": {},
     "output_type": "display_data"
    }
   ],
   "source": [
    "plot(control_file_list[1], plot_func=sns.regplot, t_id=0, x='Timestamp', y='Pressure')"
   ]
  },
  {
   "cell_type": "code",
   "execution_count": null,
   "metadata": {
    "collapsed": true
   },
   "outputs": [],
   "source": []
  }
 ],
 "metadata": {
  "kernelspec": {
   "display_name": "Python 3",
   "language": "python",
   "name": "python3"
  },
  "language_info": {
   "codemirror_mode": {
    "name": "ipython",
    "version": 3
   },
   "file_extension": ".py",
   "mimetype": "text/x-python",
   "name": "python",
   "nbconvert_exporter": "python",
   "pygments_lexer": "ipython3",
   "version": "3.6.3"
  }
 },
 "nbformat": 4,
 "nbformat_minor": 2
}
