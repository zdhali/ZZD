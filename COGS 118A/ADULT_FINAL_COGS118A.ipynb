{
 "cells": [
  {
   "cell_type": "code",
   "execution_count": 1,
   "metadata": {},
   "outputs": [
    {
     "name": "stderr",
     "output_type": "stream",
     "text": [
      "C:\\Users\\zafri\\Anaconda2\\envs\\py36\\lib\\site-packages\\sklearn\\cross_validation.py:41: DeprecationWarning: This module was deprecated in version 0.18 in favor of the model_selection module into which all the refactored classes and functions are moved. Also note that the interface of the new CV iterators are different from that of this module. This module will be removed in 0.20.\n",
      "  \"This module will be removed in 0.20.\", DeprecationWarning)\n"
     ]
    }
   ],
   "source": [
    "import sklearn as skl\n",
    "import sklearn.preprocessing as preprocessing\n",
    "import sklearn.linear_model as linear_model\n",
    "import sklearn.cross_validation as cross_validation\n",
    "from sklearn.model_selection import train_test_split\n",
    "import sklearn.metrics as metrics\n",
    "import sklearn.tree as tree\n",
    "import graphviz \n",
    "import pydotplus\n",
    "\n",
    "from sklearn import model_selection\n",
    "from sklearn.metrics import accuracy_score"
   ]
  },
  {
   "cell_type": "code",
   "execution_count": 2,
   "metadata": {
    "collapsed": true
   },
   "outputs": [],
   "source": [
    "#FOR MODEL SELECTION\n",
    "from sklearn.linear_model import LogisticRegression\n",
    "from sklearn.ensemble import RandomForestClassifier\n",
    "from sklearn.neural_network import MLPClassifier\n",
    "from sklearn.naive_bayes import GaussianNB\n",
    "from sklearn.tree import DecisionTreeClassifier\n",
    "from sklearn.svm import SVC\n",
    "from sklearn import svm\n",
    "from sklearn.model_selection import GridSearchCV\n"
   ]
  },
  {
   "cell_type": "code",
   "execution_count": 3,
   "metadata": {
    "collapsed": true
   },
   "outputs": [],
   "source": [
    "import os\n",
    "import pandas as pd\n",
    "import numpy as np\n",
    "import math \n",
    "import statsmodels as sm\n",
    "import winsound\n",
    "\n",
    "import seaborn as sns\n",
    "import matplotlib.pyplot as plt\n",
    "%matplotlib inline"
   ]
  },
  {
   "cell_type": "markdown",
   "metadata": {},
   "source": [
    "# Locate Data"
   ]
  },
  {
   "cell_type": "code",
   "execution_count": 4,
   "metadata": {},
   "outputs": [
    {
     "name": "stdout",
     "output_type": "stream",
     "text": [
      "C:\\Users\\zafri\\Documents\\COGS 118A\\final\n"
     ]
    }
   ],
   "source": [
    "cwd=os.getcwd()\n",
    "print (cwd)\n"
   ]
  },
  {
   "cell_type": "code",
   "execution_count": 5,
   "metadata": {
    "collapsed": true
   },
   "outputs": [],
   "source": [
    "def data_locate(rel_path_to_input,a):\n",
    "    cwd = os.getcwd()\n",
    "    stem=cwd\n",
    "    for i in range(a):\n",
    "        stem=os.path.abspath(os.path.join(stem, '..'))\n",
    "    data_loc=os.path.join(stem , rel_path_to_input)\n",
    "    os.chdir(data_loc)\n",
    "    sub_files = os.listdir(data_loc)\n",
    "    print (\"Current Directory: \", cwd)\n",
    "    print (\"Data location: \" , data_loc)\n",
    "    print (sub_files)\n",
    "    return data_loc, sub_files"
   ]
  },
  {
   "cell_type": "code",
   "execution_count": 6,
   "metadata": {},
   "outputs": [
    {
     "name": "stdout",
     "output_type": "stream",
     "text": [
      "Current Directory:  C:\\Users\\zafri\\Documents\\COGS 118A\\final\n",
      "Data location:  C:\\Users\\zafri\\Documents\\COGS 118A\\final\\Datasets/Adult\n",
      "['adult.data.txt', 'adult.names.txt', 'adult.test.txt', 'EEG Eye State.txt', 'EEG_OG_Data', 'EEG_OG_Data_results.csv', 'EEG_OG_Data___20', 'EEG_OG_Data___20.pdf', 'EEG_OG_Data___50', 'EEG_OG_Data___50.pdf', 'EEG_OG_Data___80', 'EEG_OG_Data___80.pdf']\n"
     ]
    }
   ],
   "source": [
    "data_loc, sub_files=data_locate(\"Datasets/Adult\", 0)"
   ]
  },
  {
   "cell_type": "markdown",
   "metadata": {},
   "source": [
    "# EEG Eye State Data Set \n",
    "\n",
    "#### 1. Peek at Data"
   ]
  },
  {
   "cell_type": "code",
   "execution_count": 7,
   "metadata": {
    "collapsed": true
   },
   "outputs": [],
   "source": [
    "Adult_OG_Data = pd.read_csv(\n",
    "    \"adult.data.txt\",\n",
    "    names=[\n",
    "        \"Age\", \"Workclass\", \"fnlwgt\", \"Education\", \"Education-Num\", \"Martial Status\",\n",
    "        \"Occupation\", \"Relationship\", \"Race\", \"Sex\", \"Capital Gain\", \"Capital Loss\",\n",
    "        \"Hours per week\", \"Country\", \"Target\"],\n",
    "        sep=r'\\s*,\\s*',\n",
    "        engine='python',\n",
    "        na_values=\"?\")\n",
    "DATASET='Adult_OG_Data'"
   ]
  },
  {
   "cell_type": "code",
   "execution_count": 8,
   "metadata": {},
   "outputs": [
    {
     "data": {
      "text/html": [
       "<div>\n",
       "<style>\n",
       "    .dataframe thead tr:only-child th {\n",
       "        text-align: right;\n",
       "    }\n",
       "\n",
       "    .dataframe thead th {\n",
       "        text-align: left;\n",
       "    }\n",
       "\n",
       "    .dataframe tbody tr th {\n",
       "        vertical-align: top;\n",
       "    }\n",
       "</style>\n",
       "<table border=\"1\" class=\"dataframe\">\n",
       "  <thead>\n",
       "    <tr style=\"text-align: right;\">\n",
       "      <th></th>\n",
       "      <th>Age</th>\n",
       "      <th>Workclass</th>\n",
       "      <th>fnlwgt</th>\n",
       "      <th>Education</th>\n",
       "      <th>Education-Num</th>\n",
       "      <th>Martial Status</th>\n",
       "      <th>Occupation</th>\n",
       "      <th>Relationship</th>\n",
       "      <th>Race</th>\n",
       "      <th>Sex</th>\n",
       "      <th>Capital Gain</th>\n",
       "      <th>Capital Loss</th>\n",
       "      <th>Hours per week</th>\n",
       "      <th>Country</th>\n",
       "      <th>Target</th>\n",
       "    </tr>\n",
       "  </thead>\n",
       "  <tbody>\n",
       "    <tr>\n",
       "      <th>0</th>\n",
       "      <td>39</td>\n",
       "      <td>State-gov</td>\n",
       "      <td>77516</td>\n",
       "      <td>Bachelors</td>\n",
       "      <td>13</td>\n",
       "      <td>Never-married</td>\n",
       "      <td>Adm-clerical</td>\n",
       "      <td>Not-in-family</td>\n",
       "      <td>White</td>\n",
       "      <td>Male</td>\n",
       "      <td>2174</td>\n",
       "      <td>0</td>\n",
       "      <td>40</td>\n",
       "      <td>United-States</td>\n",
       "      <td>&lt;=50K</td>\n",
       "    </tr>\n",
       "    <tr>\n",
       "      <th>1</th>\n",
       "      <td>50</td>\n",
       "      <td>Self-emp-not-inc</td>\n",
       "      <td>83311</td>\n",
       "      <td>Bachelors</td>\n",
       "      <td>13</td>\n",
       "      <td>Married-civ-spouse</td>\n",
       "      <td>Exec-managerial</td>\n",
       "      <td>Husband</td>\n",
       "      <td>White</td>\n",
       "      <td>Male</td>\n",
       "      <td>0</td>\n",
       "      <td>0</td>\n",
       "      <td>13</td>\n",
       "      <td>United-States</td>\n",
       "      <td>&lt;=50K</td>\n",
       "    </tr>\n",
       "    <tr>\n",
       "      <th>2</th>\n",
       "      <td>38</td>\n",
       "      <td>Private</td>\n",
       "      <td>215646</td>\n",
       "      <td>HS-grad</td>\n",
       "      <td>9</td>\n",
       "      <td>Divorced</td>\n",
       "      <td>Handlers-cleaners</td>\n",
       "      <td>Not-in-family</td>\n",
       "      <td>White</td>\n",
       "      <td>Male</td>\n",
       "      <td>0</td>\n",
       "      <td>0</td>\n",
       "      <td>40</td>\n",
       "      <td>United-States</td>\n",
       "      <td>&lt;=50K</td>\n",
       "    </tr>\n",
       "    <tr>\n",
       "      <th>3</th>\n",
       "      <td>53</td>\n",
       "      <td>Private</td>\n",
       "      <td>234721</td>\n",
       "      <td>11th</td>\n",
       "      <td>7</td>\n",
       "      <td>Married-civ-spouse</td>\n",
       "      <td>Handlers-cleaners</td>\n",
       "      <td>Husband</td>\n",
       "      <td>Black</td>\n",
       "      <td>Male</td>\n",
       "      <td>0</td>\n",
       "      <td>0</td>\n",
       "      <td>40</td>\n",
       "      <td>United-States</td>\n",
       "      <td>&lt;=50K</td>\n",
       "    </tr>\n",
       "    <tr>\n",
       "      <th>4</th>\n",
       "      <td>28</td>\n",
       "      <td>Private</td>\n",
       "      <td>338409</td>\n",
       "      <td>Bachelors</td>\n",
       "      <td>13</td>\n",
       "      <td>Married-civ-spouse</td>\n",
       "      <td>Prof-specialty</td>\n",
       "      <td>Wife</td>\n",
       "      <td>Black</td>\n",
       "      <td>Female</td>\n",
       "      <td>0</td>\n",
       "      <td>0</td>\n",
       "      <td>40</td>\n",
       "      <td>Cuba</td>\n",
       "      <td>&lt;=50K</td>\n",
       "    </tr>\n",
       "  </tbody>\n",
       "</table>\n",
       "</div>"
      ],
      "text/plain": [
       "   Age         Workclass  fnlwgt  Education  Education-Num  \\\n",
       "0   39         State-gov   77516  Bachelors             13   \n",
       "1   50  Self-emp-not-inc   83311  Bachelors             13   \n",
       "2   38           Private  215646    HS-grad              9   \n",
       "3   53           Private  234721       11th              7   \n",
       "4   28           Private  338409  Bachelors             13   \n",
       "\n",
       "       Martial Status         Occupation   Relationship   Race     Sex  \\\n",
       "0       Never-married       Adm-clerical  Not-in-family  White    Male   \n",
       "1  Married-civ-spouse    Exec-managerial        Husband  White    Male   \n",
       "2            Divorced  Handlers-cleaners  Not-in-family  White    Male   \n",
       "3  Married-civ-spouse  Handlers-cleaners        Husband  Black    Male   \n",
       "4  Married-civ-spouse     Prof-specialty           Wife  Black  Female   \n",
       "\n",
       "   Capital Gain  Capital Loss  Hours per week        Country Target  \n",
       "0          2174             0              40  United-States  <=50K  \n",
       "1             0             0              13  United-States  <=50K  \n",
       "2             0             0              40  United-States  <=50K  \n",
       "3             0             0              40  United-States  <=50K  \n",
       "4             0             0              40           Cuba  <=50K  "
      ]
     },
     "execution_count": 8,
     "metadata": {},
     "output_type": "execute_result"
    }
   ],
   "source": [
    "\n",
    "Adult_OG_Data.head()"
   ]
  },
  {
   "cell_type": "code",
   "execution_count": 9,
   "metadata": {},
   "outputs": [
    {
     "data": {
      "image/png": "[encoded data removed]",
      "text/plain": [
       "<matplotlib.figure.Figure at 0x204500be978>"
      ]
     },
     "metadata": {},
     "output_type": "display_data"
    }
   ],
   "source": [
    "fig = plt.figure(figsize=(20,15))\n",
    "cols = 5\n",
    "rows = math.ceil(float(Adult_OG_Data.shape[1]) / cols)\n",
    "for i, column in enumerate(Adult_OG_Data.columns):\n",
    "    ax = fig.add_subplot(rows, cols, i + 1)\n",
    "    ax.set_title(column)\n",
    "    if Adult_OG_Data.dtypes[column] == np.object:\n",
    "        Adult_OG_Data[column].value_counts().plot(kind=\"bar\", axes=ax)\n",
    "    else:\n",
    "        Adult_OG_Data[column].hist(axes=ax)\n",
    "        plt.xticks(rotation=\"vertical\")\n",
    "plt.subplots_adjust(hspace=0.7, wspace=0.2)"
   ]
  },
  {
   "cell_type": "markdown",
   "metadata": {},
   "source": [
    "## Let's look at correlation between Occupation and Income"
   ]
  },
  {
   "cell_type": "code",
   "execution_count": 10,
   "metadata": {},
   "outputs": [
    {
     "data": {
      "text/plain": [
       "<matplotlib.axes._subplots.AxesSubplot at 0x204500da6d8>"
      ]
     },
     "execution_count": 10,
     "metadata": {},
     "output_type": "execute_result"
    },
    {
     "data": {
      "image/png": "[encoded data removed]",
      "text/plain": [
       "<matplotlib.figure.Figure at 0x20451244898>"
      ]
     },
     "metadata": {},
     "output_type": "display_data"
    }
   ],
   "source": [
    "sns.countplot(y='Occupation', hue='Target', data=Adult_OG_Data,)"
   ]
  },
  {
   "cell_type": "markdown",
   "metadata": {},
   "source": [
    "## Let's look at correlation between Hours Worked Per Week and Income\n",
    "\n",
    "\n",
    "<p> We see that how many hours people work a week is a normal distribution. However, on average those that work above the mean make above 50K while on the lower end of the distribution, more people make less than 50K</p>"
   ]
  },
  {
   "cell_type": "code",
   "execution_count": 11,
   "metadata": {},
   "outputs": [
    {
     "data": {
      "text/plain": [
       "<matplotlib.axes._subplots.AxesSubplot at 0x204513a7d30>"
      ]
     },
     "execution_count": 11,
     "metadata": {},
     "output_type": "execute_result"
    },
    {
     "data": {
      "image/png": "[encoded data removed]",
      "text/plain": [
       "<matplotlib.figure.Figure at 0x2044d6aabe0>"
      ]
     },
     "metadata": {},
     "output_type": "display_data"
    }
   ],
   "source": [
    "sns.countplot(y='Hours per week', hue='Target', data=Adult_OG_Data,)"
   ]
  },
  {
   "cell_type": "markdown",
   "metadata": {},
   "source": [
    "# Let's look at correlation across all variables\n"
   ]
  },
  {
   "cell_type": "code",
   "execution_count": 12,
   "metadata": {
    "collapsed": true
   },
   "outputs": [],
   "source": [
    "def plot_correlation(df, size=15):\n",
    "    corr= df.corr()\n",
    "    fig, ax =plt.subplots(figsize=(size,size))\n",
    "    cax=ax.matshow(corr, cmap='GnBu')\n",
    "    plt.xticks(range(len(corr.columns)),corr.columns)\n",
    "    plt.yticks(range(len(corr.columns)),corr.columns)\n",
    "    plt.colorbar(cax)\n",
    "    plt.show()"
   ]
  },
  {
   "cell_type": "code",
   "execution_count": 13,
   "metadata": {},
   "outputs": [
    {
     "data": {
      "image/png": "[encoded data removed]",
      "text/plain": [
       "<matplotlib.figure.Figure at 0x20450ecc470>"
      ]
     },
     "metadata": {},
     "output_type": "display_data"
    }
   ],
   "source": [
    "plot_correlation(Adult_OG_Data, size=15)"
   ]
  },
  {
   "cell_type": "markdown",
   "metadata": {},
   "source": [
    "#### Let's Clean up the data"
   ]
  },
  {
   "cell_type": "code",
   "execution_count": 14,
   "metadata": {},
   "outputs": [
    {
     "name": "stdout",
     "output_type": "stream",
     "text": [
      "Number of Samples in Original Dataset: 32561\n",
      "Number of Samples after removal of NAN values: 30162\n"
     ]
    }
   ],
   "source": [
    "NAN_index_list=Adult_OG_Data[Adult_OG_Data.isnull().any(axis=1)].index\n",
    "print(\"Number of Samples in Original Dataset: %s\" % len(Adult_OG_Data))\n",
    "Adult_OG_Data=Adult_OG_Data.drop(NAN_index_list, axis=0)\n",
    "print(\"Number of Samples after removal of NAN values: %s\" % len(Adult_OG_Data))\n"
   ]
  },
  {
   "cell_type": "code",
   "execution_count": 15,
   "metadata": {
    "collapsed": true
   },
   "outputs": [],
   "source": [
    "#Dropping Education\n",
    "#Redundant: Also included in Education_num\n",
    "Adult_OG_Data=Adult_OG_Data.drop(\"Education\", axis=1)\n"
   ]
  },
  {
   "cell_type": "code",
   "execution_count": 16,
   "metadata": {},
   "outputs": [
    {
     "data": {
      "text/html": [
       "<div>\n",
       "<style>\n",
       "    .dataframe thead tr:only-child th {\n",
       "        text-align: right;\n",
       "    }\n",
       "\n",
       "    .dataframe thead th {\n",
       "        text-align: left;\n",
       "    }\n",
       "\n",
       "    .dataframe tbody tr th {\n",
       "        vertical-align: top;\n",
       "    }\n",
       "</style>\n",
       "<table border=\"1\" class=\"dataframe\">\n",
       "  <thead>\n",
       "    <tr style=\"text-align: right;\">\n",
       "      <th></th>\n",
       "      <th>Age</th>\n",
       "      <th>Workclass</th>\n",
       "      <th>fnlwgt</th>\n",
       "      <th>Education-Num</th>\n",
       "      <th>Martial Status</th>\n",
       "      <th>Occupation</th>\n",
       "      <th>Relationship</th>\n",
       "      <th>Race</th>\n",
       "      <th>Sex</th>\n",
       "      <th>Capital Gain</th>\n",
       "      <th>Capital Loss</th>\n",
       "      <th>Hours per week</th>\n",
       "      <th>Country</th>\n",
       "      <th>Target</th>\n",
       "    </tr>\n",
       "  </thead>\n",
       "  <tbody>\n",
       "    <tr>\n",
       "      <th>0</th>\n",
       "      <td>39</td>\n",
       "      <td>State-gov</td>\n",
       "      <td>77516</td>\n",
       "      <td>13</td>\n",
       "      <td>Never-married</td>\n",
       "      <td>Adm-clerical</td>\n",
       "      <td>Not-in-family</td>\n",
       "      <td>White</td>\n",
       "      <td>Male</td>\n",
       "      <td>2174</td>\n",
       "      <td>0</td>\n",
       "      <td>40</td>\n",
       "      <td>United-States</td>\n",
       "      <td>&lt;=50K</td>\n",
       "    </tr>\n",
       "    <tr>\n",
       "      <th>1</th>\n",
       "      <td>50</td>\n",
       "      <td>Self-emp-not-inc</td>\n",
       "      <td>83311</td>\n",
       "      <td>13</td>\n",
       "      <td>Married-civ-spouse</td>\n",
       "      <td>Exec-managerial</td>\n",
       "      <td>Husband</td>\n",
       "      <td>White</td>\n",
       "      <td>Male</td>\n",
       "      <td>0</td>\n",
       "      <td>0</td>\n",
       "      <td>13</td>\n",
       "      <td>United-States</td>\n",
       "      <td>&lt;=50K</td>\n",
       "    </tr>\n",
       "    <tr>\n",
       "      <th>2</th>\n",
       "      <td>38</td>\n",
       "      <td>Private</td>\n",
       "      <td>215646</td>\n",
       "      <td>9</td>\n",
       "      <td>Divorced</td>\n",
       "      <td>Handlers-cleaners</td>\n",
       "      <td>Not-in-family</td>\n",
       "      <td>White</td>\n",
       "      <td>Male</td>\n",
       "      <td>0</td>\n",
       "      <td>0</td>\n",
       "      <td>40</td>\n",
       "      <td>United-States</td>\n",
       "      <td>&lt;=50K</td>\n",
       "    </tr>\n",
       "    <tr>\n",
       "      <th>3</th>\n",
       "      <td>53</td>\n",
       "      <td>Private</td>\n",
       "      <td>234721</td>\n",
       "      <td>7</td>\n",
       "      <td>Married-civ-spouse</td>\n",
       "      <td>Handlers-cleaners</td>\n",
       "      <td>Husband</td>\n",
       "      <td>Black</td>\n",
       "      <td>Male</td>\n",
       "      <td>0</td>\n",
       "      <td>0</td>\n",
       "      <td>40</td>\n",
       "      <td>United-States</td>\n",
       "      <td>&lt;=50K</td>\n",
       "    </tr>\n",
       "    <tr>\n",
       "      <th>4</th>\n",
       "      <td>28</td>\n",
       "      <td>Private</td>\n",
       "      <td>338409</td>\n",
       "      <td>13</td>\n",
       "      <td>Married-civ-spouse</td>\n",
       "      <td>Prof-specialty</td>\n",
       "      <td>Wife</td>\n",
       "      <td>Black</td>\n",
       "      <td>Female</td>\n",
       "      <td>0</td>\n",
       "      <td>0</td>\n",
       "      <td>40</td>\n",
       "      <td>Cuba</td>\n",
       "      <td>&lt;=50K</td>\n",
       "    </tr>\n",
       "  </tbody>\n",
       "</table>\n",
       "</div>"
      ],
      "text/plain": [
       "   Age         Workclass  fnlwgt  Education-Num      Martial Status  \\\n",
       "0   39         State-gov   77516             13       Never-married   \n",
       "1   50  Self-emp-not-inc   83311             13  Married-civ-spouse   \n",
       "2   38           Private  215646              9            Divorced   \n",
       "3   53           Private  234721              7  Married-civ-spouse   \n",
       "4   28           Private  338409             13  Married-civ-spouse   \n",
       "\n",
       "          Occupation   Relationship   Race     Sex  Capital Gain  \\\n",
       "0       Adm-clerical  Not-in-family  White    Male          2174   \n",
       "1    Exec-managerial        Husband  White    Male             0   \n",
       "2  Handlers-cleaners  Not-in-family  White    Male             0   \n",
       "3  Handlers-cleaners        Husband  Black    Male             0   \n",
       "4     Prof-specialty           Wife  Black  Female             0   \n",
       "\n",
       "   Capital Loss  Hours per week        Country Target  \n",
       "0             0              40  United-States  <=50K  \n",
       "1             0              13  United-States  <=50K  \n",
       "2             0              40  United-States  <=50K  \n",
       "3             0              40  United-States  <=50K  \n",
       "4             0              40           Cuba  <=50K  "
      ]
     },
     "execution_count": 16,
     "metadata": {},
     "output_type": "execute_result"
    }
   ],
   "source": [
    "Adult_OG_Data.head()"
   ]
  },
  {
   "cell_type": "code",
   "execution_count": 17,
   "metadata": {},
   "outputs": [
    {
     "name": "stdout",
     "output_type": "stream",
     "text": [
      "(30162, 14)\n"
     ]
    }
   ],
   "source": [
    "print (Adult_OG_Data.shape)"
   ]
  },
  {
   "cell_type": "markdown",
   "metadata": {},
   "source": [
    "# Let's change all our string labels to numerical labels"
   ]
  },
  {
   "cell_type": "code",
   "execution_count": 18,
   "metadata": {
    "collapsed": true
   },
   "outputs": [],
   "source": [
    "def re_label_data(df, col_list):\n",
    "    dict_of_label_dict={}\n",
    "    label_dict={}\n",
    "    for i in col_list:\n",
    "        label_names=df[str(i)].unique()\n",
    "        for j in range(len(label_names)):\n",
    "            label_dict[label_names[j]] = j\n",
    "        dict_of_label_dict[i]=label_dict\n",
    "    \n",
    "    \n",
    "    df.replace(dict_of_label_dict, inplace=True)\n",
    "\n",
    "    return dict_of_label_dict, df\n"
   ]
  },
  {
   "cell_type": "code",
   "execution_count": 19,
   "metadata": {},
   "outputs": [
    {
     "data": {
      "text/html": [
       "<div>\n",
       "<style>\n",
       "    .dataframe thead tr:only-child th {\n",
       "        text-align: right;\n",
       "    }\n",
       "\n",
       "    .dataframe thead th {\n",
       "        text-align: left;\n",
       "    }\n",
       "\n",
       "    .dataframe tbody tr th {\n",
       "        vertical-align: top;\n",
       "    }\n",
       "</style>\n",
       "<table border=\"1\" class=\"dataframe\">\n",
       "  <thead>\n",
       "    <tr style=\"text-align: right;\">\n",
       "      <th></th>\n",
       "      <th>Age</th>\n",
       "      <th>Workclass</th>\n",
       "      <th>fnlwgt</th>\n",
       "      <th>Education-Num</th>\n",
       "      <th>Martial Status</th>\n",
       "      <th>Occupation</th>\n",
       "      <th>Relationship</th>\n",
       "      <th>Race</th>\n",
       "      <th>Sex</th>\n",
       "      <th>Capital Gain</th>\n",
       "      <th>Capital Loss</th>\n",
       "      <th>Hours per week</th>\n",
       "      <th>Country</th>\n",
       "      <th>Target</th>\n",
       "    </tr>\n",
       "  </thead>\n",
       "  <tbody>\n",
       "    <tr>\n",
       "      <th>0</th>\n",
       "      <td>39</td>\n",
       "      <td>0</td>\n",
       "      <td>77516</td>\n",
       "      <td>13</td>\n",
       "      <td>0</td>\n",
       "      <td>0</td>\n",
       "      <td>0</td>\n",
       "      <td>0</td>\n",
       "      <td>0</td>\n",
       "      <td>2174</td>\n",
       "      <td>0</td>\n",
       "      <td>40</td>\n",
       "      <td>0</td>\n",
       "      <td>0</td>\n",
       "    </tr>\n",
       "    <tr>\n",
       "      <th>1</th>\n",
       "      <td>50</td>\n",
       "      <td>1</td>\n",
       "      <td>83311</td>\n",
       "      <td>13</td>\n",
       "      <td>1</td>\n",
       "      <td>1</td>\n",
       "      <td>1</td>\n",
       "      <td>0</td>\n",
       "      <td>0</td>\n",
       "      <td>0</td>\n",
       "      <td>0</td>\n",
       "      <td>13</td>\n",
       "      <td>0</td>\n",
       "      <td>0</td>\n",
       "    </tr>\n",
       "    <tr>\n",
       "      <th>2</th>\n",
       "      <td>38</td>\n",
       "      <td>2</td>\n",
       "      <td>215646</td>\n",
       "      <td>9</td>\n",
       "      <td>2</td>\n",
       "      <td>2</td>\n",
       "      <td>0</td>\n",
       "      <td>0</td>\n",
       "      <td>0</td>\n",
       "      <td>0</td>\n",
       "      <td>0</td>\n",
       "      <td>40</td>\n",
       "      <td>0</td>\n",
       "      <td>0</td>\n",
       "    </tr>\n",
       "    <tr>\n",
       "      <th>3</th>\n",
       "      <td>53</td>\n",
       "      <td>2</td>\n",
       "      <td>234721</td>\n",
       "      <td>7</td>\n",
       "      <td>1</td>\n",
       "      <td>2</td>\n",
       "      <td>1</td>\n",
       "      <td>1</td>\n",
       "      <td>0</td>\n",
       "      <td>0</td>\n",
       "      <td>0</td>\n",
       "      <td>40</td>\n",
       "      <td>0</td>\n",
       "      <td>0</td>\n",
       "    </tr>\n",
       "    <tr>\n",
       "      <th>4</th>\n",
       "      <td>28</td>\n",
       "      <td>2</td>\n",
       "      <td>338409</td>\n",
       "      <td>13</td>\n",
       "      <td>1</td>\n",
       "      <td>3</td>\n",
       "      <td>2</td>\n",
       "      <td>1</td>\n",
       "      <td>1</td>\n",
       "      <td>0</td>\n",
       "      <td>0</td>\n",
       "      <td>40</td>\n",
       "      <td>1</td>\n",
       "      <td>0</td>\n",
       "    </tr>\n",
       "  </tbody>\n",
       "</table>\n",
       "</div>"
      ],
      "text/plain": [
       "   Age  Workclass  fnlwgt  Education-Num  Martial Status  Occupation  \\\n",
       "0   39          0   77516             13               0           0   \n",
       "1   50          1   83311             13               1           1   \n",
       "2   38          2  215646              9               2           2   \n",
       "3   53          2  234721              7               1           2   \n",
       "4   28          2  338409             13               1           3   \n",
       "\n",
       "   Relationship  Race  Sex  Capital Gain  Capital Loss  Hours per week  \\\n",
       "0             0     0    0          2174             0              40   \n",
       "1             1     0    0             0             0              13   \n",
       "2             0     0    0             0             0              40   \n",
       "3             1     1    0             0             0              40   \n",
       "4             2     1    1             0             0              40   \n",
       "\n",
       "   Country  Target  \n",
       "0        0       0  \n",
       "1        0       0  \n",
       "2        0       0  \n",
       "3        0       0  \n",
       "4        1       0  "
      ]
     },
     "execution_count": 19,
     "metadata": {},
     "output_type": "execute_result"
    }
   ],
   "source": [
    "re_label_data(Adult_OG_Data, [\"Workclass\",\"Martial Status\",\"Occupation\", \"Relationship\", \"Race\", \"Sex\",  \"Country\", \"Target\"])\n",
    "Adult_OG_Data.head()"
   ]
  },
  {
   "cell_type": "markdown",
   "metadata": {},
   "source": [
    "#### Average Single or Married based\n",
    "closer to 1: more >50k <br>\n",
    "closer to 0: more <50k"
   ]
  },
  {
   "cell_type": "code",
   "execution_count": 20,
   "metadata": {},
   "outputs": [
    {
     "data": {
      "text/html": [
       "<div>\n",
       "<style>\n",
       "    .dataframe thead tr:only-child th {\n",
       "        text-align: right;\n",
       "    }\n",
       "\n",
       "    .dataframe thead th {\n",
       "        text-align: left;\n",
       "    }\n",
       "\n",
       "    .dataframe tbody tr th {\n",
       "        vertical-align: top;\n",
       "    }\n",
       "</style>\n",
       "<table border=\"1\" class=\"dataframe\">\n",
       "  <thead>\n",
       "    <tr style=\"text-align: right;\">\n",
       "      <th></th>\n",
       "      <th>Target</th>\n",
       "    </tr>\n",
       "    <tr>\n",
       "      <th>Martial Status</th>\n",
       "      <th></th>\n",
       "    </tr>\n",
       "  </thead>\n",
       "  <tbody>\n",
       "    <tr>\n",
       "      <th>0</th>\n",
       "      <td>0.048324</td>\n",
       "    </tr>\n",
       "    <tr>\n",
       "      <th>1</th>\n",
       "      <td>0.454959</td>\n",
       "    </tr>\n",
       "    <tr>\n",
       "      <th>2</th>\n",
       "      <td>0.107262</td>\n",
       "    </tr>\n",
       "    <tr>\n",
       "      <th>3</th>\n",
       "      <td>0.083784</td>\n",
       "    </tr>\n",
       "    <tr>\n",
       "      <th>4</th>\n",
       "      <td>0.070288</td>\n",
       "    </tr>\n",
       "    <tr>\n",
       "      <th>5</th>\n",
       "      <td>0.476190</td>\n",
       "    </tr>\n",
       "    <tr>\n",
       "      <th>6</th>\n",
       "      <td>0.096735</td>\n",
       "    </tr>\n",
       "  </tbody>\n",
       "</table>\n",
       "</div>"
      ],
      "text/plain": [
       "                  Target\n",
       "Martial Status          \n",
       "0               0.048324\n",
       "1               0.454959\n",
       "2               0.107262\n",
       "3               0.083784\n",
       "4               0.070288\n",
       "5               0.476190\n",
       "6               0.096735"
      ]
     },
     "execution_count": 20,
     "metadata": {},
     "output_type": "execute_result"
    }
   ],
   "source": [
    "Adult_OG_Data[['Martial Status','Target']].groupby(['Martial Status']).mean()"
   ]
  },
  {
   "cell_type": "markdown",
   "metadata": {},
   "source": [
    "#### Average years of education for each Target Class"
   ]
  },
  {
   "cell_type": "code",
   "execution_count": 21,
   "metadata": {},
   "outputs": [
    {
     "data": {
      "text/html": [
       "<div>\n",
       "<style>\n",
       "    .dataframe thead tr:only-child th {\n",
       "        text-align: right;\n",
       "    }\n",
       "\n",
       "    .dataframe thead th {\n",
       "        text-align: left;\n",
       "    }\n",
       "\n",
       "    .dataframe tbody tr th {\n",
       "        vertical-align: top;\n",
       "    }\n",
       "</style>\n",
       "<table border=\"1\" class=\"dataframe\">\n",
       "  <thead>\n",
       "    <tr style=\"text-align: right;\">\n",
       "      <th></th>\n",
       "      <th>Education-Num</th>\n",
       "    </tr>\n",
       "    <tr>\n",
       "      <th>Target</th>\n",
       "      <th></th>\n",
       "    </tr>\n",
       "  </thead>\n",
       "  <tbody>\n",
       "    <tr>\n",
       "      <th>0</th>\n",
       "      <td>9.629116</td>\n",
       "    </tr>\n",
       "    <tr>\n",
       "      <th>1</th>\n",
       "      <td>11.606420</td>\n",
       "    </tr>\n",
       "  </tbody>\n",
       "</table>\n",
       "</div>"
      ],
      "text/plain": [
       "        Education-Num\n",
       "Target               \n",
       "0            9.629116\n",
       "1           11.606420"
      ]
     },
     "execution_count": 21,
     "metadata": {},
     "output_type": "execute_result"
    }
   ],
   "source": [
    "Adult_OG_Data[['Education-Num','Target']].groupby([\"Target\"]).mean()"
   ]
  },
  {
   "cell_type": "markdown",
   "metadata": {},
   "source": [
    "##### My computer was not powerful enough to complete the analysis on the complete dataset. As such, I have sampled 5000 points from the entire dataset to run the algorithm on as done by Caruana and Niculescu-Mizil.\n",
    "\n",
    "## Sample\n"
   ]
  },
  {
   "cell_type": "code",
   "execution_count": 22,
   "metadata": {
    "collapsed": true
   },
   "outputs": [],
   "source": [
    "Adult_OG_Data=Adult_OG_Data.sample(n=1000, random_state=4)"
   ]
  },
  {
   "cell_type": "code",
   "execution_count": 23,
   "metadata": {},
   "outputs": [
    {
     "data": {
      "text/plain": [
       "(1000, 14)"
      ]
     },
     "execution_count": 23,
     "metadata": {},
     "output_type": "execute_result"
    }
   ],
   "source": [
    "Adult_OG_Data.shape"
   ]
  },
  {
   "cell_type": "code",
   "execution_count": 24,
   "metadata": {},
   "outputs": [
    {
     "data": {
      "image/png": "[encoded data removed]",
      "text/plain": [
       "<matplotlib.figure.Figure at 0x2045101ca90>"
      ]
     },
     "metadata": {},
     "output_type": "display_data"
    }
   ],
   "source": [
    "fig = plt.figure(figsize=(20,15))\n",
    "cols = 5\n",
    "rows = math.ceil(float(Adult_OG_Data.shape[1]) / cols)\n",
    "for i, column in enumerate(Adult_OG_Data.columns):\n",
    "    ax = fig.add_subplot(rows, cols, i + 1)\n",
    "    ax.set_title(column)\n",
    "    if Adult_OG_Data.dtypes[column] == np.object:\n",
    "        Adult_OG_Data[column].value_counts().plot(kind=\"bar\", axes=ax)\n",
    "    else:\n",
    "        Adult_OG_Data[column].hist(axes=ax)\n",
    "        plt.xticks(rotation=\"vertical\")\n",
    "plt.subplots_adjust(hspace=0.7, wspace=0.2)"
   ]
  },
  {
   "cell_type": "markdown",
   "metadata": {},
   "source": [
    "_____________________________________________________________________________________________________________\n",
    "# Functions\n",
    "_____________________________________________________________________________________________________________"
   ]
  },
  {
   "cell_type": "code",
   "execution_count": 25,
   "metadata": {
    "collapsed": true
   },
   "outputs": [],
   "source": [
    "#SPLIT DATA INTO TEST AND TRAINVAL\n",
    "def split_Data_TV_Test(df,class_col, test_):\n",
    "    X= df.drop([str(class_col)],axis=1)\n",
    "    Y=df[str(class_col)]\n",
    "    \n",
    "    test_split_size=test_\n",
    "    #Creation of Train and Test dataset\n",
    "    X_TV, X_test, y_TV, y_test = train_test_split(X,Y,test_size=test_split_size,random_state=22)\n",
    "    train_=round((1-test_)*100)\n",
    "    print (\"Train: {0}% Test: {1}%\".format(train_,(test_*100)))\n",
    "    print (\"Train/Validation dataset: {0}  {1}\".format(X_TV.shape, y_TV.shape))\n",
    "    print (\"Test dataset: {0}  {1}\".format(X_test.shape, y_test.shape))\n",
    "    return X_TV, X_test, y_TV, y_test, train_"
   ]
  },
  {
   "cell_type": "code",
   "execution_count": 26,
   "metadata": {
    "collapsed": true
   },
   "outputs": [],
   "source": [
    "#SPLIT DATA INTO TRAIN AND VAL\n",
    "def split_Data_T_V_(X_tv, y_tv, val_):\n",
    "    val_split_size=val_\n",
    "    #Creation of Train and Test dataset\n",
    "    X_Tr, X_val, y_Tr, y_val = train_test_split(X_tv,y_tv,test_size=val_split_size,random_state=22)\n",
    "   \n",
    "    print (\"Train: {0}% Validation: {1}%\".format(round((1-val_)*100),(val_*100)))\n",
    "    print (\"Train dataset: {0}  {1}\".format(X_Tr.shape, y_Tr.shape))\n",
    "    print (\"Validation dataset: {0}  {1}\".format(X_val.shape, y_val.shape))\n",
    "\n",
    "    return X_Tr, X_val, y_Tr, y_val"
   ]
  },
  {
   "cell_type": "code",
   "execution_count": 27,
   "metadata": {
    "collapsed": true
   },
   "outputs": [],
   "source": [
    "def Model_Selection(X_TV, y_TV, val_):\n",
    "    models = []\n",
    "    names = ['LR','Random Forest','Neural Network','GaussianNB','DecisionTreeClassifier','SVM',]\n",
    "\n",
    "    models.append((LogisticRegression()))\n",
    "    models.append((RandomForestClassifier(n_estimators=100)))\n",
    "    models.append((MLPClassifier()))\n",
    "    models.append((GaussianNB()))\n",
    "    models.append((DecisionTreeClassifier()))\n",
    "    models.append((SVC()))\n",
    "\n",
    "\n",
    "\n",
    "\n",
    "    X_Tr, X_val, y_Tr, y_val=split_Data_T_V_(X_TV, y_TV, val_)\n",
    "    rand_ints=[35,56,82]\n",
    "    for r in range(len(rand_ints)):\n",
    "        kfold = model_selection.KFold(n_splits=5,random_state=rand_ints[r])\n",
    "        print ('-'*40)\n",
    "        print ('Random kfold selection #{0}'.format(r+1))\n",
    "\n",
    "        for i in range(0,len(models)):    \n",
    "            cv_result = model_selection.cross_val_score(models[i],X_Tr,y_Tr,cv=kfold,scoring='accuracy')\n",
    "            score=models[i].fit(X_Tr,y_Tr)\n",
    "            prediction = models[i].predict(X_val)\n",
    "            acc_score = accuracy_score(y_val,prediction)     \n",
    "        \n",
    "            print ('{0}: {1}'.format(names[i],acc_score))\n",
    "\n",
    "    duration = 1000  # millisecond\n",
    "    freq = 500  # Hz\n",
    "    winsound.Beep(freq, duration)"
   ]
  },
  {
   "cell_type": "code",
   "execution_count": 28,
   "metadata": {
    "collapsed": true
   },
   "outputs": [],
   "source": [
    "def Linear_SVM_GRID_Search(DATASET, df,class_col, test_):\n",
    "    X_TV, X_test, y_TV, y_test, train_ =split_Data_TV_Test(df,class_col, test_)\n",
    "    #3 Trials\n",
    "    tuned_parameters = [{'kernel': ['linear'],'C': [10**-3,10**-1,1,10,100]},\n",
    "                        {'kernel': ['linear'],'C': [10**-3,10**-1,1,10,100]},\n",
    "                        {'kernel': ['linear'],'C': [10**-3,10**-1,1,10,100]}]\n",
    "    #Accuracy optimized\n",
    "    #Cross Validation=3\n",
    "    scores = 'accuracy'\n",
    "    c=0\n",
    "    data_all=[]\n",
    "    for parameter in tuned_parameters:\n",
    "        print(\"# Tuning hyper-parameters for %s\" % scores)\n",
    "        print()\n",
    "\n",
    "        clf = GridSearchCV(svm.SVC(), parameter, cv=3,scoring=scores)\n",
    "        clf.fit(X_TV, y_TV)\n",
    "        c+=1\n",
    "    \n",
    "    \n",
    "        print(\"Trial # {0}\".format(c))\n",
    "        print(\"Best parameters set found on development set:\")\n",
    "        print()\n",
    "        print(clf.best_params_)\n",
    "        print()\n",
    "        print(\"Grid scores on development set:\")\n",
    "        print()\n",
    "        means = clf.cv_results_['mean_test_score']\n",
    "        stds = clf.cv_results_['std_test_score']\n",
    "        \n",
    "        #write data to a CSV \n",
    "        #outputs \n",
    "        \n",
    "        # DF | Train % | Test % \n",
    "        row1=[DATASET, train_, test_ ]\n",
    "        #TV | Len(X_TV) | Len(y_TV)\n",
    "        row2=[ \"Training/Validation\", \"#TV Feature Samples\", \"#TV Class Labels\"]\n",
    "        row3=[ \"\",X_TV.shape, y_TV.shape ]\n",
    "\n",
    "        #Test | Len(X_Test) | Len(y_Test)\n",
    "        row4=[ \"Test\", \"#Test Feature Samples\", \"#Test Class Labels\"]\n",
    "        row5=[ \"\",X_test.shape, y_test.shape ]\n",
    "        #Trial #         #Best Parameter: \n",
    "        row6=['Trial/ Best Parameter', c, clf.best_params_]\n",
    "        #Grid Scores=\n",
    "        \n",
    "        Grid_of_scores=[]\n",
    "        row7=[\"Training Accuracies\",\"_\",\"_\"]\n",
    "        row8=[\"Mean\", \"Standard Deviation\", \"Parameter\"]\n",
    "        for mean, std, params in zip(means, stds, clf.cv_results_['params']):\n",
    "            print(\"%0.3f (+/-%0.03f) for %r\"% (mean, std * 2, params))\n",
    "            Grid_of_scores.append([mean, std * 2, params])\n",
    "        \n",
    "        data=[row1, row2, row3, row4,row5, row6, row7, row8]\n",
    "        for i in data:\n",
    "            data_all.append(i)\n",
    "        for i in Grid_of_scores:\n",
    "            data_all.append(i) \n",
    "            \n",
    "        #SAVE RESULTS\n",
    "    output=pd.DataFrame(data=data_all)\n",
    "        \n",
    "    return output"
   ]
  },
  {
   "cell_type": "code",
   "execution_count": 29,
   "metadata": {
    "collapsed": true
   },
   "outputs": [],
   "source": [
    "def Linear_SVM_TEST(DATASET,X_TV, y_TV, X_test, y_test, best_param, Accuracies_DF):\n",
    "    clf =svm.SVC(kernel='linear', C=best_param)\n",
    "    clf.fit(X_TV, y_TV)\n",
    "    y_pred=clf.predict(X_test)\n",
    "    Test_accuracy=(accuracy_score(y_test, y_pred, normalize=False))/(len(y_test))\n",
    "    print (Test_accuracy)\n",
    "    num=[len(Accuracies_DF)]\n",
    "    df3 = pd.DataFrame({0: \"Test Accuracy\",\n",
    "                        1: Test_accuracy , \n",
    "                        2: \"_____________\"}, index=[num])\n",
    "    \n",
    "    \n",
    "    Accuracies_DF=Accuracies_DF.append(df3)\n",
    "    return Accuracies_DF"
   ]
  },
  {
   "cell_type": "code",
   "execution_count": 30,
   "metadata": {
    "collapsed": true
   },
   "outputs": [],
   "source": [
    "def Decision_Tree_GRID_Search(DATASET, df,class_col, test_):\n",
    "    X_TV, X_test, y_TV, y_test, train_ =split_Data_TV_Test(df,class_col, test_)\n",
    "    #3 Trials\n",
    "    tuned_parameters = [{'max_depth': (3, 5, 7)},\n",
    "                        {'max_depth': (3, 5, 7)},\n",
    "                        {'max_depth': (3, 5, 7)}]\n",
    "    \n",
    "    #Accuracy optimized\n",
    "    #Cross Validation=3\n",
    "    scores = 'accuracy'\n",
    "    c=0\n",
    "    data_all=[]\n",
    "    for parameter in tuned_parameters:\n",
    "        print(\"# Tuning hyper-parameters for %s\" % scores)\n",
    "        print()\n",
    "\n",
    "        clf = GridSearchCV(tree.DecisionTreeClassifier(), parameter, cv=3,scoring=scores)\n",
    "        clf.fit(X_TV, y_TV)\n",
    "        c+=1\n",
    "    \n",
    "    \n",
    "        print(\"Trial # {0}\".format(c))\n",
    "        print(\"Best parameters set found on development set:\")\n",
    "        print()\n",
    "        print(clf.best_params_)\n",
    "        print()\n",
    "        print(\"Grid scores on development set:\")\n",
    "        print()\n",
    "        means = clf.cv_results_['mean_test_score']\n",
    "        stds = clf.cv_results_['std_test_score']\n",
    "        \n",
    "         #write data to a CSV \n",
    "        #outputs \n",
    "        \n",
    "        # DF | Train % | Test % \n",
    "        row1=[DATASET, train_, test_ ]\n",
    "        #TV | Len(X_TV) | Len(y_TV)\n",
    "        row2=[ \"Training/Validation\", \"#TV Feature Samples\", \"#TV Class Labels\"]\n",
    "        row3=[ \"\",X_TV.shape, y_TV.shape ]\n",
    "\n",
    "        #Test | Len(X_Test) | Len(y_Test)\n",
    "        row4=[ \"Test\", \"#Test Feature Samples\", \"#Test Class Labels\"]\n",
    "        row5=[ \"\",X_test.shape, y_test.shape ]\n",
    "        #Trial #         #Best Parameter: \n",
    "        row6=['Trial/ Best Parameter', c, clf.best_params_]\n",
    "        #Grid Scores=\n",
    "        \n",
    "        Grid_of_scores=[]\n",
    "        row7=[\"Training Accuracies\",\"_\",\"_\"]\n",
    "        row8=[\"Mean\", \"Standard Deviation\", \"Parameter\"]\n",
    "        for mean, std, params in zip(means, stds, clf.cv_results_['params']):\n",
    "            print(\"%0.3f (+/-%0.03f) for %r\"% (mean, std * 2, params))\n",
    "            Grid_of_scores.append([mean, std * 2, params])\n",
    "        \n",
    "        data=[row1, row2, row3, row4,row5, row6, row7, row8]\n",
    "        for i in data:\n",
    "            data_all.append(i)\n",
    "        for i in Grid_of_scores:\n",
    "            data_all.append(i) \n",
    "            \n",
    "        #SAVE RESULTS\n",
    "    output=pd.DataFrame(data=data_all)\n",
    "        \n",
    "    return output"
   ]
  },
  {
   "cell_type": "code",
   "execution_count": 38,
   "metadata": {
    "collapsed": true
   },
   "outputs": [],
   "source": [
    "def Decision_Tree_TEST(DATASET,df,train_, X_TV, y_TV, X_test, y_test, best_param, Accuracies_DF):\n",
    "    \n",
    "    \n",
    "    labels=Adult_OG_Data.columns\n",
    "    labels=labels.drop(\"Target\")\n",
    "    \n",
    "    clf =tree.DecisionTreeClassifier(max_depth=best_param)\n",
    "    clf.fit(X_TV, y_TV) \n",
    "    \n",
    "    \n",
    "    dot_data = tree.export_graphviz(clf, out_file=None, \n",
    "                         feature_names=labels,  \n",
    "                         class_names=['open','close'],  \n",
    "                         filled=True, rounded=True,  \n",
    "                         special_characters=True)  \n",
    "    graph = graphviz.Source(dot_data)  \n",
    "    graph.render(str(DATASET)+'___'+str(train_))\n",
    "    \n",
    "    y_pred=clf.predict(X_test)\n",
    "    Test_accuracy=(accuracy_score(y_test, y_pred, normalize=False))/(len(y_test))\n",
    "    print (Test_accuracy)\n",
    "    \n",
    "    \n",
    "    num=[len(Accuracies_DF)]\n",
    "    df3 = pd.DataFrame({0: \"Test Accuracy\",\n",
    "                        1: Test_accuracy , \n",
    "                        2: \"_____________\"}, index=[num])\n",
    "    \n",
    "    \n",
    "    Accuracies_DF=Accuracies_DF.append(df3)\n",
    "    return Accuracies_DF"
   ]
  },
  {
   "cell_type": "code",
   "execution_count": 39,
   "metadata": {
    "collapsed": true
   },
   "outputs": [],
   "source": [
    "def Random_Forest_GRID_Search(DATASET, df,class_col, test_):\n",
    "    X_TV, X_test, y_TV, y_test, train_ =split_Data_TV_Test(df,class_col, test_)\n",
    "    #3 Trials\n",
    "    tuned_parameters = [{'max_depth': range(1,10,2), 'n_estimators':(10,50,100)},\n",
    "                        {'max_depth': range(1,10,2), 'n_estimators':(10,50,100)},\n",
    "                        {'max_depth': range(1,10,2), 'n_estimators':(10,50,100)}]\n",
    "    \n",
    "    #Accuracy optimized\n",
    "    #Cross Validation=3\n",
    "    scores = 'accuracy'\n",
    "    c=0\n",
    "    data_all=[]\n",
    "    for parameter in tuned_parameters:\n",
    "        print(\"# Tuning hyper-parameters for %s\" % scores)\n",
    "        print()\n",
    "\n",
    "        clf = GridSearchCV(RandomForestClassifier(), parameter, cv=3,scoring=scores)\n",
    "        clf.fit(X_TV, y_TV)\n",
    "        c+=1\n",
    "    \n",
    "    \n",
    "        print(\"Trial # {0}\".format(c))\n",
    "        print(\"Best parameters set found on development set:\")\n",
    "        print()\n",
    "        print(clf.best_params_)\n",
    "        print()\n",
    "        print(\"Grid scores on development set:\")\n",
    "        print()\n",
    "        means = clf.cv_results_['mean_test_score']\n",
    "        stds = clf.cv_results_['std_test_score']\n",
    "        \n",
    "         #write data to a CSV \n",
    "        #outputs \n",
    "        \n",
    "        # DF | Train % | Test % \n",
    "        row1=[DATASET, train_, test_ ]\n",
    "        #TV | Len(X_TV) | Len(y_TV)\n",
    "        row2=[ \"Training/Validation\", \"#TV Feature Samples\", \"#TV Class Labels\"]\n",
    "        row3=[ \"\",X_TV.shape, y_TV.shape ]\n",
    "\n",
    "        #Test | Len(X_Test) | Len(y_Test)\n",
    "        row4=[ \"Test\", \"#Test Feature Samples\", \"#Test Class Labels\"]\n",
    "        row5=[ \"\",X_test.shape, y_test.shape ]\n",
    "        #Trial #         #Best Parameter: \n",
    "        row6=['Trial/ Best Parameter', c, clf.best_params_]\n",
    "        #Grid Scores=\n",
    "        \n",
    "        Grid_of_scores=[]\n",
    "        row7=[\"Training Accuracies\",\"_\",\"_\"]\n",
    "        row8=[\"Mean\", \"Standard Deviation\", \"Parameter\"]\n",
    "        for mean, std, params in zip(means, stds, clf.cv_results_['params']):\n",
    "            print(\"%0.3f (+/-%0.03f) for %r\"% (mean, std * 2, params))\n",
    "            Grid_of_scores.append([mean, std * 2, params])\n",
    "        \n",
    "        data=[row1, row2, row3, row4,row5, row6, row7, row8]\n",
    "        for i in data:\n",
    "            data_all.append(i)\n",
    "        for i in Grid_of_scores:\n",
    "            data_all.append(i) \n",
    "            \n",
    "        #SAVE RESULTS\n",
    "    output=pd.DataFrame(data=data_all)\n",
    "        \n",
    "    return output"
   ]
  },
  {
   "cell_type": "code",
   "execution_count": 40,
   "metadata": {
    "collapsed": true
   },
   "outputs": [],
   "source": [
    "def Random_Forest_TEST(DATASET,X_TV, y_TV, X_test, y_test, Best_depth, Best_n, Accuracies_DF):\n",
    "    clf =RandomForestClassifier(max_depth=Best_depth, n_estimators=Best_n)\n",
    "    clf.fit(X_TV, y_TV)\n",
    "    y_pred=clf.predict(X_test)\n",
    "    Test_accuracy=(accuracy_score(y_test, y_pred, normalize=False))/(len(y_test))\n",
    "    print (Test_accuracy)\n",
    "    num=[len(Accuracies_DF)]\n",
    "    df3 = pd.DataFrame({0: \"Test Accuracy\",\n",
    "                        1: Test_accuracy , \n",
    "                        2: \"_____________\"}, index=[num])\n",
    "    \n",
    "    \n",
    "    Accuracies_DF=Accuracies_DF.append(df3)\n",
    "    return Accuracies_DF"
   ]
  },
  {
   "cell_type": "markdown",
   "metadata": {},
   "source": [
    "\n",
    "\n",
    "### Splits include \n",
    "    - 20% TV, 80% Test\n",
    "    - 50% TV, 50% Test\n",
    "    - 80% TV, 20% Test\n",
    "    \n",
    "# Split 1 : 20% Train, 80% Test    "
   ]
  },
  {
   "cell_type": "code",
   "execution_count": 41,
   "metadata": {},
   "outputs": [
    {
     "name": "stdout",
     "output_type": "stream",
     "text": [
      "Train: 20% Test: 80.0%\n",
      "Train/Validation dataset: (200, 13)  (200,)\n",
      "Test dataset: (800, 13)  (800,)\n"
     ]
    }
   ],
   "source": [
    "X_TV, X_test, y_TV, y_test, train_ =split_Data_TV_Test(Adult_OG_Data, \"Target\" , .8)"
   ]
  },
  {
   "cell_type": "markdown",
   "metadata": {},
   "source": [
    "#### Model Selection \n",
    "\n",
    "Lets see how different classifiers perform on set\n",
    "\n",
    "k-fold implementation (k=3)"
   ]
  },
  {
   "cell_type": "code",
   "execution_count": 42,
   "metadata": {},
   "outputs": [
    {
     "name": "stdout",
     "output_type": "stream",
     "text": [
      "Train: 75% Validation: 25.0%\n",
      "Train dataset: (150, 13)  (150,)\n",
      "Validation dataset: (50, 13)  (50,)\n",
      "----------------------------------------\n",
      "Random kfold selection #1\n",
      "LR: 0.64\n",
      "Random Forest: 0.74\n",
      "Neural Network: 0.36\n",
      "GaussianNB: 0.66\n",
      "DecisionTreeClassifier: 0.8\n",
      "SVM: 0.6\n",
      "----------------------------------------\n",
      "Random kfold selection #2\n",
      "LR: 0.64\n",
      "Random Forest: 0.72\n",
      "Neural Network: 0.6\n",
      "GaussianNB: 0.66\n",
      "DecisionTreeClassifier: 0.8\n",
      "SVM: 0.6\n",
      "----------------------------------------\n",
      "Random kfold selection #3\n",
      "LR: 0.64\n",
      "Random Forest: 0.8\n",
      "Neural Network: 0.6\n",
      "GaussianNB: 0.66\n",
      "DecisionTreeClassifier: 0.8\n",
      "SVM: 0.6\n"
     ]
    }
   ],
   "source": [
    "#val_=.25 \n",
    "Model_Selection(X_TV, y_TV, .25)"
   ]
  },
  {
   "cell_type": "markdown",
   "metadata": {},
   "source": [
    "  #### Linear SVM\n",
    "  \n",
    "  <p> Implementation using sklearn svm.SVC(Kernel='Linear') </p>"
   ]
  },
  {
   "cell_type": "code",
   "execution_count": 43,
   "metadata": {},
   "outputs": [],
   "source": [
    "#SP1_SVM_Accuracies_DF=Linear_SVM_GRID_Search(DATASET, Adult_OG_Data, \"Target\", .8)"
   ]
  },
  {
   "cell_type": "code",
   "execution_count": 44,
   "metadata": {},
   "outputs": [],
   "source": [
    "#SP1_SVM_Accuracies_DF=Linear_SVM_TEST(DATASET,X_TV, y_TV, X_test, y_test, 0.001 , SP1_SVM_Accuracies_DF)"
   ]
  },
  {
   "cell_type": "markdown",
   "metadata": {},
   "source": [
    "#### Decision Tree"
   ]
  },
  {
   "cell_type": "code",
   "execution_count": 45,
   "metadata": {},
   "outputs": [
    {
     "name": "stdout",
     "output_type": "stream",
     "text": [
      "Train: 20% Test: 80.0%\n",
      "Train/Validation dataset: (200, 13)  (200,)\n",
      "Test dataset: (800, 13)  (800,)\n",
      "# Tuning hyper-parameters for accuracy\n",
      "\n",
      "Trial # 1\n",
      "Best parameters set found on development set:\n",
      "\n",
      "{'max_depth': 5}\n",
      "\n",
      "Grid scores on development set:\n",
      "\n",
      "0.795 (+/-0.032) for {'max_depth': 3}\n",
      "0.800 (+/-0.066) for {'max_depth': 5}\n",
      "0.780 (+/-0.055) for {'max_depth': 7}\n",
      "# Tuning hyper-parameters for accuracy\n",
      "\n",
      "Trial # 2\n",
      "Best parameters set found on development set:\n",
      "\n",
      "{'max_depth': 5}\n",
      "\n",
      "Grid scores on development set:\n",
      "\n",
      "0.795 (+/-0.032) for {'max_depth': 3}\n",
      "0.805 (+/-0.069) for {'max_depth': 5}\n",
      "0.800 (+/-0.066) for {'max_depth': 7}\n",
      "# Tuning hyper-parameters for accuracy\n",
      "\n",
      "Trial # 3\n",
      "Best parameters set found on development set:\n",
      "\n",
      "{'max_depth': 5}\n",
      "\n",
      "Grid scores on development set:\n",
      "\n",
      "0.795 (+/-0.032) for {'max_depth': 3}\n",
      "0.800 (+/-0.066) for {'max_depth': 5}\n",
      "0.780 (+/-0.062) for {'max_depth': 7}\n"
     ]
    }
   ],
   "source": [
    "SP1_Decision_Tree_Accuracies_DF=Decision_Tree_GRID_Search(DATASET,  Adult_OG_Data, \"Target\", .8)"
   ]
  },
  {
   "cell_type": "code",
   "execution_count": 46,
   "metadata": {},
   "outputs": [
    {
     "name": "stdout",
     "output_type": "stream",
     "text": [
      "0.76875\n"
     ]
    }
   ],
   "source": [
    "SP1_Decision_Tree_Accuracies_DF=Decision_Tree_TEST(DATASET,Adult_OG_Data, train_, X_TV, y_TV, X_test, y_test, 5, SP1_Decision_Tree_Accuracies_DF)"
   ]
  },
  {
   "cell_type": "markdown",
   "metadata": {},
   "source": [
    "#### Random Forest"
   ]
  },
  {
   "cell_type": "code",
   "execution_count": 47,
   "metadata": {},
   "outputs": [
    {
     "name": "stdout",
     "output_type": "stream",
     "text": [
      "Train: 20% Test: 80.0%\n",
      "Train/Validation dataset: (200, 13)  (200,)\n",
      "Test dataset: (800, 13)  (800,)\n",
      "# Tuning hyper-parameters for accuracy\n",
      "\n",
      "Trial # 1\n",
      "Best parameters set found on development set:\n",
      "\n",
      "{'max_depth': 5, 'n_estimators': 100}\n",
      "\n",
      "Grid scores on development set:\n",
      "\n",
      "0.725 (+/-0.006) for {'max_depth': 1, 'n_estimators': 10}\n",
      "0.725 (+/-0.006) for {'max_depth': 1, 'n_estimators': 50}\n",
      "0.725 (+/-0.006) for {'max_depth': 1, 'n_estimators': 100}\n",
      "0.800 (+/-0.066) for {'max_depth': 3, 'n_estimators': 10}\n",
      "0.820 (+/-0.005) for {'max_depth': 3, 'n_estimators': 50}\n",
      "0.800 (+/-0.026) for {'max_depth': 3, 'n_estimators': 100}\n",
      "0.830 (+/-0.033) for {'max_depth': 5, 'n_estimators': 10}\n",
      "0.830 (+/-0.090) for {'max_depth': 5, 'n_estimators': 50}\n",
      "0.835 (+/-0.067) for {'max_depth': 5, 'n_estimators': 100}\n",
      "0.830 (+/-0.017) for {'max_depth': 7, 'n_estimators': 10}\n",
      "0.820 (+/-0.053) for {'max_depth': 7, 'n_estimators': 50}\n",
      "0.830 (+/-0.033) for {'max_depth': 7, 'n_estimators': 100}\n",
      "0.835 (+/-0.102) for {'max_depth': 9, 'n_estimators': 10}\n",
      "0.825 (+/-0.066) for {'max_depth': 9, 'n_estimators': 50}\n",
      "0.825 (+/-0.019) for {'max_depth': 9, 'n_estimators': 100}\n",
      "# Tuning hyper-parameters for accuracy\n",
      "\n",
      "Trial # 2\n",
      "Best parameters set found on development set:\n",
      "\n",
      "{'max_depth': 5, 'n_estimators': 50}\n",
      "\n",
      "Grid scores on development set:\n",
      "\n",
      "0.725 (+/-0.006) for {'max_depth': 1, 'n_estimators': 10}\n",
      "0.725 (+/-0.006) for {'max_depth': 1, 'n_estimators': 50}\n",
      "0.725 (+/-0.006) for {'max_depth': 1, 'n_estimators': 100}\n",
      "0.800 (+/-0.032) for {'max_depth': 3, 'n_estimators': 10}\n",
      "0.825 (+/-0.042) for {'max_depth': 3, 'n_estimators': 50}\n",
      "0.815 (+/-0.041) for {'max_depth': 3, 'n_estimators': 100}\n",
      "0.810 (+/-0.055) for {'max_depth': 5, 'n_estimators': 10}\n",
      "0.845 (+/-0.033) for {'max_depth': 5, 'n_estimators': 50}\n",
      "0.830 (+/-0.033) for {'max_depth': 5, 'n_estimators': 100}\n",
      "0.795 (+/-0.043) for {'max_depth': 7, 'n_estimators': 10}\n",
      "0.840 (+/-0.031) for {'max_depth': 7, 'n_estimators': 50}\n",
      "0.815 (+/-0.041) for {'max_depth': 7, 'n_estimators': 100}\n",
      "0.805 (+/-0.090) for {'max_depth': 9, 'n_estimators': 10}\n",
      "0.815 (+/-0.041) for {'max_depth': 9, 'n_estimators': 50}\n",
      "0.825 (+/-0.019) for {'max_depth': 9, 'n_estimators': 100}\n",
      "# Tuning hyper-parameters for accuracy\n",
      "\n",
      "Trial # 3\n",
      "Best parameters set found on development set:\n",
      "\n",
      "{'max_depth': 7, 'n_estimators': 10}\n",
      "\n",
      "Grid scores on development set:\n",
      "\n",
      "0.730 (+/-0.018) for {'max_depth': 1, 'n_estimators': 10}\n",
      "0.725 (+/-0.006) for {'max_depth': 1, 'n_estimators': 50}\n",
      "0.725 (+/-0.006) for {'max_depth': 1, 'n_estimators': 100}\n",
      "0.790 (+/-0.020) for {'max_depth': 3, 'n_estimators': 10}\n",
      "0.800 (+/-0.060) for {'max_depth': 3, 'n_estimators': 50}\n",
      "0.805 (+/-0.040) for {'max_depth': 3, 'n_estimators': 100}\n",
      "0.815 (+/-0.041) for {'max_depth': 5, 'n_estimators': 10}\n",
      "0.795 (+/-0.053) for {'max_depth': 5, 'n_estimators': 50}\n",
      "0.835 (+/-0.045) for {'max_depth': 5, 'n_estimators': 100}\n",
      "0.840 (+/-0.034) for {'max_depth': 7, 'n_estimators': 10}\n",
      "0.835 (+/-0.029) for {'max_depth': 7, 'n_estimators': 50}\n",
      "0.830 (+/-0.055) for {'max_depth': 7, 'n_estimators': 100}\n",
      "0.795 (+/-0.062) for {'max_depth': 9, 'n_estimators': 10}\n",
      "0.820 (+/-0.029) for {'max_depth': 9, 'n_estimators': 50}\n",
      "0.830 (+/-0.017) for {'max_depth': 9, 'n_estimators': 100}\n"
     ]
    }
   ],
   "source": [
    "SP1_Random_Forest_Accuracies_DF=Random_Forest_GRID_Search(DATASET, Adult_OG_Data,\"Target\", .8)"
   ]
  },
  {
   "cell_type": "code",
   "execution_count": 48,
   "metadata": {
    "scrolled": true
   },
   "outputs": [
    {
     "name": "stdout",
     "output_type": "stream",
     "text": [
      "0.83\n"
     ]
    }
   ],
   "source": [
    "SP1_Random_Forest_Accuracies_DF=Random_Forest_TEST(DATASET,X_TV, y_TV, X_test, y_test, 5, 100 , SP1_Random_Forest_Accuracies_DF)"
   ]
  },
  {
   "cell_type": "markdown",
   "metadata": {},
   "source": [
    "# Split 2 : 50% Train, 50% Test    "
   ]
  },
  {
   "cell_type": "code",
   "execution_count": 50,
   "metadata": {},
   "outputs": [
    {
     "name": "stdout",
     "output_type": "stream",
     "text": [
      "Train: 50% Test: 50.0%\n",
      "Train/Validation dataset: (500, 13)  (500,)\n",
      "Test dataset: (500, 13)  (500,)\n"
     ]
    }
   ],
   "source": [
    "X_TV, X_test, y_TV, y_test, train_ =split_Data_TV_Test(Adult_OG_Data, \"Target\" , .5)"
   ]
  },
  {
   "cell_type": "markdown",
   "metadata": {},
   "source": [
    "#### Model Selection \n",
    "\n",
    "Lets see how different classifiers perform on set\n",
    "\n",
    "k-fold implementation (k=3)"
   ]
  },
  {
   "cell_type": "code",
   "execution_count": 51,
   "metadata": {},
   "outputs": [
    {
     "name": "stdout",
     "output_type": "stream",
     "text": [
      "Train: 75% Validation: 25.0%\n",
      "Train dataset: (375, 13)  (375,)\n",
      "Validation dataset: (125, 13)  (125,)\n",
      "----------------------------------------\n",
      "Random kfold selection #1\n",
      "LR: 0.728\n",
      "Random Forest: 0.8\n",
      "Neural Network: 0.704\n",
      "GaussianNB: 0.712\n",
      "DecisionTreeClassifier: 0.792\n",
      "SVM: 0.704\n",
      "----------------------------------------\n",
      "Random kfold selection #2\n",
      "LR: 0.728\n",
      "Random Forest: 0.84\n",
      "Neural Network: 0.704\n",
      "GaussianNB: 0.712\n",
      "DecisionTreeClassifier: 0.808\n",
      "SVM: 0.704\n",
      "----------------------------------------\n",
      "Random kfold selection #3\n",
      "LR: 0.728\n",
      "Random Forest: 0.824\n",
      "Neural Network: 0.704\n",
      "GaussianNB: 0.712\n",
      "DecisionTreeClassifier: 0.784\n",
      "SVM: 0.704\n"
     ]
    }
   ],
   "source": [
    "#val_=.25 \n",
    "Model_Selection(X_TV, y_TV, .25)"
   ]
  },
  {
   "cell_type": "markdown",
   "metadata": {},
   "source": [
    "  #### Linear SVM\n",
    "  \n",
    "  <p> Implementation using sklearn svm.SVC(Kernel='Linear') </p>"
   ]
  },
  {
   "cell_type": "code",
   "execution_count": null,
   "metadata": {},
   "outputs": [],
   "source": [
    "SP2_SVM_Accuracies_DF=Linear_SVM_GRID_Search(DATASET, Adult_OG_Data, \"Target\" , .5)"
   ]
  },
  {
   "cell_type": "code",
   "execution_count": null,
   "metadata": {},
   "outputs": [],
   "source": [
    "SP2_SVM_Accuracies_DF=Linear_SVM_TEST(DATASET,X_TV, y_TV, X_test, y_test, 0.001 , SP2_SVM_Accuracies_DF)"
   ]
  },
  {
   "cell_type": "markdown",
   "metadata": {},
   "source": [
    "#### Decision Tree"
   ]
  },
  {
   "cell_type": "code",
   "execution_count": 53,
   "metadata": {},
   "outputs": [
    {
     "name": "stdout",
     "output_type": "stream",
     "text": [
      "Train: 50% Test: 50.0%\n",
      "Train/Validation dataset: (500, 13)  (500,)\n",
      "Test dataset: (500, 13)  (500,)\n",
      "# Tuning hyper-parameters for accuracy\n",
      "\n",
      "Trial # 1\n",
      "Best parameters set found on development set:\n",
      "\n",
      "{'max_depth': 3}\n",
      "\n",
      "Grid scores on development set:\n",
      "\n",
      "0.808 (+/-0.051) for {'max_depth': 3}\n",
      "0.786 (+/-0.036) for {'max_depth': 5}\n",
      "0.776 (+/-0.065) for {'max_depth': 7}\n",
      "# Tuning hyper-parameters for accuracy\n",
      "\n",
      "Trial # 2\n",
      "Best parameters set found on development set:\n",
      "\n",
      "{'max_depth': 3}\n",
      "\n",
      "Grid scores on development set:\n",
      "\n",
      "0.806 (+/-0.048) for {'max_depth': 3}\n",
      "0.782 (+/-0.031) for {'max_depth': 5}\n",
      "0.782 (+/-0.054) for {'max_depth': 7}\n",
      "# Tuning hyper-parameters for accuracy\n",
      "\n",
      "Trial # 3\n",
      "Best parameters set found on development set:\n",
      "\n",
      "{'max_depth': 3}\n",
      "\n",
      "Grid scores on development set:\n",
      "\n",
      "0.808 (+/-0.051) for {'max_depth': 3}\n",
      "0.788 (+/-0.039) for {'max_depth': 5}\n",
      "0.782 (+/-0.057) for {'max_depth': 7}\n"
     ]
    }
   ],
   "source": [
    "SP2_Decision_Tree_Accuracies_DF=Decision_Tree_GRID_Search(DATASET, Adult_OG_Data, \"Target\" ,.5)"
   ]
  },
  {
   "cell_type": "code",
   "execution_count": 55,
   "metadata": {},
   "outputs": [
    {
     "name": "stdout",
     "output_type": "stream",
     "text": [
      "0.814\n"
     ]
    }
   ],
   "source": [
    "SP2_Decision_Tree_Accuracies_DF=Decision_Tree_TEST(DATASET,Adult_OG_Data, train_, X_TV, y_TV, X_test, y_test, 7 , SP2_Decision_Tree_Accuracies_DF)"
   ]
  },
  {
   "cell_type": "markdown",
   "metadata": {},
   "source": [
    "#### Random Forest"
   ]
  },
  {
   "cell_type": "code",
   "execution_count": 56,
   "metadata": {},
   "outputs": [
    {
     "name": "stdout",
     "output_type": "stream",
     "text": [
      "Train: 50% Test: 50.0%\n",
      "Train/Validation dataset: (500, 13)  (500,)\n",
      "Test dataset: (500, 13)  (500,)\n",
      "# Tuning hyper-parameters for accuracy\n",
      "\n",
      "Trial # 1\n",
      "Best parameters set found on development set:\n",
      "\n",
      "{'max_depth': 9, 'n_estimators': 100}\n",
      "\n",
      "Grid scores on development set:\n",
      "\n",
      "0.758 (+/-0.031) for {'max_depth': 1, 'n_estimators': 10}\n",
      "0.752 (+/-0.019) for {'max_depth': 1, 'n_estimators': 50}\n",
      "0.742 (+/-0.001) for {'max_depth': 1, 'n_estimators': 100}\n",
      "0.808 (+/-0.048) for {'max_depth': 3, 'n_estimators': 10}\n",
      "0.814 (+/-0.038) for {'max_depth': 3, 'n_estimators': 50}\n",
      "0.810 (+/-0.043) for {'max_depth': 3, 'n_estimators': 100}\n",
      "0.838 (+/-0.063) for {'max_depth': 5, 'n_estimators': 10}\n",
      "0.836 (+/-0.056) for {'max_depth': 5, 'n_estimators': 50}\n",
      "0.834 (+/-0.054) for {'max_depth': 5, 'n_estimators': 100}\n",
      "0.818 (+/-0.065) for {'max_depth': 7, 'n_estimators': 10}\n",
      "0.840 (+/-0.087) for {'max_depth': 7, 'n_estimators': 50}\n",
      "0.842 (+/-0.065) for {'max_depth': 7, 'n_estimators': 100}\n",
      "0.832 (+/-0.051) for {'max_depth': 9, 'n_estimators': 10}\n",
      "0.834 (+/-0.079) for {'max_depth': 9, 'n_estimators': 50}\n",
      "0.846 (+/-0.087) for {'max_depth': 9, 'n_estimators': 100}\n",
      "# Tuning hyper-parameters for accuracy\n",
      "\n",
      "Trial # 2\n",
      "Best parameters set found on development set:\n",
      "\n",
      "{'max_depth': 7, 'n_estimators': 100}\n",
      "\n",
      "Grid scores on development set:\n",
      "\n",
      "0.742 (+/-0.001) for {'max_depth': 1, 'n_estimators': 10}\n",
      "0.742 (+/-0.001) for {'max_depth': 1, 'n_estimators': 50}\n",
      "0.742 (+/-0.001) for {'max_depth': 1, 'n_estimators': 100}\n",
      "0.804 (+/-0.029) for {'max_depth': 3, 'n_estimators': 10}\n",
      "0.816 (+/-0.028) for {'max_depth': 3, 'n_estimators': 50}\n",
      "0.814 (+/-0.054) for {'max_depth': 3, 'n_estimators': 100}\n",
      "0.826 (+/-0.026) for {'max_depth': 5, 'n_estimators': 10}\n",
      "0.838 (+/-0.068) for {'max_depth': 5, 'n_estimators': 50}\n",
      "0.834 (+/-0.054) for {'max_depth': 5, 'n_estimators': 100}\n",
      "0.818 (+/-0.107) for {'max_depth': 7, 'n_estimators': 10}\n",
      "0.834 (+/-0.079) for {'max_depth': 7, 'n_estimators': 50}\n",
      "0.842 (+/-0.056) for {'max_depth': 7, 'n_estimators': 100}\n",
      "0.826 (+/-0.044) for {'max_depth': 9, 'n_estimators': 10}\n",
      "0.836 (+/-0.082) for {'max_depth': 9, 'n_estimators': 50}\n",
      "0.842 (+/-0.082) for {'max_depth': 9, 'n_estimators': 100}\n",
      "# Tuning hyper-parameters for accuracy\n",
      "\n",
      "Trial # 3\n",
      "Best parameters set found on development set:\n",
      "\n",
      "{'max_depth': 5, 'n_estimators': 50}\n",
      "\n",
      "Grid scores on development set:\n",
      "\n",
      "0.742 (+/-0.001) for {'max_depth': 1, 'n_estimators': 10}\n",
      "0.742 (+/-0.001) for {'max_depth': 1, 'n_estimators': 50}\n",
      "0.742 (+/-0.001) for {'max_depth': 1, 'n_estimators': 100}\n",
      "0.802 (+/-0.067) for {'max_depth': 3, 'n_estimators': 10}\n",
      "0.800 (+/-0.049) for {'max_depth': 3, 'n_estimators': 50}\n",
      "0.812 (+/-0.043) for {'max_depth': 3, 'n_estimators': 100}\n",
      "0.838 (+/-0.051) for {'max_depth': 5, 'n_estimators': 10}\n",
      "0.854 (+/-0.039) for {'max_depth': 5, 'n_estimators': 50}\n",
      "0.838 (+/-0.061) for {'max_depth': 5, 'n_estimators': 100}\n",
      "0.824 (+/-0.082) for {'max_depth': 7, 'n_estimators': 10}\n",
      "0.842 (+/-0.073) for {'max_depth': 7, 'n_estimators': 50}\n",
      "0.844 (+/-0.101) for {'max_depth': 7, 'n_estimators': 100}\n",
      "0.814 (+/-0.059) for {'max_depth': 9, 'n_estimators': 10}\n",
      "0.830 (+/-0.107) for {'max_depth': 9, 'n_estimators': 50}\n",
      "0.832 (+/-0.094) for {'max_depth': 9, 'n_estimators': 100}\n"
     ]
    }
   ],
   "source": [
    "SP2_Random_Forest_Accuracies_DF=Random_Forest_GRID_Search(DATASET, Adult_OG_Data, \"Target\" ,.5)"
   ]
  },
  {
   "cell_type": "code",
   "execution_count": 59,
   "metadata": {},
   "outputs": [
    {
     "name": "stdout",
     "output_type": "stream",
     "text": [
      "0.848\n"
     ]
    }
   ],
   "source": [
    "SP2_Random_Forest_Accuracies_DF=Random_Forest_TEST(DATASET,X_TV, y_TV, X_test, y_test, 9, 100 , SP2_Random_Forest_Accuracies_DF)"
   ]
  },
  {
   "cell_type": "markdown",
   "metadata": {},
   "source": [
    "# Split 3 : 80% Train, 20% Test    "
   ]
  },
  {
   "cell_type": "code",
   "execution_count": 60,
   "metadata": {},
   "outputs": [
    {
     "name": "stdout",
     "output_type": "stream",
     "text": [
      "Train: 80% Test: 20.0%\n",
      "Train/Validation dataset: (800, 13)  (800,)\n",
      "Test dataset: (200, 13)  (200,)\n"
     ]
    }
   ],
   "source": [
    "X_TV, X_test, y_TV, y_test, train_ =split_Data_TV_Test(Adult_OG_Data, \"Target\" , .2)"
   ]
  },
  {
   "cell_type": "markdown",
   "metadata": {},
   "source": [
    "#### Model Selection \n",
    "\n",
    "Lets see how different classifiers perform on set\n",
    "\n",
    "k-fold implementation (k=3)"
   ]
  },
  {
   "cell_type": "code",
   "execution_count": 61,
   "metadata": {},
   "outputs": [
    {
     "name": "stdout",
     "output_type": "stream",
     "text": [
      "Train: 75% Validation: 25.0%\n",
      "Train dataset: (600, 13)  (600,)\n",
      "Validation dataset: (200, 13)  (200,)\n",
      "----------------------------------------\n",
      "Random kfold selection #1\n",
      "LR: 0.785\n",
      "Random Forest: 0.865\n",
      "Neural Network: 0.79\n",
      "GaussianNB: 0.775\n",
      "DecisionTreeClassifier: 0.765\n",
      "SVM: 0.775\n",
      "----------------------------------------\n",
      "Random kfold selection #2\n",
      "LR: 0.785\n",
      "Random Forest: 0.865\n",
      "Neural Network: 0.78\n",
      "GaussianNB: 0.775\n",
      "DecisionTreeClassifier: 0.78\n",
      "SVM: 0.775\n",
      "----------------------------------------\n",
      "Random kfold selection #3\n",
      "LR: 0.785\n",
      "Random Forest: 0.86\n",
      "Neural Network: 0.775\n",
      "GaussianNB: 0.775\n",
      "DecisionTreeClassifier: 0.78\n",
      "SVM: 0.775\n"
     ]
    }
   ],
   "source": [
    "#val_=.25 \n",
    "Model_Selection(X_TV, y_TV, .25)"
   ]
  },
  {
   "cell_type": "markdown",
   "metadata": {},
   "source": [
    "  #### Linear SVM\n",
    "  \n",
    "  <p> Implementation using sklearn svm.SVC(Kernel='Linear') </p>"
   ]
  },
  {
   "cell_type": "code",
   "execution_count": null,
   "metadata": {},
   "outputs": [],
   "source": [
    "SP3_SVM_Accuracies_DF=Linear_SVM_GRID_Search(DATASET,Adult_OG_Data, \"Target\" ,  .2)"
   ]
  },
  {
   "cell_type": "code",
   "execution_count": null,
   "metadata": {},
   "outputs": [],
   "source": [
    "SP3_SVM_Accuracies_DF=Linear_SVM_TEST(DATASET,X_TV, y_TV, X_test, y_test, 0.001 , SP3_SVM_Accuracies_DF)"
   ]
  },
  {
   "cell_type": "markdown",
   "metadata": {},
   "source": [
    "#### Decision Tree"
   ]
  },
  {
   "cell_type": "code",
   "execution_count": 64,
   "metadata": {},
   "outputs": [
    {
     "name": "stdout",
     "output_type": "stream",
     "text": [
      "Train: 80% Test: 20.0%\n",
      "Train/Validation dataset: (800, 13)  (800,)\n",
      "Test dataset: (200, 13)  (200,)\n",
      "# Tuning hyper-parameters for accuracy\n",
      "\n",
      "Trial # 1\n",
      "Best parameters set found on development set:\n",
      "\n",
      "{'max_depth': 5}\n",
      "\n",
      "Grid scores on development set:\n",
      "\n",
      "0.794 (+/-0.011) for {'max_depth': 3}\n",
      "0.825 (+/-0.017) for {'max_depth': 5}\n",
      "0.821 (+/-0.013) for {'max_depth': 7}\n",
      "# Tuning hyper-parameters for accuracy\n",
      "\n",
      "Trial # 2\n",
      "Best parameters set found on development set:\n",
      "\n",
      "{'max_depth': 5}\n",
      "\n",
      "Grid scores on development set:\n",
      "\n",
      "0.794 (+/-0.011) for {'max_depth': 3}\n",
      "0.824 (+/-0.021) for {'max_depth': 5}\n",
      "0.824 (+/-0.019) for {'max_depth': 7}\n",
      "# Tuning hyper-parameters for accuracy\n",
      "\n",
      "Trial # 3\n",
      "Best parameters set found on development set:\n",
      "\n",
      "{'max_depth': 5}\n",
      "\n",
      "Grid scores on development set:\n",
      "\n",
      "0.794 (+/-0.011) for {'max_depth': 3}\n",
      "0.825 (+/-0.017) for {'max_depth': 5}\n",
      "0.820 (+/-0.017) for {'max_depth': 7}\n"
     ]
    }
   ],
   "source": [
    "SP3_Decision_Tree_Accuracies_DF=Decision_Tree_GRID_Search(DATASET, Adult_OG_Data, \"Target\" ,  .2)"
   ]
  },
  {
   "cell_type": "code",
   "execution_count": 66,
   "metadata": {},
   "outputs": [
    {
     "name": "stdout",
     "output_type": "stream",
     "text": [
      "0.835\n"
     ]
    }
   ],
   "source": [
    "SP3_Decision_Tree_Accuracies_DF=Decision_Tree_TEST(DATASET,Adult_OG_Data, train_, X_TV, y_TV, X_test, y_test, 5 , SP3_Decision_Tree_Accuracies_DF)"
   ]
  },
  {
   "cell_type": "markdown",
   "metadata": {},
   "source": [
    "#### Random Forest"
   ]
  },
  {
   "cell_type": "code",
   "execution_count": 67,
   "metadata": {},
   "outputs": [
    {
     "name": "stdout",
     "output_type": "stream",
     "text": [
      "Train: 80% Test: 20.0%\n",
      "Train/Validation dataset: (800, 13)  (800,)\n",
      "Test dataset: (200, 13)  (200,)\n",
      "# Tuning hyper-parameters for accuracy\n",
      "\n",
      "Trial # 1\n",
      "Best parameters set found on development set:\n",
      "\n",
      "{'max_depth': 7, 'n_estimators': 50}\n",
      "\n",
      "Grid scores on development set:\n",
      "\n",
      "0.766 (+/-0.029) for {'max_depth': 1, 'n_estimators': 10}\n",
      "0.759 (+/-0.008) for {'max_depth': 1, 'n_estimators': 50}\n",
      "0.762 (+/-0.017) for {'max_depth': 1, 'n_estimators': 100}\n",
      "0.807 (+/-0.003) for {'max_depth': 3, 'n_estimators': 10}\n",
      "0.815 (+/-0.006) for {'max_depth': 3, 'n_estimators': 50}\n",
      "0.809 (+/-0.017) for {'max_depth': 3, 'n_estimators': 100}\n",
      "0.834 (+/-0.019) for {'max_depth': 5, 'n_estimators': 10}\n",
      "0.853 (+/-0.019) for {'max_depth': 5, 'n_estimators': 50}\n",
      "0.849 (+/-0.013) for {'max_depth': 5, 'n_estimators': 100}\n",
      "0.843 (+/-0.006) for {'max_depth': 7, 'n_estimators': 10}\n",
      "0.856 (+/-0.010) for {'max_depth': 7, 'n_estimators': 50}\n",
      "0.856 (+/-0.019) for {'max_depth': 7, 'n_estimators': 100}\n",
      "0.836 (+/-0.003) for {'max_depth': 9, 'n_estimators': 10}\n",
      "0.850 (+/-0.035) for {'max_depth': 9, 'n_estimators': 50}\n",
      "0.851 (+/-0.013) for {'max_depth': 9, 'n_estimators': 100}\n",
      "# Tuning hyper-parameters for accuracy\n",
      "\n",
      "Trial # 2\n",
      "Best parameters set found on development set:\n",
      "\n",
      "{'max_depth': 9, 'n_estimators': 100}\n",
      "\n",
      "Grid scores on development set:\n",
      "\n",
      "0.775 (+/-0.031) for {'max_depth': 1, 'n_estimators': 10}\n",
      "0.764 (+/-0.020) for {'max_depth': 1, 'n_estimators': 50}\n",
      "0.756 (+/-0.001) for {'max_depth': 1, 'n_estimators': 100}\n",
      "0.795 (+/-0.025) for {'max_depth': 3, 'n_estimators': 10}\n",
      "0.807 (+/-0.025) for {'max_depth': 3, 'n_estimators': 50}\n",
      "0.809 (+/-0.016) for {'max_depth': 3, 'n_estimators': 100}\n",
      "0.839 (+/-0.028) for {'max_depth': 5, 'n_estimators': 10}\n",
      "0.851 (+/-0.020) for {'max_depth': 5, 'n_estimators': 50}\n",
      "0.846 (+/-0.027) for {'max_depth': 5, 'n_estimators': 100}\n",
      "0.831 (+/-0.043) for {'max_depth': 7, 'n_estimators': 10}\n",
      "0.846 (+/-0.016) for {'max_depth': 7, 'n_estimators': 50}\n",
      "0.858 (+/-0.006) for {'max_depth': 7, 'n_estimators': 100}\n",
      "0.846 (+/-0.001) for {'max_depth': 9, 'n_estimators': 10}\n",
      "0.850 (+/-0.017) for {'max_depth': 9, 'n_estimators': 50}\n",
      "0.859 (+/-0.007) for {'max_depth': 9, 'n_estimators': 100}\n",
      "# Tuning hyper-parameters for accuracy\n",
      "\n",
      "Trial # 3\n",
      "Best parameters set found on development set:\n",
      "\n",
      "{'max_depth': 7, 'n_estimators': 100}\n",
      "\n",
      "Grid scores on development set:\n",
      "\n",
      "0.766 (+/-0.029) for {'max_depth': 1, 'n_estimators': 10}\n",
      "0.782 (+/-0.022) for {'max_depth': 1, 'n_estimators': 50}\n",
      "0.757 (+/-0.004) for {'max_depth': 1, 'n_estimators': 100}\n",
      "0.807 (+/-0.027) for {'max_depth': 3, 'n_estimators': 10}\n",
      "0.807 (+/-0.007) for {'max_depth': 3, 'n_estimators': 50}\n",
      "0.811 (+/-0.010) for {'max_depth': 3, 'n_estimators': 100}\n",
      "0.840 (+/-0.009) for {'max_depth': 5, 'n_estimators': 10}\n",
      "0.850 (+/-0.012) for {'max_depth': 5, 'n_estimators': 50}\n",
      "0.856 (+/-0.031) for {'max_depth': 5, 'n_estimators': 100}\n",
      "0.849 (+/-0.010) for {'max_depth': 7, 'n_estimators': 10}\n",
      "0.850 (+/-0.007) for {'max_depth': 7, 'n_estimators': 50}\n",
      "0.859 (+/-0.009) for {'max_depth': 7, 'n_estimators': 100}\n",
      "0.826 (+/-0.015) for {'max_depth': 9, 'n_estimators': 10}\n",
      "0.849 (+/-0.004) for {'max_depth': 9, 'n_estimators': 50}\n",
      "0.853 (+/-0.026) for {'max_depth': 9, 'n_estimators': 100}\n"
     ]
    }
   ],
   "source": [
    "SP3_Random_Forest_Accuracies_DF=Random_Forest_GRID_Search(DATASET,Adult_OG_Data, \"Target\" ,  .2)"
   ]
  },
  {
   "cell_type": "code",
   "execution_count": 68,
   "metadata": {},
   "outputs": [
    {
     "name": "stdout",
     "output_type": "stream",
     "text": [
      "0.84\n"
     ]
    }
   ],
   "source": [
    "SP3_Random_Forest_Accuracies_DF=Random_Forest_TEST(DATASET,X_TV, y_TV, X_test, y_test, 9, 100 , SP3_Random_Forest_Accuracies_DF)"
   ]
  },
  {
   "cell_type": "markdown",
   "metadata": {},
   "source": [
    "# Export Results "
   ]
  },
  {
   "cell_type": "code",
   "execution_count": 70,
   "metadata": {},
   "outputs": [],
   "source": [
    "#list_of_Data_Results=[SP1_SVM_Accuracies_DF,SP1_Decision_Tree_Accuracies_DF,SP1_Random_Forest_Accuracies_DF,\n",
    "#                      SP2_SVM_Accuracies_DF,SP2_Decision_Tree_Accuracies_DF,SP2_Random_Forest_Accuracies_DF,\n",
    "#                      SP3_SVM_Accuracies_DF,SP3_Decision_Tree_Accuracies_DF,SP3_Random_Forest_Accuracies_DF]\n",
    "\n",
    "\n",
    "list_of_Data_Results=[SP1_Decision_Tree_Accuracies_DF,SP1_Random_Forest_Accuracies_DF,\n",
    "                      SP2_Decision_Tree_Accuracies_DF,SP2_Random_Forest_Accuracies_DF,\n",
    "                      SP3_Decision_Tree_Accuracies_DF,SP3_Random_Forest_Accuracies_DF]\n",
    "\n",
    "\n",
    "RESULTS = pd.concat(list_of_Data_Results, axis=0, ignore_index=True)\n",
    "\n"
   ]
  },
  {
   "cell_type": "code",
   "execution_count": 71,
   "metadata": {
    "collapsed": true
   },
   "outputs": [],
   "source": [
    "RESULTS.to_csv((str(DATASET)+'_results.csv'))"
   ]
  },
  {
   "cell_type": "code",
   "execution_count": null,
   "metadata": {
    "collapsed": true
   },
   "outputs": [],
   "source": []
  }
 ],
 "metadata": {
  "kernelspec": {
   "display_name": "Python 3",
   "language": "python",
   "name": "python3"
  },
  "language_info": {
   "codemirror_mode": {
    "name": "ipython",
    "version": 3
   },
   "file_extension": ".py",
   "mimetype": "text/x-python",
   "name": "python",
   "nbconvert_exporter": "python",
   "pygments_lexer": "ipython3",
   "version": "3.6.3"
  }
 },
 "nbformat": 4,
 "nbformat_minor": 2
}
