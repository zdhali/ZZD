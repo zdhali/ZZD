{
 "cells": [
  {
   "cell_type": "markdown",
   "metadata": {},
   "source": [
    "Zafrin Dhali <br> \n",
    "A121222669<br> \n",
    "Cogs 118A<br> \n",
    "HW 1<br> "
   ]
  },
  {
   "cell_type": "code",
   "execution_count": 1,
   "metadata": {
    "collapsed": true
   },
   "outputs": [],
   "source": [
    "import numpy as np\n",
    "import matplotlib.pyplot as plt"
   ]
  },
  {
   "cell_type": "markdown",
   "metadata": {},
   "source": [
    "## Q1 Parabola"
   ]
  },
  {
   "cell_type": "markdown",
   "metadata": {},
   "source": [
    "### Original Data"
   ]
  },
  {
   "cell_type": "code",
   "execution_count": 2,
   "metadata": {},
   "outputs": [
    {
     "name": "stdout",
     "output_type": "stream",
     "text": [
      "(300,) (300,)\n"
     ]
    }
   ],
   "source": [
    "X_and_Y = np.load('hw4-q1-parabola.npy')\n",
    "X = X_and_Y[:, 0]  # Shape: (300,)\n",
    "Y = X_and_Y[:, 1]  # Shape: (300,)\n",
    "print (X.shape, Y.shape)\n",
    "X_OG=X.copy()"
   ]
  },
  {
   "cell_type": "code",
   "execution_count": 3,
   "metadata": {
    "collapsed": true
   },
   "outputs": [],
   "source": [
    "X=X.reshape(-1,1)"
   ]
  },
  {
   "cell_type": "code",
   "execution_count": 4,
   "metadata": {},
   "outputs": [
    {
     "data": {
      "image/png": "[encoded data removed]",
      "text/plain": [
       "<matplotlib.figure.Figure at 0x206a814f390>"
      ]
     },
     "metadata": {},
     "output_type": "display_data"
    }
   ],
   "source": [
    "plt.plot(X, Y, 'ro')\n",
    "plt.title(\"Scatter plot X and Y: Original Data\")\n",
    "plt.xlabel(\"X\")\n",
    "plt.ylabel(\"Y\")\n",
    "plt.show()"
   ]
  },
  {
   "cell_type": "code",
   "execution_count": 5,
   "metadata": {
    "collapsed": true
   },
   "outputs": [],
   "source": [
    "x_ones=np.ones((X.shape))\n",
    "x_square=np.square(X)"
   ]
  },
  {
   "cell_type": "code",
   "execution_count": 6,
   "metadata": {},
   "outputs": [
    {
     "name": "stdout",
     "output_type": "stream",
     "text": [
      "[(300,), (300, 1), (300, 1), (300, 1)]\n"
     ]
    }
   ],
   "source": [
    "print ([i.shape for i in [Y ,x_ones, X, x_square]])"
   ]
  },
  {
   "cell_type": "markdown",
   "metadata": {},
   "source": [
    "### 1.1 Parabola Estimation with L2 Norm "
   ]
  },
  {
   "cell_type": "code",
   "execution_count": 7,
   "metadata": {
    "collapsed": true
   },
   "outputs": [],
   "source": [
    "#y=w1*x1+w2*x2 + w3\n",
    "X=np.matrix(np.hstack(((x_ones, X, x_square))))"
   ]
  },
  {
   "cell_type": "code",
   "execution_count": 8,
   "metadata": {
    "collapsed": true
   },
   "outputs": [],
   "source": [
    "W = X.T.dot(X).I.dot(X.T).dot(Y)"
   ]
  },
  {
   "cell_type": "code",
   "execution_count": 9,
   "metadata": {},
   "outputs": [
    {
     "name": "stdout",
     "output_type": "stream",
     "text": [
      "Y = 51.07 + -16.06*X1 + 2.36*X2\n"
     ]
    }
   ],
   "source": [
    "w0, w1, w2 = np.array(W).reshape(-1)\n",
    "print('Y = {:.2f} + {:.2f}*X1 + {:.2f}*X2'.format(w0, w1, w2))"
   ]
  },
  {
   "cell_type": "markdown",
   "metadata": {},
   "source": [
    "# Scatterplot 1.1 (Closed form solution) "
   ]
  },
  {
   "cell_type": "code",
   "execution_count": 2,
   "metadata": {},
   "outputs": [
    {
     "ename": "SyntaxError",
     "evalue": "invalid syntax (<ipython-input-2-2600117f2840>, line 3)",
     "output_type": "error",
     "traceback": [
      "\u001b[1;36m  File \u001b[1;32m\"<ipython-input-2-2600117f2840>\"\u001b[1;36m, line \u001b[1;32m3\u001b[0m\n\u001b[1;33m    plt.plot(x, 51.07 + -16.06*x + 2.36*x**2, [\"g\" for i in y_train ==-1, else \"r\"])\u001b[0m\n\u001b[1;37m                                                                        ^\u001b[0m\n\u001b[1;31mSyntaxError\u001b[0m\u001b[1;31m:\u001b[0m invalid syntax\n"
     ]
    }
   ],
   "source": [
    "x=np.linspace((X_OG.min()), 10)\n",
    "plt.plot(X_OG, Y, 'ro')\n",
    "plt.plot(x, 51.07 + -16.06*x + 2.36*x**2, [\"g\" for i in y_train ==-1, else \"r\"])\n",
    "plt.title(\"Scatter plot X and Y: With L2 Closed parabola estimation\")\n",
    "plt.xlabel(\"X\")\n",
    "plt.ylabel(\"Y\")\n",
    "plt.show()"
   ]
  },
  {
   "cell_type": "markdown",
   "metadata": {},
   "source": [
    "### 1.2 Parabola Estimation with L1 Norm (Gradient Descent)"
   ]
  },
  {
   "cell_type": "code",
   "execution_count": 11,
   "metadata": {},
   "outputs": [
    {
     "name": "stdout",
     "output_type": "stream",
     "text": [
      "[(300,), (300, 3), (1, 3)]\n"
     ]
    }
   ],
   "source": [
    "print ([i.shape for i in [Y ,X, W]])"
   ]
  },
  {
   "cell_type": "code",
   "execution_count": 12,
   "metadata": {
    "collapsed": true
   },
   "outputs": [],
   "source": [
    "#ORIGINAL WORKS\n",
    "def g_prime_W(X, Y, W):\n",
    "    #sign(f(W))*df(W)\n",
    "    A=(X.dot(W)-Y).T\n",
    "    A=np.sign(A)\n",
    "    return (A.dot(X)).T"
   ]
  },
  {
   "cell_type": "code",
   "execution_count": 13,
   "metadata": {},
   "outputs": [
    {
     "name": "stdout",
     "output_type": "stream",
     "text": [
      "(300, 3) (300, 1) (3, 1)\n",
      "Y = 0.98 + 1.45*X1 + 1.03*X2\n"
     ]
    }
   ],
   "source": [
    "W = np.matrix(np.zeros((3,1)))\n",
    "Y = Y.reshape(-1, 1)\n",
    "iter_length= 30000\n",
    "learning_rate= 0.000001\n",
    "W_diff=.00001\n",
    "print(X.shape, Y.shape, W.shape)\n",
    "\n",
    "#while True:\n",
    "for i in range(iter_length):\n",
    "    grad = g_prime_W(X, Y, W)\n",
    "    W_new = W - learning_rate * grad\n",
    "    if np.linalg.norm(W_new - W, ord = 1) < W_diff:\n",
    "        print(i)\n",
    "        break\n",
    "    W = W_new\n",
    "\n",
    "w0, w1, w2 = np.array(W).reshape(-1)\n",
    "print('Y = {:.2f} + {:.2f}*X1 + {:.2f}*X2'.format(w0, w1, w2))"
   ]
  },
  {
   "cell_type": "markdown",
   "metadata": {},
   "source": [
    "### 1.3 Parabola Estimation with L1 and L2 Norm (Gradient Descent)"
   ]
  },
  {
   "cell_type": "code",
   "execution_count": 14,
   "metadata": {
    "collapsed": true
   },
   "outputs": [],
   "source": [
    "# l1+l2 gradient descent\n",
    "#l2 gradient function\n",
    "def g_prime_W_l2(X, Y, W):\n",
    "    return 2*X.T.dot(X).dot(W) - 2*X.T.dot(Y)"
   ]
  },
  {
   "cell_type": "code",
   "execution_count": 15,
   "metadata": {
    "collapsed": true
   },
   "outputs": [],
   "source": [
    "#l1 gradient function\n",
    "def g_prime_W_l1(X, Y, W):\n",
    "    #sign(f(W))*df(W)\n",
    "    A=(X.dot(W)-Y).T\n",
    "    A=np.sign(A)\n",
    "    return (A.dot(X)).T"
   ]
  },
  {
   "cell_type": "code",
   "execution_count": 16,
   "metadata": {},
   "outputs": [
    {
     "name": "stdout",
     "output_type": "stream",
     "text": [
      "(300, 3) (300, 1) (3, 1)\n"
     ]
    }
   ],
   "source": [
    "W = np.matrix(np.zeros((3,1)))\n",
    "Y = Y.reshape(-1, 1)\n",
    "iter_length= 30000\n",
    "learning_rate= 0.000001\n",
    "W_diff=.00001\n",
    "print(X.shape, Y.shape, W.shape)\n",
    "def grad_descent(alpha,X, Y, W):\n",
    "    #while True:\n",
    "    for i in range(iter_length):\n",
    "        #prod=(g_prime_W_l1(X, Y, W).dot(learning_rate))\n",
    "        #change_=np.sum(prod + g_prime_W_l2(X, Y, W))\n",
    "        change_=(alpha*g_prime_W_l2(X, Y, W))+ (1-alpha)*(g_prime_W_l2(X, Y, W))\n",
    "        #print (change_)\n",
    "        W_new = W - learning_rate*change_\n",
    "        if np.linalg.norm(W_new - W, ord = 1) <= W_diff:\n",
    "            #print(i)\n",
    "            break\n",
    "        W = W_new\n",
    "    w0, w1, w2 = np.array(W).reshape(-1)\n",
    "    print('for alpha ={:.2f} Y = {:.2f} + {:.2f}*X1 + {:.2f}*X2'.format(alpha, w0, w1, w2))\n",
    "    return alpha, w0, w1, w2"
   ]
  },
  {
   "cell_type": "code",
   "execution_count": 17,
   "metadata": {},
   "outputs": [
    {
     "name": "stdout",
     "output_type": "stream",
     "text": [
      "for alpha =0.30 Y = 44.96 + -13.62*X1 + 2.16*X2\n",
      "for alpha =0.50 Y = 44.96 + -13.62*X1 + 2.16*X2\n",
      "for alpha =0.70 Y = 44.96 + -13.62*X1 + 2.16*X2\n"
     ]
    }
   ],
   "source": [
    "alpha, w0, w1, w2=grad_descent(.3, X, Y, W)\n",
    "alpha, w0, w1, w2=grad_descent(.5, X, Y, W)\n",
    "alpha, w0, w1, w2=grad_descent(.7, X, Y, W)"
   ]
  },
  {
   "cell_type": "markdown",
   "metadata": {},
   "source": [
    "### 1.4 Comparison (Visualization)"
   ]
  },
  {
   "cell_type": "code",
   "execution_count": 18,
   "metadata": {},
   "outputs": [
    {
     "data": {
      "image/png": "[encoded data removed]",
      "text/plain": [
       "<matplotlib.figure.Figure at 0x206a8497e48>"
      ]
     },
     "metadata": {},
     "output_type": "display_data"
    }
   ],
   "source": [
    "x=np.linspace((X_OG.min()), 10)\n",
    "plt.plot(X_OG, Y, 'ro')\n",
    "plt.plot(x, 51.07 + -16.06*x + 2.36*x**2, 'g', label=\"L2 Closed Form estimation\")\n",
    "plt.plot(x, 0.98 + 1.45*x + 1.03*x**2, 'b', label=\"L1 Gradient Descent estimation\")\n",
    "plt.plot(x, 44.67 + -13.53*x + 2.16*x**2, 'c', label=\"L1&L2 Gradient Descent estimation, alpha=.3\")\n",
    "plt.plot(x, 44.67 + -13.53*x + 2.16*x**2, 'm', label=\"L1&L2 Gradient Descent estimation, alpha=.5\")\n",
    "plt.plot(x, 44.67 + -13.53*x + 2.16*x**2, 'y', label=\"L1&L2 Gradient Descent estimation, alpha=.7\")\n",
    "plt.title(\"Scatter plot X and Y: With L1, L2, and L1&L2 Norms\")\n",
    "plt.xlabel(\"X\")\n",
    "plt.ylabel(\"Y\")\n",
    "plt.legend()\n",
    "plt.show()"
   ]
  },
  {
   "cell_type": "markdown",
   "metadata": {},
   "source": [
    "Compare the result from above three subsections (1.1-1.3) and plot all curves in one figure\n",
    "along with scatter graph of data. Try to explain the reason to  <br>(1) the position of each curve\n",
    "compared to the position of valid data points and outliers <br> (2) difference between L2 curve\n",
    "and L1 curve <br> (3) similarity among L2 curve and L1 + L2 curve <br>\n",
    "\n",
    "(1) In the fits shown above, it can be seen that the l1 norm gradient descent fitted the data trend best, while the other estimations put a high cost on the outlier points, causing the fit to look more parabolic than exponential. The l1 fit puts a higher cost on the points that are closer together than the points that are far away. As such, the outliers are avoided adn the trend is fitted well. <br/>\n",
    "<br/>\n",
    "(2) The difference between the l1 and l2 fit is that the l2 from tries to fit the outlier points while the l1 norm does not. While the l1 form is a better fit of the trend, l2 solutions are stable solutions that can be solved in closed form, guaranteeing one solution. In l1 estimations, the solution is robust but there may be other solutions. It just provides a very good, simple model to begin with. <br/> \n",
    "<br/>\n",
    "(3) The L2 curve looks very similiar to the L1+L2 curves because they all have the L2 term that puts a high cost on outliers. However, since the L1+L2 estimation combines the L1 cost that lowers the cost on outliers, the final line for L1+L2 fit is still parabolic and just below that of the l2 curve. For the L1+L2 fit, the L2 cost on the outliers overpowers the low cost put on the outliers by the L1 cost. "
   ]
  },
  {
   "cell_type": "markdown",
   "metadata": {},
   "source": [
    "## Q4 Logistic Regression"
   ]
  },
  {
   "cell_type": "markdown",
   "metadata": {},
   "source": [
    "### Original Data"
   ]
  },
  {
   "cell_type": "code",
   "execution_count": 19,
   "metadata": {},
   "outputs": [
    {
     "name": "stdout",
     "output_type": "stream",
     "text": [
      "number of training data is 70\n",
      "number of testing data is 30\n"
     ]
    }
   ],
   "source": [
    "import numpy as np\n",
    "from numpy.linalg import inv\n",
    "\n",
    "from tqdm import *\n",
    "import matplotlib.pyplot as plt\n",
    "from sklearn.utils import shuffle\n",
    "from sklearn.preprocessing import LabelEncoder\n",
    "%matplotlib inline\n",
    "\n",
    "# ---- set the figure size\n",
    "plt.rcParams['figure.figsize'] = 8,8\n",
    "\n",
    "# ---- load the data Q3_data.txt\n",
    "file_path = 'Q4_data.txt'\n",
    "\n",
    "data = np.genfromtxt(file_path,dtype=\"f8,f8,f8,f8,S20\",\n",
    "delimiter=',',names=['x1','x2','x3','x4','class'])\n",
    "\n",
    "# ---- split the data points into the training set and test set\n",
    "train_data = np.concatenate((data[15:50],data[65:]))\n",
    "test_data = np.concatenate((data[:15],data[50:65]))\n",
    "X_train = np.vstack([np.array((1,x[0],x[1],x[2],x[3])) for x in train_data])\n",
    "X_test = np.vstack([np.array((1,x[0],x[1],x[2],x[3])) for x in test_data])\n",
    "num_train = len(X_train)\n",
    "num_test = len(X_test)\n",
    "\n",
    "print(\"number of training data is \"+str(num_train))\n",
    "print(\"number of testing data is \"+str(num_test))\n",
    "\n",
    "# ---- convert the class names into categorical labels.\n",
    "le = LabelEncoder()\n",
    "le.fit(data['class'])\n",
    "y_train = le.transform(train_data['class']).reshape(num_train,1)\n",
    "y_test = le.transform(test_data['class']).reshape(num_test,1)\n",
    "\n",
    "# ---- initialize the weights and bias to 0\n",
    "# ---- we absorb the bias into the weights\n",
    "w = np.zeros((5,1))\n",
    "n_iter = 1000\n",
    "alpha = 0.01\n",
    "train_err = []"
   ]
  },
  {
   "cell_type": "code",
   "execution_count": 157,
   "metadata": {
    "collapsed": true
   },
   "outputs": [],
   "source": [
    "def sigmoid(expo):\n",
    "    return (1/(1+np.exp(expo)))\n",
    "\n",
    "\n",
    "def gradient(x, w, y):\n",
    "    A=np.dot((-(2*y-1)),(1- probability(x,w,y)))\n",
    "    B=np.multiply(A,x)\n",
    "    return B\n",
    "\n",
    "\n",
    "\n",
    "def probability(x,w,y):\n",
    "    return (sigmoid(np.dot(((-(2*y-1)).T),((np.dot(w.T, x.T)).T))))\n",
    "\n",
    "\n",
    "\n",
    "def return_class(x,w,y):\n",
    "    B = [probability(x,w,y) >= .5]\n",
    "    y_pred=B.astype(np.int)\n",
    "   \n",
    "    return y_pred\n"
   ]
  },
  {
   "cell_type": "code",
   "execution_count": 158,
   "metadata": {},
   "outputs": [
    {
     "ename": "ValueError",
     "evalue": "operands could not be broadcast together with shapes (1,5) (5,70) ",
     "output_type": "error",
     "traceback": [
      "\u001b[1;31m---------------------------------------------------------------------------\u001b[0m",
      "\u001b[1;31mValueError\u001b[0m                                Traceback (most recent call last)",
      "\u001b[1;32m<ipython-input-158-21193e7737c5>\u001b[0m in \u001b[0;36m<module>\u001b[1;34m()\u001b[0m\n\u001b[0;32m      1\u001b[0m \u001b[1;32mfor\u001b[0m \u001b[0mi\u001b[0m \u001b[1;32min\u001b[0m \u001b[0mrange\u001b[0m\u001b[1;33m(\u001b[0m\u001b[0mn_iter\u001b[0m\u001b[1;33m)\u001b[0m\u001b[1;33m:\u001b[0m\u001b[1;33m\u001b[0m\u001b[0m\n\u001b[0;32m      2\u001b[0m     \u001b[0mw_old\u001b[0m\u001b[1;33m=\u001b[0m\u001b[0mw\u001b[0m\u001b[1;33m\u001b[0m\u001b[0m\n\u001b[1;32m----> 3\u001b[1;33m     \u001b[0mw_new\u001b[0m\u001b[1;33m=\u001b[0m \u001b[0mw_old\u001b[0m\u001b[1;33m.\u001b[0m\u001b[0mT\u001b[0m \u001b[1;33m-\u001b[0m \u001b[1;33m(\u001b[0m\u001b[0malpha\u001b[0m\u001b[1;33m*\u001b[0m \u001b[1;33m(\u001b[0m\u001b[0mgradient\u001b[0m\u001b[1;33m(\u001b[0m\u001b[0mX_train\u001b[0m\u001b[1;33m,\u001b[0m \u001b[0mw\u001b[0m\u001b[1;33m,\u001b[0m \u001b[0my_train\u001b[0m\u001b[1;33m)\u001b[0m\u001b[1;33m)\u001b[0m\u001b[1;33m.\u001b[0m\u001b[0mT\u001b[0m\u001b[1;33m)\u001b[0m\u001b[1;33m\u001b[0m\u001b[0m\n\u001b[0m\u001b[0;32m      4\u001b[0m     \u001b[0mpredicted\u001b[0m\u001b[1;33m=\u001b[0m\u001b[0mreturn_class\u001b[0m\u001b[1;33m(\u001b[0m\u001b[0mX_train\u001b[0m\u001b[1;33m,\u001b[0m \u001b[0mw\u001b[0m\u001b[1;33m,\u001b[0m \u001b[0my_train\u001b[0m\u001b[1;33m)\u001b[0m\u001b[1;33m\u001b[0m\u001b[0m\n\u001b[0;32m      5\u001b[0m     \u001b[0mtrain_error\u001b[0m\u001b[1;33m=\u001b[0m \u001b[1;33m(\u001b[0m\u001b[0mabs\u001b[0m\u001b[1;33m(\u001b[0m\u001b[0my_train\u001b[0m\u001b[1;33m-\u001b[0m \u001b[0mpredicted\u001b[0m\u001b[1;33m)\u001b[0m\u001b[1;33m.\u001b[0m\u001b[0msum\u001b[0m\u001b[1;33m(\u001b[0m\u001b[1;33m)\u001b[0m\u001b[1;33m)\u001b[0m\u001b[1;33m/\u001b[0m \u001b[0mlen\u001b[0m\u001b[1;33m(\u001b[0m\u001b[0my_train\u001b[0m\u001b[1;33m)\u001b[0m\u001b[1;33m\u001b[0m\u001b[0m\n",
      "\u001b[1;31mValueError\u001b[0m: operands could not be broadcast together with shapes (1,5) (5,70) "
     ]
    }
   ],
   "source": [
    "for i in range(n_iter):\n",
    "    w_old=w\n",
    "    w_new= w_old.T - (alpha* (gradient(X_train, w, y_train)).T)\n",
    "    predicted=return_class(X_train, w, y_train)\n",
    "    train_error= (abs(y_train- predicted).sum())/ len(y_train)\n",
    "    print (train_error)"
   ]
  },
  {
   "cell_type": "code",
   "execution_count": 156,
   "metadata": {},
   "outputs": [
    {
     "data": {
      "text/plain": [
       "array([[0.5]])"
      ]
     },
     "execution_count": 156,
     "metadata": {},
     "output_type": "execute_result"
    }
   ],
   "source": [
    "probability(X_train,w,y_train)"
   ]
  },
  {
   "cell_type": "code",
   "execution_count": null,
   "metadata": {
    "collapsed": true
   },
   "outputs": [],
   "source": [
    "np.multiply(-(2*y-1), "
   ]
  },
  {
   "cell_type": "code",
   "execution_count": 47,
   "metadata": {},
   "outputs": [
    {
     "data": {
      "text/plain": [
       "(1, 70)"
      ]
     },
     "execution_count": 47,
     "metadata": {},
     "output_type": "execute_result"
    }
   ],
   "source": [
    "(np.dot(w.T,X_train.T)).shape"
   ]
  },
  {
   "cell_type": "code",
   "execution_count": 152,
   "metadata": {},
   "outputs": [
    {
     "data": {
      "text/plain": [
       "array([[ 0.005 ,  0.028 ,  0.015 ,  0.0205,  0.0065],\n",
       "       [ 0.005 ,  0.0275,  0.0125,  0.02  ,  0.0065],\n",
       "       [ 0.005 ,  0.0275,  0.013 ,  0.022 ,  0.006 ],\n",
       "       [ 0.005 ,  0.0305,  0.015 ,  0.023 ,  0.007 ],\n",
       "       [ 0.005 ,  0.029 ,  0.013 ,  0.02  ,  0.006 ],\n",
       "       [ 0.005 ,  0.025 ,  0.0115,  0.0165,  0.005 ],\n",
       "       [ 0.005 ,  0.028 ,  0.0135,  0.021 ,  0.0065],\n",
       "       [ 0.005 ,  0.0285,  0.015 ,  0.021 ,  0.006 ],\n",
       "       [ 0.005 ,  0.0285,  0.0145,  0.021 ,  0.0065],\n",
       "       [ 0.005 ,  0.031 ,  0.0145,  0.0215,  0.0065],\n",
       "       [ 0.005 ,  0.0255,  0.0125,  0.015 ,  0.0055],\n",
       "       [ 0.005 ,  0.0285,  0.014 ,  0.0205,  0.0065],\n",
       "       [ 0.005 ,  0.035 ,  0.016 ,  0.0235,  0.007 ],\n",
       "       [ 0.005 ,  0.032 ,  0.016 ,  0.0225,  0.0075],\n",
       "       [ 0.005 ,  0.0345,  0.0155,  0.0245,  0.0075],\n",
       "       [ 0.005 ,  0.0275,  0.0115,  0.02  ,  0.0065],\n",
       "       [ 0.005 ,  0.0325,  0.014 ,  0.023 ,  0.0075],\n",
       "       [ 0.005 ,  0.0285,  0.014 ,  0.0225,  0.0065],\n",
       "       [ 0.005 ,  0.0315,  0.0165,  0.0235,  0.008 ],\n",
       "       [ 0.005 ,  0.0245,  0.012 ,  0.0165,  0.005 ],\n",
       "       [ 0.005 ,  0.033 ,  0.0145,  0.023 ,  0.0065],\n",
       "       [ 0.005 ,  0.026 ,  0.0135,  0.0195,  0.007 ],\n",
       "       [ 0.005 ,  0.025 ,  0.01  ,  0.0175,  0.005 ],\n",
       "       [ 0.005 ,  0.0295,  0.015 ,  0.021 ,  0.0075],\n",
       "       [ 0.005 ,  0.03  ,  0.011 ,  0.02  ,  0.005 ],\n",
       "       [ 0.005 ,  0.0305,  0.0145,  0.0235,  0.007 ],\n",
       "       [ 0.005 ,  0.028 ,  0.0145,  0.018 ,  0.0065],\n",
       "       [ 0.005 ,  0.0335,  0.0155,  0.022 ,  0.007 ],\n",
       "       [ 0.005 ,  0.028 ,  0.015 ,  0.0225,  0.0075],\n",
       "       [ 0.005 ,  0.029 ,  0.0135,  0.0205,  0.005 ],\n",
       "       [ 0.005 ,  0.032 ,  0.0145,  0.0215,  0.0065],\n",
       "       [ 0.005 ,  0.033 ,  0.015 ,  0.022 ,  0.007 ],\n",
       "       [ 0.005 ,  0.034 ,  0.014 ,  0.024 ,  0.007 ],\n",
       "       [ 0.005 ,  0.0335,  0.015 ,  0.025 ,  0.0085],\n",
       "       [ 0.005 ,  0.03  ,  0.0145,  0.0225,  0.0075],\n",
       "       [-0.005 , -0.032 , -0.016 , -0.0265, -0.0115],\n",
       "       [-0.005 , -0.0325, -0.015 , -0.0275, -0.009 ],\n",
       "       [-0.005 , -0.0385, -0.019 , -0.0335, -0.011 ],\n",
       "       [-0.005 , -0.0385, -0.013 , -0.0345, -0.0115],\n",
       "       [-0.005 , -0.03  , -0.011 , -0.025 , -0.0075],\n",
       "       [-0.005 , -0.0345, -0.016 , -0.0285, -0.0115],\n",
       "       [-0.005 , -0.028 , -0.014 , -0.0245, -0.01  ],\n",
       "       [-0.005 , -0.0385, -0.014 , -0.0335, -0.01  ],\n",
       "       [-0.005 , -0.0315, -0.0135, -0.0245, -0.009 ],\n",
       "       [-0.005 , -0.0335, -0.0165, -0.0285, -0.0105],\n",
       "       [-0.005 , -0.036 , -0.016 , -0.03  , -0.009 ],\n",
       "       [-0.005 , -0.031 , -0.014 , -0.024 , -0.009 ],\n",
       "       [-0.005 , -0.0305, -0.015 , -0.0245, -0.009 ],\n",
       "       [-0.005 , -0.032 , -0.014 , -0.028 , -0.0105],\n",
       "       [-0.005 , -0.036 , -0.015 , -0.029 , -0.008 ],\n",
       "       [-0.005 , -0.037 , -0.014 , -0.0305, -0.0095],\n",
       "       [-0.005 , -0.0395, -0.019 , -0.032 , -0.01  ],\n",
       "       [-0.005 , -0.032 , -0.014 , -0.028 , -0.011 ],\n",
       "       [-0.005 , -0.0315, -0.014 , -0.0255, -0.0075],\n",
       "       [-0.005 , -0.0305, -0.013 , -0.028 , -0.007 ],\n",
       "       [-0.005 , -0.0385, -0.015 , -0.0305, -0.0115],\n",
       "       [-0.005 , -0.0315, -0.017 , -0.028 , -0.012 ],\n",
       "       [-0.005 , -0.032 , -0.0155, -0.0275, -0.009 ],\n",
       "       [-0.005 , -0.03  , -0.015 , -0.024 , -0.009 ],\n",
       "       [-0.005 , -0.0345, -0.0155, -0.027 , -0.0105],\n",
       "       [-0.005 , -0.0335, -0.0155, -0.028 , -0.012 ],\n",
       "       [-0.005 , -0.0345, -0.0155, -0.0255, -0.0115],\n",
       "       [-0.005 , -0.029 , -0.0135, -0.0255, -0.0095],\n",
       "       [-0.005 , -0.034 , -0.016 , -0.0295, -0.0115],\n",
       "       [-0.005 , -0.0335, -0.0165, -0.0285, -0.0125],\n",
       "       [-0.005 , -0.0335, -0.015 , -0.026 , -0.0115],\n",
       "       [-0.005 , -0.0315, -0.0125, -0.025 , -0.0095],\n",
       "       [-0.005 , -0.0325, -0.015 , -0.026 , -0.01  ],\n",
       "       [-0.005 , -0.031 , -0.017 , -0.027 , -0.0115],\n",
       "       [-0.005 , -0.0295, -0.015 , -0.0255, -0.009 ]])"
      ]
     },
     "execution_count": 152,
     "metadata": {},
     "output_type": "execute_result"
    }
   ],
   "source": [
    "(alpha*gradient(X_train, w, y_train))"
   ]
  },
  {
   "cell_type": "code",
   "execution_count": 99,
   "metadata": {},
   "outputs": [
    {
     "data": {
      "text/plain": [
       "array([[0., 0., 0., 0., 0., 0., 0., 0., 0., 0., 0., 0., 0., 0., 0., 0.,\n",
       "        0., 0., 0., 0., 0., 0., 0., 0., 0., 0., 0., 0., 0., 0., 0., 0.,\n",
       "        0., 0., 0., 0., 0., 0., 0., 0., 0., 0., 0., 0., 0., 0., 0., 0.,\n",
       "        0., 0., 0., 0., 0., 0., 0., 0., 0., 0., 0., 0., 0., 0., 0., 0.,\n",
       "        0., 0., 0., 0., 0., 0.]])"
      ]
     },
     "execution_count": 99,
     "metadata": {},
     "output_type": "execute_result"
    }
   ],
   "source": [
    "np.dot(w.T, X_train.T)"
   ]
  },
  {
   "cell_type": "code",
   "execution_count": null,
   "metadata": {
    "collapsed": true
   },
   "outputs": [],
   "source": []
  },
  {
   "cell_type": "code",
   "execution_count": null,
   "metadata": {
    "collapsed": true
   },
   "outputs": [],
   "source": []
  },
  {
   "cell_type": "markdown",
   "metadata": {},
   "source": [
    "### 4.2 Training with Training curve."
   ]
  },
  {
   "cell_type": "markdown",
   "metadata": {},
   "source": [
    "### 4.3 Decision Boundary (Equation & Plot)"
   ]
  },
  {
   "cell_type": "code",
   "execution_count": null,
   "metadata": {
    "collapsed": true
   },
   "outputs": [],
   "source": []
  },
  {
   "cell_type": "markdown",
   "metadata": {},
   "source": [
    "### 4.4 Test (Report Accuracy)"
   ]
  },
  {
   "cell_type": "code",
   "execution_count": null,
   "metadata": {
    "collapsed": true
   },
   "outputs": [],
   "source": []
  },
  {
   "cell_type": "markdown",
   "metadata": {},
   "source": []
  },
  {
   "cell_type": "code",
   "execution_count": null,
   "metadata": {
    "collapsed": true
   },
   "outputs": [],
   "source": []
  },
  {
   "cell_type": "code",
   "execution_count": null,
   "metadata": {
    "collapsed": true
   },
   "outputs": [],
   "source": []
  }
 ],
 "metadata": {
  "kernelspec": {
   "display_name": "Python 3",
   "language": "python",
   "name": "python3"
  },
  "language_info": {
   "codemirror_mode": {
    "name": "ipython",
    "version": 3
   },
   "file_extension": ".py",
   "mimetype": "text/x-python",
   "name": "python",
   "nbconvert_exporter": "python",
   "pygments_lexer": "ipython3",
   "version": "3.6.3"
  }
 },
 "nbformat": 4,
 "nbformat_minor": 2
}
