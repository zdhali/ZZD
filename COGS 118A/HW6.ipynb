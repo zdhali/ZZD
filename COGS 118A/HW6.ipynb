{
 "cells": [
  {
   "cell_type": "markdown",
   "metadata": {},
   "source": [
    "Zafrin Dhali<br> \n",
    "A12122669<br> \n",
    "Cogs 118a<br>\n",
    "<br> \n",
    "## 1 \n",
    "<p>\n",
    "1. Which of the following statement(s) is/are true regarding the SVM classifier?<br>\n",
    "<b>A. The margin definition in the SVM formulation can be considered as a regularization\n",
    "term to prevent overfitting.</b><br>\n",
    "B. Any function can be used a kernel function.<br>\n",
    "C. Using a valid kernel, an SVM classifier can be trained without knowing the\n",
    "feature values for each sample.<br>\n",
    "<b>D. The so-called “support vectors” refer to the positive and negative planes.</b><br></p>\n",
    "\n",
    "<p>\n",
    "2. Which of the following statement(s) is/are true regarding the decision tree\n",
    "classifier?<br>\n",
    "A. When training a decision tree classifier, the depth of the tree goes linearly\n",
    "with respect to the number of training samples.<br>\n",
    "<b>B. The training objective function for a decision tree classifier has in general no\n",
    "analytic form to optimize for.</b><br>\n",
    "<b>C. Tree pruning can be used to prevent overfitting.</b><br>\n",
    "<b>D. In general, the deeper a decision tree is, the more complex the decision\n",
    "boundary is.</b><br></p>\n"
   ]
  },
  {
   "cell_type": "markdown",
   "metadata": {
    "collapsed": true
   },
   "source": [
    "# Problem 2, 3, 4 "
   ]
  },
  {
   "cell_type": "code",
   "execution_count": null,
   "metadata": {
    "collapsed": true
   },
   "outputs": [],
   "source": []
  },
  {
   "cell_type": "code",
   "execution_count": null,
   "metadata": {
    "collapsed": true
   },
   "outputs": [],
   "source": []
  },
  {
   "cell_type": "markdown",
   "metadata": {},
   "source": [
    "## 5 Decision Tree"
   ]
  },
  {
   "cell_type": "code",
   "execution_count": 1,
   "metadata": {
    "collapsed": true
   },
   "outputs": [],
   "source": [
    "import scipy.io as sio\n",
    "import matplotlib.pyplot as plt\n",
    "import numpy as np\n",
    "import seaborn as sns\n",
    "from sklearn import tree\n",
    "from sklearn.model_selection import GridSearchCV\n",
    "%config InlineBackend.figure_format = 'retina'"
   ]
  },
  {
   "cell_type": "code",
   "execution_count": null,
   "metadata": {},
   "outputs": [],
   "source": [
    "# 1) Load data.\n",
    "\n",
    "X_and_Y = np.load('ionosphere.npy').astype(np.float32) # Load data from file.\n",
    "np.random.shuffle(X_and_Y)   # Shuffle the data.\n",
    "X = X_and_Y[:, 0:-1]         # First column to second last column: Features (numerical values) \n",
    "Y = X_and_Y[:, -1]           # Last column: Labels (0 or 1)\n",
    "print(X.shape, Y.shape)      # Check the shapes."
   ]
  },
  {
   "cell_type": "code",
   "execution_count": null,
   "metadata": {},
   "outputs": [],
   "source": [
    "# 2) Split the dataset into 2 parts: \n",
    "#    (a) Training set + Validation set  (80% of all data points)\n",
    "#    (b) Test set                       (20% of all data points)\n",
    "\n",
    "X_train_val = X[:int(0.8*len(X))] # Get features from train + val set.\n",
    "X_test      = X[int(0.8*len(X)):] # Get features from test set.     \n",
    "Y_train_val = Y[:int(0.8*len(Y))] # Get labels from train + val set.\n",
    "Y_test      = Y[int(0.8*len(Y)):] # Get labels from test set.\n",
    "print(X_train_val.shape, X_test.shape, Y_train_val.shape, Y_test.shape)"
   ]
  },
  {
   "cell_type": "code",
   "execution_count": null,
   "metadata": {
    "collapsed": true
   },
   "outputs": [],
   "source": [
    "# 3) Perform grid search for best D using sklearn\n",
    "\n",
    "#######FILL IN HERE #########\n",
    "\n",
    "\n",
    "param_grid={\"\"}\n",
    "\n",
    "# 1) Implement a simple cross-validation.\n",
    "def simple_cross_validation(X_train_val, Y_train_val, D, fold):\n",
    "    \"\"\"\n",
    "    A simple cross-validation function.\n",
    "    We assume the SVM with the RBF kernel.\n",
    "    \n",
    "    X_train_val: Features for train and val set. \n",
    "                 Shape: (num of data points, num of features)\n",
    "    Y_train_val: Labels for train and val set.\n",
    "                 Shape: (num of data points,)\n",
    "    C:           Parameter C for SVM.\n",
    "    fold:        The number of folds to do the cross-validation.\n",
    "    \n",
    "    Return the average accuracy on validation set.\n",
    "    \"\"\"\n",
    "    val_acc_list = []\n",
    "    train_acc_list = []\n",
    "    number = len(Y_train_val)//fold\n",
    "    for i in range(fold):\n",
    "        X_test = X_train_val[i*number:(i+1)*number,:]\n",
    "        Y_test = Y_train_val[i*number:(i+1)*number]\n",
    "        X_train = np.delete(X_train_val, slice(i*number,(i+1)*number),axis = 0)\n",
    "        Y_train = np.delete(Y_train_val, slice(i*number,(i+1)*number),axis = 0)\n",
    "        #classifier\n",
    "        clf_tree =tree.DecisionTreeClassifier(criterion=\"entropy\", max_depth=D)\n",
    "\n",
    "        clf_tree.fit(X_train,Y_train)\n",
    "        train_acc = clf_tree.score(X_train,Y_train)\n",
    "        val_acc = clf_tree.score(X_test,Y_test)\n",
    "        #__________________\n",
    "        val_acc_list.append(val_acc)\n",
    "        train_acc_list.append(train_acc)\n",
    "        \n",
    "    return sum(val_acc_list) / len(val_acc_list), \\\n",
    "           sum(train_acc_list) / len(train_acc_list)"
   ]
  },
  {
   "cell_type": "code",
   "execution_count": null,
   "metadata": {
    "collapsed": true
   },
   "outputs": [],
   "source": [
    "def simple_GridSearchCV_fit(X_train_val, Y_train_val, D_list, fold):\n",
    "    \"\"\"\n",
    "    A simple grid search function for C and gamma with cross-validation. \n",
    "    We assume the SVM with the RBF kernel.\n",
    "    \n",
    "    X_train_val: Features for train and val set. \n",
    "                 Shape: (num of data points, num of features)\n",
    "    Y_train_val: Labels for train and val set.\n",
    "                 Shape: (num of data points,)\n",
    "    C_list:      The list of C values to try.\n",
    "    fold:        The number of folds to do the cross-validation.\n",
    "    \n",
    "    Return the val and train accuracy matrix of cross-validation. \n",
    "    All combinations of C and gamma are\n",
    "    included in the matrix. Shape: (len(C_list),1)\n",
    "    \"\"\"\n",
    "    val_acc_matrix   = np.zeros((len(D_list),1))\n",
    "    train_acc_matrix = np.zeros((len(D_list),1))\n",
    "    for i in range(len(D_list)):\n",
    "        val_acc_matrix[i], train_acc_matrix[i]= simple_cross_validation( \\\n",
    "            X_train_val, Y_train_val, D_list[i], fold)\n",
    "    return val_acc_matrix, train_acc_matrix"
   ]
  },
  {
   "cell_type": "code",
   "execution_count": null,
   "metadata": {
    "collapsed": true
   },
   "outputs": [],
   "source": [
    "D_list=[1,2,3,4,5]"
   ]
  },
  {
   "cell_type": "code",
   "execution_count": null,
   "metadata": {
    "collapsed": true
   },
   "outputs": [],
   "source": [
    "val_acc_matrix, train_acc_matrix = \\\n",
    "    simple_GridSearchCV_fit(X_train_val, Y_train_val, D_list, 5)"
   ]
  },
  {
   "cell_type": "code",
   "execution_count": null,
   "metadata": {},
   "outputs": [],
   "source": [
    "# 4) Draw heatmaps for result of grid search and find \n",
    "#    optimal D for validation set.\n",
    "def draw_heatmap_linear(acc, acc_desc, depth_list):\n",
    "    plt.figure(figsize = (2,4))\n",
    "    ax = sns.heatmap(acc, annot=True, fmt='.3f', yticklabels=depth_list, xticklabels=[])\n",
    "    ax.collections[0].colorbar.set_label(\"accuracy\")\n",
    "    ax.set(ylabel='depth')\n",
    "    plt.title(acc_desc + ' w.r.t depth')\n",
    "    sns.set_style(\"whitegrid\", {'axes.grid' : False})\n",
    "    plt.show()\n",
    "    \n",
    "    \n",
    "#######FILL IN HERE #########  \n",
    "\n",
    "\n",
    "draw_heatmap_linear(train_acc_matrix, 'train accuracy', D_list)\n",
    "draw_heatmap_linear(val_acc_matrix, 'val accuracy',  D_list)"
   ]
  },
  {
   "cell_type": "code",
   "execution_count": null,
   "metadata": {},
   "outputs": [],
   "source": [
    "# 5) Use the optimal D to calculate the test accuracy.\n",
    "#optimal D = 3\n",
    "#######FILL IN HERE #########\n",
    "#classifierf\n",
    "clf_tree =tree.DecisionTreeClassifier(criterion=\"entropy\", max_depth=3)\n",
    "clf_tree.fit(X_train_val,Y_train_val)\n",
    "train_acc = clf_tree.score(X_train_val,Y_train_val)\n",
    "test_acc = clf_tree.score(X_test,Y_test)\n",
    "print (\"Test Accuracy:\", test_acc)"
   ]
  },
  {
   "cell_type": "markdown",
   "metadata": {},
   "source": [
    "## 6 K-Nearest Neighbors"
   ]
  },
  {
   "cell_type": "code",
   "execution_count": 2,
   "metadata": {
    "collapsed": true
   },
   "outputs": [],
   "source": [
    "from scipy.spatial import distance\n",
    "import heapq\n",
    "from statistics import mode\n",
    "import random\n"
   ]
  },
  {
   "cell_type": "code",
   "execution_count": 3,
   "metadata": {},
   "outputs": [
    {
     "name": "stdout",
     "output_type": "stream",
     "text": [
      "(351, 34) (351,)\n"
     ]
    }
   ],
   "source": [
    "# 1) Load data.\n",
    "\n",
    "X_and_Y = np.load('ionosphere.npy').astype(np.float32) # Load data from file.\n",
    "np.random.seed(0)\n",
    "np.random.shuffle(X_and_Y)   # Shuffle the data.\n",
    "X = X_and_Y[:, 0:-1]         # First column to second last column: Features (numerical values) \n",
    "Y = X_and_Y[:, -1]           # Last column: Labels (0 or 1)\n",
    "print(X.shape, Y.shape)      # Check the shapes."
   ]
  },
  {
   "cell_type": "code",
   "execution_count": 4,
   "metadata": {},
   "outputs": [
    {
     "name": "stdout",
     "output_type": "stream",
     "text": [
      "(280, 34) (71, 34) (280,) (71,)\n"
     ]
    }
   ],
   "source": [
    "# 2) Split the dataset into 2 parts: \n",
    "#    (a) Training set + Validation set  (80% of all data points)\n",
    "#    (b) Test set                       (20% of all data points)\n",
    "\n",
    "X_train_val = X[:int(0.8*len(X))] # Get features from train + val set.\n",
    "X_test      = X[int(0.8*len(X)):] # Get features from test set.     \n",
    "Y_train_val = Y[:int(0.8*len(Y))] # Get labels from train + val set.\n",
    "Y_test      = Y[int(0.8*len(Y)):] # Get labels from test set.  \n",
    "print(X_train_val.shape, X_test.shape, Y_train_val.shape, Y_test.shape)"
   ]
  },
  {
   "cell_type": "code",
   "execution_count": 5,
   "metadata": {
    "collapsed": true
   },
   "outputs": [],
   "source": [
    "# 3) Implement the k-NN.\n",
    "class simple_KNeighborsClassifier(object):\n",
    "    def __init__(self, k):\n",
    "        \"\"\"\n",
    "        k-NN initialization.\n",
    "            k: Number of nearest neighbors.\n",
    "        \"\"\"\n",
    "        self.k = k\n",
    "    def fit(self, X_train, Y_train):\n",
    "        \"\"\"\n",
    "        k-NN fitting function.\n",
    "            X_train: Feature vectors in training set.\n",
    "            Y_train: Labels in training set.\n",
    "        \"\"\"\n",
    "        self.X_train = X_train\n",
    "        self.Y_train = Y_train\n",
    "        \n",
    "        \n",
    "    def predict(self, X_pred):\n",
    "        \"\"\"\n",
    "        k-NN prediction function.\n",
    "            X_pred: Feature vectors in training set.\n",
    "        Return the predicted labels for X_pred. Shape: (len(X_pred), )\n",
    "        \"\"\"\n",
    "        X_train=self.X_train\n",
    "        Y_train=self.Y_train\n",
    "        k=self.k\n",
    "        list_of_euc_distances=[]\n",
    "        Y_pred_list=[]\n",
    "        for r in range(len(X_pred)):\n",
    "            for i in (range(len(X_train))):\n",
    "                dist=distance.euclidean(X_pred[r], X_train[i])\n",
    "                list_of_euc_distances.append([dist,i])\n",
    "                euc_dist_sorted=(sorted(list_of_euc_distances, key = lambda x: x[0]))\n",
    "            top_k_neighbors=euc_dist_sorted[0:k]\n",
    "            top_k_y_labels=[]\n",
    "            for i in range(k):\n",
    "                index=top_k_neighbors[i][1]\n",
    "                top_k_y_labels.append(Y_train[index])\n",
    "            count_a=0\n",
    "            count_b=0\n",
    "            for i in range(len(top_k_y_labels)):\n",
    "                if top_k_y_labels[i]==0:\n",
    "                    count_a+=1\n",
    "                if top_k_y_labels[i]==1:\n",
    "                    count_b+=1\n",
    "            if count_a>count_b:\n",
    "                Y_pred=-1\n",
    "            if count_b>count_a:\n",
    "                Y_pred=1\n",
    "            if count_b==count_a:\n",
    "                Y_pred=random.choice([-1,1])\n",
    "            #print ((sorted(list_of_euc_distances, key = lambda x: x[0])))\n",
    "            #print(top_k_y_labels, Y_pred)\n",
    "            Y_pred_list.append(Y_pred)\n",
    "            #print (count_a, count_b, Y_pred)\n",
    "        \n",
    "    \n",
    "                \n",
    "\n",
    "            \n",
    "        \n",
    "        #######FILL IN HERE #########\n",
    "        \n",
    "        return Y_pred_list\n",
    "    def score(self, Y_pred_list, Y_Labels):\n",
    "        accuracy_list=[]\n",
    "        for i in range(len(Y_pred_list)):\n",
    "            if Y_pred_list[i]==Y_Labels[i]:\n",
    "                score=1\n",
    "            else:\n",
    "                score=0\n",
    "            accuracy_list.append(score)\n",
    "        accuracy=sum(accuracy_list)/len(accuracy_list)\n",
    "        return accuracy"
   ]
  },
  {
   "cell_type": "code",
   "execution_count": 6,
   "metadata": {
    "collapsed": true
   },
   "outputs": [],
   "source": [
    "KNN=simple_KNeighborsClassifier(5)\n",
    "KNN.k\n",
    "KNN.fit(X_train_val, Y_train_val)\n",
    "Y_pred_list=KNN.predict(X_train_val)\n"
   ]
  },
  {
   "cell_type": "code",
   "execution_count": 7,
   "metadata": {},
   "outputs": [
    {
     "data": {
      "text/plain": [
       "0.38571428571428573"
      ]
     },
     "execution_count": 7,
     "metadata": {},
     "output_type": "execute_result"
    }
   ],
   "source": [
    "KNN.score(Y_pred_list, Y_train_val)"
   ]
  },
  {
   "cell_type": "code",
   "execution_count": 8,
   "metadata": {
    "collapsed": true
   },
   "outputs": [],
   "source": [
    "# 4) Implement the cross-validation.\n",
    "def simple_cross_validation(X_train_val, Y_train_val, k, fold):\n",
    "    \"\"\"\n",
    "    A simple cross-validation function for k-NN.\n",
    "    \n",
    "    X_train_val: Features for train and val set. \n",
    "                 Shape: (num of data points, num of features)\n",
    "    Y_train_val: Labels for train and val set.\n",
    "                 Shape: (num of data points,)\n",
    "    k:           Parameter k for k-NN.\n",
    "    fold:        The number of folds to do the cross-validation.\n",
    "    \n",
    "    Return the `average accuracy on validation set.\n",
    "    \"\"\"\n",
    "    val_acc_list = []\n",
    "    train_acc_list = []\n",
    "    number = len(Y_train_val)//fold\n",
    "\n",
    "    for i in range(fold):\n",
    "        #######FILL IN HERE #########\n",
    "        \n",
    "        X_test = X_train_val[i*number:(i+1)*number,:]\n",
    "        Y_test = Y_train_val[i*number:(i+1)*number]\n",
    "        X_train = np.delete(X_train_val, slice(i*number,(i+1)*number),axis = 0)\n",
    "        Y_train = np.delete(Y_train_val, slice(i*number,(i+1)*number),axis = 0)\n",
    "        KNN=simple_KNeighborsClassifier(k)\n",
    "        KNN.fit(X_train, Y_train)\n",
    "        Y_pred_list=KNN.predict(X_train)\n",
    "        train_acc=KNN.score(Y_pred_list, Y_train)\n",
    "        Y_pred_list=KNN.predict(X_test)\n",
    "        val_acc=KNN.score(Y_pred_list, Y_test)\n",
    "        val_acc_list.append(val_acc)\n",
    "        train_acc_list.append(train_acc)\n",
    "        \n",
    "    return sum(val_acc_list) / len(val_acc_list), \\\n",
    "           sum(train_acc_list) / len(train_acc_list)"
   ]
  },
  {
   "cell_type": "code",
   "execution_count": 9,
   "metadata": {},
   "outputs": [],
   "source": [
    "vac_accuracy, train_accuracy=simple_cross_validation(X_train_val, Y_train_val, 5, 3)"
   ]
  },
  {
   "cell_type": "code",
   "execution_count": 10,
   "metadata": {
    "collapsed": true
   },
   "outputs": [],
   "source": [
    "# 5) Implement the grid search function.\n",
    "\n",
    "def simple_GridSearchCV_fit(X_train_val, Y_train_val, k_list, fold):\n",
    "    \"\"\"\n",
    "    A simple grid search function for k with cross-validation in k-NN.\n",
    "    \n",
    "    X_train_val: Features for train and val set. \n",
    "                 Shape: (num of data points, num of features)\n",
    "    Y_train_val: Labels for train and val set.\n",
    "                 Shape: (num of data points,)\n",
    "    k_list:      The list of k values to try.\n",
    "    fold:        The number of folds to do the cross-validation.\n",
    "    \n",
    "    Return the val and train accuracy matrix of cross-validation. \n",
    "    All combinations of k are included in the array. \n",
    "    Shape: (len(k_list), )\n",
    "    \"\"\"\n",
    "    val_acc_array = np.zeros(len(k_list))\n",
    "    train_acc_array = np.zeros(len(k_list))\n",
    "    for i in range(len(k_list)):\n",
    "        val_acc_array[i], train_acc_array[i] = simple_cross_validation(\n",
    "            X_train_val, Y_train_val, k_list[i], fold)\n",
    "    return val_acc_array, train_acc_array"
   ]
  },
  {
   "cell_type": "code",
   "execution_count": 11,
   "metadata": {
    "collapsed": true
   },
   "outputs": [],
   "source": [
    "# 6) Perform grid search.\n",
    "\n",
    "k_list = [1,2,3,4,5,6]\n",
    "val_acc_array, train_acc_array = simple_GridSearchCV_fit(X_train_val, Y_train_val, k_list, 3)"
   ]
  },
  {
   "cell_type": "code",
   "execution_count": 12,
   "metadata": {
    "collapsed": true
   },
   "outputs": [],
   "source": [
    "# 7) Draw heatmaps for result of grid search and find \n",
    "#    best k on validation set.\n",
    "\n",
    "def draw_heatmap_knn(acc, acc_desc, k_list):\n",
    "    plt.figure(figsize = (2,4))\n",
    "    ax = sns.heatmap(acc, annot=True, fmt='.3f', yticklabels=k_list, xticklabels=[])\n",
    "    ax.collections[0].colorbar.set_label(\"accuracy\")\n",
    "    ax.set(ylabel='$k$')\n",
    "    plt.title(acc_desc + ' w.r.t $k$')\n",
    "    sns.set_style(\"whitegrid\", {'axes.grid' : False})\n",
    "    plt.show()\n",
    "\n",
    "#######FILL IN HERE #########\n",
    "\n",
    "# Hint:\n",
    "# You can use the draw_heatmap_knn() to draw a heatmap to visualize \n",
    "# the accuracy w.r.t. k. Some demo code is given below as hint:\n",
    "#\n",
    "# demo_acc        = np.array([[0.8],[0.7]])\n",
    "# demo_k_list     = [1, 2]\n",
    "# draw_heatmap_linear(demo_acc, 'demo accuracy', demo_k_list)\n",
    "#\n",
    "\n"
   ]
  },
  {
   "cell_type": "code",
   "execution_count": null,
   "metadata": {
    "collapsed": true
   },
   "outputs": [],
   "source": [
    "\n"
   ]
  },
  {
   "cell_type": "code",
   "execution_count": 13,
   "metadata": {
    "collapsed": true
   },
   "outputs": [],
   "source": [
    "val_acc_array=val_acc_array.reshape(-1,1)\n",
    "train_acc_array=train_acc_array.reshape(-1,1)\n"
   ]
  },
  {
   "cell_type": "code",
   "execution_count": 14,
   "metadata": {},
   "outputs": [
    {
     "data": {
      "image/png": "[encoded data removed]",
      "text/plain": [
       "<matplotlib.figure.Figure at 0x1b138505ac8>"
      ]
     },
     "metadata": {
      "image/png": {
       "height": 254,
       "width": 190
      }
     },
     "output_type": "display_data"
    },
    {
     "data": {
      "image/png": "[encoded data removed]",
      "text/plain": [
       "<matplotlib.figure.Figure at 0x1b138505668>"
      ]
     },
     "metadata": {
      "image/png": {
       "height": 254,
       "width": 201
      }
     },
     "output_type": "display_data"
    }
   ],
   "source": [
    "draw_heatmap_knn(train_acc_array, 'train accuracy', k_list)\n",
    "draw_heatmap_knn(val_acc_array, 'val accuracy',  k_list)"
   ]
  },
  {
   "cell_type": "code",
   "execution_count": 15,
   "metadata": {
    "collapsed": true
   },
   "outputs": [],
   "source": [
    "# 8) Use the best k to calculate the test accuracy.\n",
    "\n",
    "#######FILL IN HERE #########\n",
    "# best k for train 5 \n",
    "#best k for val 4 \n",
    "\n",
    "KNN=simple_KNeighborsClassifier(4)\n",
    "KNN.k\n",
    "KNN.fit(X_train_val, Y_train_val)\n",
    "Y_pred_list=KNN.predict(X_test)"
   ]
  },
  {
   "cell_type": "code",
   "execution_count": 16,
   "metadata": {},
   "outputs": [
    {
     "data": {
      "text/plain": [
       "0.0"
      ]
     },
     "execution_count": 16,
     "metadata": {},
     "output_type": "execute_result"
    }
   ],
   "source": [
    "KNN.score(Y_pred_list, Y_test)"
   ]
  },
  {
   "cell_type": "markdown",
   "metadata": {},
   "source": [
    "## 7 (Bonus) SVM"
   ]
  },
  {
   "cell_type": "code",
   "execution_count": null,
   "metadata": {},
   "outputs": [],
   "source": [
    "import numpy as np\n",
    "from numpy.linalg import inv\n",
    "\n",
    "from tqdm import *\n",
    "import matplotlib.pyplot as plt\n",
    "from sklearn.utils import shuffle\n",
    "from sklearn.preprocessing import LabelEncoder\n",
    "%matplotlib inline\n",
    "\n",
    "# ---- set the figure size\n",
    "plt.rcParams['figure.figsize'] = 8,8\n",
    "\n",
    "# ---- load the data Q3_data.txt\n",
    "file_path = 'Q4_data.txt'\n",
    "\n",
    "data = np.genfromtxt(file_path,dtype=\"f8,f8,f8,f8,S20\",\n",
    "delimiter=',',names=['x1','x2','x3','x4','class'])\n",
    "\n",
    "\n",
    "np.random.shuffle(data)               # Shuffle the data.\n",
    "\n",
    "# ---- split the data points into the training set and test set\n",
    "train_data = np.concatenate((data[15:50],data[65:]))\n",
    "test_data = np.concatenate((data[:15],data[50:65]))\n",
    "X_train = np.vstack([np.array((1,x[0],x[1],x[2],x[3])) for x in train_data])\n",
    "X_train=X_train[..., 0:4]\n",
    "X_train=np.delete(X_train, 2,1)\n",
    "\n",
    "X_test = np.vstack([np.array((1,x[0],x[1],x[2],x[3])) for x in test_data])\n",
    "X_test=X_test[..., 0:4]\n",
    "X_test=np.delete(X_test, 2,1)\n",
    "\n",
    "\n",
    "num_train = len(X_train)\n",
    "num_test = len(X_test)\n",
    "\n",
    "print(\"number of training data is \"+str(num_train))\n",
    "print(\"number of testing data is \"+str(num_test))\n",
    "\n",
    "# ---- convert the class names into categorical labels.\n",
    "le = LabelEncoder()\n",
    "le.fit(data['class'])\n",
    "y_train = le.transform(train_data['class']).reshape(num_train,1)\n",
    "for i in range(len(y_train)):\n",
    "    if y_train[i]==0:\n",
    "        y_train[i]=-1\n",
    "\n",
    "y_test = le.transform(test_data['class']).reshape(num_test,1)        \n",
    "for i in range(len(y_test)):\n",
    "    if y_test[i]==0:\n",
    "        y_test[i]=-1        \n",
    "        \n",
    "\n",
    "# ---- initialize the weights and bias to 0\n",
    "# ---- we absorb the bias into the weights\n",
    "\n",
    "#Given N and Alpha from initial Problem\n",
    "\n",
    "w = np.zeros((3,1))\n",
    "n_iter = 1000\n",
    "alpha =5\n",
    "train_err = []\n",
    "W_diff=.00001\n"
   ]
  },
  {
   "cell_type": "code",
   "execution_count": null,
   "metadata": {},
   "outputs": [],
   "source": [
    "def SVM_Classifier(X_, Y_, w, n_iter, alpha, train_err,W_diff):\n",
    "    out=[]\n",
    "    for i in range(n_iter):\n",
    "        for i, val in enumerate(X_):\n",
    "            val1=np.dot(X_[i],w)\n",
    "            if (Y_[i]*val1 < 1).any():\n",
    "                w_new= w + alpha*((Y_[i]*X_[i])-(2*(1/n_iter)*w))\n",
    "            else:\n",
    "                w_new= w + alpha*(2*(1/n_iter)*w)\n",
    "        if np.linalg.norm(w_new - w, ord = 1) < W_diff:\n",
    "            print(i)\n",
    "            break\n",
    "        w = w_new\n",
    "    for i, val in enumerate(X_):\n",
    "        out.append(np.dot(X_[i],w))\n",
    "    return w, out\n",
    "    "
   ]
  },
  {
   "cell_type": "code",
   "execution_count": null,
   "metadata": {},
   "outputs": [],
   "source": [
    "w, out=SVM_Classifier(X_train, y_train,w, n_iter, alpha, train_err,W_diff)"
   ]
  },
  {
   "cell_type": "code",
   "execution_count": null,
   "metadata": {},
   "outputs": [],
   "source": [
    "w[0]"
   ]
  },
  {
   "cell_type": "code",
   "execution_count": null,
   "metadata": {
    "collapsed": true
   },
   "outputs": [],
   "source": [
    "def score( X_, w, Y_Labels):\n",
    "    Y_pred_list=[]\n",
    "    for i, val in enumerate (X_):\n",
    "        r=X_[i].reshape(-1,1)\n",
    "        p=w[0].reshape(-1,1)\n",
    "        if np.dot(r.T, p).any()>0:\n",
    "            Y_pred_list.append(1)\n",
    "        else:\n",
    "            Y_pred_list.append(-1)\n",
    "    accuracy_list=[]\n",
    "    for i in range(len(Y_pred_list)):\n",
    "        if Y_pred_list[i]==Y_Labels[i]:\n",
    "            score=1\n",
    "        else:\n",
    "            score=0\n",
    "        accuracy_list.append(score)\n",
    "    accuracy=sum(accuracy_list)/len(accuracy_list)\n",
    "    return accuracy"
   ]
  },
  {
   "cell_type": "code",
   "execution_count": null,
   "metadata": {},
   "outputs": [],
   "source": [
    "accuracy=score( X_train, w, y_train)\n",
    "accuracy"
   ]
  },
  {
   "cell_type": "markdown",
   "metadata": {},
   "source": [
    "# Find optimal parameters"
   ]
  },
  {
   "cell_type": "code",
   "execution_count": null,
   "metadata": {
    "collapsed": true
   },
   "outputs": [],
   "source": [
    "n_iter_list=[1000, 10000]\n",
    "alpha_list=[.2,.5,1,2,3,5,8]"
   ]
  },
  {
   "cell_type": "code",
   "execution_count": null,
   "metadata": {},
   "outputs": [],
   "source": [
    "for i in n_iter_list:\n",
    "    n_iter=i\n",
    "    for a in alpha_list:\n",
    "        alpha=a\n",
    "        w, out=SVM_Classifier(X_train, y_train,w, n_iter, alpha, train_err,  W_diff)  \n",
    "        accuracy=score( X_train, w, y_train)\n",
    "        print ( \" N Val: Alpha Val : Accuracy\", n_iter, a, accuracy )\n"
   ]
  },
  {
   "cell_type": "markdown",
   "metadata": {},
   "source": [
    "<p> From the analysis above, it was found that changing the iteration number and learning rate did not significantly change the accuracy of the classifier. Accuracy was \"stuck\" at 50% for alot of perturbations. It was found that the test/train split of the data and shuffling the data  either increased accuracy where the data was split better or did a little worse if the data set did not split evenly. </p>\n",
    "\n",
    "# Change in Data Split\n"
   ]
  },
  {
   "cell_type": "code",
   "execution_count": null,
   "metadata": {},
   "outputs": [],
   "source": [
    "import numpy as np\n",
    "from numpy.linalg import inv\n",
    "\n",
    "from tqdm import *\n",
    "import matplotlib\n",
    "import matplotlib.pyplot as plt\n",
    "from sklearn.utils import shuffle\n",
    "from sklearn.preprocessing import LabelEncoder\n",
    "%matplotlib inline\n",
    "\n",
    "# ---- set the figure size\n",
    "plt.rcParams['figure.figsize'] = 8,8\n",
    "\n",
    "# ---- load the data Q3_data.txt\n",
    "file_path = 'Q4_data.txt'\n",
    "\n",
    "data = np.genfromtxt(file_path,dtype=\"f8,f8,f8,f8,S20\",\n",
    "delimiter=',',names=['x1','x2','x3','x4','class'])\n",
    "\n",
    "\n",
    "np.random.shuffle(data)               # Shuffle the data.\n",
    "# ---- split the data points into the training set and test set\n",
    "train_data = np.concatenate((data[:80],data[95:]))\n",
    "test_data = np.concatenate((data[80:90],data[90:95]))\n",
    "\n",
    "\n",
    "X_train = np.vstack([np.array((1,x[0],x[1],x[2],x[3])) for x in train_data])\n",
    "X_train=X_train[..., 0:4]\n",
    "X_train=np.delete(X_train, 2,1)\n",
    "\n",
    "X_test = np.vstack([np.array((1,x[0],x[1],x[2],x[3])) for x in test_data])\n",
    "X_test=X_test[..., 0:4]\n",
    "X_test=np.delete(X_test, 2,1)\n",
    "\n",
    "\n",
    "num_train = len(X_train)\n",
    "num_test = len(X_test)\n",
    "\n",
    "print(\"number of training data is \"+str(num_train))\n",
    "print(\"number of testing data is \"+str(num_test))\n",
    "\n",
    "# ---- convert the class names into categorical labels.\n",
    "le = LabelEncoder()\n",
    "le.fit(data['class'])\n",
    "y_train = le.transform(train_data['class']).reshape(num_train,1)\n",
    "for i in range(len(y_train)):\n",
    "    if y_train[i]==0:\n",
    "        y_train[i]=-1\n",
    "\n",
    "y_test = le.transform(test_data['class']).reshape(num_test,1)        \n",
    "for i in range(len(y_test)):\n",
    "    if y_test[i]==0:\n",
    "        y_test[i]=-1        \n",
    "        \n",
    "\n",
    "# ---- initialize the weights and bias to 0\n",
    "# ---- we absorb the bias into the weights\n",
    "\n",
    "#Given N and Alpha from initial Problem\n",
    "\n",
    "w = np.zeros((3,1))\n",
    "n_iter = 1000\n",
    "alpha =5\n",
    "train_err = []"
   ]
  },
  {
   "cell_type": "code",
   "execution_count": null,
   "metadata": {
    "collapsed": true
   },
   "outputs": [],
   "source": [
    "w, out=SVM_Classifier(X_train, y_train,w, n_iter, alpha, train_err,W_diff)"
   ]
  },
  {
   "cell_type": "code",
   "execution_count": null,
   "metadata": {},
   "outputs": [],
   "source": [
    "accuracy=score( X_train, w, y_train)\n",
    "accuracy"
   ]
  },
  {
   "cell_type": "code",
   "execution_count": null,
   "metadata": {},
   "outputs": [],
   "source": [
    "for i in n_iter_list:\n",
    "    n_iter=i\n",
    "    for a in alpha_list:\n",
    "        alpha=a\n",
    "        w, out=SVM_Classifier(X_train, y_train,w, n_iter, alpha, train_err,W_diff)  \n",
    "        accuracy=score( X_train, w, y_train)\n",
    "        print ( \" N Val: Alpha Val : Accuracy\", n_iter, a, accuracy )\n"
   ]
  },
  {
   "cell_type": "code",
   "execution_count": null,
   "metadata": {},
   "outputs": [],
   "source": [
    "accuracy=score( X_test, w, y_test)\n",
    "print (\"Testing Accuracy with optimal W\", accuracy)\n",
    "print (\"Optimal W\", w[0])"
   ]
  },
  {
   "cell_type": "code",
   "execution_count": null,
   "metadata": {},
   "outputs": [],
   "source": [
    "color=[\"g\", \"r\"]\n",
    "color_list=[]\n",
    "cdict = {1: 'red', -1: 'blue'}\n",
    "\n",
    "for i in range(len(y_train)):\n",
    "    if y_train[i]==-1:\n",
    "        plt.scatter(X_train[i,1], X_train[i,2], c=\"g\")\n",
    "    if y_train[i]==1:\n",
    "        plt.scatter(X_train[i,1], X_train[i,2], c=\"r\")\n",
    "#plt.plot(x, w[0,0]+ w[0,1]* x + w[0,2]*x , 'b', label=\"tada\")\n",
    "\n",
    "plt.title(\"Scatter plot train X : Feature 1 and Feature 2\")\n",
    "plt.xlabel(\"Feature 1\")\n",
    "plt.ylabel(\"Feature 2\")\n",
    "plt.show()"
   ]
  },
  {
   "cell_type": "code",
   "execution_count": null,
   "metadata": {},
   "outputs": [],
   "source": [
    "x=np.linspace(100,1000)\n",
    "y=np.linspace(100,500)\n",
    "for i in range(len(y_train)):\n",
    "    if y_train[i]==-1:\n",
    "        plt.scatter(X_train[i,1], X_train[i,2], c=\"g\")\n",
    "    if y_train[i]==1:\n",
    "        plt.scatter(X_train[i,1], X_train[i,2], c=\"r\")\n",
    "\n",
    "plt.plot(w[0,1]* x , w[0,0]+  w[0,2]*y , 'b', label=\"Decision Boundary\")\n",
    "plt.title(\"Scatter plot test X : Feature 1 and Feature 2\")\n",
    "plt.xlabel(\"Feature 1\")\n",
    "plt.ylabel(\"Feature 2\")\n",
    "plt.show()\n"
   ]
  },
  {
   "cell_type": "code",
   "execution_count": null,
   "metadata": {},
   "outputs": [],
   "source": [
    "for i in range(len(y_test)):\n",
    "    if y_train[i]==-1:\n",
    "        plt.scatter(X_test[i,1], X_test[i,2], c=\"g\")\n",
    "    if y_train[i]==1:\n",
    "        plt.scatter(X_test[i,1], X_test[i,2], c=\"r\")\n",
    "plt.title(\"Scatter plot test X : Feature 1 and Feature 2\")\n",
    "plt.xlabel(\"Feature 1\")\n",
    "plt.ylabel(\"Feature 2\")\n",
    "plt.show()"
   ]
  },
  {
   "cell_type": "code",
   "execution_count": null,
   "metadata": {},
   "outputs": [],
   "source": [
    "accuracy=score( X_train, w, y_train)\n",
    "print (\"Training accuracy: %s \" % accuracy)\n",
    "accuracy=score( X_test, w, y_test)\n",
    "print (\"Testing accuracy: %s \" % accuracy)"
   ]
  },
  {
   "cell_type": "code",
   "execution_count": null,
   "metadata": {
    "collapsed": true
   },
   "outputs": [],
   "source": []
  }
 ],
 "metadata": {
  "kernelspec": {
   "display_name": "Python 3",
   "language": "python",
   "name": "python3"
  },
  "language_info": {
   "codemirror_mode": {
    "name": "ipython",
    "version": 3
   },
   "file_extension": ".py",
   "mimetype": "text/x-python",
   "name": "python",
   "nbconvert_exporter": "python",
   "pygments_lexer": "ipython3",
   "version": "3.6.3"
  }
 },
 "nbformat": 4,
 "nbformat_minor": 2
}
