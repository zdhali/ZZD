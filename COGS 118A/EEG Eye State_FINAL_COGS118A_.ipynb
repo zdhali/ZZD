{
 "cells": [
  {
   "cell_type": "code",
   "execution_count": 1,
   "metadata": {},
   "outputs": [
    {
     "name": "stderr",
     "output_type": "stream",
     "text": [
      "C:\\Users\\zafri\\Anaconda2\\envs\\py36\\lib\\site-packages\\sklearn\\cross_validation.py:41: DeprecationWarning: This module was deprecated in version 0.18 in favor of the model_selection module into which all the refactored classes and functions are moved. Also note that the interface of the new CV iterators are different from that of this module. This module will be removed in 0.20.\n",
      "  \"This module will be removed in 0.20.\", DeprecationWarning)\n"
     ]
    }
   ],
   "source": [
    "import sklearn as skl\n",
    "import sklearn.preprocessing as preprocessing\n",
    "import sklearn.linear_model as linear_model\n",
    "import sklearn.cross_validation as cross_validation\n",
    "from sklearn.model_selection import train_test_split\n",
    "import sklearn.metrics as metrics\n",
    "import sklearn.tree as tree\n",
    "import graphviz \n",
    "import pydotplus\n",
    "\n",
    "from sklearn import model_selection\n",
    "from sklearn.metrics import accuracy_score"
   ]
  },
  {
   "cell_type": "code",
   "execution_count": 2,
   "metadata": {
    "collapsed": true
   },
   "outputs": [],
   "source": [
    "#FOR MODEL SELECTION\n",
    "from sklearn.linear_model import LogisticRegression\n",
    "from sklearn.ensemble import RandomForestClassifier\n",
    "from sklearn.neural_network import MLPClassifier\n",
    "from sklearn.naive_bayes import GaussianNB\n",
    "from sklearn.tree import DecisionTreeClassifier\n",
    "from sklearn.svm import SVC\n",
    "from sklearn import svm\n",
    "from sklearn.model_selection import GridSearchCV\n"
   ]
  },
  {
   "cell_type": "code",
   "execution_count": 3,
   "metadata": {
    "collapsed": true
   },
   "outputs": [],
   "source": [
    "import os\n",
    "import pandas as pd\n",
    "import numpy as np\n",
    "import math \n",
    "import statsmodels as sm\n",
    "import winsound\n",
    "\n",
    "import seaborn as sns\n",
    "import matplotlib.pyplot as plt\n",
    "%matplotlib inline"
   ]
  },
  {
   "cell_type": "markdown",
   "metadata": {},
   "source": [
    "# Locate Data"
   ]
  },
  {
   "cell_type": "code",
   "execution_count": 4,
   "metadata": {},
   "outputs": [
    {
     "name": "stdout",
     "output_type": "stream",
     "text": [
      "C:\\Users\\zafri\\Documents\\COGS 118A\\final\n"
     ]
    }
   ],
   "source": [
    "cwd=os.getcwd()\n",
    "print (cwd)\n"
   ]
  },
  {
   "cell_type": "code",
   "execution_count": 5,
   "metadata": {
    "collapsed": true
   },
   "outputs": [],
   "source": [
    "def data_locate(rel_path_to_input,a):\n",
    "    cwd = os.getcwd()\n",
    "    stem=cwd\n",
    "    for i in range(a):\n",
    "        stem=os.path.abspath(os.path.join(stem, '..'))\n",
    "    data_loc=os.path.join(stem , rel_path_to_input)\n",
    "    os.chdir(data_loc)\n",
    "    sub_files = os.listdir(data_loc)\n",
    "    print (\"Current Directory: \", cwd)\n",
    "    print (\"Data location: \" , data_loc)\n",
    "    print (sub_files)\n",
    "    return data_loc, sub_files"
   ]
  },
  {
   "cell_type": "code",
   "execution_count": 6,
   "metadata": {},
   "outputs": [
    {
     "name": "stdout",
     "output_type": "stream",
     "text": [
      "Current Directory:  C:\\Users\\zafri\\Documents\\COGS 118A\\final\n",
      "Data location:  C:\\Users\\zafri\\Documents\\COGS 118A\\final\\Datasets/Adult\n",
      "['adult.data.txt', 'adult.names.txt', 'adult.test.txt', 'EEG Eye State.txt', 'EEG_OG_Data', 'EEG_OG_Data_results.csv', 'EEG_OG_Data___20', 'EEG_OG_Data___20.pdf', 'EEG_OG_Data___50', 'EEG_OG_Data___50.pdf', 'EEG_OG_Data___80', 'EEG_OG_Data___80.pdf', 'EEG_TRIAL.csv']\n"
     ]
    }
   ],
   "source": [
    "data_loc, sub_files=data_locate(\"Datasets/Adult\", 0)"
   ]
  },
  {
   "cell_type": "markdown",
   "metadata": {},
   "source": [
    "# EEG Eye State Data Set \n",
    "\n",
    "#### 1. Peek at Data"
   ]
  },
  {
   "cell_type": "code",
   "execution_count": 7,
   "metadata": {
    "collapsed": true
   },
   "outputs": [],
   "source": [
    "EEG_OG_Data = pd.read_csv(\n",
    "    'EEG Eye State.txt',\n",
    "    names=[\n",
    "        'AF3','F7','F3','FC5','T7','P','O1','O2','P8','T8','FC6','F4','F8','AF4','class'],\n",
    "        sep=r'\\s*,\\s*',\n",
    "        engine='python',\n",
    "        na_values=\"?\")\n",
    "DATASET=\"EEG_OG_Data\""
   ]
  },
  {
   "cell_type": "code",
   "execution_count": 8,
   "metadata": {},
   "outputs": [
    {
     "data": {
      "text/html": [
       "<div>\n",
       "<style>\n",
       "    .dataframe thead tr:only-child th {\n",
       "        text-align: right;\n",
       "    }\n",
       "\n",
       "    .dataframe thead th {\n",
       "        text-align: left;\n",
       "    }\n",
       "\n",
       "    .dataframe tbody tr th {\n",
       "        vertical-align: top;\n",
       "    }\n",
       "</style>\n",
       "<table border=\"1\" class=\"dataframe\">\n",
       "  <thead>\n",
       "    <tr style=\"text-align: right;\">\n",
       "      <th></th>\n",
       "      <th>AF3</th>\n",
       "      <th>F7</th>\n",
       "      <th>F3</th>\n",
       "      <th>FC5</th>\n",
       "      <th>T7</th>\n",
       "      <th>P</th>\n",
       "      <th>O1</th>\n",
       "      <th>O2</th>\n",
       "      <th>P8</th>\n",
       "      <th>T8</th>\n",
       "      <th>FC6</th>\n",
       "      <th>F4</th>\n",
       "      <th>F8</th>\n",
       "      <th>AF4</th>\n",
       "      <th>class</th>\n",
       "    </tr>\n",
       "  </thead>\n",
       "  <tbody>\n",
       "    <tr>\n",
       "      <th>0</th>\n",
       "      <td>@RELATION EEG_DATA</td>\n",
       "      <td>None</td>\n",
       "      <td>NaN</td>\n",
       "      <td>NaN</td>\n",
       "      <td>NaN</td>\n",
       "      <td>NaN</td>\n",
       "      <td>NaN</td>\n",
       "      <td>NaN</td>\n",
       "      <td>NaN</td>\n",
       "      <td>NaN</td>\n",
       "      <td>NaN</td>\n",
       "      <td>NaN</td>\n",
       "      <td>NaN</td>\n",
       "      <td>NaN</td>\n",
       "      <td>NaN</td>\n",
       "    </tr>\n",
       "    <tr>\n",
       "      <th>1</th>\n",
       "      <td>@ATTRIBUTE AF3 NUMERIC</td>\n",
       "      <td>None</td>\n",
       "      <td>NaN</td>\n",
       "      <td>NaN</td>\n",
       "      <td>NaN</td>\n",
       "      <td>NaN</td>\n",
       "      <td>NaN</td>\n",
       "      <td>NaN</td>\n",
       "      <td>NaN</td>\n",
       "      <td>NaN</td>\n",
       "      <td>NaN</td>\n",
       "      <td>NaN</td>\n",
       "      <td>NaN</td>\n",
       "      <td>NaN</td>\n",
       "      <td>NaN</td>\n",
       "    </tr>\n",
       "    <tr>\n",
       "      <th>2</th>\n",
       "      <td>@ATTRIBUTE F7 NUMERIC</td>\n",
       "      <td>None</td>\n",
       "      <td>NaN</td>\n",
       "      <td>NaN</td>\n",
       "      <td>NaN</td>\n",
       "      <td>NaN</td>\n",
       "      <td>NaN</td>\n",
       "      <td>NaN</td>\n",
       "      <td>NaN</td>\n",
       "      <td>NaN</td>\n",
       "      <td>NaN</td>\n",
       "      <td>NaN</td>\n",
       "      <td>NaN</td>\n",
       "      <td>NaN</td>\n",
       "      <td>NaN</td>\n",
       "    </tr>\n",
       "    <tr>\n",
       "      <th>3</th>\n",
       "      <td>@ATTRIBUTE F3 NUMERIC</td>\n",
       "      <td>None</td>\n",
       "      <td>NaN</td>\n",
       "      <td>NaN</td>\n",
       "      <td>NaN</td>\n",
       "      <td>NaN</td>\n",
       "      <td>NaN</td>\n",
       "      <td>NaN</td>\n",
       "      <td>NaN</td>\n",
       "      <td>NaN</td>\n",
       "      <td>NaN</td>\n",
       "      <td>NaN</td>\n",
       "      <td>NaN</td>\n",
       "      <td>NaN</td>\n",
       "      <td>NaN</td>\n",
       "    </tr>\n",
       "    <tr>\n",
       "      <th>4</th>\n",
       "      <td>@ATTRIBUTE FC5 NUMERIC</td>\n",
       "      <td>None</td>\n",
       "      <td>NaN</td>\n",
       "      <td>NaN</td>\n",
       "      <td>NaN</td>\n",
       "      <td>NaN</td>\n",
       "      <td>NaN</td>\n",
       "      <td>NaN</td>\n",
       "      <td>NaN</td>\n",
       "      <td>NaN</td>\n",
       "      <td>NaN</td>\n",
       "      <td>NaN</td>\n",
       "      <td>NaN</td>\n",
       "      <td>NaN</td>\n",
       "      <td>NaN</td>\n",
       "    </tr>\n",
       "  </tbody>\n",
       "</table>\n",
       "</div>"
      ],
      "text/plain": [
       "                      AF3    F7  F3  FC5  T7   P  O1  O2  P8  T8  FC6  F4  F8  \\\n",
       "0      @RELATION EEG_DATA  None NaN  NaN NaN NaN NaN NaN NaN NaN  NaN NaN NaN   \n",
       "1  @ATTRIBUTE AF3 NUMERIC  None NaN  NaN NaN NaN NaN NaN NaN NaN  NaN NaN NaN   \n",
       "2   @ATTRIBUTE F7 NUMERIC  None NaN  NaN NaN NaN NaN NaN NaN NaN  NaN NaN NaN   \n",
       "3   @ATTRIBUTE F3 NUMERIC  None NaN  NaN NaN NaN NaN NaN NaN NaN  NaN NaN NaN   \n",
       "4  @ATTRIBUTE FC5 NUMERIC  None NaN  NaN NaN NaN NaN NaN NaN NaN  NaN NaN NaN   \n",
       "\n",
       "   AF4  class  \n",
       "0  NaN    NaN  \n",
       "1  NaN    NaN  \n",
       "2  NaN    NaN  \n",
       "3  NaN    NaN  \n",
       "4  NaN    NaN  "
      ]
     },
     "execution_count": 8,
     "metadata": {},
     "output_type": "execute_result"
    }
   ],
   "source": [
    "\n",
    "EEG_OG_Data.head()"
   ]
  },
  {
   "cell_type": "markdown",
   "metadata": {},
   "source": [
    "#### Let's Clean up the data"
   ]
  },
  {
   "cell_type": "code",
   "execution_count": 9,
   "metadata": {
    "collapsed": true
   },
   "outputs": [],
   "source": [
    "#remove class label information from top of data\n",
    "EEG_OG_Data=EEG_OG_Data.drop(range(0,17), axis=0)\n"
   ]
  },
  {
   "cell_type": "code",
   "execution_count": 10,
   "metadata": {},
   "outputs": [
    {
     "data": {
      "text/html": [
       "<div>\n",
       "<style>\n",
       "    .dataframe thead tr:only-child th {\n",
       "        text-align: right;\n",
       "    }\n",
       "\n",
       "    .dataframe thead th {\n",
       "        text-align: left;\n",
       "    }\n",
       "\n",
       "    .dataframe tbody tr th {\n",
       "        vertical-align: top;\n",
       "    }\n",
       "</style>\n",
       "<table border=\"1\" class=\"dataframe\">\n",
       "  <thead>\n",
       "    <tr style=\"text-align: right;\">\n",
       "      <th></th>\n",
       "      <th>AF3</th>\n",
       "      <th>F7</th>\n",
       "      <th>F3</th>\n",
       "      <th>FC5</th>\n",
       "      <th>T7</th>\n",
       "      <th>P</th>\n",
       "      <th>O1</th>\n",
       "      <th>O2</th>\n",
       "      <th>P8</th>\n",
       "      <th>T8</th>\n",
       "      <th>FC6</th>\n",
       "      <th>F4</th>\n",
       "      <th>F8</th>\n",
       "      <th>AF4</th>\n",
       "      <th>class</th>\n",
       "    </tr>\n",
       "  </thead>\n",
       "  <tbody>\n",
       "    <tr>\n",
       "      <th>17</th>\n",
       "      <td>4329.23</td>\n",
       "      <td>4009.23</td>\n",
       "      <td>4289.23</td>\n",
       "      <td>4148.21</td>\n",
       "      <td>4350.26</td>\n",
       "      <td>4586.15</td>\n",
       "      <td>4096.92</td>\n",
       "      <td>4641.03</td>\n",
       "      <td>4222.05</td>\n",
       "      <td>4238.46</td>\n",
       "      <td>4211.28</td>\n",
       "      <td>4280.51</td>\n",
       "      <td>4635.90</td>\n",
       "      <td>4393.85</td>\n",
       "      <td>0.0</td>\n",
       "    </tr>\n",
       "    <tr>\n",
       "      <th>18</th>\n",
       "      <td>4324.62</td>\n",
       "      <td>4004.62</td>\n",
       "      <td>4293.85</td>\n",
       "      <td>4148.72</td>\n",
       "      <td>4342.05</td>\n",
       "      <td>4586.67</td>\n",
       "      <td>4097.44</td>\n",
       "      <td>4638.97</td>\n",
       "      <td>4210.77</td>\n",
       "      <td>4226.67</td>\n",
       "      <td>4207.69</td>\n",
       "      <td>4279.49</td>\n",
       "      <td>4632.82</td>\n",
       "      <td>4384.10</td>\n",
       "      <td>0.0</td>\n",
       "    </tr>\n",
       "    <tr>\n",
       "      <th>19</th>\n",
       "      <td>4327.69</td>\n",
       "      <td>4006.67</td>\n",
       "      <td>4295.38</td>\n",
       "      <td>4156.41</td>\n",
       "      <td>4336.92</td>\n",
       "      <td>4583.59</td>\n",
       "      <td>4096.92</td>\n",
       "      <td>4630.26</td>\n",
       "      <td>4207.69</td>\n",
       "      <td>4222.05</td>\n",
       "      <td>4206.67</td>\n",
       "      <td>4282.05</td>\n",
       "      <td>4628.72</td>\n",
       "      <td>4389.23</td>\n",
       "      <td>0.0</td>\n",
       "    </tr>\n",
       "    <tr>\n",
       "      <th>20</th>\n",
       "      <td>4328.72</td>\n",
       "      <td>4011.79</td>\n",
       "      <td>4296.41</td>\n",
       "      <td>4155.90</td>\n",
       "      <td>4343.59</td>\n",
       "      <td>4582.56</td>\n",
       "      <td>4097.44</td>\n",
       "      <td>4630.77</td>\n",
       "      <td>4217.44</td>\n",
       "      <td>4235.38</td>\n",
       "      <td>4210.77</td>\n",
       "      <td>4287.69</td>\n",
       "      <td>4632.31</td>\n",
       "      <td>4396.41</td>\n",
       "      <td>0.0</td>\n",
       "    </tr>\n",
       "    <tr>\n",
       "      <th>21</th>\n",
       "      <td>4326.15</td>\n",
       "      <td>4011.79</td>\n",
       "      <td>4292.31</td>\n",
       "      <td>4151.28</td>\n",
       "      <td>4347.69</td>\n",
       "      <td>4586.67</td>\n",
       "      <td>4095.90</td>\n",
       "      <td>4627.69</td>\n",
       "      <td>4210.77</td>\n",
       "      <td>4244.10</td>\n",
       "      <td>4212.82</td>\n",
       "      <td>4288.21</td>\n",
       "      <td>4632.82</td>\n",
       "      <td>4398.46</td>\n",
       "      <td>0.0</td>\n",
       "    </tr>\n",
       "  </tbody>\n",
       "</table>\n",
       "</div>"
      ],
      "text/plain": [
       "        AF3       F7       F3      FC5       T7        P       O1       O2  \\\n",
       "17  4329.23  4009.23  4289.23  4148.21  4350.26  4586.15  4096.92  4641.03   \n",
       "18  4324.62  4004.62  4293.85  4148.72  4342.05  4586.67  4097.44  4638.97   \n",
       "19  4327.69  4006.67  4295.38  4156.41  4336.92  4583.59  4096.92  4630.26   \n",
       "20  4328.72  4011.79  4296.41  4155.90  4343.59  4582.56  4097.44  4630.77   \n",
       "21  4326.15  4011.79  4292.31  4151.28  4347.69  4586.67  4095.90  4627.69   \n",
       "\n",
       "         P8       T8      FC6       F4       F8      AF4  class  \n",
       "17  4222.05  4238.46  4211.28  4280.51  4635.90  4393.85    0.0  \n",
       "18  4210.77  4226.67  4207.69  4279.49  4632.82  4384.10    0.0  \n",
       "19  4207.69  4222.05  4206.67  4282.05  4628.72  4389.23    0.0  \n",
       "20  4217.44  4235.38  4210.77  4287.69  4632.31  4396.41    0.0  \n",
       "21  4210.77  4244.10  4212.82  4288.21  4632.82  4398.46    0.0  "
      ]
     },
     "execution_count": 10,
     "metadata": {},
     "output_type": "execute_result"
    }
   ],
   "source": [
    "EEG_OG_Data.head()"
   ]
  },
  {
   "cell_type": "code",
   "execution_count": 61,
   "metadata": {},
   "outputs": [
    {
     "name": "stdout",
     "output_type": "stream",
     "text": [
      "(14980, 15)\n"
     ]
    }
   ],
   "source": [
    "print (EEG_OG_Data.shape)"
   ]
  },
  {
   "cell_type": "markdown",
   "metadata": {},
   "source": [
    "#### Let's Peek at the Features"
   ]
  },
  {
   "cell_type": "code",
   "execution_count": 12,
   "metadata": {},
   "outputs": [
    {
     "data": {
      "image/png": "[encoded data removed]",
      "text/plain": [
       "<matplotlib.figure.Figure at 0x1fd6fd38048>"
      ]
     },
     "metadata": {},
     "output_type": "display_data"
    }
   ],
   "source": [
    "fig = plt.figure(figsize=(20,15))\n",
    "cols = 5\n",
    "rows = math.ceil(float(EEG_OG_Data.shape[1]) / cols)\n",
    "for i, column in enumerate(EEG_OG_Data.columns):\n",
    "    ax = fig.add_subplot(rows, cols, i + 1)\n",
    "    ax.set_title(column)\n",
    "    if EEG_OG_Data.dtypes[column] == np.object:\n",
    "        EEG_OG_Data[column].value_counts().plot(kind=\"bar\", axes=ax)\n",
    "    else:\n",
    "        EEG_OG_Data[column].hist(axes=ax)\n",
    "        plt.xticks(rotation=\"vertical\")\n",
    "plt.subplots_adjust(hspace=0.7, wspace=0.2)"
   ]
  },
  {
   "cell_type": "markdown",
   "metadata": {},
   "source": [
    "#### Let's look at correlation between AF3 and Class\n"
   ]
  },
  {
   "cell_type": "code",
   "execution_count": 13,
   "metadata": {},
   "outputs": [
    {
     "data": {
      "text/plain": [
       "<matplotlib.axes._subplots.AxesSubplot at 0x1fd6fd16550>"
      ]
     },
     "execution_count": 13,
     "metadata": {},
     "output_type": "execute_result"
    },
    {
     "data": {
      "image/png": "[encoded data removed]",
      "text/plain": [
       "<matplotlib.figure.Figure at 0x1fd6fc4cb00>"
      ]
     },
     "metadata": {},
     "output_type": "display_data"
    }
   ],
   "source": [
    "sns.countplot(y='AF3', hue='class', data=EEG_OG_Data,)"
   ]
  },
  {
   "cell_type": "markdown",
   "metadata": {},
   "source": [
    "#### Let's look at correlation between F7 and Class\n"
   ]
  },
  {
   "cell_type": "code",
   "execution_count": 14,
   "metadata": {},
   "outputs": [
    {
     "data": {
      "text/plain": [
       "<matplotlib.axes._subplots.AxesSubplot at 0x1fd73a73c50>"
      ]
     },
     "execution_count": 14,
     "metadata": {},
     "output_type": "execute_result"
    },
    {
     "data": {
      "image/png": "[encoded data removed]",
      "text/plain": [
       "<matplotlib.figure.Figure at 0x1fd700459b0>"
      ]
     },
     "metadata": {},
     "output_type": "display_data"
    }
   ],
   "source": [
    "sns.countplot(y='F7', hue='class', data=EEG_OG_Data,)"
   ]
  },
  {
   "cell_type": "markdown",
   "metadata": {},
   "source": [
    "<p> From preliminary analysis it appears that F7 is a better feature to separate class than AF3\n",
    "#### Let's look at correlation across all variables\n"
   ]
  },
  {
   "cell_type": "code",
   "execution_count": 15,
   "metadata": {
    "collapsed": true
   },
   "outputs": [],
   "source": [
    "def plot_correlation(df, size=15):\n",
    "    corr= df.corr()\n",
    "    fig, ax =plt.subplots(figsize=(size,size))\n",
    "    cax=ax.matshow(corr, cmap='GnBu')\n",
    "    plt.xticks(range(len(corr.columns)),corr.columns)\n",
    "    plt.yticks(range(len(corr.columns)),corr.columns)\n",
    "    plt.colorbar(cax)\n",
    "    plt.show()"
   ]
  },
  {
   "cell_type": "code",
   "execution_count": 16,
   "metadata": {},
   "outputs": [
    {
     "data": {
      "image/png": "[encoded data removed]",
      "text/plain": [
       "<matplotlib.figure.Figure at 0x1fd742e7a58>"
      ]
     },
     "metadata": {},
     "output_type": "display_data"
    }
   ],
   "source": [
    "plot_correlation(EEG_OG_Data, size=15 )"
   ]
  },
  {
   "cell_type": "markdown",
   "metadata": {},
   "source": [
    "# Let's Clean up the data\n"
   ]
  },
  {
   "cell_type": "code",
   "execution_count": 17,
   "metadata": {},
   "outputs": [
    {
     "data": {
      "text/plain": [
       "0"
      ]
     },
     "execution_count": 17,
     "metadata": {},
     "output_type": "execute_result"
    }
   ],
   "source": [
    "# Let's Clean up the data\n",
    "NAN_index_list=EEG_OG_Data[EEG_OG_Data.isnull().any(axis=1)].index\n",
    "len(NAN_index_list)"
   ]
  },
  {
   "cell_type": "markdown",
   "metadata": {},
   "source": [
    "_____________________________________________________________________________________________________________\n",
    "# Functions\n",
    "_____________________________________________________________________________________________________________"
   ]
  },
  {
   "cell_type": "code",
   "execution_count": 18,
   "metadata": {
    "collapsed": true
   },
   "outputs": [],
   "source": [
    "#SPLIT DATA INTO TEST AND TRAINVAL\n",
    "def split_Data_TV_Test(df,class_col, test_):\n",
    "    X= df.drop([str(class_col)],axis=1)\n",
    "    Y=df[str(class_col)]\n",
    "    \n",
    "    test_split_size=test_\n",
    "    #Creation of Train and Test dataset\n",
    "    X_TV, X_test, y_TV, y_test = train_test_split(X,Y,test_size=test_split_size,random_state=22)\n",
    "    train_=round((1-test_)*100)\n",
    "    print (\"Train: {0}% Test: {1}%\".format(train_,(test_*100)))\n",
    "    print (\"Train/Validation dataset: {0}  {1}\".format(X_TV.shape, y_TV.shape))\n",
    "    print (\"Test dataset: {0}  {1}\".format(X_test.shape, y_test.shape))\n",
    "    return X_TV, X_test, y_TV, y_test, train_"
   ]
  },
  {
   "cell_type": "code",
   "execution_count": 19,
   "metadata": {
    "collapsed": true
   },
   "outputs": [],
   "source": [
    "#SPLIT DATA INTO TRAIN AND VAL\n",
    "def split_Data_T_V_(X_tv, y_tv, val_):\n",
    "    val_split_size=val_\n",
    "    #Creation of Train and Test dataset\n",
    "    X_Tr, X_val, y_Tr, y_val = train_test_split(X_tv,y_tv,test_size=val_split_size,random_state=22)\n",
    "   \n",
    "    print (\"Train: {0}% Validation: {1}%\".format(round((1-val_)*100),(val_*100)))\n",
    "    print (\"Train dataset: {0}  {1}\".format(X_Tr.shape, y_Tr.shape))\n",
    "    print (\"Validation dataset: {0}  {1}\".format(X_val.shape, y_val.shape))\n",
    "\n",
    "    return X_Tr, X_val, y_Tr, y_val"
   ]
  },
  {
   "cell_type": "code",
   "execution_count": 20,
   "metadata": {
    "collapsed": true
   },
   "outputs": [],
   "source": [
    "def Model_Selection(X_TV, y_TV, val_):\n",
    "    models = []\n",
    "    names = ['LR','Random Forest','Neural Network','GaussianNB','DecisionTreeClassifier','SVM',]\n",
    "\n",
    "    models.append((LogisticRegression()))\n",
    "    models.append((RandomForestClassifier(n_estimators=100)))\n",
    "    models.append((MLPClassifier()))\n",
    "    models.append((GaussianNB()))\n",
    "    models.append((DecisionTreeClassifier()))\n",
    "    models.append((SVC()))\n",
    "\n",
    "\n",
    "\n",
    "\n",
    "    X_Tr, X_val, y_Tr, y_val=split_Data_T_V_(X_TV, y_TV, val_)\n",
    "    rand_ints=[35,56,82]\n",
    "    for r in range(len(rand_ints)):\n",
    "        kfold = model_selection.KFold(n_splits=5,random_state=rand_ints[r])\n",
    "        print ('-'*40)\n",
    "        print ('Random kfold selection #{0}'.format(r+1))\n",
    "\n",
    "        for i in range(0,len(models)):    \n",
    "            cv_result = model_selection.cross_val_score(models[i],X_Tr,y_Tr,cv=kfold,scoring='accuracy')\n",
    "            score=models[i].fit(X_Tr,y_Tr)\n",
    "            prediction = models[i].predict(X_val)\n",
    "            acc_score = accuracy_score(y_val,prediction)     \n",
    "        \n",
    "            print ('{0}: {1}'.format(names[i],acc_score))\n",
    "\n",
    "    duration = 1000  # millisecond\n",
    "    freq = 500  # Hz\n",
    "    winsound.Beep(freq, duration)"
   ]
  },
  {
   "cell_type": "code",
   "execution_count": 21,
   "metadata": {
    "collapsed": true
   },
   "outputs": [],
   "source": [
    "def Linear_SVM_GRID_Search(DATASET, df,class_col, test_):\n",
    "    X_TV, X_test, y_TV, y_test, train_ =split_Data_TV_Test(df,class_col, test_)\n",
    "    #3 Trials\n",
    "    tuned_parameters = [{'kernel': ['linear'],'C': [10**-3,10**-1,1,10,100]},\n",
    "                        {'kernel': ['linear'],'C': [10**-3,10**-1,1,10,100]},\n",
    "                        {'kernel': ['linear'],'C': [10**-3,10**-1,1,10,100]}]\n",
    "    #Accuracy optimized\n",
    "    #Cross Validation=3\n",
    "    scores = 'accuracy'\n",
    "    c=0\n",
    "    data_all=[]\n",
    "    for parameter in tuned_parameters:\n",
    "        print(\"# Tuning hyper-parameters for %s\" % scores)\n",
    "        print()\n",
    "\n",
    "        clf = GridSearchCV(svm.SVC(), parameter, cv=3,scoring=scores)\n",
    "        clf.fit(X_TV, y_TV)\n",
    "        c+=1\n",
    "    \n",
    "    \n",
    "        print(\"Trial # {0}\".format(c))\n",
    "        print(\"Best parameters set found on development set:\")\n",
    "        print()\n",
    "        print(clf.best_params_)\n",
    "        print()\n",
    "        print(\"Grid scores on development set:\")\n",
    "        print()\n",
    "        means = clf.cv_results_['mean_test_score']\n",
    "        stds = clf.cv_results_['std_test_score']\n",
    "        \n",
    "        #write data to a CSV \n",
    "        #outputs \n",
    "        \n",
    "        # DF | Train % | Test % \n",
    "        row1=[DATASET, train_, test_ ]\n",
    "        #TV | Len(X_TV) | Len(y_TV)\n",
    "        row2=[ \"Training/Validation\", \"#TV Feature Samples\", \"#TV Class Labels\"]\n",
    "        row3=[ \"\",X_TV.shape, y_TV.shape ]\n",
    "\n",
    "        #Test | Len(X_Test) | Len(y_Test)\n",
    "        row4=[ \"Test\", \"#Test Feature Samples\", \"#Test Class Labels\"]\n",
    "        row5=[ \"\",X_test.shape, y_test.shape ]\n",
    "        #Trial #         #Best Parameter: \n",
    "        row6=['Trial/ Best Parameter', c, clf.best_params_]\n",
    "        #Grid Scores=\n",
    "        \n",
    "        Grid_of_scores=[]\n",
    "        row7=[\"Training Accuracies\",\"_\",\"_\"]\n",
    "        row8=[\"Mean\", \"Standard Deviation\", \"Parameter\"]\n",
    "        for mean, std, params in zip(means, stds, clf.cv_results_['params']):\n",
    "            print(\"%0.3f (+/-%0.03f) for %r\"% (mean, std * 2, params))\n",
    "            Grid_of_scores.append([mean, std * 2, params])\n",
    "        \n",
    "        data=[row1, row2, row3, row4,row5, row6, row7, row8]\n",
    "        for i in data:\n",
    "            data_all.append(i)\n",
    "        for i in Grid_of_scores:\n",
    "            data_all.append(i) \n",
    "            \n",
    "        #SAVE RESULTS\n",
    "    output=pd.DataFrame(data=data_all)\n",
    "        \n",
    "    return output"
   ]
  },
  {
   "cell_type": "code",
   "execution_count": 22,
   "metadata": {
    "collapsed": true
   },
   "outputs": [],
   "source": [
    "def Linear_SVM_TEST(DATASET,X_TV, y_TV, X_test, y_test, best_param, Accuracies_DF):\n",
    "    clf =svm.SVC(kernel='linear', C=best_param)\n",
    "    clf.fit(X_TV, y_TV)\n",
    "    y_pred=clf.predict(X_test)\n",
    "    Test_accuracy=(accuracy_score(y_test, y_pred, normalize=False))/(len(y_test))\n",
    "    print (Test_accuracy)\n",
    "    num=[len(Accuracies_DF)]\n",
    "    df3 = pd.DataFrame({0: \"Test Accuracy\",\n",
    "                        1: Test_accuracy , \n",
    "                        2: \"_____________\"}, index=[num])\n",
    "    \n",
    "    \n",
    "    Accuracies_DF=Accuracies_DF.append(df3)\n",
    "    return Accuracies_DF"
   ]
  },
  {
   "cell_type": "code",
   "execution_count": 23,
   "metadata": {
    "collapsed": true
   },
   "outputs": [],
   "source": [
    "def Decision_Tree_GRID_Search(DATASET, df,class_col, test_):\n",
    "    X_TV, X_test, y_TV, y_test, train_ =split_Data_TV_Test(df,class_col, test_)\n",
    "    #3 Trials\n",
    "    tuned_parameters = [{'max_depth': (3, 5, 7)},\n",
    "                        {'max_depth': (3, 5, 7)},\n",
    "                        {'max_depth': (3, 5, 7)}]\n",
    "    \n",
    "    #Accuracy optimized\n",
    "    #Cross Validation=3\n",
    "    scores = 'accuracy'\n",
    "    c=0\n",
    "    data_all=[]\n",
    "    for parameter in tuned_parameters:\n",
    "        print(\"# Tuning hyper-parameters for %s\" % scores)\n",
    "        print()\n",
    "\n",
    "        clf = GridSearchCV(tree.DecisionTreeClassifier(), parameter, cv=3,scoring=scores)\n",
    "        clf.fit(X_TV, y_TV)\n",
    "        c+=1\n",
    "    \n",
    "    \n",
    "        print(\"Trial # {0}\".format(c))\n",
    "        print(\"Best parameters set found on development set:\")\n",
    "        print()\n",
    "        print(clf.best_params_)\n",
    "        print()\n",
    "        print(\"Grid scores on development set:\")\n",
    "        print()\n",
    "        means = clf.cv_results_['mean_test_score']\n",
    "        stds = clf.cv_results_['std_test_score']\n",
    "        \n",
    "         #write data to a CSV \n",
    "        #outputs \n",
    "        \n",
    "        # DF | Train % | Test % \n",
    "        row1=[DATASET, train_, test_ ]\n",
    "        #TV | Len(X_TV) | Len(y_TV)\n",
    "        row2=[ \"Training/Validation\", \"#TV Feature Samples\", \"#TV Class Labels\"]\n",
    "        row3=[ \"\",X_TV.shape, y_TV.shape ]\n",
    "\n",
    "        #Test | Len(X_Test) | Len(y_Test)\n",
    "        row4=[ \"Test\", \"#Test Feature Samples\", \"#Test Class Labels\"]\n",
    "        row5=[ \"\",X_test.shape, y_test.shape ]\n",
    "        #Trial #         #Best Parameter: \n",
    "        row6=['Trial/ Best Parameter', c, clf.best_params_]\n",
    "        #Grid Scores=\n",
    "        \n",
    "        Grid_of_scores=[]\n",
    "        row7=[\"Training Accuracies\",\"_\",\"_\"]\n",
    "        row8=[\"Mean\", \"Standard Deviation\", \"Parameter\"]\n",
    "        for mean, std, params in zip(means, stds, clf.cv_results_['params']):\n",
    "            print(\"%0.3f (+/-%0.03f) for %r\"% (mean, std * 2, params))\n",
    "            Grid_of_scores.append([mean, std * 2, params])\n",
    "        \n",
    "        data=[row1, row2, row3, row4,row5, row6, row7, row8]\n",
    "        for i in data:\n",
    "            data_all.append(i)\n",
    "        for i in Grid_of_scores:\n",
    "            data_all.append(i) \n",
    "            \n",
    "        #SAVE RESULTS\n",
    "    output=pd.DataFrame(data=data_all)\n",
    "        \n",
    "    return output"
   ]
  },
  {
   "cell_type": "code",
   "execution_count": 26,
   "metadata": {
    "collapsed": true
   },
   "outputs": [],
   "source": [
    "def Decision_Tree_TEST(DATASET,df,train_, X_TV, y_TV, X_test, y_test, best_param, Accuracies_DF):\n",
    "    \n",
    "    \n",
    "    labels=EEG_OG_Data.columns\n",
    "    labels=labels.drop(\"class\")\n",
    "    \n",
    "    clf =tree.DecisionTreeClassifier(max_depth=best_param)\n",
    "    clf.fit(X_TV, y_TV) \n",
    "    \n",
    "    \n",
    "    dot_data = tree.export_graphviz(clf, out_file=None, \n",
    "                         feature_names=labels,  \n",
    "                         class_names=['open','close'],  \n",
    "                         filled=True, rounded=True,  \n",
    "                         special_characters=True)  \n",
    "    graph = graphviz.Source(dot_data)  \n",
    "    graph.render(str(DATASET)+'___'+str(train_))\n",
    "    \n",
    "    y_pred=clf.predict(X_test)\n",
    "    Test_accuracy=(accuracy_score(y_test, y_pred, normalize=False))/(len(y_test))\n",
    "    print (Test_accuracy)\n",
    "    \n",
    "    \n",
    "    num=[len(Accuracies_DF)]\n",
    "    df3 = pd.DataFrame({0: \"Test Accuracy\",\n",
    "                        1: Test_accuracy , \n",
    "                        2: \"_____________\"}, index=[num])\n",
    "    \n",
    "    \n",
    "    Accuracies_DF=Accuracies_DF.append(df3)\n",
    "    return Accuracies_DF"
   ]
  },
  {
   "cell_type": "code",
   "execution_count": 27,
   "metadata": {
    "collapsed": true
   },
   "outputs": [],
   "source": [
    "def Random_Forest_GRID_Search(DATASET, df,class_col, test_):\n",
    "    X_TV, X_test, y_TV, y_test, train_ =split_Data_TV_Test(df,class_col, test_)\n",
    "    #3 Trials\n",
    "    tuned_parameters = [{'max_depth': range(1,10,2), 'n_estimators':(10,50,100)},\n",
    "                        {'max_depth': range(1,10,2), 'n_estimators':(10,50,100)},\n",
    "                        {'max_depth': range(1,10,2), 'n_estimators':(10,50,100)}]\n",
    "    \n",
    "    #Accuracy optimized\n",
    "    #Cross Validation=3\n",
    "    scores = 'accuracy'\n",
    "    c=0\n",
    "    data_all=[]\n",
    "    for parameter in tuned_parameters:\n",
    "        print(\"# Tuning hyper-parameters for %s\" % scores)\n",
    "        print()\n",
    "\n",
    "        clf = GridSearchCV(RandomForestClassifier(), parameter, cv=3,scoring=scores)\n",
    "        clf.fit(X_TV, y_TV)\n",
    "        c+=1\n",
    "    \n",
    "    \n",
    "        print(\"Trial # {0}\".format(c))\n",
    "        print(\"Best parameters set found on development set:\")\n",
    "        print()\n",
    "        print(clf.best_params_)\n",
    "        print()\n",
    "        print(\"Grid scores on development set:\")\n",
    "        print()\n",
    "        means = clf.cv_results_['mean_test_score']\n",
    "        stds = clf.cv_results_['std_test_score']\n",
    "        \n",
    "         #write data to a CSV \n",
    "        #outputs \n",
    "        \n",
    "        # DF | Train % | Test % \n",
    "        row1=[DATASET, train_, test_ ]\n",
    "        #TV | Len(X_TV) | Len(y_TV)\n",
    "        row2=[ \"Training/Validation\", \"#TV Feature Samples\", \"#TV Class Labels\"]\n",
    "        row3=[ \"\",X_TV.shape, y_TV.shape ]\n",
    "\n",
    "        #Test | Len(X_Test) | Len(y_Test)\n",
    "        row4=[ \"Test\", \"#Test Feature Samples\", \"#Test Class Labels\"]\n",
    "        row5=[ \"\",X_test.shape, y_test.shape ]\n",
    "        #Trial #         #Best Parameter: \n",
    "        row6=['Trial/ Best Parameter', c, clf.best_params_]\n",
    "        #Grid Scores=\n",
    "        \n",
    "        Grid_of_scores=[]\n",
    "        row7=[\"Training Accuracies\",\"_\",\"_\"]\n",
    "        row8=[\"Mean\", \"Standard Deviation\", \"Parameter\"]\n",
    "        for mean, std, params in zip(means, stds, clf.cv_results_['params']):\n",
    "            print(\"%0.3f (+/-%0.03f) for %r\"% (mean, std * 2, params))\n",
    "            Grid_of_scores.append([mean, std * 2, params])\n",
    "        \n",
    "        data=[row1, row2, row3, row4,row5, row6, row7, row8]\n",
    "        for i in data:\n",
    "            data_all.append(i)\n",
    "        for i in Grid_of_scores:\n",
    "            data_all.append(i) \n",
    "            \n",
    "        #SAVE RESULTS\n",
    "    output=pd.DataFrame(data=data_all)\n",
    "        \n",
    "    return output"
   ]
  },
  {
   "cell_type": "code",
   "execution_count": 28,
   "metadata": {
    "collapsed": true
   },
   "outputs": [],
   "source": [
    "def Random_Forest_TEST(DATASET,X_TV, y_TV, X_test, y_test, Best_depth, Best_n, Accuracies_DF):\n",
    "    clf =RandomForestClassifier(max_depth=Best_depth, n_estimators=Best_n)\n",
    "    clf.fit(X_TV, y_TV)\n",
    "    y_pred=clf.predict(X_test)\n",
    "    Test_accuracy=(accuracy_score(y_test, y_pred, normalize=False))/(len(y_test))\n",
    "    print (Test_accuracy)\n",
    "    num=[len(Accuracies_DF)]\n",
    "    df3 = pd.DataFrame({0: \"Test Accuracy\",\n",
    "                        1: Test_accuracy , \n",
    "                        2: \"_____________\"}, index=[num])\n",
    "    \n",
    "    \n",
    "    Accuracies_DF=Accuracies_DF.append(df3)\n",
    "    return Accuracies_DF"
   ]
  },
  {
   "cell_type": "markdown",
   "metadata": {},
   "source": [
    "\n",
    "\n",
    "### Splits include \n",
    "    - 20% TV, 80% Test\n",
    "    - 50% TV, 50% Test\n",
    "    - 80% TV, 20% Test\n",
    "    \n",
    "# Split 1 : 20% Train, 80% Test    "
   ]
  },
  {
   "cell_type": "code",
   "execution_count": 29,
   "metadata": {},
   "outputs": [
    {
     "name": "stdout",
     "output_type": "stream",
     "text": [
      "Train: 20% Test: 80.0%\n",
      "Train/Validation dataset: (2996, 14)  (2996,)\n",
      "Test dataset: (11984, 14)  (11984,)\n"
     ]
    }
   ],
   "source": [
    "X_TV, X_test, y_TV, y_test, train_ =split_Data_TV_Test(EEG_OG_Data, \"class\" , .8)"
   ]
  },
  {
   "cell_type": "markdown",
   "metadata": {},
   "source": [
    "#### Model Selection \n",
    "\n",
    "Lets see how different classifiers perform on set\n",
    "\n",
    "k-fold implementation (k=3)"
   ]
  },
  {
   "cell_type": "code",
   "execution_count": 30,
   "metadata": {},
   "outputs": [
    {
     "name": "stdout",
     "output_type": "stream",
     "text": [
      "Train: 75% Validation: 25.0%\n",
      "Train dataset: (2247, 14)  (2247,)\n",
      "Validation dataset: (749, 14)  (749,)\n",
      "----------------------------------------\n",
      "Random kfold selection #1\n",
      "LR: 0.6381842456608812\n",
      "Random Forest: 0.8598130841121495\n",
      "Neural Network: 0.5554072096128171\n",
      "GaussianNB: 0.4539385847797063\n",
      "DecisionTreeClassifier: 0.7476635514018691\n",
      "SVM: 0.5554072096128171\n",
      "----------------------------------------\n",
      "Random kfold selection #2\n",
      "LR: 0.6381842456608812\n",
      "Random Forest: 0.8651535380507344\n",
      "Neural Network: 0.4459279038718291\n",
      "GaussianNB: 0.4539385847797063\n",
      "DecisionTreeClassifier: 0.7356475300400535\n",
      "SVM: 0.5554072096128171\n",
      "----------------------------------------\n",
      "Random kfold selection #3\n",
      "LR: 0.6381842456608812\n",
      "Random Forest: 0.8451268357810414\n",
      "Neural Network: 0.4459279038718291\n",
      "GaussianNB: 0.4539385847797063\n",
      "DecisionTreeClassifier: 0.7543391188251002\n",
      "SVM: 0.5554072096128171\n"
     ]
    }
   ],
   "source": [
    "#val_=.25 \n",
    "Model_Selection(X_TV, y_TV, .25)"
   ]
  },
  {
   "cell_type": "markdown",
   "metadata": {},
   "source": [
    "  #### Linear SVM\n",
    "  \n",
    "  <p> Implementation using sklearn svm.SVC(Kernel='Linear') </p>"
   ]
  },
  {
   "cell_type": "code",
   "execution_count": 31,
   "metadata": {},
   "outputs": [
    {
     "name": "stdout",
     "output_type": "stream",
     "text": [
      "Train: 20% Test: 80.0%\n",
      "Train/Validation dataset: (2996, 14)  (2996,)\n",
      "Test dataset: (11984, 14)  (11984,)\n",
      "# Tuning hyper-parameters for accuracy\n",
      "\n",
      "Trial # 1\n",
      "Best parameters set found on development set:\n",
      "\n",
      "{'C': 0.001, 'kernel': 'linear'}\n",
      "\n",
      "Grid scores on development set:\n",
      "\n",
      "0.650 (+/-0.016) for {'C': 0.001, 'kernel': 'linear'}\n",
      "0.632 (+/-0.020) for {'C': 0.1, 'kernel': 'linear'}\n",
      "0.628 (+/-0.012) for {'C': 1, 'kernel': 'linear'}\n",
      "0.634 (+/-0.012) for {'C': 10, 'kernel': 'linear'}\n",
      "0.625 (+/-0.032) for {'C': 100, 'kernel': 'linear'}\n",
      "# Tuning hyper-parameters for accuracy\n",
      "\n",
      "Trial # 2\n",
      "Best parameters set found on development set:\n",
      "\n",
      "{'C': 0.001, 'kernel': 'linear'}\n",
      "\n",
      "Grid scores on development set:\n",
      "\n",
      "0.650 (+/-0.016) for {'C': 0.001, 'kernel': 'linear'}\n",
      "0.632 (+/-0.020) for {'C': 0.1, 'kernel': 'linear'}\n",
      "0.628 (+/-0.012) for {'C': 1, 'kernel': 'linear'}\n",
      "0.634 (+/-0.012) for {'C': 10, 'kernel': 'linear'}\n",
      "0.625 (+/-0.032) for {'C': 100, 'kernel': 'linear'}\n",
      "# Tuning hyper-parameters for accuracy\n",
      "\n",
      "Trial # 3\n",
      "Best parameters set found on development set:\n",
      "\n",
      "{'C': 0.001, 'kernel': 'linear'}\n",
      "\n",
      "Grid scores on development set:\n",
      "\n",
      "0.650 (+/-0.016) for {'C': 0.001, 'kernel': 'linear'}\n",
      "0.632 (+/-0.020) for {'C': 0.1, 'kernel': 'linear'}\n",
      "0.628 (+/-0.012) for {'C': 1, 'kernel': 'linear'}\n",
      "0.634 (+/-0.012) for {'C': 10, 'kernel': 'linear'}\n",
      "0.625 (+/-0.032) for {'C': 100, 'kernel': 'linear'}\n"
     ]
    }
   ],
   "source": [
    "SP1_SVM_Accuracies_DF=Linear_SVM_GRID_Search(DATASET, EEG_OG_Data,\"class\", .8)"
   ]
  },
  {
   "cell_type": "code",
   "execution_count": 32,
   "metadata": {},
   "outputs": [
    {
     "name": "stdout",
     "output_type": "stream",
     "text": [
      "0.6528704939919893\n"
     ]
    }
   ],
   "source": [
    "SP1_SVM_Accuracies_DF=Linear_SVM_TEST(DATASET,X_TV, y_TV, X_test, y_test, 0.001 , SP1_SVM_Accuracies_DF)"
   ]
  },
  {
   "cell_type": "markdown",
   "metadata": {},
   "source": [
    "#### Decision Tree"
   ]
  },
  {
   "cell_type": "code",
   "execution_count": 33,
   "metadata": {},
   "outputs": [
    {
     "name": "stdout",
     "output_type": "stream",
     "text": [
      "Train: 20% Test: 80.0%\n",
      "Train/Validation dataset: (2996, 14)  (2996,)\n",
      "Test dataset: (11984, 14)  (11984,)\n",
      "# Tuning hyper-parameters for accuracy\n",
      "\n",
      "Trial # 1\n",
      "Best parameters set found on development set:\n",
      "\n",
      "{'max_depth': 7}\n",
      "\n",
      "Grid scores on development set:\n",
      "\n",
      "0.653 (+/-0.026) for {'max_depth': 3}\n",
      "0.690 (+/-0.050) for {'max_depth': 5}\n",
      "0.726 (+/-0.051) for {'max_depth': 7}\n",
      "# Tuning hyper-parameters for accuracy\n",
      "\n",
      "Trial # 2\n",
      "Best parameters set found on development set:\n",
      "\n",
      "{'max_depth': 7}\n",
      "\n",
      "Grid scores on development set:\n",
      "\n",
      "0.653 (+/-0.026) for {'max_depth': 3}\n",
      "0.691 (+/-0.053) for {'max_depth': 5}\n",
      "0.725 (+/-0.055) for {'max_depth': 7}\n",
      "# Tuning hyper-parameters for accuracy\n",
      "\n",
      "Trial # 3\n",
      "Best parameters set found on development set:\n",
      "\n",
      "{'max_depth': 7}\n",
      "\n",
      "Grid scores on development set:\n",
      "\n",
      "0.653 (+/-0.026) for {'max_depth': 3}\n",
      "0.690 (+/-0.050) for {'max_depth': 5}\n",
      "0.725 (+/-0.057) for {'max_depth': 7}\n"
     ]
    }
   ],
   "source": [
    "SP1_Decision_Tree_Accuracies_DF=Decision_Tree_GRID_Search(DATASET, EEG_OG_Data,\"class\", .8)"
   ]
  },
  {
   "cell_type": "code",
   "execution_count": 34,
   "metadata": {},
   "outputs": [
    {
     "name": "stdout",
     "output_type": "stream",
     "text": [
      "0.7402369826435247\n"
     ]
    }
   ],
   "source": [
    "SP1_Decision_Tree_Accuracies_DF=Decision_Tree_TEST(DATASET,EEG_OG_Data, train_, X_TV, y_TV, X_test, y_test, 7 , SP1_Decision_Tree_Accuracies_DF)"
   ]
  },
  {
   "cell_type": "markdown",
   "metadata": {},
   "source": [
    "#### Random Forest"
   ]
  },
  {
   "cell_type": "code",
   "execution_count": 35,
   "metadata": {},
   "outputs": [
    {
     "name": "stdout",
     "output_type": "stream",
     "text": [
      "Train: 20% Test: 80.0%\n",
      "Train/Validation dataset: (2996, 14)  (2996,)\n",
      "Test dataset: (11984, 14)  (11984,)\n",
      "# Tuning hyper-parameters for accuracy\n",
      "\n",
      "Trial # 1\n",
      "Best parameters set found on development set:\n",
      "\n",
      "{'max_depth': 9, 'n_estimators': 100}\n",
      "\n",
      "Grid scores on development set:\n",
      "\n",
      "0.602 (+/-0.016) for {'max_depth': 1, 'n_estimators': 10}\n",
      "0.599 (+/-0.023) for {'max_depth': 1, 'n_estimators': 50}\n",
      "0.602 (+/-0.017) for {'max_depth': 1, 'n_estimators': 100}\n",
      "0.690 (+/-0.022) for {'max_depth': 3, 'n_estimators': 10}\n",
      "0.698 (+/-0.066) for {'max_depth': 3, 'n_estimators': 50}\n",
      "0.702 (+/-0.046) for {'max_depth': 3, 'n_estimators': 100}\n",
      "0.727 (+/-0.033) for {'max_depth': 5, 'n_estimators': 10}\n",
      "0.753 (+/-0.025) for {'max_depth': 5, 'n_estimators': 50}\n",
      "0.756 (+/-0.027) for {'max_depth': 5, 'n_estimators': 100}\n",
      "0.774 (+/-0.032) for {'max_depth': 7, 'n_estimators': 10}\n",
      "0.784 (+/-0.020) for {'max_depth': 7, 'n_estimators': 50}\n",
      "0.785 (+/-0.018) for {'max_depth': 7, 'n_estimators': 100}\n",
      "0.801 (+/-0.031) for {'max_depth': 9, 'n_estimators': 10}\n",
      "0.813 (+/-0.016) for {'max_depth': 9, 'n_estimators': 50}\n",
      "0.814 (+/-0.026) for {'max_depth': 9, 'n_estimators': 100}\n",
      "# Tuning hyper-parameters for accuracy\n",
      "\n",
      "Trial # 2\n",
      "Best parameters set found on development set:\n",
      "\n",
      "{'max_depth': 9, 'n_estimators': 100}\n",
      "\n",
      "Grid scores on development set:\n",
      "\n",
      "0.604 (+/-0.034) for {'max_depth': 1, 'n_estimators': 10}\n",
      "0.603 (+/-0.016) for {'max_depth': 1, 'n_estimators': 50}\n",
      "0.610 (+/-0.018) for {'max_depth': 1, 'n_estimators': 100}\n",
      "0.681 (+/-0.030) for {'max_depth': 3, 'n_estimators': 10}\n",
      "0.706 (+/-0.029) for {'max_depth': 3, 'n_estimators': 50}\n",
      "0.706 (+/-0.059) for {'max_depth': 3, 'n_estimators': 100}\n",
      "0.739 (+/-0.050) for {'max_depth': 5, 'n_estimators': 10}\n",
      "0.746 (+/-0.033) for {'max_depth': 5, 'n_estimators': 50}\n",
      "0.747 (+/-0.032) for {'max_depth': 5, 'n_estimators': 100}\n",
      "0.770 (+/-0.011) for {'max_depth': 7, 'n_estimators': 10}\n",
      "0.788 (+/-0.013) for {'max_depth': 7, 'n_estimators': 50}\n",
      "0.794 (+/-0.026) for {'max_depth': 7, 'n_estimators': 100}\n",
      "0.783 (+/-0.039) for {'max_depth': 9, 'n_estimators': 10}\n",
      "0.807 (+/-0.022) for {'max_depth': 9, 'n_estimators': 50}\n",
      "0.817 (+/-0.020) for {'max_depth': 9, 'n_estimators': 100}\n",
      "# Tuning hyper-parameters for accuracy\n",
      "\n",
      "Trial # 3\n",
      "Best parameters set found on development set:\n",
      "\n",
      "{'max_depth': 9, 'n_estimators': 50}\n",
      "\n",
      "Grid scores on development set:\n",
      "\n",
      "0.590 (+/-0.015) for {'max_depth': 1, 'n_estimators': 10}\n",
      "0.600 (+/-0.038) for {'max_depth': 1, 'n_estimators': 50}\n",
      "0.607 (+/-0.016) for {'max_depth': 1, 'n_estimators': 100}\n",
      "0.676 (+/-0.046) for {'max_depth': 3, 'n_estimators': 10}\n",
      "0.701 (+/-0.045) for {'max_depth': 3, 'n_estimators': 50}\n",
      "0.709 (+/-0.050) for {'max_depth': 3, 'n_estimators': 100}\n",
      "0.725 (+/-0.012) for {'max_depth': 5, 'n_estimators': 10}\n",
      "0.750 (+/-0.020) for {'max_depth': 5, 'n_estimators': 50}\n",
      "0.751 (+/-0.021) for {'max_depth': 5, 'n_estimators': 100}\n",
      "0.760 (+/-0.006) for {'max_depth': 7, 'n_estimators': 10}\n",
      "0.791 (+/-0.033) for {'max_depth': 7, 'n_estimators': 50}\n",
      "0.785 (+/-0.027) for {'max_depth': 7, 'n_estimators': 100}\n",
      "0.787 (+/-0.025) for {'max_depth': 9, 'n_estimators': 10}\n",
      "0.818 (+/-0.008) for {'max_depth': 9, 'n_estimators': 50}\n",
      "0.817 (+/-0.016) for {'max_depth': 9, 'n_estimators': 100}\n"
     ]
    }
   ],
   "source": [
    "SP1_Random_Forest_Accuracies_DF=Random_Forest_GRID_Search(DATASET, EEG_OG_Data,\"class\", .8)"
   ]
  },
  {
   "cell_type": "code",
   "execution_count": 36,
   "metadata": {
    "scrolled": true
   },
   "outputs": [
    {
     "name": "stdout",
     "output_type": "stream",
     "text": [
      "0.8153371161548731\n"
     ]
    }
   ],
   "source": [
    "SP1_Random_Forest_Accuracies_DF=Random_Forest_TEST(DATASET,X_TV, y_TV, X_test, y_test, 9, 100 , SP1_Random_Forest_Accuracies_DF)"
   ]
  },
  {
   "cell_type": "markdown",
   "metadata": {},
   "source": [
    "# Split 2 : 50% Train, 50% Test    "
   ]
  },
  {
   "cell_type": "code",
   "execution_count": 37,
   "metadata": {},
   "outputs": [
    {
     "name": "stdout",
     "output_type": "stream",
     "text": [
      "Train: 50% Test: 50.0%\n",
      "Train/Validation dataset: (7490, 14)  (7490,)\n",
      "Test dataset: (7490, 14)  (7490,)\n"
     ]
    }
   ],
   "source": [
    "X_TV, X_test, y_TV, y_test, train_ =split_Data_TV_Test(EEG_OG_Data, \"class\" , .5)"
   ]
  },
  {
   "cell_type": "markdown",
   "metadata": {},
   "source": [
    "#### Model Selection \n",
    "\n",
    "Lets see how different classifiers perform on set\n",
    "\n",
    "k-fold implementation (k=3)"
   ]
  },
  {
   "cell_type": "code",
   "execution_count": 38,
   "metadata": {},
   "outputs": [
    {
     "name": "stdout",
     "output_type": "stream",
     "text": [
      "Train: 75% Validation: 25.0%\n",
      "Train dataset: (5617, 14)  (5617,)\n",
      "Validation dataset: (1873, 14)  (1873,)\n",
      "----------------------------------------\n",
      "Random kfold selection #1\n",
      "LR: 0.6396155899626268\n",
      "Random Forest: 0.9006940736785904\n",
      "Neural Network: 0.5509877202349173\n",
      "GaussianNB: 0.603310197544047\n",
      "DecisionTreeClassifier: 0.796049119060331\n",
      "SVM: 0.5589962626801922\n",
      "----------------------------------------\n",
      "Random kfold selection #2\n",
      "LR: 0.6396155899626268\n",
      "Random Forest: 0.8969567538707955\n",
      "Neural Network: 0.4452749599572878\n",
      "GaussianNB: 0.603310197544047\n",
      "DecisionTreeClassifier: 0.792845702082221\n",
      "SVM: 0.5589962626801922\n",
      "----------------------------------------\n",
      "Random kfold selection #3\n",
      "LR: 0.6396155899626268\n",
      "Random Forest: 0.8985584623598505\n",
      "Neural Network: 0.44313934863854776\n",
      "GaussianNB: 0.603310197544047\n",
      "DecisionTreeClassifier: 0.798184730379071\n",
      "SVM: 0.5589962626801922\n"
     ]
    }
   ],
   "source": [
    "#val_=.25 \n",
    "Model_Selection(X_TV, y_TV, .25)"
   ]
  },
  {
   "cell_type": "markdown",
   "metadata": {},
   "source": [
    "  #### Linear SVM\n",
    "  \n",
    "  <p> Implementation using sklearn svm.SVC(Kernel='Linear') </p>"
   ]
  },
  {
   "cell_type": "code",
   "execution_count": 39,
   "metadata": {},
   "outputs": [
    {
     "name": "stdout",
     "output_type": "stream",
     "text": [
      "Train: 50% Test: 50.0%\n",
      "Train/Validation dataset: (7490, 14)  (7490,)\n",
      "Test dataset: (7490, 14)  (7490,)\n",
      "# Tuning hyper-parameters for accuracy\n",
      "\n",
      "Trial # 1\n",
      "Best parameters set found on development set:\n",
      "\n",
      "{'C': 0.001, 'kernel': 'linear'}\n",
      "\n",
      "Grid scores on development set:\n",
      "\n",
      "0.658 (+/-0.003) for {'C': 0.001, 'kernel': 'linear'}\n",
      "0.645 (+/-0.009) for {'C': 0.1, 'kernel': 'linear'}\n",
      "0.647 (+/-0.011) for {'C': 1, 'kernel': 'linear'}\n",
      "0.645 (+/-0.011) for {'C': 10, 'kernel': 'linear'}\n",
      "0.643 (+/-0.007) for {'C': 100, 'kernel': 'linear'}\n",
      "# Tuning hyper-parameters for accuracy\n",
      "\n",
      "Trial # 2\n",
      "Best parameters set found on development set:\n",
      "\n",
      "{'C': 0.001, 'kernel': 'linear'}\n",
      "\n",
      "Grid scores on development set:\n",
      "\n",
      "0.658 (+/-0.003) for {'C': 0.001, 'kernel': 'linear'}\n",
      "0.645 (+/-0.009) for {'C': 0.1, 'kernel': 'linear'}\n",
      "0.647 (+/-0.011) for {'C': 1, 'kernel': 'linear'}\n",
      "0.645 (+/-0.011) for {'C': 10, 'kernel': 'linear'}\n",
      "0.643 (+/-0.007) for {'C': 100, 'kernel': 'linear'}\n",
      "# Tuning hyper-parameters for accuracy\n",
      "\n",
      "Trial # 3\n",
      "Best parameters set found on development set:\n",
      "\n",
      "{'C': 0.001, 'kernel': 'linear'}\n",
      "\n",
      "Grid scores on development set:\n",
      "\n",
      "0.658 (+/-0.003) for {'C': 0.001, 'kernel': 'linear'}\n",
      "0.645 (+/-0.009) for {'C': 0.1, 'kernel': 'linear'}\n",
      "0.647 (+/-0.011) for {'C': 1, 'kernel': 'linear'}\n",
      "0.645 (+/-0.011) for {'C': 10, 'kernel': 'linear'}\n",
      "0.643 (+/-0.007) for {'C': 100, 'kernel': 'linear'}\n"
     ]
    }
   ],
   "source": [
    "SP2_SVM_Accuracies_DF=Linear_SVM_GRID_Search(DATASET, EEG_OG_Data,\"class\", .5)"
   ]
  },
  {
   "cell_type": "code",
   "execution_count": 40,
   "metadata": {},
   "outputs": [
    {
     "name": "stdout",
     "output_type": "stream",
     "text": [
      "0.6579439252336449\n"
     ]
    }
   ],
   "source": [
    "SP2_SVM_Accuracies_DF=Linear_SVM_TEST(DATASET,X_TV, y_TV, X_test, y_test, 0.001 , SP2_SVM_Accuracies_DF)"
   ]
  },
  {
   "cell_type": "markdown",
   "metadata": {},
   "source": [
    "#### Decision Tree"
   ]
  },
  {
   "cell_type": "code",
   "execution_count": 41,
   "metadata": {},
   "outputs": [
    {
     "name": "stdout",
     "output_type": "stream",
     "text": [
      "Train: 50% Test: 50.0%\n",
      "Train/Validation dataset: (7490, 14)  (7490,)\n",
      "Test dataset: (7490, 14)  (7490,)\n",
      "# Tuning hyper-parameters for accuracy\n",
      "\n",
      "Trial # 1\n",
      "Best parameters set found on development set:\n",
      "\n",
      "{'max_depth': 7}\n",
      "\n",
      "Grid scores on development set:\n",
      "\n",
      "0.674 (+/-0.021) for {'max_depth': 3}\n",
      "0.709 (+/-0.011) for {'max_depth': 5}\n",
      "0.746 (+/-0.008) for {'max_depth': 7}\n",
      "# Tuning hyper-parameters for accuracy\n",
      "\n",
      "Trial # 2\n",
      "Best parameters set found on development set:\n",
      "\n",
      "{'max_depth': 7}\n",
      "\n",
      "Grid scores on development set:\n",
      "\n",
      "0.674 (+/-0.021) for {'max_depth': 3}\n",
      "0.709 (+/-0.010) for {'max_depth': 5}\n",
      "0.745 (+/-0.011) for {'max_depth': 7}\n",
      "# Tuning hyper-parameters for accuracy\n",
      "\n",
      "Trial # 3\n",
      "Best parameters set found on development set:\n",
      "\n",
      "{'max_depth': 7}\n",
      "\n",
      "Grid scores on development set:\n",
      "\n",
      "0.674 (+/-0.021) for {'max_depth': 3}\n",
      "0.709 (+/-0.011) for {'max_depth': 5}\n",
      "0.746 (+/-0.010) for {'max_depth': 7}\n"
     ]
    }
   ],
   "source": [
    "SP2_Decision_Tree_Accuracies_DF=Decision_Tree_GRID_Search(DATASET, EEG_OG_Data,\"class\", .5)"
   ]
  },
  {
   "cell_type": "code",
   "execution_count": 42,
   "metadata": {},
   "outputs": [
    {
     "name": "stdout",
     "output_type": "stream",
     "text": [
      "0.7380507343124165\n"
     ]
    }
   ],
   "source": [
    "SP2_Decision_Tree_Accuracies_DF=Decision_Tree_TEST(DATASET,EEG_OG_Data, train_, X_TV, y_TV, X_test, y_test, 7 , SP2_Decision_Tree_Accuracies_DF)"
   ]
  },
  {
   "cell_type": "markdown",
   "metadata": {},
   "source": [
    "#### Random Forest"
   ]
  },
  {
   "cell_type": "code",
   "execution_count": 46,
   "metadata": {},
   "outputs": [
    {
     "name": "stdout",
     "output_type": "stream",
     "text": [
      "Train: 50% Test: 50.0%\n",
      "Train/Validation dataset: (7490, 14)  (7490,)\n",
      "Test dataset: (7490, 14)  (7490,)\n",
      "# Tuning hyper-parameters for accuracy\n",
      "\n",
      "Trial # 1\n",
      "Best parameters set found on development set:\n",
      "\n",
      "{'max_depth': 9, 'n_estimators': 100}\n",
      "\n",
      "Grid scores on development set:\n",
      "\n",
      "0.591 (+/-0.027) for {'max_depth': 1, 'n_estimators': 10}\n",
      "0.595 (+/-0.015) for {'max_depth': 1, 'n_estimators': 50}\n",
      "0.597 (+/-0.020) for {'max_depth': 1, 'n_estimators': 100}\n",
      "0.700 (+/-0.034) for {'max_depth': 3, 'n_estimators': 10}\n",
      "0.709 (+/-0.020) for {'max_depth': 3, 'n_estimators': 50}\n",
      "0.718 (+/-0.033) for {'max_depth': 3, 'n_estimators': 100}\n",
      "0.743 (+/-0.008) for {'max_depth': 5, 'n_estimators': 10}\n",
      "0.754 (+/-0.013) for {'max_depth': 5, 'n_estimators': 50}\n",
      "0.760 (+/-0.014) for {'max_depth': 5, 'n_estimators': 100}\n",
      "0.780 (+/-0.015) for {'max_depth': 7, 'n_estimators': 10}\n",
      "0.802 (+/-0.007) for {'max_depth': 7, 'n_estimators': 50}\n",
      "0.798 (+/-0.006) for {'max_depth': 7, 'n_estimators': 100}\n",
      "0.813 (+/-0.018) for {'max_depth': 9, 'n_estimators': 10}\n",
      "0.832 (+/-0.007) for {'max_depth': 9, 'n_estimators': 50}\n",
      "0.835 (+/-0.007) for {'max_depth': 9, 'n_estimators': 100}\n",
      "# Tuning hyper-parameters for accuracy\n",
      "\n",
      "Trial # 2\n",
      "Best parameters set found on development set:\n",
      "\n",
      "{'max_depth': 9, 'n_estimators': 100}\n",
      "\n",
      "Grid scores on development set:\n",
      "\n",
      "0.602 (+/-0.008) for {'max_depth': 1, 'n_estimators': 10}\n",
      "0.593 (+/-0.008) for {'max_depth': 1, 'n_estimators': 50}\n",
      "0.600 (+/-0.026) for {'max_depth': 1, 'n_estimators': 100}\n",
      "0.691 (+/-0.028) for {'max_depth': 3, 'n_estimators': 10}\n",
      "0.709 (+/-0.026) for {'max_depth': 3, 'n_estimators': 50}\n",
      "0.716 (+/-0.032) for {'max_depth': 3, 'n_estimators': 100}\n",
      "0.738 (+/-0.012) for {'max_depth': 5, 'n_estimators': 10}\n",
      "0.756 (+/-0.017) for {'max_depth': 5, 'n_estimators': 50}\n",
      "0.757 (+/-0.011) for {'max_depth': 5, 'n_estimators': 100}\n",
      "0.781 (+/-0.014) for {'max_depth': 7, 'n_estimators': 10}\n",
      "0.799 (+/-0.008) for {'max_depth': 7, 'n_estimators': 50}\n",
      "0.804 (+/-0.009) for {'max_depth': 7, 'n_estimators': 100}\n",
      "0.811 (+/-0.008) for {'max_depth': 9, 'n_estimators': 10}\n",
      "0.833 (+/-0.008) for {'max_depth': 9, 'n_estimators': 50}\n",
      "0.836 (+/-0.010) for {'max_depth': 9, 'n_estimators': 100}\n",
      "# Tuning hyper-parameters for accuracy\n",
      "\n",
      "Trial # 3\n",
      "Best parameters set found on development set:\n",
      "\n",
      "{'max_depth': 9, 'n_estimators': 100}\n",
      "\n",
      "Grid scores on development set:\n",
      "\n",
      "0.581 (+/-0.038) for {'max_depth': 1, 'n_estimators': 10}\n",
      "0.602 (+/-0.023) for {'max_depth': 1, 'n_estimators': 50}\n",
      "0.597 (+/-0.013) for {'max_depth': 1, 'n_estimators': 100}\n",
      "0.699 (+/-0.013) for {'max_depth': 3, 'n_estimators': 10}\n",
      "0.709 (+/-0.021) for {'max_depth': 3, 'n_estimators': 50}\n",
      "0.711 (+/-0.022) for {'max_depth': 3, 'n_estimators': 100}\n",
      "0.748 (+/-0.020) for {'max_depth': 5, 'n_estimators': 10}\n",
      "0.760 (+/-0.018) for {'max_depth': 5, 'n_estimators': 50}\n",
      "0.755 (+/-0.022) for {'max_depth': 5, 'n_estimators': 100}\n",
      "0.789 (+/-0.019) for {'max_depth': 7, 'n_estimators': 10}\n",
      "0.798 (+/-0.014) for {'max_depth': 7, 'n_estimators': 50}\n",
      "0.796 (+/-0.004) for {'max_depth': 7, 'n_estimators': 100}\n",
      "0.813 (+/-0.001) for {'max_depth': 9, 'n_estimators': 10}\n",
      "0.832 (+/-0.007) for {'max_depth': 9, 'n_estimators': 50}\n",
      "0.833 (+/-0.016) for {'max_depth': 9, 'n_estimators': 100}\n"
     ]
    }
   ],
   "source": [
    "SP2_Random_Forest_Accuracies_DF=Random_Forest_GRID_Search(DATASET, EEG_OG_Data,\"class\", .5)"
   ]
  },
  {
   "cell_type": "code",
   "execution_count": 47,
   "metadata": {},
   "outputs": [
    {
     "name": "stdout",
     "output_type": "stream",
     "text": [
      "0.8407209612817089\n"
     ]
    }
   ],
   "source": [
    "SP2_Random_Forest_Accuracies_DF=Random_Forest_TEST(DATASET,X_TV, y_TV, X_test, y_test, 9, 100 , SP2_Random_Forest_Accuracies_DF)"
   ]
  },
  {
   "cell_type": "markdown",
   "metadata": {},
   "source": [
    "# Split 3 : 80% Train, 20% Test    "
   ]
  },
  {
   "cell_type": "code",
   "execution_count": 48,
   "metadata": {},
   "outputs": [
    {
     "name": "stdout",
     "output_type": "stream",
     "text": [
      "Train: 80% Test: 20.0%\n",
      "Train/Validation dataset: (11984, 14)  (11984,)\n",
      "Test dataset: (2996, 14)  (2996,)\n"
     ]
    }
   ],
   "source": [
    "X_TV, X_test, y_TV, y_test, train_ =split_Data_TV_Test(EEG_OG_Data, \"class\" , .2)"
   ]
  },
  {
   "cell_type": "markdown",
   "metadata": {},
   "source": [
    "#### Model Selection \n",
    "\n",
    "Lets see how different classifiers perform on set\n",
    "\n",
    "k-fold implementation (k=3)"
   ]
  },
  {
   "cell_type": "code",
   "execution_count": 49,
   "metadata": {},
   "outputs": [
    {
     "name": "stdout",
     "output_type": "stream",
     "text": [
      "Train: 75% Validation: 25.0%\n",
      "Train dataset: (8988, 14)  (8988,)\n",
      "Validation dataset: (2996, 14)  (2996,)\n",
      "----------------------------------------\n",
      "Random kfold selection #1\n",
      "LR: 0.6672229639519359\n",
      "Random Forest: 0.9218958611481975\n",
      "Neural Network: 0.5497329773030708\n",
      "GaussianNB: 0.44893190921228304\n",
      "DecisionTreeClassifier: 0.8157543391188251\n",
      "SVM: 0.5497329773030708\n",
      "----------------------------------------\n",
      "Random kfold selection #2\n",
      "LR: 0.6672229639519359\n",
      "Random Forest: 0.921562082777036\n",
      "Neural Network: 0.4506008010680908\n",
      "GaussianNB: 0.44893190921228304\n",
      "DecisionTreeClassifier: 0.8140854472630173\n",
      "SVM: 0.5497329773030708\n",
      "----------------------------------------\n",
      "Random kfold selection #3\n",
      "LR: 0.6672229639519359\n",
      "Random Forest: 0.9279038718291055\n",
      "Neural Network: 0.5493991989319092\n",
      "GaussianNB: 0.44893190921228304\n",
      "DecisionTreeClassifier: 0.8167556742323098\n",
      "SVM: 0.5497329773030708\n"
     ]
    }
   ],
   "source": [
    "#val_=.25 \n",
    "Model_Selection(X_TV, y_TV, .25)"
   ]
  },
  {
   "cell_type": "markdown",
   "metadata": {},
   "source": [
    "  #### Linear SVM\n",
    "  \n",
    "  <p> Implementation using sklearn svm.SVC(Kernel='Linear') </p>"
   ]
  },
  {
   "cell_type": "code",
   "execution_count": 50,
   "metadata": {},
   "outputs": [
    {
     "name": "stdout",
     "output_type": "stream",
     "text": [
      "Train: 80% Test: 20.0%\n",
      "Train/Validation dataset: (11984, 14)  (11984,)\n",
      "Test dataset: (2996, 14)  (2996,)\n",
      "# Tuning hyper-parameters for accuracy\n",
      "\n",
      "Trial # 1\n",
      "Best parameters set found on development set:\n",
      "\n",
      "{'C': 0.001, 'kernel': 'linear'}\n",
      "\n",
      "Grid scores on development set:\n",
      "\n",
      "0.658 (+/-0.008) for {'C': 0.001, 'kernel': 'linear'}\n",
      "0.643 (+/-0.011) for {'C': 0.1, 'kernel': 'linear'}\n",
      "0.646 (+/-0.015) for {'C': 1, 'kernel': 'linear'}\n",
      "0.648 (+/-0.012) for {'C': 10, 'kernel': 'linear'}\n",
      "0.644 (+/-0.013) for {'C': 100, 'kernel': 'linear'}\n",
      "# Tuning hyper-parameters for accuracy\n",
      "\n",
      "Trial # 2\n",
      "Best parameters set found on development set:\n",
      "\n",
      "{'C': 0.001, 'kernel': 'linear'}\n",
      "\n",
      "Grid scores on development set:\n",
      "\n",
      "0.658 (+/-0.008) for {'C': 0.001, 'kernel': 'linear'}\n",
      "0.643 (+/-0.011) for {'C': 0.1, 'kernel': 'linear'}\n",
      "0.646 (+/-0.015) for {'C': 1, 'kernel': 'linear'}\n",
      "0.648 (+/-0.012) for {'C': 10, 'kernel': 'linear'}\n",
      "0.644 (+/-0.013) for {'C': 100, 'kernel': 'linear'}\n",
      "# Tuning hyper-parameters for accuracy\n",
      "\n",
      "Trial # 3\n",
      "Best parameters set found on development set:\n",
      "\n",
      "{'C': 0.001, 'kernel': 'linear'}\n",
      "\n",
      "Grid scores on development set:\n",
      "\n",
      "0.658 (+/-0.008) for {'C': 0.001, 'kernel': 'linear'}\n",
      "0.643 (+/-0.011) for {'C': 0.1, 'kernel': 'linear'}\n",
      "0.646 (+/-0.015) for {'C': 1, 'kernel': 'linear'}\n",
      "0.648 (+/-0.012) for {'C': 10, 'kernel': 'linear'}\n",
      "0.644 (+/-0.013) for {'C': 100, 'kernel': 'linear'}\n"
     ]
    }
   ],
   "source": [
    "SP3_SVM_Accuracies_DF=Linear_SVM_GRID_Search(DATASET, EEG_OG_Data,\"class\", .2)"
   ]
  },
  {
   "cell_type": "code",
   "execution_count": 51,
   "metadata": {},
   "outputs": [
    {
     "name": "stdout",
     "output_type": "stream",
     "text": [
      "0.6565420560747663\n"
     ]
    }
   ],
   "source": [
    "SP3_SVM_Accuracies_DF=Linear_SVM_TEST(DATASET,X_TV, y_TV, X_test, y_test, 0.001 , SP3_SVM_Accuracies_DF)"
   ]
  },
  {
   "cell_type": "markdown",
   "metadata": {},
   "source": [
    "#### Decision Tree"
   ]
  },
  {
   "cell_type": "code",
   "execution_count": 55,
   "metadata": {},
   "outputs": [
    {
     "name": "stdout",
     "output_type": "stream",
     "text": [
      "Train: 80% Test: 20.0%\n",
      "Train/Validation dataset: (11984, 14)  (11984,)\n",
      "Test dataset: (2996, 14)  (2996,)\n",
      "# Tuning hyper-parameters for accuracy\n",
      "\n",
      "Trial # 1\n",
      "Best parameters set found on development set:\n",
      "\n",
      "{'max_depth': 7}\n",
      "\n",
      "Grid scores on development set:\n",
      "\n",
      "0.661 (+/-0.013) for {'max_depth': 3}\n",
      "0.711 (+/-0.008) for {'max_depth': 5}\n",
      "0.757 (+/-0.024) for {'max_depth': 7}\n",
      "# Tuning hyper-parameters for accuracy\n",
      "\n",
      "Trial # 2\n",
      "Best parameters set found on development set:\n",
      "\n",
      "{'max_depth': 7}\n",
      "\n",
      "Grid scores on development set:\n",
      "\n",
      "0.661 (+/-0.013) for {'max_depth': 3}\n",
      "0.711 (+/-0.008) for {'max_depth': 5}\n",
      "0.757 (+/-0.023) for {'max_depth': 7}\n",
      "# Tuning hyper-parameters for accuracy\n",
      "\n",
      "Trial # 3\n",
      "Best parameters set found on development set:\n",
      "\n",
      "{'max_depth': 7}\n",
      "\n",
      "Grid scores on development set:\n",
      "\n",
      "0.661 (+/-0.013) for {'max_depth': 3}\n",
      "0.711 (+/-0.008) for {'max_depth': 5}\n",
      "0.757 (+/-0.022) for {'max_depth': 7}\n"
     ]
    }
   ],
   "source": [
    "SP3_Decision_Tree_Accuracies_DF=Decision_Tree_GRID_Search(DATASET, EEG_OG_Data,\"class\", .2)"
   ]
  },
  {
   "cell_type": "code",
   "execution_count": 56,
   "metadata": {},
   "outputs": [
    {
     "name": "stdout",
     "output_type": "stream",
     "text": [
      "0.7680240320427236\n"
     ]
    }
   ],
   "source": [
    "SP3_Decision_Tree_Accuracies_DF=Decision_Tree_TEST(DATASET,EEG_OG_Data, train_, X_TV, y_TV, X_test, y_test, 7 , SP3_Decision_Tree_Accuracies_DF)"
   ]
  },
  {
   "cell_type": "markdown",
   "metadata": {},
   "source": [
    "#### Random Forest"
   ]
  },
  {
   "cell_type": "code",
   "execution_count": 57,
   "metadata": {},
   "outputs": [
    {
     "name": "stdout",
     "output_type": "stream",
     "text": [
      "Train: 80% Test: 20.0%\n",
      "Train/Validation dataset: (11984, 14)  (11984,)\n",
      "Test dataset: (2996, 14)  (2996,)\n",
      "# Tuning hyper-parameters for accuracy\n",
      "\n",
      "Trial # 1\n",
      "Best parameters set found on development set:\n",
      "\n",
      "{'max_depth': 9, 'n_estimators': 100}\n",
      "\n",
      "Grid scores on development set:\n",
      "\n",
      "0.598 (+/-0.006) for {'max_depth': 1, 'n_estimators': 10}\n",
      "0.600 (+/-0.013) for {'max_depth': 1, 'n_estimators': 50}\n",
      "0.604 (+/-0.004) for {'max_depth': 1, 'n_estimators': 100}\n",
      "0.696 (+/-0.019) for {'max_depth': 3, 'n_estimators': 10}\n",
      "0.704 (+/-0.006) for {'max_depth': 3, 'n_estimators': 50}\n",
      "0.707 (+/-0.004) for {'max_depth': 3, 'n_estimators': 100}\n",
      "0.753 (+/-0.011) for {'max_depth': 5, 'n_estimators': 10}\n",
      "0.760 (+/-0.005) for {'max_depth': 5, 'n_estimators': 50}\n",
      "0.762 (+/-0.010) for {'max_depth': 5, 'n_estimators': 100}\n",
      "0.790 (+/-0.007) for {'max_depth': 7, 'n_estimators': 10}\n",
      "0.805 (+/-0.006) for {'max_depth': 7, 'n_estimators': 50}\n",
      "0.808 (+/-0.012) for {'max_depth': 7, 'n_estimators': 100}\n",
      "0.824 (+/-0.003) for {'max_depth': 9, 'n_estimators': 10}\n",
      "0.841 (+/-0.007) for {'max_depth': 9, 'n_estimators': 50}\n",
      "0.842 (+/-0.014) for {'max_depth': 9, 'n_estimators': 100}\n",
      "# Tuning hyper-parameters for accuracy\n",
      "\n",
      "Trial # 2\n",
      "Best parameters set found on development set:\n",
      "\n",
      "{'max_depth': 9, 'n_estimators': 100}\n",
      "\n",
      "Grid scores on development set:\n",
      "\n",
      "0.595 (+/-0.030) for {'max_depth': 1, 'n_estimators': 10}\n",
      "0.603 (+/-0.013) for {'max_depth': 1, 'n_estimators': 50}\n",
      "0.601 (+/-0.012) for {'max_depth': 1, 'n_estimators': 100}\n",
      "0.680 (+/-0.031) for {'max_depth': 3, 'n_estimators': 10}\n",
      "0.702 (+/-0.005) for {'max_depth': 3, 'n_estimators': 50}\n",
      "0.709 (+/-0.004) for {'max_depth': 3, 'n_estimators': 100}\n",
      "0.746 (+/-0.015) for {'max_depth': 5, 'n_estimators': 10}\n",
      "0.758 (+/-0.020) for {'max_depth': 5, 'n_estimators': 50}\n",
      "0.766 (+/-0.006) for {'max_depth': 5, 'n_estimators': 100}\n",
      "0.790 (+/-0.014) for {'max_depth': 7, 'n_estimators': 10}\n",
      "0.800 (+/-0.016) for {'max_depth': 7, 'n_estimators': 50}\n",
      "0.809 (+/-0.011) for {'max_depth': 7, 'n_estimators': 100}\n",
      "0.825 (+/-0.005) for {'max_depth': 9, 'n_estimators': 10}\n",
      "0.840 (+/-0.011) for {'max_depth': 9, 'n_estimators': 50}\n",
      "0.841 (+/-0.008) for {'max_depth': 9, 'n_estimators': 100}\n",
      "# Tuning hyper-parameters for accuracy\n",
      "\n",
      "Trial # 3\n",
      "Best parameters set found on development set:\n",
      "\n",
      "{'max_depth': 9, 'n_estimators': 100}\n",
      "\n",
      "Grid scores on development set:\n",
      "\n",
      "0.607 (+/-0.026) for {'max_depth': 1, 'n_estimators': 10}\n",
      "0.602 (+/-0.007) for {'max_depth': 1, 'n_estimators': 50}\n",
      "0.599 (+/-0.006) for {'max_depth': 1, 'n_estimators': 100}\n",
      "0.695 (+/-0.011) for {'max_depth': 3, 'n_estimators': 10}\n",
      "0.716 (+/-0.020) for {'max_depth': 3, 'n_estimators': 50}\n",
      "0.709 (+/-0.006) for {'max_depth': 3, 'n_estimators': 100}\n",
      "0.744 (+/-0.016) for {'max_depth': 5, 'n_estimators': 10}\n",
      "0.757 (+/-0.017) for {'max_depth': 5, 'n_estimators': 50}\n",
      "0.765 (+/-0.013) for {'max_depth': 5, 'n_estimators': 100}\n",
      "0.787 (+/-0.015) for {'max_depth': 7, 'n_estimators': 10}\n",
      "0.803 (+/-0.011) for {'max_depth': 7, 'n_estimators': 50}\n",
      "0.807 (+/-0.009) for {'max_depth': 7, 'n_estimators': 100}\n",
      "0.827 (+/-0.011) for {'max_depth': 9, 'n_estimators': 10}\n",
      "0.838 (+/-0.003) for {'max_depth': 9, 'n_estimators': 50}\n",
      "0.839 (+/-0.013) for {'max_depth': 9, 'n_estimators': 100}\n"
     ]
    }
   ],
   "source": [
    "SP3_Random_Forest_Accuracies_DF=Random_Forest_GRID_Search(DATASET, EEG_OG_Data,\"class\", .2)"
   ]
  },
  {
   "cell_type": "code",
   "execution_count": 58,
   "metadata": {},
   "outputs": [
    {
     "name": "stdout",
     "output_type": "stream",
     "text": [
      "0.8427903871829105\n"
     ]
    }
   ],
   "source": [
    "SP3_Random_Forest_Accuracies_DF=Random_Forest_TEST(DATASET,X_TV, y_TV, X_test, y_test, 9, 100 , SP3_Random_Forest_Accuracies_DF)"
   ]
  },
  {
   "cell_type": "markdown",
   "metadata": {},
   "source": [
    "# Export Results "
   ]
  },
  {
   "cell_type": "code",
   "execution_count": 59,
   "metadata": {
    "collapsed": true
   },
   "outputs": [],
   "source": [
    "list_of_Data_Results=[SP1_SVM_Accuracies_DF,SP1_Decision_Tree_Accuracies_DF,SP1_Random_Forest_Accuracies_DF,\n",
    "                      SP2_SVM_Accuracies_DF,SP2_Decision_Tree_Accuracies_DF,SP2_Random_Forest_Accuracies_DF,\n",
    "                      SP3_SVM_Accuracies_DF,SP3_Decision_Tree_Accuracies_DF,SP3_Random_Forest_Accuracies_DF]\n",
    "\n",
    "RESULTS = pd.concat(list_of_Data_Results, axis=0, ignore_index=True)\n",
    "\n"
   ]
  },
  {
   "cell_type": "code",
   "execution_count": 60,
   "metadata": {
    "collapsed": true
   },
   "outputs": [],
   "source": [
    "RESULTS.to_csv((str(DATASET)+'_results.csv'))"
   ]
  },
  {
   "cell_type": "code",
   "execution_count": null,
   "metadata": {
    "collapsed": true
   },
   "outputs": [],
   "source": []
  }
 ],
 "metadata": {
  "kernelspec": {
   "display_name": "Python 3",
   "language": "python",
   "name": "python3"
  },
  "language_info": {
   "codemirror_mode": {
    "name": "ipython",
    "version": 3
   },
   "file_extension": ".py",
   "mimetype": "text/x-python",
   "name": "python",
   "nbconvert_exporter": "python",
   "pygments_lexer": "ipython3",
   "version": "3.6.3"
  }
 },
 "nbformat": 4,
 "nbformat_minor": 2
}
