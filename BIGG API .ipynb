{
 "cells": [
  {
   "cell_type": "code",
   "execution_count": 1,
   "metadata": {
    "collapsed": true
   },
   "outputs": [],
   "source": [
    "import os\n",
    "import pandas as pd\n",
    "from pandas import ExcelWriter\n",
    "from pandas import ExcelFile\n",
    "import json\n",
    "import requests \n",
    "import time\n",
    "import random"
   ]
  },
  {
   "cell_type": "markdown",
   "metadata": {},
   "source": [
    "## Lets look at models! "
   ]
  },
  {
   "cell_type": "code",
   "execution_count": 2,
   "metadata": {},
   "outputs": [
    {
     "data": {
      "text/plain": [
       "{'results': [{'bigg_id': 'e_coli_core',\n",
       "   'gene_count': 137,\n",
       "   'metabolite_count': 72,\n",
       "   'organism': 'Escherichia coli str. K-12 substr. MG1655',\n",
       "   'reaction_count': 95},\n",
       "  {'bigg_id': 'iAB_RBC_283',\n",
       "   'gene_count': 346,\n",
       "   'metabolite_count': 342,\n",
       "   'organism': 'Homo sapiens',\n",
       "   'reaction_count': 469},\n",
       "  {'bigg_id': 'iAF1260',\n",
       "   'gene_count': 1261,\n",
       "   'metabolite_count': 1668,\n",
       "   'organism': 'Escherichia coli str. K-12 substr. MG1655',\n",
       "   'reaction_count': 2382},\n",
       "  {'bigg_id': 'iAF1260b',\n",
       "   'gene_count': 1261,\n",
       "   'metabolite_count': 1668,\n",
       "   'organism': 'Escherichia coli str. K-12 substr. MG1655',\n",
       "   'reaction_count': 2388},\n",
       "  {'bigg_id': 'iAF692',\n",
       "   'gene_count': 692,\n",
       "   'metabolite_count': 628,\n",
       "   'organism': 'Methanosarcina barkeri str. Fusaro',\n",
       "   'reaction_count': 690},\n",
       "  {'bigg_id': 'iAF987',\n",
       "   'gene_count': 987,\n",
       "   'metabolite_count': 1109,\n",
       "   'organism': 'Geobacter metallireducens GS-15',\n",
       "   'reaction_count': 1285},\n",
       "  {'bigg_id': 'iAPECO1_1312',\n",
       "   'gene_count': 1313,\n",
       "   'metabolite_count': 1942,\n",
       "   'organism': 'Escherichia coli APEC O1',\n",
       "   'reaction_count': 2735},\n",
       "  {'bigg_id': 'iAT_PLT_636',\n",
       "   'gene_count': 636,\n",
       "   'metabolite_count': 738,\n",
       "   'organism': 'Homo sapiens',\n",
       "   'reaction_count': 1008},\n",
       "  {'bigg_id': 'iB21_1397',\n",
       "   'gene_count': 1337,\n",
       "   'metabolite_count': 1943,\n",
       "   'organism': 'Escherichia coli BL21(DE3)',\n",
       "   'reaction_count': 2741},\n",
       "  {'bigg_id': 'iBWG_1329',\n",
       "   'gene_count': 1329,\n",
       "   'metabolite_count': 1949,\n",
       "   'organism': 'Escherichia coli BW2952',\n",
       "   'reaction_count': 2741},\n",
       "  {'bigg_id': 'ic_1306',\n",
       "   'gene_count': 1307,\n",
       "   'metabolite_count': 1936,\n",
       "   'organism': 'Escherichia coli CFT073',\n",
       "   'reaction_count': 2726},\n",
       "  {'bigg_id': 'iCHOv1',\n",
       "   'gene_count': 1766,\n",
       "   'metabolite_count': 4456,\n",
       "   'organism': 'Cricetulus griseus',\n",
       "   'reaction_count': 6663},\n",
       "  {'bigg_id': 'iE2348C_1286',\n",
       "   'gene_count': 1287,\n",
       "   'metabolite_count': 1919,\n",
       "   'organism': 'Escherichia coli O127:H6 str. E2348/69',\n",
       "   'reaction_count': 2703},\n",
       "  {'bigg_id': 'iEC042_1314',\n",
       "   'gene_count': 1314,\n",
       "   'metabolite_count': 1926,\n",
       "   'organism': 'Escherichia coli 042',\n",
       "   'reaction_count': 2714},\n",
       "  {'bigg_id': 'iEC55989_1330',\n",
       "   'gene_count': 1330,\n",
       "   'metabolite_count': 1953,\n",
       "   'organism': 'Escherichia coli 55989',\n",
       "   'reaction_count': 2756},\n",
       "  {'bigg_id': 'iECABU_c1320',\n",
       "   'gene_count': 1320,\n",
       "   'metabolite_count': 1942,\n",
       "   'organism': 'Escherichia coli ABU 83972',\n",
       "   'reaction_count': 2731},\n",
       "  {'bigg_id': 'iECB_1328',\n",
       "   'gene_count': 1329,\n",
       "   'metabolite_count': 1951,\n",
       "   'organism': 'Escherichia coli B str. REL606',\n",
       "   'reaction_count': 2748},\n",
       "  {'bigg_id': 'iECBD_1354',\n",
       "   'gene_count': 1354,\n",
       "   'metabolite_count': 1952,\n",
       "   'organism': \"Escherichia coli 'BL21-Gold(DE3)pLysS AG'\",\n",
       "   'reaction_count': 2748},\n",
       "  {'bigg_id': 'iECD_1391',\n",
       "   'gene_count': 1333,\n",
       "   'metabolite_count': 1943,\n",
       "   'organism': 'Escherichia coli BL21(DE3)',\n",
       "   'reaction_count': 2741},\n",
       "  {'bigg_id': 'iECDH10B_1368',\n",
       "   'gene_count': 1327,\n",
       "   'metabolite_count': 1947,\n",
       "   'organism': 'Escherichia coli str. K-12 substr. DH10B',\n",
       "   'reaction_count': 2742},\n",
       "  {'bigg_id': 'iEcDH1_1363',\n",
       "   'gene_count': 1363,\n",
       "   'metabolite_count': 1949,\n",
       "   'organism': 'Escherichia coli DH1',\n",
       "   'reaction_count': 2750},\n",
       "  {'bigg_id': 'iECDH1ME8569_1439',\n",
       "   'gene_count': 1439,\n",
       "   'metabolite_count': 1950,\n",
       "   'organism': 'Escherichia coli DH1',\n",
       "   'reaction_count': 2755},\n",
       "  {'bigg_id': 'iEcE24377_1341',\n",
       "   'gene_count': 1341,\n",
       "   'metabolite_count': 1972,\n",
       "   'organism': 'Escherichia coli O139:H28 str. E24377A',\n",
       "   'reaction_count': 2763},\n",
       "  {'bigg_id': 'iECED1_1282',\n",
       "   'gene_count': 1279,\n",
       "   'metabolite_count': 1929,\n",
       "   'organism': 'Escherichia coli ED1a',\n",
       "   'reaction_count': 2706},\n",
       "  {'bigg_id': 'iECH74115_1262',\n",
       "   'gene_count': 1262,\n",
       "   'metabolite_count': 1918,\n",
       "   'organism': 'Escherichia coli O157:H7 str. EC4115',\n",
       "   'reaction_count': 2694},\n",
       "  {'bigg_id': 'iEcHS_1320',\n",
       "   'gene_count': 1321,\n",
       "   'metabolite_count': 1963,\n",
       "   'organism': 'Escherichia coli HS',\n",
       "   'reaction_count': 2753},\n",
       "  {'bigg_id': 'iECIAI1_1343',\n",
       "   'gene_count': 1343,\n",
       "   'metabolite_count': 1968,\n",
       "   'organism': 'Escherichia coli IAI1',\n",
       "   'reaction_count': 2765},\n",
       "  {'bigg_id': 'iECIAI39_1322',\n",
       "   'gene_count': 1321,\n",
       "   'metabolite_count': 1953,\n",
       "   'organism': 'Escherichia coli IAI39',\n",
       "   'reaction_count': 2721},\n",
       "  {'bigg_id': 'iECNA114_1301',\n",
       "   'gene_count': 1301,\n",
       "   'metabolite_count': 1927,\n",
       "   'organism': 'Escherichia coli NA114',\n",
       "   'reaction_count': 2718},\n",
       "  {'bigg_id': 'iECO103_1326',\n",
       "   'gene_count': 1327,\n",
       "   'metabolite_count': 1958,\n",
       "   'organism': 'Escherichia coli O103:H2 str. 12009',\n",
       "   'reaction_count': 2758},\n",
       "  {'bigg_id': 'iECO111_1330',\n",
       "   'gene_count': 1328,\n",
       "   'metabolite_count': 1959,\n",
       "   'organism': 'Escherichia coli O111:H- str. 11128',\n",
       "   'reaction_count': 2760},\n",
       "  {'bigg_id': 'iECO26_1355',\n",
       "   'gene_count': 1355,\n",
       "   'metabolite_count': 1965,\n",
       "   'organism': 'Escherichia coli O26:H11 str. 11368',\n",
       "   'reaction_count': 2780},\n",
       "  {'bigg_id': 'iECOK1_1307',\n",
       "   'gene_count': 1304,\n",
       "   'metabolite_count': 1941,\n",
       "   'organism': 'Escherichia coli IHE3034',\n",
       "   'reaction_count': 2729},\n",
       "  {'bigg_id': 'iEcolC_1368',\n",
       "   'gene_count': 1368,\n",
       "   'metabolite_count': 1969,\n",
       "   'organism': 'Escherichia coli ATCC 8739',\n",
       "   'reaction_count': 2768},\n",
       "  {'bigg_id': 'iECP_1309',\n",
       "   'gene_count': 1309,\n",
       "   'metabolite_count': 1941,\n",
       "   'organism': 'Escherichia coli 536',\n",
       "   'reaction_count': 2739},\n",
       "  {'bigg_id': 'iECs_1301',\n",
       "   'gene_count': 1301,\n",
       "   'metabolite_count': 1923,\n",
       "   'organism': 'Escherichia coli O157:H7 str. Sakai',\n",
       "   'reaction_count': 2720},\n",
       "  {'bigg_id': 'iECS88_1305',\n",
       "   'gene_count': 1305,\n",
       "   'metabolite_count': 1942,\n",
       "   'organism': 'Escherichia coli S88',\n",
       "   'reaction_count': 2729},\n",
       "  {'bigg_id': 'iECSE_1348',\n",
       "   'gene_count': 1348,\n",
       "   'metabolite_count': 1957,\n",
       "   'organism': 'Escherichia coli SE11',\n",
       "   'reaction_count': 2768},\n",
       "  {'bigg_id': 'iECSF_1327',\n",
       "   'gene_count': 1327,\n",
       "   'metabolite_count': 1951,\n",
       "   'organism': 'Escherichia coli SE15',\n",
       "   'reaction_count': 2742},\n",
       "  {'bigg_id': 'iEcSMS35_1347',\n",
       "   'gene_count': 1347,\n",
       "   'metabolite_count': 1947,\n",
       "   'organism': 'Escherichia coli SMS-3-5',\n",
       "   'reaction_count': 2746},\n",
       "  {'bigg_id': 'iECSP_1301',\n",
       "   'gene_count': 1299,\n",
       "   'metabolite_count': 1920,\n",
       "   'organism': 'Escherichia coli O157:H7 str. TW14359',\n",
       "   'reaction_count': 2712},\n",
       "  {'bigg_id': 'iECUMN_1333',\n",
       "   'gene_count': 1332,\n",
       "   'metabolite_count': 1935,\n",
       "   'organism': 'Escherichia coli UMN026',\n",
       "   'reaction_count': 2740},\n",
       "  {'bigg_id': 'iECW_1372',\n",
       "   'gene_count': 1372,\n",
       "   'metabolite_count': 1973,\n",
       "   'organism': 'Escherichia coli W',\n",
       "   'reaction_count': 2782},\n",
       "  {'bigg_id': 'iEKO11_1354',\n",
       "   'gene_count': 1354,\n",
       "   'metabolite_count': 1972,\n",
       "   'organism': 'Escherichia coli KO11FL',\n",
       "   'reaction_count': 2778},\n",
       "  {'bigg_id': 'iETEC_1333',\n",
       "   'gene_count': 1333,\n",
       "   'metabolite_count': 1962,\n",
       "   'organism': 'Escherichia coli ETEC H10407',\n",
       "   'reaction_count': 2756},\n",
       "  {'bigg_id': 'iG2583_1286',\n",
       "   'gene_count': 1283,\n",
       "   'metabolite_count': 1919,\n",
       "   'organism': 'Escherichia coli O55:H7 str. CB9615',\n",
       "   'reaction_count': 2704},\n",
       "  {'bigg_id': 'iHN637',\n",
       "   'gene_count': 637,\n",
       "   'metabolite_count': 698,\n",
       "   'organism': 'Clostridium ljungdahlii DSM 13528',\n",
       "   'reaction_count': 785},\n",
       "  {'bigg_id': 'iIT341',\n",
       "   'gene_count': 339,\n",
       "   'metabolite_count': 485,\n",
       "   'organism': 'Helicobacter pylori 26695',\n",
       "   'reaction_count': 554},\n",
       "  {'bigg_id': 'iJB785',\n",
       "   'gene_count': 785,\n",
       "   'metabolite_count': 768,\n",
       "   'organism': 'Synechococcus elongatus PCC 7942',\n",
       "   'reaction_count': 849},\n",
       "  {'bigg_id': 'iJN678',\n",
       "   'gene_count': 622,\n",
       "   'metabolite_count': 795,\n",
       "   'organism': 'Synechocystis sp. PCC 6803',\n",
       "   'reaction_count': 863},\n",
       "  {'bigg_id': 'iJN746',\n",
       "   'gene_count': 746,\n",
       "   'metabolite_count': 907,\n",
       "   'organism': 'Pseudomonas putida KT2440',\n",
       "   'reaction_count': 1054},\n",
       "  {'bigg_id': 'iJO1366',\n",
       "   'gene_count': 1367,\n",
       "   'metabolite_count': 1805,\n",
       "   'organism': 'Escherichia coli str. K-12 substr. MG1655',\n",
       "   'reaction_count': 2583},\n",
       "  {'bigg_id': 'iJR904',\n",
       "   'gene_count': 904,\n",
       "   'metabolite_count': 761,\n",
       "   'organism': 'Escherichia coli str. K-12 substr. MG1655',\n",
       "   'reaction_count': 1075},\n",
       "  {'bigg_id': 'iLB1027_lipid',\n",
       "   'gene_count': 1027,\n",
       "   'metabolite_count': 2172,\n",
       "   'organism': 'Phaeodactylum tricornutum CCAP 1055/1',\n",
       "   'reaction_count': 4456},\n",
       "  {'bigg_id': 'iLF82_1304',\n",
       "   'gene_count': 1302,\n",
       "   'metabolite_count': 1938,\n",
       "   'organism': 'Escherichia coli LF82',\n",
       "   'reaction_count': 2726},\n",
       "  {'bigg_id': 'iLJ478',\n",
       "   'gene_count': 482,\n",
       "   'metabolite_count': 570,\n",
       "   'organism': 'Thermotoga maritima MSB8',\n",
       "   'reaction_count': 652},\n",
       "  {'bigg_id': 'iML1515',\n",
       "   'gene_count': 1516,\n",
       "   'metabolite_count': 1877,\n",
       "   'organism': 'Escherichia coli str. K-12 substr. MG1655',\n",
       "   'reaction_count': 2712},\n",
       "  {'bigg_id': 'iMM1415',\n",
       "   'gene_count': 1375,\n",
       "   'metabolite_count': 2775,\n",
       "   'organism': 'Mus musculus',\n",
       "   'reaction_count': 3726},\n",
       "  {'bigg_id': 'iMM904',\n",
       "   'gene_count': 905,\n",
       "   'metabolite_count': 1226,\n",
       "   'organism': 'Saccharomyces cerevisiae S288C',\n",
       "   'reaction_count': 1577},\n",
       "  {'bigg_id': 'iND750',\n",
       "   'gene_count': 750,\n",
       "   'metabolite_count': 1059,\n",
       "   'organism': 'Saccharomyces cerevisiae S288C',\n",
       "   'reaction_count': 1266},\n",
       "  {'bigg_id': 'iNF517',\n",
       "   'gene_count': 516,\n",
       "   'metabolite_count': 650,\n",
       "   'organism': 'Lactococcus lactis subsp. cremoris MG1363',\n",
       "   'reaction_count': 754},\n",
       "  {'bigg_id': 'iNJ661',\n",
       "   'gene_count': 661,\n",
       "   'metabolite_count': 825,\n",
       "   'organism': 'Mycobacterium tuberculosis H37Rv',\n",
       "   'reaction_count': 1025},\n",
       "  {'bigg_id': 'iNRG857_1313',\n",
       "   'gene_count': 1311,\n",
       "   'metabolite_count': 1943,\n",
       "   'organism': 'Escherichia coli O83:H1 str. NRG 857C',\n",
       "   'reaction_count': 2735},\n",
       "  {'bigg_id': 'iPC815',\n",
       "   'gene_count': 815,\n",
       "   'metabolite_count': 1552,\n",
       "   'organism': 'Yersinia pestis CO92',\n",
       "   'reaction_count': 1961},\n",
       "  {'bigg_id': 'iRC1080',\n",
       "   'gene_count': 1086,\n",
       "   'metabolite_count': 1706,\n",
       "   'organism': 'Chlamydomonas reinhardtii',\n",
       "   'reaction_count': 2191},\n",
       "  {'bigg_id': 'iS_1188',\n",
       "   'gene_count': 1188,\n",
       "   'metabolite_count': 1914,\n",
       "   'organism': 'Shigella flexneri 2a str. 2457T',\n",
       "   'reaction_count': 2619},\n",
       "  {'bigg_id': 'iSB619',\n",
       "   'gene_count': 619,\n",
       "   'metabolite_count': 655,\n",
       "   'organism': 'Staphylococcus aureus subsp. aureus N315',\n",
       "   'reaction_count': 743},\n",
       "  {'bigg_id': 'iSbBS512_1146',\n",
       "   'gene_count': 1147,\n",
       "   'metabolite_count': 1910,\n",
       "   'organism': 'Shigella boydii CDC 3083-94',\n",
       "   'reaction_count': 2591},\n",
       "  {'bigg_id': 'iSBO_1134',\n",
       "   'gene_count': 1134,\n",
       "   'metabolite_count': 1908,\n",
       "   'organism': 'Shigella boydii Sb227',\n",
       "   'reaction_count': 2591},\n",
       "  {'bigg_id': 'iSDY_1059',\n",
       "   'gene_count': 1059,\n",
       "   'metabolite_count': 1888,\n",
       "   'organism': 'Shigella dysenteriae Sd197',\n",
       "   'reaction_count': 2539},\n",
       "  {'bigg_id': 'iSF_1195',\n",
       "   'gene_count': 1195,\n",
       "   'metabolite_count': 1917,\n",
       "   'organism': 'Shigella flexneri 2a str. 301',\n",
       "   'reaction_count': 2630},\n",
       "  {'bigg_id': 'iSFV_1184',\n",
       "   'gene_count': 1184,\n",
       "   'metabolite_count': 1917,\n",
       "   'organism': 'Shigella flexneri 5 str. 8401',\n",
       "   'reaction_count': 2621},\n",
       "  {'bigg_id': 'iSFxv_1172',\n",
       "   'gene_count': 1169,\n",
       "   'metabolite_count': 1918,\n",
       "   'organism': 'Shigella flexneri 2002017',\n",
       "   'reaction_count': 2638},\n",
       "  {'bigg_id': 'iSSON_1240',\n",
       "   'gene_count': 1240,\n",
       "   'metabolite_count': 1936,\n",
       "   'organism': 'Shigella sonnei Ss046',\n",
       "   'reaction_count': 2693},\n",
       "  {'bigg_id': 'iUMN146_1321',\n",
       "   'gene_count': 1319,\n",
       "   'metabolite_count': 1942,\n",
       "   'organism': 'Escherichia coli UM146',\n",
       "   'reaction_count': 2735},\n",
       "  {'bigg_id': 'iUMNK88_1353',\n",
       "   'gene_count': 1353,\n",
       "   'metabolite_count': 1969,\n",
       "   'organism': 'Escherichia coli UMNK88',\n",
       "   'reaction_count': 2777},\n",
       "  {'bigg_id': 'iUTI89_1310',\n",
       "   'gene_count': 1310,\n",
       "   'metabolite_count': 1940,\n",
       "   'organism': 'Escherichia coli UTI89',\n",
       "   'reaction_count': 2725},\n",
       "  {'bigg_id': 'iWFL_1372',\n",
       "   'gene_count': 1372,\n",
       "   'metabolite_count': 1973,\n",
       "   'organism': 'Escherichia coli W',\n",
       "   'reaction_count': 2782},\n",
       "  {'bigg_id': 'iY75_1357',\n",
       "   'gene_count': 1358,\n",
       "   'metabolite_count': 1953,\n",
       "   'organism': 'Escherichia coli str. K-12 substr. W3110',\n",
       "   'reaction_count': 2759},\n",
       "  {'bigg_id': 'iYL1228',\n",
       "   'gene_count': 1229,\n",
       "   'metabolite_count': 1658,\n",
       "   'organism': 'Klebsiella pneumoniae subsp. pneumoniae MGH 78578',\n",
       "   'reaction_count': 2262},\n",
       "  {'bigg_id': 'iYO844',\n",
       "   'gene_count': 844,\n",
       "   'metabolite_count': 990,\n",
       "   'organism': 'Bacillus subtilis subsp. subtilis str. 168',\n",
       "   'reaction_count': 1250},\n",
       "  {'bigg_id': 'iZ_1308',\n",
       "   'gene_count': 1308,\n",
       "   'metabolite_count': 1923,\n",
       "   'organism': 'Escherichia coli O157:H7 str. EDL933',\n",
       "   'reaction_count': 2721},\n",
       "  {'bigg_id': 'RECON1',\n",
       "   'gene_count': 1905,\n",
       "   'metabolite_count': 2766,\n",
       "   'organism': 'Homo sapiens',\n",
       "   'reaction_count': 3741},\n",
       "  {'bigg_id': 'Recon3D',\n",
       "   'gene_count': 2248,\n",
       "   'metabolite_count': 5835,\n",
       "   'organism': 'Homo sapiens',\n",
       "   'reaction_count': 10600},\n",
       "  {'bigg_id': 'STM_v1_0',\n",
       "   'gene_count': 1271,\n",
       "   'metabolite_count': 1802,\n",
       "   'organism': 'Salmonella enterica subsp. enterica serovar Typhimurium str. LT2',\n",
       "   'reaction_count': 2545}],\n",
       " 'results_count': 85}"
      ]
     },
     "execution_count": 2,
     "metadata": {},
     "output_type": "execute_result"
    }
   ],
   "source": [
    "#Pull list of models\n",
    "response = requests.get('http://bigg.ucsd.edu/api/v2/models')\n",
    "response.json()"
   ]
  },
  {
   "cell_type": "code",
   "execution_count": null,
   "metadata": {
    "collapsed": true
   },
   "outputs": [],
   "source": [
    "#make a query\n",
    "response = requests.get('http://bigg.ucsd.edu/api/v2/search?query=iJO1366&search_type=models')\n",
    "response.json()"
   ]
  },
  {
   "cell_type": "markdown",
   "metadata": {},
   "source": [
    "# Single Response Example"
   ]
  },
  {
   "cell_type": "code",
   "execution_count": null,
   "metadata": {
    "collapsed": true
   },
   "outputs": [],
   "source": [
    "\n",
    "model_id='iJO1366'\n",
    "\n",
    "url2='http://bigg.ucsd.edu/api/v2/models/' + str(model_id) + \"/metabolites/\"\n",
    "print (url2)\n",
    "r2=requests.get(url2)\n",
    "print (r2.status_code)\n",
    "if r2.status_code == requests.codes.ok:\n",
    "    print (\"woot woot\")\n",
    "else:\n",
    "    print (\"failed status\", r2.status_code, bigg_id)\n",
    "r2=r2.json()\n",
    "r2[\"results\"]"
   ]
  },
  {
   "cell_type": "markdown",
   "metadata": {},
   "source": [
    "## Lets search Bigg!\n"
   ]
  },
  {
   "cell_type": "code",
   "execution_count": null,
   "metadata": {
    "collapsed": true
   },
   "outputs": [],
   "source": [
    "#makes folder in directory \n",
    "def createFolder(directory):\n",
    "    try:\n",
    "        if not os.path.exists(directory):\n",
    "            os.makedirs(directory)\n",
    "    except OSError:\n",
    "        print ('Error: Creating directory. ' +  directory)"
   ]
  },
  {
   "cell_type": "code",
   "execution_count": null,
   "metadata": {
    "collapsed": true
   },
   "outputs": [],
   "source": [
    "def search(searchtype, query):\n",
    "    payload = {'search_type': str(searchtype), 'query': str(query)}\n",
    "    r=requests.get('http://bigg.ucsd.edu/api/v2/search', params=payload)\n",
    "    print(r.url, r.status_code)\n",
    "    return r.json()"
   ]
  },
  {
   "cell_type": "code",
   "execution_count": null,
   "metadata": {
    "collapsed": true
   },
   "outputs": [],
   "source": [
    "r=search(\"models\", \"ijo1366\")\n",
    "print (r.values)\n",
    "dictionary=r\n",
    "str(dictionary[\"results\"][0][\"bigg_id\"])"
   ]
  },
  {
   "cell_type": "code",
   "execution_count": null,
   "metadata": {
    "collapsed": true
   },
   "outputs": [],
   "source": [
    "cwd=os.getcwd()\n",
    "cwd"
   ]
  },
  {
   "cell_type": "code",
   "execution_count": null,
   "metadata": {
    "collapsed": true
   },
   "outputs": [],
   "source": [
    "def download_models(model_list, output_path):\n",
    "    #iterates through model list searching for matching models\n",
    "    #if single match, downloads the model as a json at output path\n",
    "    #Folder : output : subfolders: <same as query name>\n",
    "    stem=\"C:\\\\Users\\\\zafri\\\\Documents\\\\Senior_Design\"\n",
    "    for i in model_list:\n",
    "        model_search=search(\"models\", str(i))\n",
    "        print (\"searching model..\", i)\n",
    "        if model_search[\"results_count\"]>1:\n",
    "            print (model_search[\"results\"], \"Please refine your search and try again\")\n",
    "        if model_search[\"results_count\"]==0:\n",
    "            print (\"No results were found for\", i)\n",
    "        if model_search[\"results_count\"]==1: \n",
    "            model_id=str(model_search[\"results\"][0][\"bigg_id\"])\n",
    "            print (model_id)\n",
    "            cwd=os.getcwd()\n",
    "            print (\"Current Directory:\", cwd)\n",
    "            output_loc=os.path.join(stem, output_path)\n",
    "            os.chdir(output_loc)\n",
    "            createFolder(str(i))\n",
    "            os.chdir(os.path.join(output_loc, i))\n",
    "            url='http://bigg.ucsd.edu/api/v2/models/' + str(model_id) +'/download'\n",
    "            url2='http://bigg.ucsd.edu/api/v2/models/'\n",
    "            print (url)\n",
    "            r=requests.get(url)\n",
    "            print (r.status_code)\n",
    "            with open(model_id+ \".json\", \"w\") as write_file:\n",
    "                json.dump(r.json(), write_file)\n",
    "    return r\n",
    "\n",
    "   "
   ]
  },
  {
   "cell_type": "code",
   "execution_count": null,
   "metadata": {
    "collapsed": true,
    "scrolled": false
   },
   "outputs": [],
   "source": [
    "r=download_models([\"ijo1366\", \"Recon3d\", \"Recon1\", \"lactis\", \"cerevisae\"], \"Output\")"
   ]
  },
  {
   "cell_type": "code",
   "execution_count": null,
   "metadata": {
    "collapsed": true
   },
   "outputs": [],
   "source": [
    "def download_all_models(model_list, output_path, cutoff):\n",
    "    stem=\"C:\\\\Users\\\\zafri\\\\Documents\\\\Senior_Design\"\n",
    "    for models in model_list:\n",
    "        model_search=search(\"models\", str(models))\n",
    "        print (\"searching model..\", models)\n",
    "        if model_search[\"results_count\"]>cutoff:\n",
    "            print (model_search[\"results\"], \"# of models found > cuttoff\")\n",
    "        if model_search[\"results_count\"]==0:\n",
    "            print (\"No results were found for\", i)\n",
    "        if model_search[\"results_count\"]>=cutoff: \n",
    "            for i in range(cutoff):\n",
    "                model_id=str(model_search[\"results\"][i][\"bigg_id\"])\n",
    "                print (model_id)\n",
    "                cwd=os.getcwd()\n",
    "                print (\"Current Directory:\", cwd)\n",
    "                output_loc=os.path.join(stem, output_path)\n",
    "                os.chdir(output_loc)\n",
    "                createFolder(str(models))\n",
    "                os.chdir(os.path.join(output_loc, models))\n",
    "                url='http://bigg.ucsd.edu/api/v2/models/' + str(model_id) +'/download'\n",
    "                url2='http://bigg.ucsd.edu/api/v2/models/'+str(model_id)\n",
    "                print (url)\n",
    "                print (url2)\n",
    "                r=requests.get(url)\n",
    "                print (r.status_code)\n",
    "                with open(model_id +\".json\", \"w\") as write_file:\n",
    "                    json.dump(r.json(), write_file)\n",
    "    return r"
   ]
  },
  {
   "cell_type": "code",
   "execution_count": null,
   "metadata": {
    "collapsed": true,
    "scrolled": true
   },
   "outputs": [],
   "source": [
    "r=download_all_models([\"Recon3d\", \"Recon1\", \"cerevisae\"], \"Output\", 2)"
   ]
  },
  {
   "cell_type": "code",
   "execution_count": null,
   "metadata": {
    "collapsed": true
   },
   "outputs": [],
   "source": [
    "model_id='iJO1366'\n",
    "url='http://bigg.ucsd.edu/api/v2/models/' + str(model_id) +'/reactions'\n",
    "r=requests.get(url)\n",
    "print(url)\n",
    "r.json()\n",
    "rstring=r.text\n",
    "df=pd.read_json(rstring, orient='index')\n",
    "df"
   ]
  },
  {
   "cell_type": "code",
   "execution_count": null,
   "metadata": {
    "collapsed": true
   },
   "outputs": [],
   "source": []
  },
  {
   "cell_type": "markdown",
   "metadata": {},
   "source": [
    "# PULL LISTS FROM MODEL"
   ]
  },
  {
   "cell_type": "markdown",
   "metadata": {},
   "source": [
    "## Pull Rxn list for Model \n",
    "\n",
    "Input: Model ID\n",
    "Output: PANDAS dataframe with keys (['bigg_id', 'model_bigg_id', 'name', 'organism'])\n"
   ]
  },
  {
   "cell_type": "code",
   "execution_count": null,
   "metadata": {
    "collapsed": true
   },
   "outputs": [],
   "source": [
    "\n",
    "def get_rxn_(model_id):\n",
    "    # for all reactions in given model, pull ec if available \n",
    "    start = time.time()\n",
    "    url='http://bigg.ucsd.edu/api/v2/models/' + str(model_id) +'/reactions'\n",
    "    r=requests.get(url)\n",
    "    r=r.json()\n",
    "    results_list=[]\n",
    "    if r[\"results_count\"]==0:\n",
    "        print (\"no results for model name, please match model id\")\n",
    "    else:\n",
    "        for i in r[\"results\"]:\n",
    "            #print (i)\n",
    "            results_list.append(i)\n",
    "    df = pd.DataFrame(results_list)\n",
    "    return df\n"
   ]
  },
  {
   "cell_type": "code",
   "execution_count": null,
   "metadata": {
    "collapsed": true
   },
   "outputs": [],
   "source": [
    "IJO_rxn_list= get_rxn_(\"iJO1366\")\n",
    "RECON_rxn_list= get_rxn_(\"RECON1\")"
   ]
  },
  {
   "cell_type": "code",
   "execution_count": null,
   "metadata": {
    "collapsed": true
   },
   "outputs": [],
   "source": [
    "IJO_rxn_list.head()"
   ]
  },
  {
   "cell_type": "code",
   "execution_count": null,
   "metadata": {
    "collapsed": true
   },
   "outputs": [],
   "source": [
    "RECON_rxn_list.head()"
   ]
  },
  {
   "cell_type": "markdown",
   "metadata": {},
   "source": [
    "## Pull EC info for each Rxn"
   ]
  },
  {
   "cell_type": "code",
   "execution_count": null,
   "metadata": {
    "collapsed": true
   },
   "outputs": [],
   "source": [
    "\n",
    "def get_rxn_ec(model_id,t):\n",
    "    # for all reactions in given model, pull ec if available \n",
    "    start = time.time()\n",
    "    url='http://bigg.ucsd.edu/api/v2/models/' + str(model_id) +'/reactions'\n",
    "    r=requests.get(url)\n",
    "    r=r.json()\n",
    "    results_list=[]\n",
    "    for i in r[\"results\"]:\n",
    "        #print (i)\n",
    "        results_list.append(i)\n",
    "    df = pd.DataFrame(results_list)\n",
    "\n",
    "    # now obtain ec numbers \n",
    "    #iterate through bigg ids\n",
    "    count=0\n",
    "    ec_database_info=[]\n",
    "    no_database_links=[]\n",
    "    results=[]  #contains subsystem info\n",
    "    old_identifiers=[]\n",
    "    name=[]\n",
    "    metabolites=[]\n",
    "    approx_run_time=((len(df[\"bigg_id\"])*t))\n",
    "    print (\"Approx Run Time\", approx_run_time/60, \"Minutes\")\n",
    "    for bigg_ids in df[\"bigg_id\"]:\n",
    "        url2='http://bigg.ucsd.edu/api/v2/models/' + str(model_id) + \"/reactions/\"+ str(bigg_ids)\n",
    "        print (url2)\n",
    "        r2=requests.get(url2)\n",
    "        if r2.status_code == requests.codes.ok:\n",
    "            print (\"Running...\", bigg_ids)\n",
    "            r2=r2.json()\n",
    "            #DATABASE_LINKS == EC NUMBER/ LINKS DICT\n",
    "            if len(r2[\"database_links\"])>0:                \n",
    "                ec_database_info.append([r2[\"database_links\"]])\n",
    "            else:\n",
    "                ec_database_info.append(\"NONE\")\n",
    "           #INSERT REMOVED CODE HERE\n",
    "            if len(r2[\"results\"])>0:                \n",
    "                results.append([r2[\"results\"]])\n",
    "            else:\n",
    "                subsystem.append(\"NAN\")\n",
    "            #old_identifiers\n",
    "            if len(r2[\"old_identifiers\"])>0:                \n",
    "                old_identifiers.append([r2[\"old_identifiers\"]])\n",
    "            else:\n",
    "                old_identifiers.append(\"NAN\")\n",
    "            #name\n",
    "            if len(r2[\"name\"])>0:                \n",
    "                name.append([r2[\"name\"]])\n",
    "            else:\n",
    "                name.append(\"NAN\")\n",
    "            #metabolites\n",
    "            if len(r2[\"metabolites\"])>0:                \n",
    "                metabolites.append([r2[\"metabolites\"]])\n",
    "            else:\n",
    "                metabolites.append(\"NAN\")\n",
    "        else:\n",
    "            print (\"failed status\", r2.status_code, bigg_ids)\n",
    "            return (df[\"bigg_id\"], ec_database_info,results,old_identifiers, metabolites)\n",
    "            break\n",
    "        time.sleep(t)\n",
    "        count+=1\n",
    "        print (count)\n",
    "        #if count ==100:\n",
    "         #   break\n",
    "    #df2 = pd.DataFrame(df[\"bigg_id\"],ec_database_info )\n",
    "    #df2 = pd.DataFrame(df[\"bigg_id\"], ec_database_info,results,old_identifiers, metabolites)\n",
    "    \n",
    "    end = time.time()\n",
    "    print(end - start)\n",
    "    return (df[\"bigg_id\"], ec_database_info,results,old_identifiers, metabolites)\n",
    "        "
   ]
  },
  {
   "cell_type": "code",
   "execution_count": null,
   "metadata": {
    "collapsed": true
   },
   "outputs": [],
   "source": [
    "ecoli_df_id_list , ecoli_ec_database_info, ecoli_results, ecoli_old_identifiers, ecoli_metabolites=get_rxn_ec(\"iJO1366\", 1)"
   ]
  },
  {
   "cell_type": "code",
   "execution_count": null,
   "metadata": {
    "collapsed": true
   },
   "outputs": [],
   "source": [
    "recon_df_id_list , recon_ec_database_info, recon_results, recon_old_identifiers, recon_metabolites=get_rxn_ec(\"RECON1\", 1)"
   ]
  },
  {
   "cell_type": "code",
   "execution_count": null,
   "metadata": {
    "collapsed": true
   },
   "outputs": [],
   "source": [
    "Ecoli_df= pd.DataFrame({\"BIGG_ID\": ecoli_df_id_list, \"EC_Links\": ecoli_ec_database_info, \"Subsystem/Genes\": ecoli_results,\n",
    "                 \"old_identifiers\": ecoli_old_identifiers, \"Metabolites\" : ecoli_metabolites})"
   ]
  },
  {
   "cell_type": "code",
   "execution_count": null,
   "metadata": {
    "collapsed": true
   },
   "outputs": [],
   "source": [
    "Recon_df= pd.DataFrame({\"BIGG_ID\": recon_df_id_list, \"EC_Links\": recon_ec_database_info, \"Subsystem/Genes\": recon_results,\n",
    "                 \"old_identifiers\": recon_old_identifiers, \"Metabolites\" : recon_metabolites})"
   ]
  },
  {
   "cell_type": "code",
   "execution_count": null,
   "metadata": {
    "collapsed": true
   },
   "outputs": [],
   "source": [
    "model_id='iJO1366'\n",
    "bigg_id=\"12DGR141tipp\"\n",
    "\n",
    "url2='http://bigg.ucsd.edu/api/v2/models/' + str(model_id) + \"/reactions/\"+ bigg_id\n",
    "print (url2)\n",
    "r2=requests.get(url2)\n",
    "print (r2.status_code)\n",
    "if r2.status_code == requests.codes.ok:\n",
    "    print (\"woot woot\")\n",
    "else:\n",
    "    print (\"failed status\", r2.status_code, bigg_id)\n",
    "r2=r2.json()\n",
    "if 'database_links' in r2.keys():\n",
    "    print (True)\n",
    "r2.keys()"
   ]
  },
  {
   "cell_type": "code",
   "execution_count": null,
   "metadata": {
    "collapsed": true
   },
   "outputs": [],
   "source": []
  },
  {
   "cell_type": "code",
   "execution_count": null,
   "metadata": {
    "collapsed": true
   },
   "outputs": [],
   "source": [
    "for i in [ecoli_df_id_list , ecoli_ec_database_info, ecoli_results, ecoli_old_identifiers, ecoli_metabolites]:\n",
    "    print (len(i))"
   ]
  },
  {
   "cell_type": "code",
   "execution_count": null,
   "metadata": {
    "collapsed": true
   },
   "outputs": [],
   "source": [
    "Ecoli_df= pd.DataFrame({\"BIGG_ID\": ecoli_df_id_list[0:100], \"EC_Links\": ecoli_ec_database_info, \"Subsystem/Genes\": ecoli_results,\n",
    "                 \"old_identifiers\": ecoli_old_identifiers, \"Metabolites\" : ecoli_metabolites})"
   ]
  },
  {
   "cell_type": "code",
   "execution_count": null,
   "metadata": {
    "collapsed": true
   },
   "outputs": [],
   "source": [
    "Ecoli_df"
   ]
  },
  {
   "cell_type": "code",
   "execution_count": null,
   "metadata": {
    "collapsed": true
   },
   "outputs": [],
   "source": [
    "cwd = os.getcwd()\n",
    "print (\"Current Directory: \", cwd)"
   ]
  },
  {
   "cell_type": "code",
   "execution_count": null,
   "metadata": {
    "collapsed": true
   },
   "outputs": [],
   "source": [
    "def Dataframe_excel_output(df_name, output_path, Filename):\n",
    "    os.chdir(output_path)\n",
    "    writer = pd.ExcelWriter(str(Filename)+'.xlsx', engine='xlsxwriter')\n",
    "    df_name.to_excel(writer, sheet_name='Sheet2')\n",
    "    writer.save()\n",
    "    print (\"File name: \", str(Filename)+'.xlsx')"
   ]
  },
  {
   "cell_type": "code",
   "execution_count": null,
   "metadata": {
    "collapsed": true
   },
   "outputs": [],
   "source": [
    "Dataframe_excel_output(Ecoli_df,'C:\\\\Users\\\\zafri\\\\Documents\\\\Senior_Design\\\\Output', \"Ecoli_database\")"
   ]
  },
  {
   "cell_type": "code",
   "execution_count": null,
   "metadata": {
    "collapsed": true
   },
   "outputs": [],
   "source": [
    "Dataframe_excel_output(Recon_df,'C:\\\\Users\\\\zafri\\\\Documents\\\\Senior_Design\\\\Output', \"Recon_database\")"
   ]
  },
  {
   "cell_type": "code",
   "execution_count": null,
   "metadata": {
    "collapsed": true
   },
   "outputs": [],
   "source": []
  },
  {
   "cell_type": "code",
   "execution_count": null,
   "metadata": {
    "collapsed": true
   },
   "outputs": [],
   "source": []
  },
  {
   "cell_type": "code",
   "execution_count": null,
   "metadata": {
    "collapsed": true
   },
   "outputs": [],
   "source": [
    "model_id='iJO1366'\n",
    "\n",
    "url2='http://bigg.ucsd.edu/api/v2/models/' + str(model_id) + \"/metabolites/\"\n",
    "print (url2)\n",
    "r2=requests.get(url2)\n",
    "print (r2.status_code)\n",
    "if r2.status_code == requests.codes.ok:\n",
    "    print (\"woot woot\")\n",
    "else:\n",
    "    print (\"failed status\", r2.status_code, bigg_id)\n",
    "r2=r2.json()"
   ]
  },
  {
   "cell_type": "code",
   "execution_count": null,
   "metadata": {
    "collapsed": true
   },
   "outputs": [],
   "source": [
    "r2[\"results\"]"
   ]
  },
  {
   "cell_type": "code",
   "execution_count": null,
   "metadata": {
    "collapsed": true
   },
   "outputs": [],
   "source": [
    "def pull_all_met_list(model):\n",
    "    url2='http://bigg.ucsd.edu/api/v2/models/' + str(model) + \"/metabolites/\"\n",
    "    print (url2)\n",
    "    r2=requests.get(url2)\n",
    "    print (r2.status_code)\n",
    "    if r2.status_code == requests.codes.ok:\n",
    "           print (\"woot woot\")\n",
    "    else:\n",
    "           print (\"failed status\", r2.status_code, bigg_id)\n",
    "       \n",
    "    r2=r2.json()\n",
    "    mets=r2[\"results\"]\n",
    "    return mets\n",
    "        "
   ]
  },
  {
   "cell_type": "code",
   "execution_count": null,
   "metadata": {
    "collapsed": true
   },
   "outputs": [],
   "source": [
    "IJO_met=pull_all_met_list(\"iJO1366\")\n",
    "print (len(IJO_met))\n",
    "RECON1_met=pull_all_met_list(\"RECON1\")\n",
    "print (len(RECON1_met))\n",
    "RECON3d_met=pull_all_met_list(\"RECON3D\")\n",
    "print (len(RECON3d_met))"
   ]
  },
  {
   "cell_type": "code",
   "execution_count": null,
   "metadata": {
    "collapsed": true
   },
   "outputs": [],
   "source": [
    "IJO_met=pull_all_met_list(\"iJO1366\")"
   ]
  },
  {
   "cell_type": "code",
   "execution_count": null,
   "metadata": {
    "collapsed": true
   },
   "outputs": [],
   "source": [
    "IJO_unique_metabolites=pd.DataFrame({\"IJO1366\": IJO_met})\n",
    "RECON_unique_metabolites=pd.DataFrame({\"RECON1\": RECON1_met})\n",
    "        "
   ]
  },
  {
   "cell_type": "code",
   "execution_count": null,
   "metadata": {
    "collapsed": true
   },
   "outputs": [],
   "source": [
    "def Dataframe_excel_output(df_name, output_path, Filename):\n",
    "    os.chdir(output_path)\n",
    "    writer = pd.ExcelWriter(str(Filename)+'.xlsx', engine='xlsxwriter')\n",
    "    df_name.to_excel(writer, sheet_name='Sheet2')\n",
    "    writer.save()\n",
    "    print (\"File name: \", str(Filename)+'.xlsx')"
   ]
  },
  {
   "cell_type": "code",
   "execution_count": null,
   "metadata": {
    "collapsed": true
   },
   "outputs": [],
   "source": [
    "Dataframe_excel_output(IJO_unique_metabolites,'C:\\\\Users\\\\zafri\\\\Documents\\\\Senior_Design\\\\Output', \"IJO1366_unique_metabolites\")"
   ]
  },
  {
   "cell_type": "code",
   "execution_count": null,
   "metadata": {
    "collapsed": true
   },
   "outputs": [],
   "source": [
    "Dataframe_excel_output(RECON_unique_metabolites,'C:\\\\Users\\\\zafri\\\\Documents\\\\Senior_Design\\\\Output', \"RECON_unique_metabolites\")"
   ]
  },
  {
   "cell_type": "markdown",
   "metadata": {
    "collapsed": true
   },
   "source": [
    "# pull SBML files\n"
   ]
  },
  {
   "cell_type": "code",
   "execution_count": 3,
   "metadata": {},
   "outputs": [
    {
     "name": "stdout",
     "output_type": "stream",
     "text": [
      "http://bigg.ucsd.edu/static/models/iJO1366.xml\n",
      "200\n",
      "woot woot\n"
     ]
    }
   ],
   "source": [
    "model_id='iJO1366'\n",
    "\n",
    "url2='http://bigg.ucsd.edu/static/models/' + str(model_id) + \".xml\"\n",
    "print (url2)\n",
    "r2=requests.get(url2)\n",
    "print (r2.status_code)\n",
    "if r2.status_code == requests.codes.ok:\n",
    "    print (\"woot woot\")\n",
    "else:\n",
    "    print (\"failed status\", r2.status_code, bigg_id)\n"
   ]
  },
  {
   "cell_type": "code",
   "execution_count": 4,
   "metadata": {},
   "outputs": [
    {
     "name": "stdout",
     "output_type": "stream",
     "text": [
      "<Response [200]>\n"
     ]
    }
   ],
   "source": [
    "r2."
   ]
  },
  {
   "cell_type": "code",
   "execution_count": null,
   "metadata": {
    "collapsed": true
   },
   "outputs": [],
   "source": [
    "cwd=os.getcwd()\n",
    "sub_files = os.listdir(cwd)\n",
    "print (sub_files)\n"
   ]
  },
  {
   "cell_type": "code",
   "execution_count": null,
   "metadata": {
    "collapsed": true
   },
   "outputs": [],
   "source": []
  }
 ],
 "metadata": {
  "kernelspec": {
   "display_name": "Python 3",
   "language": "python",
   "name": "python3"
  },
  "language_info": {
   "codemirror_mode": {
    "name": "ipython",
    "version": 3
   },
   "file_extension": ".py",
   "mimetype": "text/x-python",
   "name": "python",
   "nbconvert_exporter": "python",
   "pygments_lexer": "ipython3",
   "version": "3.6.3"
  }
 },
 "nbformat": 4,
 "nbformat_minor": 2
}
