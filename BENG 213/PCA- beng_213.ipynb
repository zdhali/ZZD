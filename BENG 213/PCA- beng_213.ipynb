{
 "cells": [
  {
   "cell_type": "code",
   "execution_count": 1,
   "metadata": {
    "collapsed": true
   },
   "outputs": [],
   "source": [
    "//#import package////\n",
    "\n",
    "import pandas as pd\n",
    "import numpy as np\n",
    "from pandas import ExcelWriter\n",
    "from pandas import ExcelFile\n",
    "import numpy as np\n",
    "from sklearn import datasets\n",
    "from sklearn.decomposition import PCA"
   ]
  },
  {
   "cell_type": "code",
   "execution_count": 2,
   "metadata": {
    "collapsed": true
   },
   "outputs": [],
   "source": [
    "import matplotlib.pyplot as plt\n",
    "import numpy as np\n",
    "import plotly.plotly as py\n",
    "import plotly.graph_objs as go\n",
    "from scipy.sparse import csc_matrix\n",
    "from scipy.sparse import csr_matrix"
   ]
  },
  {
   "cell_type": "code",
   "execution_count": 3,
   "metadata": {
    "collapsed": true,
    "scrolled": true
   },
   "outputs": [],
   "source": [
    "#import metadata\n",
    "META = pd.read_excel('Strain_data.xlsx', sheetname='Strain info',index_col=0)"
   ]
  },
  {
   "cell_type": "code",
   "execution_count": 4,
   "metadata": {},
   "outputs": [
    {
     "name": "stdout",
     "output_type": "stream",
     "text": [
      "Index([u'12-1-TI12', u'12-2-TI13', u'18-3-TI5', u'18-4-TI12', u'3_2_53FAA',\n",
      "       u'33-1-TI5', u'36-1-TI13', u'39-2-TI18', u'41-2-TI13', u'46-1-TI2',\n",
      "       ...\n",
      "       u'Shigella_flexneri_5_str_8401', u'Shigella_sonnei_Ss046', u'UC37',\n",
      "       u'UC5', u'UM128', u'UM131', u'UM141', u'UM146', u'UM147', u'CG1MAC'],\n",
      "      dtype='object', name=u'Strain', length=110)\n"
     ]
    }
   ],
   "source": [
    "META_Strains=META.index\n",
    "print META_Strains"
   ]
  },
  {
   "cell_type": "code",
   "execution_count": 5,
   "metadata": {},
   "outputs": [
    {
     "data": {
      "text/html": [
       "<div>\n",
       "<style>\n",
       "    .dataframe thead tr:only-child th {\n",
       "        text-align: right;\n",
       "    }\n",
       "\n",
       "    .dataframe thead th {\n",
       "        text-align: left;\n",
       "    }\n",
       "\n",
       "    .dataframe tbody tr th {\n",
       "        vertical-align: top;\n",
       "    }\n",
       "</style>\n",
       "<table border=\"1\" class=\"dataframe\">\n",
       "  <thead>\n",
       "    <tr style=\"text-align: right;\">\n",
       "      <th></th>\n",
       "      <th>hypothetical protein</th>\n",
       "      <th>hypothetical protein.1</th>\n",
       "      <th>Toxin B</th>\n",
       "      <th>hypothetical protein.2</th>\n",
       "      <th>Hemin receptor</th>\n",
       "      <th>hypothetical protein.3</th>\n",
       "      <th>Ribonuclease HI</th>\n",
       "      <th>hypothetical protein.4</th>\n",
       "      <th>Ribosomal RNA large subunit methyltransferase H</th>\n",
       "      <th>Endoribonuclease YbeY</th>\n",
       "      <th>...</th>\n",
       "      <th>hypothetical protein.9586</th>\n",
       "      <th>Nif-specific regulatory protein</th>\n",
       "      <th>putative RNA polymerase sigma factor FecI.1</th>\n",
       "      <th>hypothetical protein.9587</th>\n",
       "      <th>hypothetical protein.9588</th>\n",
       "      <th>hypothetical protein.9589</th>\n",
       "      <th>hypothetical protein.9590</th>\n",
       "      <th>Antirestriction protein KlcA.11</th>\n",
       "      <th>hypothetical protein.9591</th>\n",
       "      <th>AIEC</th>\n",
       "    </tr>\n",
       "    <tr>\n",
       "      <th>Strain</th>\n",
       "      <th></th>\n",
       "      <th></th>\n",
       "      <th></th>\n",
       "      <th></th>\n",
       "      <th></th>\n",
       "      <th></th>\n",
       "      <th></th>\n",
       "      <th></th>\n",
       "      <th></th>\n",
       "      <th></th>\n",
       "      <th></th>\n",
       "      <th></th>\n",
       "      <th></th>\n",
       "      <th></th>\n",
       "      <th></th>\n",
       "      <th></th>\n",
       "      <th></th>\n",
       "      <th></th>\n",
       "      <th></th>\n",
       "      <th></th>\n",
       "      <th></th>\n",
       "    </tr>\n",
       "  </thead>\n",
       "  <tbody>\n",
       "    <tr>\n",
       "      <th>12-1-TI12</th>\n",
       "      <td>0</td>\n",
       "      <td>0</td>\n",
       "      <td>0</td>\n",
       "      <td>0</td>\n",
       "      <td>1</td>\n",
       "      <td>0</td>\n",
       "      <td>1</td>\n",
       "      <td>0</td>\n",
       "      <td>1</td>\n",
       "      <td>1</td>\n",
       "      <td>...</td>\n",
       "      <td>0</td>\n",
       "      <td>0</td>\n",
       "      <td>0</td>\n",
       "      <td>1</td>\n",
       "      <td>0</td>\n",
       "      <td>0</td>\n",
       "      <td>0</td>\n",
       "      <td>0</td>\n",
       "      <td>0</td>\n",
       "      <td>1</td>\n",
       "    </tr>\n",
       "    <tr>\n",
       "      <th>12-2-TI13</th>\n",
       "      <td>0</td>\n",
       "      <td>0</td>\n",
       "      <td>0</td>\n",
       "      <td>0</td>\n",
       "      <td>1</td>\n",
       "      <td>0</td>\n",
       "      <td>1</td>\n",
       "      <td>0</td>\n",
       "      <td>1</td>\n",
       "      <td>1</td>\n",
       "      <td>...</td>\n",
       "      <td>0</td>\n",
       "      <td>0</td>\n",
       "      <td>0</td>\n",
       "      <td>1</td>\n",
       "      <td>0</td>\n",
       "      <td>0</td>\n",
       "      <td>0</td>\n",
       "      <td>0</td>\n",
       "      <td>0</td>\n",
       "      <td>0</td>\n",
       "    </tr>\n",
       "    <tr>\n",
       "      <th>18-3-TI5</th>\n",
       "      <td>0</td>\n",
       "      <td>0</td>\n",
       "      <td>0</td>\n",
       "      <td>0</td>\n",
       "      <td>0</td>\n",
       "      <td>0</td>\n",
       "      <td>1</td>\n",
       "      <td>1</td>\n",
       "      <td>1</td>\n",
       "      <td>1</td>\n",
       "      <td>...</td>\n",
       "      <td>0</td>\n",
       "      <td>0</td>\n",
       "      <td>0</td>\n",
       "      <td>0</td>\n",
       "      <td>0</td>\n",
       "      <td>0</td>\n",
       "      <td>0</td>\n",
       "      <td>0</td>\n",
       "      <td>0</td>\n",
       "      <td>0</td>\n",
       "    </tr>\n",
       "    <tr>\n",
       "      <th>18-4-TI12</th>\n",
       "      <td>0</td>\n",
       "      <td>0</td>\n",
       "      <td>0</td>\n",
       "      <td>0</td>\n",
       "      <td>0</td>\n",
       "      <td>0</td>\n",
       "      <td>1</td>\n",
       "      <td>1</td>\n",
       "      <td>1</td>\n",
       "      <td>1</td>\n",
       "      <td>...</td>\n",
       "      <td>0</td>\n",
       "      <td>0</td>\n",
       "      <td>0</td>\n",
       "      <td>0</td>\n",
       "      <td>0</td>\n",
       "      <td>0</td>\n",
       "      <td>0</td>\n",
       "      <td>0</td>\n",
       "      <td>0</td>\n",
       "      <td>0</td>\n",
       "    </tr>\n",
       "    <tr>\n",
       "      <th>33-1-TI5</th>\n",
       "      <td>0</td>\n",
       "      <td>0</td>\n",
       "      <td>0</td>\n",
       "      <td>0</td>\n",
       "      <td>1</td>\n",
       "      <td>0</td>\n",
       "      <td>1</td>\n",
       "      <td>0</td>\n",
       "      <td>1</td>\n",
       "      <td>1</td>\n",
       "      <td>...</td>\n",
       "      <td>0</td>\n",
       "      <td>0</td>\n",
       "      <td>0</td>\n",
       "      <td>0</td>\n",
       "      <td>0</td>\n",
       "      <td>0</td>\n",
       "      <td>0</td>\n",
       "      <td>0</td>\n",
       "      <td>0</td>\n",
       "      <td>1</td>\n",
       "    </tr>\n",
       "  </tbody>\n",
       "</table>\n",
       "<p>5 rows × 16089 columns</p>\n",
       "</div>"
      ],
      "text/plain": [
       "           hypothetical protein  hypothetical protein.1  Toxin B  \\\n",
       "Strain                                                             \n",
       "12-1-TI12                     0                       0        0   \n",
       "12-2-TI13                     0                       0        0   \n",
       "18-3-TI5                      0                       0        0   \n",
       "18-4-TI12                     0                       0        0   \n",
       "33-1-TI5                      0                       0        0   \n",
       "\n",
       "           hypothetical protein.2  Hemin receptor  hypothetical protein.3  \\\n",
       "Strain                                                                      \n",
       "12-1-TI12                       0               1                       0   \n",
       "12-2-TI13                       0               1                       0   \n",
       "18-3-TI5                        0               0                       0   \n",
       "18-4-TI12                       0               0                       0   \n",
       "33-1-TI5                        0               1                       0   \n",
       "\n",
       "           Ribonuclease HI  hypothetical protein.4  \\\n",
       "Strain                                               \n",
       "12-1-TI12                1                       0   \n",
       "12-2-TI13                1                       0   \n",
       "18-3-TI5                 1                       1   \n",
       "18-4-TI12                1                       1   \n",
       "33-1-TI5                 1                       0   \n",
       "\n",
       "           Ribosomal RNA large subunit methyltransferase H  \\\n",
       "Strain                                                       \n",
       "12-1-TI12                                                1   \n",
       "12-2-TI13                                                1   \n",
       "18-3-TI5                                                 1   \n",
       "18-4-TI12                                                1   \n",
       "33-1-TI5                                                 1   \n",
       "\n",
       "           Endoribonuclease YbeY  ...   hypothetical protein.9586  \\\n",
       "Strain                            ...                               \n",
       "12-1-TI12                      1  ...                           0   \n",
       "12-2-TI13                      1  ...                           0   \n",
       "18-3-TI5                       1  ...                           0   \n",
       "18-4-TI12                      1  ...                           0   \n",
       "33-1-TI5                       1  ...                           0   \n",
       "\n",
       "           Nif-specific regulatory protein  \\\n",
       "Strain                                       \n",
       "12-1-TI12                                0   \n",
       "12-2-TI13                                0   \n",
       "18-3-TI5                                 0   \n",
       "18-4-TI12                                0   \n",
       "33-1-TI5                                 0   \n",
       "\n",
       "           putative RNA polymerase sigma factor FecI.1  \\\n",
       "Strain                                                   \n",
       "12-1-TI12                                            0   \n",
       "12-2-TI13                                            0   \n",
       "18-3-TI5                                             0   \n",
       "18-4-TI12                                            0   \n",
       "33-1-TI5                                             0   \n",
       "\n",
       "           hypothetical protein.9587  hypothetical protein.9588  \\\n",
       "Strain                                                            \n",
       "12-1-TI12                          1                          0   \n",
       "12-2-TI13                          1                          0   \n",
       "18-3-TI5                           0                          0   \n",
       "18-4-TI12                          0                          0   \n",
       "33-1-TI5                           0                          0   \n",
       "\n",
       "           hypothetical protein.9589  hypothetical protein.9590  \\\n",
       "Strain                                                            \n",
       "12-1-TI12                          0                          0   \n",
       "12-2-TI13                          0                          0   \n",
       "18-3-TI5                           0                          0   \n",
       "18-4-TI12                          0                          0   \n",
       "33-1-TI5                           0                          0   \n",
       "\n",
       "           Antirestriction protein KlcA.11  hypothetical protein.9591  AIEC  \n",
       "Strain                                                                       \n",
       "12-1-TI12                                0                          0     1  \n",
       "12-2-TI13                                0                          0     0  \n",
       "18-3-TI5                                 0                          0     0  \n",
       "18-4-TI12                                0                          0     0  \n",
       "33-1-TI5                                 0                          0     1  \n",
       "\n",
       "[5 rows x 16089 columns]"
      ]
     },
     "execution_count": 5,
     "metadata": {},
     "output_type": "execute_result"
    }
   ],
   "source": [
    "#import pan genome matrix\n",
    "base_matrix = pd.read_excel('BENG 213- Pangenome analysis.xlsx', sheetname='Matrix_w_Genes',index_col=0)\n",
    "base_matrix.head()"
   ]
  },
  {
   "cell_type": "code",
   "execution_count": 6,
   "metadata": {},
   "outputs": [
    {
     "name": "stdout",
     "output_type": "stream",
     "text": [
      "Number of rows:108 rows Number of Columns: 16089 Columns\n"
     ]
    }
   ],
   "source": [
    "m, n=base_matrix.shape\n",
    "base_reduced=base_matrix\n",
    "BASE_Strains=base_matrix.index\n",
    "print \"Number of rows:%s rows Number of Columns: %s Columns\" % (m,n)\n"
   ]
  },
  {
   "cell_type": "code",
   "execution_count": 7,
   "metadata": {},
   "outputs": [
    {
     "name": "stdout",
     "output_type": "stream",
     "text": [
      "2\n",
      "(108, 8)\n"
     ]
    }
   ],
   "source": [
    "#remove strains in METADATA not in BASEMATRIX\n",
    "strains_to_remove=[]\n",
    "for i in META_Strains:\n",
    "    if i not in BASE_Strains:\n",
    "        strains_to_remove.append(i)\n",
    "        META=META.drop(i)\n",
    "print len(strains_to_remove)\n",
    "print META.shape"
   ]
  },
  {
   "cell_type": "code",
   "execution_count": 8,
   "metadata": {},
   "outputs": [
    {
     "name": "stdout",
     "output_type": "stream",
     "text": [
      "9592\n"
     ]
    }
   ],
   "source": [
    "Num_hyp_prot=0\n",
    "Non_hyp_prot_list=[]\n",
    "hyp_prot_list=[]\n",
    "all_col=[]\n",
    "for columns in base_matrix.columns:\n",
    "    all_col.append(columns)\n",
    "    if columns.find(\"hypothetical protein\")==-1:\n",
    "        Non_hyp_prot_list.append(columns)\n",
    "    else:\n",
    "        Num_hyp_prot=Num_hyp_prot+1\n",
    "        hyp_prot_list.append(columns)\n",
    "print Num_hyp_prot"
   ]
  },
  {
   "cell_type": "code",
   "execution_count": 9,
   "metadata": {},
   "outputs": [
    {
     "name": "stdout",
     "output_type": "stream",
     "text": [
      "16089\n",
      "[11  3  9 ...,  1  1 23]\n"
     ]
    }
   ],
   "source": [
    "sum_list=[]\n",
    "sum_list=base_matrix.sum(axis=0)\n",
    "print len(sum_list)\n",
    "print sum_list.values"
   ]
  },
  {
   "cell_type": "code",
   "execution_count": 10,
   "metadata": {},
   "outputs": [
    {
     "name": "stdout",
     "output_type": "stream",
     "text": [
      "2346\n",
      "0\n"
     ]
    }
   ],
   "source": [
    "present_gene_all=[]\n",
    "absent_gene_all=[]\n",
    "\n",
    "for i in sum_list:\n",
    "    if i==108:\n",
    "        present_gene_all.append(i)\n",
    "    if i==0:\n",
    "        absent_gene_all.append(i)\n",
    "print len(present_gene_all)\n",
    "print len(absent_gene_all)\n"
   ]
  },
  {
   "cell_type": "code",
   "execution_count": 11,
   "metadata": {},
   "outputs": [
    {
     "name": "stdout",
     "output_type": "stream",
     "text": [
      "(109, 13743)\n",
      "13743\n",
      "2346\n"
     ]
    }
   ],
   "source": [
    "\n",
    "base_reduced.loc[\"GENE_SUM\"]=sum_list\n",
    "base_reduced.shape\n",
    "c=0\n",
    "for i in base_reduced.columns:\n",
    "    if base_reduced.loc[\"GENE_SUM\", i]==108:\n",
    "        c+=1\n",
    "        base_reduced=base_reduced.drop(i, axis=1)\n",
    "print base_reduced.shape\n",
    "print n-(len(present_gene_all))\n",
    "print c"
   ]
  },
  {
   "cell_type": "code",
   "execution_count": 12,
   "metadata": {
    "collapsed": true
   },
   "outputs": [],
   "source": [
    "reduced_gene_count=base_reduced.loc[\"GENE_SUM\"].values"
   ]
  },
  {
   "cell_type": "code",
   "execution_count": 13,
   "metadata": {
    "collapsed": true
   },
   "outputs": [],
   "source": [
    "#gene count removed\n",
    "base_reduced=base_reduced.drop(\"GENE_SUM\", axis=0)"
   ]
  },
  {
   "cell_type": "code",
   "execution_count": 14,
   "metadata": {},
   "outputs": [
    {
     "data": {
      "image/png": "[encoded data removed]",
      "text/plain": [
       "<matplotlib.figure.Figure at 0xf313d30>"
      ]
     },
     "metadata": {},
     "output_type": "display_data"
    },
    {
     "name": "stdout",
     "output_type": "stream",
     "text": [
      "107\n",
      "1\n"
     ]
    }
   ],
   "source": [
    "plt.plot(reduced_gene_count)\n",
    "plt.show()\n",
    "print max(reduced_gene_count)\n",
    "print min(reduced_gene_count)\n",
    "\n"
   ]
  },
  {
   "cell_type": "markdown",
   "metadata": {},
   "source": [
    "# METADATA "
   ]
  },
  {
   "cell_type": "code",
   "execution_count": 15,
   "metadata": {},
   "outputs": [
    {
     "data": {
      "text/html": [
       "<div>\n",
       "<style>\n",
       "    .dataframe thead tr:only-child th {\n",
       "        text-align: right;\n",
       "    }\n",
       "\n",
       "    .dataframe thead th {\n",
       "        text-align: left;\n",
       "    }\n",
       "\n",
       "    .dataframe tbody tr th {\n",
       "        vertical-align: top;\n",
       "    }\n",
       "</style>\n",
       "<table border=\"1\" class=\"dataframe\">\n",
       "  <thead>\n",
       "    <tr style=\"text-align: right;\">\n",
       "      <th></th>\n",
       "      <th>NOTES</th>\n",
       "      <th>PATHOTYPE</th>\n",
       "      <th>Source</th>\n",
       "      <th>CD</th>\n",
       "      <th>UC</th>\n",
       "      <th>IBD</th>\n",
       "      <th>Phylogroup</th>\n",
       "      <th>Commensal/Pathogenic</th>\n",
       "    </tr>\n",
       "    <tr>\n",
       "      <th>Strain</th>\n",
       "      <th></th>\n",
       "      <th></th>\n",
       "      <th></th>\n",
       "      <th></th>\n",
       "      <th></th>\n",
       "      <th></th>\n",
       "      <th></th>\n",
       "      <th></th>\n",
       "    </tr>\n",
       "  </thead>\n",
       "  <tbody>\n",
       "    <tr>\n",
       "      <th>12-1-TI12</th>\n",
       "      <td>AIEC</td>\n",
       "      <td>InPec: AIEC</td>\n",
       "      <td>Terminal Ileum Biopsy</td>\n",
       "      <td>0</td>\n",
       "      <td>0</td>\n",
       "      <td>0</td>\n",
       "      <td>B2</td>\n",
       "      <td>AIEC</td>\n",
       "    </tr>\n",
       "    <tr>\n",
       "      <th>12-2-TI13</th>\n",
       "      <td>Commensal IBD</td>\n",
       "      <td>InPec: non-AIEC</td>\n",
       "      <td>Terminal Ileum Biopsy</td>\n",
       "      <td>0</td>\n",
       "      <td>0</td>\n",
       "      <td>0</td>\n",
       "      <td>B2</td>\n",
       "      <td>Commensal</td>\n",
       "    </tr>\n",
       "    <tr>\n",
       "      <th>18-3-TI5</th>\n",
       "      <td>Commensal IBD</td>\n",
       "      <td>InPec: non-AIEC</td>\n",
       "      <td>Terminal Ileum Biopsy</td>\n",
       "      <td>0</td>\n",
       "      <td>0</td>\n",
       "      <td>0</td>\n",
       "      <td>B2</td>\n",
       "      <td>Commensal</td>\n",
       "    </tr>\n",
       "    <tr>\n",
       "      <th>18-4-TI12</th>\n",
       "      <td>Commensal IBD</td>\n",
       "      <td>InPec: non-AIEC</td>\n",
       "      <td>Terminal Ileum Biopsy</td>\n",
       "      <td>0</td>\n",
       "      <td>0</td>\n",
       "      <td>0</td>\n",
       "      <td>B2</td>\n",
       "      <td>Commensal</td>\n",
       "    </tr>\n",
       "    <tr>\n",
       "      <th>3_2_53FAA</th>\n",
       "      <td>Commensal IBD</td>\n",
       "      <td>InPec: non-AIEC</td>\n",
       "      <td>Faecal</td>\n",
       "      <td>1</td>\n",
       "      <td>0</td>\n",
       "      <td>1</td>\n",
       "      <td>B2</td>\n",
       "      <td>Commensal</td>\n",
       "    </tr>\n",
       "  </tbody>\n",
       "</table>\n",
       "</div>"
      ],
      "text/plain": [
       "                   NOTES        PATHOTYPE                 Source  CD  UC  IBD  \\\n",
       "Strain                                                                          \n",
       "12-1-TI12           AIEC      InPec: AIEC  Terminal Ileum Biopsy   0   0    0   \n",
       "12-2-TI13  Commensal IBD  InPec: non-AIEC  Terminal Ileum Biopsy   0   0    0   \n",
       "18-3-TI5   Commensal IBD  InPec: non-AIEC  Terminal Ileum Biopsy   0   0    0   \n",
       "18-4-TI12  Commensal IBD  InPec: non-AIEC  Terminal Ileum Biopsy   0   0    0   \n",
       "3_2_53FAA  Commensal IBD  InPec: non-AIEC                 Faecal   1   0    1   \n",
       "\n",
       "          Phylogroup Commensal/Pathogenic  \n",
       "Strain                                     \n",
       "12-1-TI12         B2                 AIEC  \n",
       "12-2-TI13         B2            Commensal  \n",
       "18-3-TI5          B2            Commensal  \n",
       "18-4-TI12         B2            Commensal  \n",
       "3_2_53FAA         B2            Commensal  "
      ]
     },
     "execution_count": 15,
     "metadata": {},
     "output_type": "execute_result"
    }
   ],
   "source": [
    "META.head()"
   ]
  },
  {
   "cell_type": "code",
   "execution_count": 16,
   "metadata": {
    "collapsed": true
   },
   "outputs": [],
   "source": [
    "Notes=META['NOTES']\n",
    "Pathotype=META['PATHOTYPE']\n",
    "Source=META['Source']\n",
    "Phylogroup=META['Phylogroup']\n",
    "Com_Path=META['Commensal/Pathogenic']\n"
   ]
  },
  {
   "cell_type": "code",
   "execution_count": 17,
   "metadata": {
    "collapsed": true
   },
   "outputs": [],
   "source": [
    "def unique(list1):\n",
    "    unique_list = []\n",
    "     # traverse for all elements\n",
    "    for x in list1:\n",
    "        # check if exists in unique_list or not\n",
    "        if x not in unique_list:\n",
    "            unique_list.append(x)\n",
    "    # print list\n",
    "    return unique_list           "
   ]
  },
  {
   "cell_type": "code",
   "execution_count": 18,
   "metadata": {},
   "outputs": [
    {
     "name": "stdout",
     "output_type": "stream",
     "text": [
      "NOTES : [u'AIEC', u'Commensal IBD', u'Commensal', u'EAEC', u'UPEC', u'APEC', u'ETEC', u'ExPEC', u'EHEC', u'EPEC', u'Shigella']\n",
      "PATHOTYPE : [u'InPec: AIEC', u'InPec: non-AIEC', u'Commensal', u'InPec: EAEC', u'ExPec: UPEC', u'ExPec', u'InPec: EHEC', u'InPec: EPEC', u'ExPec: Envisolate', u'Shigella']\n",
      "Source : [u'Terminal Ileum Biopsy', u'Faecal', u'Apthous Ulcer Biopsy', u'Lymph Node', u'biopsy', u'intestinal mucosa', u'Urinary', u'avian', u'fecal', u'Unknown', u'Colon', u'cerebro-spinal fluid', u'Bloodstream', u'Bladder', u'colon biopsy', u'ileum']\n",
      "Phylogroup : [u'B2', u'A', u'D', u'B1', u'E', u'F', u'Unknown']\n",
      "Commensal/Pathogenic : [u'AIEC', u'Commensal', u'EAEC', u'UPEC', u'APEC', u'ETEC', u'ExPEC', u'EHEC', u'EPEC', u'Shigella']\n"
     ]
    }
   ],
   "source": [
    "list_of_lists=[Notes,Pathotype,Source,Phylogroup,Com_Path]\n",
    "for lists in list_of_lists:\n",
    "    print '%s : %s'% (lists.name, unique(lists))\n",
    "    "
   ]
  },
  {
   "cell_type": "code",
   "execution_count": 19,
   "metadata": {
    "collapsed": true
   },
   "outputs": [],
   "source": [
    "Notes_dict={}\n",
    "Pathotype_dict={}\n",
    "Source_dict={}\n",
    "Phylogroup_dict={}\n",
    "Com_Path_dict={}"
   ]
  },
  {
   "cell_type": "code",
   "execution_count": null,
   "metadata": {
    "collapsed": true
   },
   "outputs": [],
   "source": [
    "import matplotlib.cm as cm\n"
   ]
  },
  {
   "cell_type": "code",
   "execution_count": null,
   "metadata": {
    "collapsed": true
   },
   "outputs": [],
   "source": [
    "colors = ['#F0F8FF','#FAEBD7','#00FFFF','#7FFFD4','#F5F5DC','#FFE4C4','#00FFFF','#00008B', '#008B8B','#B8860B','#8B008B','#DC143C','#00FFFF','#00008B', '#008B8B','#B8860B','#8B008B',]\n",
    "colors_dict=dict(zip(range(len(colors)),colors))\n",
    "colors_dict[2]\n",
    "colors_dict[5]"
   ]
  },
  {
   "cell_type": "markdown",
   "metadata": {},
   "source": [
    "# Correlate colors with Metadata\n"
   ]
  },
  {
   "cell_type": "code",
   "execution_count": null,
   "metadata": {
    "collapsed": true
   },
   "outputs": [],
   "source": [
    "def uniq_rep( LIST):\n",
    "    unique_list=unique(LIST)\n",
    "    print '%s Number of unique items: %s' % (LIST.name,len(unique_list))\n",
    "    color_list=[]\n",
    "    num_rep_list=[]\n",
    "    color_unique=[]\n",
    "    for i in unique_list:\n",
    "        loc=unique_list.index(i)\n",
    "        color_unique.append(str(colors_dict[loc]))\n",
    "    for i in LIST:\n",
    "        if i in unique_list:\n",
    "            loc=unique_list.index(i)\n",
    "            num_rep_list.append(loc)\n",
    "    if len(num_rep_list)==len(LIST):\n",
    "        for i in num_rep_list:\n",
    "            color_list.append(str(colors_dict[i]))\n",
    "    if len(color_list)==len(LIST)==len(color_list):   \n",
    "        print (\"ALL DIMENSIONS MATCH\")\n",
    "    else:\n",
    "        print ('TRY AGAIN')\n",
    "    return num_rep_list , color_list, unique_list"
   ]
  },
  {
   "cell_type": "code",
   "execution_count": null,
   "metadata": {
    "collapsed": true
   },
   "outputs": [],
   "source": [
    "Notes_Num, Notes_Colors, Notes_c_unique=uniq_rep(Notes)\n",
    "print len(Notes_Colors)\n",
    "print len(Notes)\n",
    "\n",
    "\n",
    "Pathotype_Num,Pathotype_Colors, Pathotype_c_unique=uniq_rep(Pathotype)\n",
    "print len(Pathotype_Colors)\n",
    "print len(Pathotype)\n",
    "\n",
    "Source_Num,Source_Colors, Source_c_unique=uniq_rep(Source)\n",
    "print len(Source_Colors)\n",
    "print len(Source)\n",
    "\n",
    "Phylogroup_Num, Phylogroup_Colors, Phylogroup_c_unique=uniq_rep(Phylogroup)\n",
    "print len(Phylogroup_Colors)\n",
    "print len(Phylogroup)\n",
    "\n",
    "Com_Path_Num,Com_Path_Colors, Com_Path_c_unique=uniq_rep(Com_Path)\n",
    "print len(Com_Path_Colors)\n",
    "print len(Com_Path)\n"
   ]
  },
  {
   "cell_type": "code",
   "execution_count": null,
   "metadata": {
    "collapsed": true
   },
   "outputs": [],
   "source": []
  },
  {
   "cell_type": "markdown",
   "metadata": {},
   "source": [
    "# PCA "
   ]
  },
  {
   "cell_type": "code",
   "execution_count": null,
   "metadata": {
    "collapsed": true
   },
   "outputs": [],
   "source": []
  },
  {
   "cell_type": "code",
   "execution_count": null,
   "metadata": {
    "collapsed": true
   },
   "outputs": [],
   "source": [
    "def PCA_fx(matrix, n): \n",
    "    import numpy as np\n",
    "    from sklearn.decomposition import PCA\n",
    "    PCA_matrix=[]\n",
    "    for i in range(n):\n",
    "        X = np.array(matrix)\n",
    "        pca = PCA(n_components=i+1)\n",
    "        pca.fit(X)\n",
    "        PCA_matrix.extend([[i+1,pca.explained_variance_ratio_,pca.singular_values_]])\n",
    "    return PCA_matrix"
   ]
  },
  {
   "cell_type": "code",
   "execution_count": null,
   "metadata": {
    "collapsed": true
   },
   "outputs": [],
   "source": [
    "PCA1=PCA_fx(base_reduced, 5 )\n",
    "label=['Number of Components', 'explained_variance_ratio_','singular_values_']\n",
    "PCA_plot=pd.DataFrame.from_records(PCA1, columns=label)\n",
    "PCA_plot"
   ]
  },
  {
   "cell_type": "code",
   "execution_count": null,
   "metadata": {
    "collapsed": true
   },
   "outputs": [],
   "source": [
    "from sklearn.decomposition import PCA\n"
   ]
  },
  {
   "cell_type": "code",
   "execution_count": null,
   "metadata": {
    "collapsed": true
   },
   "outputs": [],
   "source": [
    "def draw_vector(v0, v1, ax=None):\n",
    "    ax = ax or plt.gca()\n",
    "    arrowprops=dict(arrowstyle='->',\n",
    "                    linewidth=2,\n",
    "                    shrinkA=0, shrinkB=0)\n",
    "    ax.annotate('', v1, v0, arrowprops=arrowprops)"
   ]
  },
  {
   "cell_type": "code",
   "execution_count": null,
   "metadata": {
    "collapsed": true
   },
   "outputs": [],
   "source": [
    "m=len(Notes_c_unique)\n",
    "colors[1:len(Notes_c_unique)]"
   ]
  },
  {
   "cell_type": "code",
   "execution_count": null,
   "metadata": {
    "collapsed": true
   },
   "outputs": [],
   "source": [
    "notes"
   ]
  },
  {
   "cell_type": "code",
   "execution_count": null,
   "metadata": {
    "collapsed": true
   },
   "outputs": [],
   "source": [
    "notes={\n",
    "    'Color': Notes_Colors,\n",
    "    'Number': Notes_Num\n",
    "}\n",
    "notes_legend={\n",
    "    'Color': (colors[0:len(Notes_c_unique)]),\n",
    "    'Label': Notes_c_unique\n",
    "}\n",
    "print len(Notes_Num)\n",
    "notes_legend\n",
    "notes_dict=pd.DataFrame(data=notes)"
   ]
  },
  {
   "cell_type": "code",
   "execution_count": null,
   "metadata": {
    "collapsed": true
   },
   "outputs": [],
   "source": [
    "import numpy as np\n",
    "from sklearn.decomposition import PCA\n",
    "\n",
    "\n",
    "X =base_reduced\n",
    "pca = PCA(n_components=2, whiten=True)\n",
    "pca.fit(X)\n",
    "\n",
    "fig, ax = plt.subplots(1, 2, figsize=(16, 6))\n",
    "fig.subplots_adjust(left=0.0625, right=0.95, wspace=0.1)\n",
    "\n",
    "# plot data\n",
    "\n",
    "\n",
    "# plot principal components\n",
    "X_pca = pca.transform(X)\n",
    "for i in range(len(Notes_Colors)):\n",
    "    ax[1].scatter(X_pca[:, 0], X_pca[:, 1], alpha=0.2, c=Notes_Colors)\n",
    "draw_vector([0, 0], [0, 3], ax=ax[1])\n",
    "draw_vector([0, 0], [3, 0], ax=ax[1])\n",
    "ax[1].axis('equal')\n",
    "ax[1].set(xlabel='component 1', ylabel='component 2',\n",
    "          title='principal components',\n",
    "          xlim=(-5, 5), ylim=(-3, 3.1))\n",
    "ax[1].legend(shadow=True, fancybox=True)\n",
    "\n",
    "fig.savefig('PCA-rotation.png')"
   ]
  },
  {
   "cell_type": "code",
   "execution_count": null,
   "metadata": {
    "collapsed": true
   },
   "outputs": [],
   "source": [
    "\n",
    "\n",
    "X =base_reduced\n",
    "pca = PCA(n_components=2, whiten=True)\n",
    "pca.fit(X)\n",
    "\n",
    "# plot principal components\n",
    "X_pca = pca.transform(X)\n",
    "for i in range(108):\n",
    "    plt.scatter(X_pca[:, 0], X_pca[:, 1], alpha=0.2, c=Notes_Colors)\n",
    "plt.legend(Notes_c_unique, )\n",
    "plt.xlabel('First Principal Component')\n",
    "plt.ylabel('Second Principal Component')\n",
    "plt.title(\"PCA Scatter Plot\")\n",
    "plt.show()"
   ]
  },
  {
   "cell_type": "code",
   "execution_count": null,
   "metadata": {
    "collapsed": true
   },
   "outputs": [],
   "source": [
    "notes_dict[\"x\"]=X_pca[:,0]\n",
    "notes_dict[\"y\"]=X_pca[:,1]"
   ]
  },
  {
   "cell_type": "code",
   "execution_count": null,
   "metadata": {
    "collapsed": true
   },
   "outputs": [],
   "source": [
    "fig, ax = plt.subplots()\n",
    "\n",
    "grouped = notes_dict.groupby('Color')\n",
    "for key, group in grouped:\n",
    "    ax.scatter(group.x, group.y, c = key, s = 50)\n",
    "draw_vector([0, 0], [0, 3], ax=ax)\n",
    "draw_vector([0, 0], [3, 0], ax=ax)\n",
    "ax.legend(Notes_c_unique,loc='upper center', bbox_to_anchor=(1.45, 0.8), shadow=True, ncol=1)\n",
    "ax.grid()\n",
    "plt.xlabel('First Principal Component')   \n",
    "plt.ylabel('Second Principal Component')\n",
    "plt.title(\"PCA Scatter Plot\")\n",
    "ax.axis('equal')\n",
    "plt.show()\n",
    "    \n"
   ]
  },
  {
   "cell_type": "code",
   "execution_count": null,
   "metadata": {
    "collapsed": true
   },
   "outputs": [],
   "source": [
    "notes_dict"
   ]
  },
  {
   "cell_type": "code",
   "execution_count": null,
   "metadata": {
    "collapsed": true
   },
   "outputs": [],
   "source": [
    "\n",
    "grouped = notes_dict.groupby('Type')\n",
    "for key, group in grouped:\n",
    "    ax.scatter(group.x, group.y, s = 50, c=group.Color)\n",
    "ax.legend(group.Type,loc='upper center', bbox_to_anchor=(1.45, 0.8), shadow=True, ncol=1)\n",
    "ax.grid()\n",
    "plt.show()\n",
    "    "
   ]
  },
  {
   "cell_type": "code",
   "execution_count": null,
   "metadata": {
    "collapsed": true
   },
   "outputs": [],
   "source": [
    "    group.plot(ax=ax, kind='scatter', x='x', y='y', label=key, color=colors[key])\n"
   ]
  },
  {
   "cell_type": "code",
   "execution_count": null,
   "metadata": {
    "collapsed": true
   },
   "outputs": [],
   "source": [
    "notes_dict['Type']=list(Notes)"
   ]
  },
  {
   "cell_type": "code",
   "execution_count": null,
   "metadata": {
    "collapsed": true
   },
   "outputs": [],
   "source": [
    "fig = plt.figure(figsize = (8,8))\n",
    "ax = fig.add_subplot(1,1,1) \n",
    "ax.set_xlabel('Principal Component 1', fontsize = 15)\n",
    "ax.set_ylabel('Principal Component 2', fontsize = 15)\n",
    "ax.set_title('2 component PCA', fontsize = 20)\n",
    "targets = Notes_c_unique\n",
    "colors = colors[0:len(Notes_c_unique)]\n",
    "for target, color in zip(targets,colors):\n",
    "    indicesToKeep = notes_dict['Type'] == target\n",
    "    ax.scatter(X_pca.loc[indicesToKeep, 'principal component 1']\n",
    "               , finalDf.loc[indicesToKeep, 'principal component 2']\n",
    "               , c = color\n",
    "               , s = 50)\n",
    "ax.legend(targets)\n",
    "ax.grid()\n"
   ]
  },
  {
   "cell_type": "code",
   "execution_count": null,
   "metadata": {
    "collapsed": true
   },
   "outputs": [],
   "source": []
  },
  {
   "cell_type": "code",
   "execution_count": null,
   "metadata": {
    "collapsed": true
   },
   "outputs": [],
   "source": []
  },
  {
   "cell_type": "code",
   "execution_count": null,
   "metadata": {
    "collapsed": true
   },
   "outputs": [],
   "source": []
  },
  {
   "cell_type": "code",
   "execution_count": null,
   "metadata": {
    "collapsed": true
   },
   "outputs": [],
   "source": []
  },
  {
   "cell_type": "code",
   "execution_count": null,
   "metadata": {
    "collapsed": true
   },
   "outputs": [],
   "source": []
  },
  {
   "cell_type": "code",
   "execution_count": null,
   "metadata": {
    "collapsed": true
   },
   "outputs": [],
   "source": [
    "g,df_val_cog = plot_by_group((X_pca[i, 0], X_pca[i, 1] df_cog_locus, col_group=col_group, col='condition', hue=col_group)"
   ]
  },
  {
   "cell_type": "code",
   "execution_count": null,
   "metadata": {
    "collapsed": true
   },
   "outputs": [],
   "source": [
    "for key, group in Notes_c_unique:\n",
    "    group.plot(ax=ax, kind='scatter', x='carat', y='price', label=key, color=colors[key])"
   ]
  },
  {
   "cell_type": "code",
   "execution_count": null,
   "metadata": {
    "collapsed": true
   },
   "outputs": [],
   "source": [
    "grouped = df.groupby('color')\n",
    "for key, group in grouped:\n",
    "    group.plot(ax=ax, kind='scatter', x='carat', y='price', label=key, color=colors[key])\n",
    "\n",
    "plt.show()"
   ]
  },
  {
   "cell_type": "code",
   "execution_count": null,
   "metadata": {
    "collapsed": true
   },
   "outputs": [],
   "source": [
    "X_pca.shape"
   ]
  },
  {
   "cell_type": "code",
   "execution_count": null,
   "metadata": {
    "collapsed": true
   },
   "outputs": [],
   "source": [
    "ax[2].scatter(X_pca[:, 0], X_pca[:, 1], alpha=0.2)\n",
    "draw_vector([0, 0], [0, 3], ax=ax[1])\n",
    "draw_vector([0, 0], [3, 0], ax=ax[1])\n",
    "ax[2].axis('equal')\n",
    "ax[2].set(xlabel='component 1', ylabel='component 2',\n",
    "          title='principal components',\n",
    "          xlim=(-5, 5), ylim=(-3, 3.1))\n",
    "\n",
    "ax[3].scatter(X_pca[:, 0], X_pca[:, 1], alpha=0.2)\n",
    "draw_vector([0, 0], [0, 3], ax=ax[1])\n",
    "draw_vector([0, 0], [3, 0], ax=ax[1])\n",
    "ax[3].axis('equal')\n",
    "ax[3].set(xlabel='component 1', ylabel='component 2',\n",
    "          title='principal components',\n",
    "          xlim=(-5, 5), ylim=(-3, 3.1))\n",
    "\n",
    "ax[4].scatter(X_pca[:, 0], X_pca[:, 1], alpha=0.2)\n",
    "draw_vector([0, 0], [0, 3], ax=ax[1])\n",
    "draw_vector([0, 0], [3, 0], ax=ax[1])\n",
    "ax[4].axis('equal')\n",
    "ax[4].set(xlabel='component 1', ylabel='component 2',\n",
    "          title='principal components',\n",
    "          xlim=(-5, 5), ylim=(-3, 3.1))\n",
    "\n",
    "ax[5].scatter(X_pca[:, 0], X_pca[:, 1], alpha=0.2)\n",
    "draw_vector([0, 0], [0, 3], ax=ax[1])\n",
    "draw_vector([0, 0], [3, 0], ax=ax[1])\n",
    "ax[5].axis('equal')\n",
    "ax[5].set(xlabel='component 1', ylabel='component 2',\n",
    "          title='principal components',\n",
    "          xlim=(-5, 5), ylim=(-3, 3.1))"
   ]
  },
  {
   "cell_type": "code",
   "execution_count": null,
   "metadata": {
    "collapsed": true
   },
   "outputs": [],
   "source": [
    "import seaborn as sns\n",
    "X =base_reduced\n",
    "pca = PCA(n_components=2, whiten=True)\n",
    "pca.fit(X)\n",
    "\n",
    "# plot principal components\n",
    "X_pca = pca.transform(X)\n",
    "# Use the 'hue' argument to provide a factor variable\n",
    "sns.lmplot(x=0, y=1, data=X_pca, fit_reg=False, hue=Notes_Colors, legend=False)\n",
    " \n",
    "# Move the legend to an empty part of the plot\n",
    "plt.legend(loc='lower right')\n",
    " \n",
    "#sns.plt.show()\n"
   ]
  },
  {
   "cell_type": "code",
   "execution_count": null,
   "metadata": {
    "collapsed": true
   },
   "outputs": [],
   "source": [
    "import matplotlib.pyplot as plt\n",
    "import seaborn as sns\n",
    "\n",
    "import pandas as pd\n",
    "X =base_reduced\n",
    "pca = PCA(n_components=2, whiten=True)\n",
    "pca.fit(X)\n",
    "\n",
    "# plot principal components\n",
    "X_pca = pca.transform(X)\n",
    "\n",
    "df = pd.DataFrame(dict(\"X \"= X_pca[:,0], \"Y\"= X_pca[:,1], color=Notes_Colors))\n",
    "\n",
    "sns.lmplot(\"X\", \"Y\", data=df, hue='color', fit_reg=False)\n",
    "\n",
    "plt.show()\n"
   ]
  },
  {
   "cell_type": "code",
   "execution_count": null,
   "metadata": {
    "collapsed": true
   },
   "outputs": [],
   "source": [
    "Notes_Colors"
   ]
  },
  {
   "cell_type": "code",
   "execution_count": null,
   "metadata": {
    "collapsed": true
   },
   "outputs": [],
   "source": []
  }
 ],
 "metadata": {
  "kernelspec": {
   "display_name": "Python 3",
   "language": "python",
   "name": "python3"
  },
  "language_info": {
   "codemirror_mode": {
    "name": "ipython",
    "version": 3
   },
   "file_extension": ".py",
   "mimetype": "text/x-python",
   "name": "python",
   "nbconvert_exporter": "python",
   "pygments_lexer": "ipython3",
   "version": "3.6.3"
  }
 },
 "nbformat": 4,
 "nbformat_minor": 2
}
