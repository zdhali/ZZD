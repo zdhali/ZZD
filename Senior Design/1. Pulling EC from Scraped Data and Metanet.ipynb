{
 "cells": [
  {
   "cell_type": "code",
   "execution_count": 1,
   "metadata": {
    "collapsed": true
   },
   "outputs": [],
   "source": [
    "import os\n",
    "from os.path import join\n",
    "import pandas as pd\n",
    "import numpy as np\n",
    "import requests\n",
    "import json \n",
    "import re"
   ]
  },
  {
   "cell_type": "markdown",
   "metadata": {},
   "source": [
    "# Pull EC from SCRAPED DATA (Excel sheets)\n",
    "\n",
    "## Current location"
   ]
  },
  {
   "cell_type": "code",
   "execution_count": 2,
   "metadata": {
    "collapsed": true
   },
   "outputs": [],
   "source": [
    "def data_locate(rel_path_to_input,a):\n",
    "    cwd = os.getcwd()\n",
    "    stem=cwd\n",
    "    for i in range(a):\n",
    "        stem=os.path.abspath(os.path.join(stem, '..'))\n",
    "    data_loc=os.path.join(stem , rel_path_to_input)\n",
    "    os.chdir(data_loc)\n",
    "    sub_files = os.listdir(data_loc)\n",
    "    print (\"Current Directory: \", cwd)\n",
    "    print (\"Data location: \" , data_loc)\n",
    "    print (sub_files)\n",
    "    return data_loc, sub_files\n"
   ]
  },
  {
   "cell_type": "code",
   "execution_count": null,
   "metadata": {
    "collapsed": true
   },
   "outputs": [],
   "source": [
    "data_loc, sub_files=data_locate(\"Data\\Extractions\", 0)\n",
    "\n"
   ]
  },
  {
   "cell_type": "code",
   "execution_count": null,
   "metadata": {
    "collapsed": true
   },
   "outputs": [],
   "source": [
    "def file_list(data_loc, pattern):\n",
    "    #data_loc is the absolute data location\n",
    "    #pattern is the type of files to be analyzed (ex. 'jpeg', 'xlsx')\n",
    "    print (\"Data location: \" , data_loc)\n",
    "    file_size=[]\n",
    "    Excel_list=[]\n",
    "    Species_list=[]\n",
    "    total_file_count=0\n",
    "    species_ct=np.zeros((len(sub_files),1))\n",
    "    \n",
    "    for (dirname, dirs, files) in os.walk('.'):\n",
    "        for filename in files:\n",
    "            if filename.endswith(pattern) :\n",
    "                thefile = os.path.join(dirname,filename)\n",
    "                for i in range(len(sub_files)):\n",
    "                    if str(sub_files[i]) in str(dirname):\n",
    "                        Species_list.append(str(sub_files[i]))\n",
    "                        species_ct[i]+=1\n",
    "                Excel_list.append(filename)\n",
    "                #clean up EC numbers\n",
    "                total_file_count+=1\n",
    "                print (os.path.getsize(thefile),'KB', filename, dirname)\n",
    "    print (\"Number of files total: \", total_file_count)\n",
    "    return (Excel_list, Species_list, species_ct)\n",
    "    "
   ]
  },
  {
   "cell_type": "code",
   "execution_count": null,
   "metadata": {
    "collapsed": true
   },
   "outputs": [],
   "source": [
    "Excel_list, Species_list, species_ct =file_list(data_loc, '.xlsx')"
   ]
  },
  {
   "cell_type": "code",
   "execution_count": null,
   "metadata": {
    "collapsed": true
   },
   "outputs": [],
   "source": [
    "def Filename_to_EC(Excel_list):\n",
    "    EC_=[i.replace(\"Final.xlsx\", \"\") for i in Excel_list]\n",
    "    EC_=[i.replace(\"_\", \".\") for i in EC_]\n",
    "    print (EC_)\n",
    "    return EC_"
   ]
  },
  {
   "cell_type": "code",
   "execution_count": null,
   "metadata": {
    "collapsed": true
   },
   "outputs": [],
   "source": [
    "EC_list=Filename_to_EC(Excel_list)"
   ]
  },
  {
   "cell_type": "markdown",
   "metadata": {},
   "source": [
    "# OUTPUT "
   ]
  },
  {
   "cell_type": "code",
   "execution_count": null,
   "metadata": {
    "collapsed": true
   },
   "outputs": [],
   "source": [
    "cwd = os.getcwd()\n",
    "cwd"
   ]
  },
  {
   "cell_type": "code",
   "execution_count": null,
   "metadata": {
    "collapsed": true
   },
   "outputs": [],
   "source": [
    "def Dataframe_excel_output(output_path,n, Species_list, EC_list, Filename):\n",
    "    cwd = os.getcwd()\n",
    "    print (\"Current Directory: \", cwd)\n",
    "    print (os.path.dirname(output_path))\n",
    "    stem=cwd\n",
    "    #move up \n",
    "    for i in range(n):\n",
    "        stem=os.path.abspath(os.path.join(stem, '..'))\n",
    "    output_loc=os.path.join(stem, output_path)\n",
    "    os.chdir(output_loc)\n",
    "    df= pd.DataFrame({\"Species\": Species_list, \"EC_Numbers\": EC_list})\n",
    "    writer = pd.ExcelWriter(str(Filename)+'.xlsx', engine='xlsxwriter')\n",
    "    df.to_excel(writer, sheet_name='Sheet1')\n",
    "    writer.save()\n",
    "    print (\"File name: \", str(Filename)+'.xlsx')\n",
    "    "
   ]
  },
  {
   "cell_type": "code",
   "execution_count": null,
   "metadata": {
    "collapsed": true
   },
   "outputs": [],
   "source": [
    "Dataframe_excel_output('Output',0, Species_list, EC_list, \"EC_Species\")"
   ]
  },
  {
   "cell_type": "code",
   "execution_count": null,
   "metadata": {
    "collapsed": true
   },
   "outputs": [],
   "source": []
  },
  {
   "cell_type": "markdown",
   "metadata": {
    "collapsed": true
   },
   "source": [
    "# Pull EC from METANET links"
   ]
  },
  {
   "cell_type": "code",
   "execution_count": 3,
   "metadata": {},
   "outputs": [
    {
     "name": "stdout",
     "output_type": "stream",
     "text": [
      "C:\\Users\\zafri\\Documents\\Senior_Design\n",
      "Current Directory:  C:\\Users\\zafri\\Documents\\Senior_Design\n",
      "Data location:  C:\\Users\\zafri\\Documents\\Senior_Design\\Output/from_API\n",
      "['Ecoli_database.xlsx', 'file.json', 'Recon_database.xlsx']\n"
     ]
    }
   ],
   "source": [
    "#import dataframe sheet\n",
    "print (os.getcwd())\n",
    "data_loc, sub_files=data_locate(\"Output/from_API\", 0)"
   ]
  },
  {
   "cell_type": "code",
   "execution_count": 4,
   "metadata": {},
   "outputs": [
    {
     "name": "stdout",
     "output_type": "stream",
     "text": [
      "Column headings: Index(['BIGG_ID', 'EC_Links', 'Metabolites', 'Subsystem/Genes',\n",
      "       'old_identifiers'],\n",
      "      dtype='object')\n"
     ]
    }
   ],
   "source": [
    "ecoli_db = pd.read_excel('Ecoli_database.xlsx')\n",
    " \n",
    "print(\"Column headings:\", ecoli_db.columns)"
   ]
  },
  {
   "cell_type": "code",
   "execution_count": 5,
   "metadata": {},
   "outputs": [
    {
     "data": {
      "text/html": [
       "<div>\n",
       "<style>\n",
       "    .dataframe thead tr:only-child th {\n",
       "        text-align: right;\n",
       "    }\n",
       "\n",
       "    .dataframe thead th {\n",
       "        text-align: left;\n",
       "    }\n",
       "\n",
       "    .dataframe tbody tr th {\n",
       "        vertical-align: top;\n",
       "    }\n",
       "</style>\n",
       "<table border=\"1\" class=\"dataframe\">\n",
       "  <thead>\n",
       "    <tr style=\"text-align: right;\">\n",
       "      <th></th>\n",
       "      <th>BIGG_ID</th>\n",
       "      <th>EC_Links</th>\n",
       "      <th>Metabolites</th>\n",
       "      <th>Subsystem/Genes</th>\n",
       "      <th>old_identifiers</th>\n",
       "    </tr>\n",
       "  </thead>\n",
       "  <tbody>\n",
       "    <tr>\n",
       "      <th>0</th>\n",
       "      <td>12DGR120tipp</td>\n",
       "      <td>[{'MetaNetX (MNX) Equation': [{'id': 'MNXR9467...</td>\n",
       "      <td>[[{'bigg_id': '12dgr120', 'stoichiometry': 1.0...</td>\n",
       "      <td>[[{'genes': [], 'subsystem': 'Transport, Inner...</td>\n",
       "      <td>[['12DGR120tipp']]</td>\n",
       "    </tr>\n",
       "    <tr>\n",
       "      <th>1</th>\n",
       "      <td>12DGR140tipp</td>\n",
       "      <td>[{'MetaNetX (MNX) Equation': [{'id': 'MNXR9467...</td>\n",
       "      <td>[[{'bigg_id': '12dgr140', 'stoichiometry': 1.0...</td>\n",
       "      <td>[[{'genes': [], 'subsystem': 'Transport, Inner...</td>\n",
       "      <td>[['12DGR140tipp']]</td>\n",
       "    </tr>\n",
       "    <tr>\n",
       "      <th>2</th>\n",
       "      <td>12DGR141tipp</td>\n",
       "      <td>[{'MetaNetX (MNX) Equation': [{'id': 'MNXR9467...</td>\n",
       "      <td>[[{'bigg_id': '12dgr141', 'stoichiometry': 1.0...</td>\n",
       "      <td>[[{'genes': [], 'subsystem': 'Transport, Inner...</td>\n",
       "      <td>[['12DGR141tipp']]</td>\n",
       "    </tr>\n",
       "    <tr>\n",
       "      <th>3</th>\n",
       "      <td>12DGR160tipp</td>\n",
       "      <td>[{'MetaNetX (MNX) Equation': [{'id': 'MNXR9467...</td>\n",
       "      <td>[[{'bigg_id': '12dgr160', 'stoichiometry': 1.0...</td>\n",
       "      <td>[[{'genes': [], 'subsystem': 'Transport, Inner...</td>\n",
       "      <td>[['12DGR160tipp']]</td>\n",
       "    </tr>\n",
       "    <tr>\n",
       "      <th>4</th>\n",
       "      <td>12DGR161tipp</td>\n",
       "      <td>[{'MetaNetX (MNX) Equation': [{'id': 'MNXR9467...</td>\n",
       "      <td>[[{'bigg_id': '12dgr161', 'stoichiometry': 1.0...</td>\n",
       "      <td>[[{'genes': [], 'subsystem': 'Transport, Inner...</td>\n",
       "      <td>[['12DGR161tipp']]</td>\n",
       "    </tr>\n",
       "  </tbody>\n",
       "</table>\n",
       "</div>"
      ],
      "text/plain": [
       "        BIGG_ID                                           EC_Links  \\\n",
       "0  12DGR120tipp  [{'MetaNetX (MNX) Equation': [{'id': 'MNXR9467...   \n",
       "1  12DGR140tipp  [{'MetaNetX (MNX) Equation': [{'id': 'MNXR9467...   \n",
       "2  12DGR141tipp  [{'MetaNetX (MNX) Equation': [{'id': 'MNXR9467...   \n",
       "3  12DGR160tipp  [{'MetaNetX (MNX) Equation': [{'id': 'MNXR9467...   \n",
       "4  12DGR161tipp  [{'MetaNetX (MNX) Equation': [{'id': 'MNXR9467...   \n",
       "\n",
       "                                         Metabolites  \\\n",
       "0  [[{'bigg_id': '12dgr120', 'stoichiometry': 1.0...   \n",
       "1  [[{'bigg_id': '12dgr140', 'stoichiometry': 1.0...   \n",
       "2  [[{'bigg_id': '12dgr141', 'stoichiometry': 1.0...   \n",
       "3  [[{'bigg_id': '12dgr160', 'stoichiometry': 1.0...   \n",
       "4  [[{'bigg_id': '12dgr161', 'stoichiometry': 1.0...   \n",
       "\n",
       "                                     Subsystem/Genes     old_identifiers  \n",
       "0  [[{'genes': [], 'subsystem': 'Transport, Inner...  [['12DGR120tipp']]  \n",
       "1  [[{'genes': [], 'subsystem': 'Transport, Inner...  [['12DGR140tipp']]  \n",
       "2  [[{'genes': [], 'subsystem': 'Transport, Inner...  [['12DGR141tipp']]  \n",
       "3  [[{'genes': [], 'subsystem': 'Transport, Inner...  [['12DGR160tipp']]  \n",
       "4  [[{'genes': [], 'subsystem': 'Transport, Inner...  [['12DGR161tipp']]  "
      ]
     },
     "execution_count": 5,
     "metadata": {},
     "output_type": "execute_result"
    }
   ],
   "source": [
    "ecoli_db.head()"
   ]
  },
  {
   "cell_type": "code",
   "execution_count": 6,
   "metadata": {
    "collapsed": true
   },
   "outputs": [],
   "source": [
    "metanet_id=\"'MetaNetX (MNX) Equation'\"\n",
    "biocyc_id=\"'BioCyc'\"\n",
    "ec_id=\"'EC Number'\"\n",
    "rhea_id=\"'RHEA'\"\n",
    "kegg_id=\"'KEGG Reaction'\""
   ]
  },
  {
   "cell_type": "code",
   "execution_count": 7,
   "metadata": {},
   "outputs": [
    {
     "name": "stdout",
     "output_type": "stream",
     "text": [
      "[{'MetaNetX (MNX) Equation': [{'id': 'MNXR94675', 'link': 'http://identifiers.org/metanetx.reaction/MNXR94675'}]}]\n",
      "['http://identifiers.org/metanetx.reaction/MNXR94675']\n",
      "[{'MetaNetX (MNX) Equation': [{'id': 'MNXR94676', 'link': 'http://identifiers.org/metanetx.reaction/MNXR94676'}]}]\n",
      "['http://identifiers.org/metanetx.reaction/MNXR94676']\n",
      "[{'MetaNetX (MNX) Equation': [{'id': 'MNXR94677', 'link': 'http://identifiers.org/metanetx.reaction/MNXR94677'}]}]\n",
      "['http://identifiers.org/metanetx.reaction/MNXR94677']\n",
      "[{'MetaNetX (MNX) Equation': [{'id': 'MNXR94678', 'link': 'http://identifiers.org/metanetx.reaction/MNXR94678'}]}]\n",
      "['http://identifiers.org/metanetx.reaction/MNXR94678']\n",
      "[{'MetaNetX (MNX) Equation': [{'id': 'MNXR94679', 'link': 'http://identifiers.org/metanetx.reaction/MNXR94679'}]}]\n",
      "['http://identifiers.org/metanetx.reaction/MNXR94679']\n",
      "[{'MetaNetX (MNX) Equation': [{'id': 'MNXR94680', 'link': 'http://identifiers.org/metanetx.reaction/MNXR94680'}]}]\n",
      "['http://identifiers.org/metanetx.reaction/MNXR94680']\n",
      "[{'MetaNetX (MNX) Equation': [{'id': 'MNXR94681', 'link': 'http://identifiers.org/metanetx.reaction/MNXR94681'}]}]\n",
      "['http://identifiers.org/metanetx.reaction/MNXR94681']\n",
      "[{'MetaNetX (MNX) Equation': [{'id': 'MNXR94683', 'link': 'http://identifiers.org/metanetx.reaction/MNXR94683'}], 'BioCyc': [{'id': 'META:TRANS-RXN0-467', 'link': 'http://identifiers.org/biocyc/META:TRANS-RXN0-467'}]}]\n",
      "['http://identifiers.org/metanetx.reaction/MNXR94683']\n",
      "['http://identifiers.org/biocyc/META:TRANS-RXN0-467']\n",
      "[{'MetaNetX (MNX) Equation': [{'id': 'MNXR94683', 'link': 'http://identifiers.org/metanetx.reaction/MNXR94683'}], 'BioCyc': [{'id': 'META:TRANS-RXN0-467', 'link': 'http://identifiers.org/biocyc/META:TRANS-RXN0-467'}]}]\n",
      "['http://identifiers.org/metanetx.reaction/MNXR94683']\n",
      "['http://identifiers.org/biocyc/META:TRANS-RXN0-467']\n",
      "[{'MetaNetX (MNX) Equation': [{'id': 'MNXR94684', 'link': 'http://identifiers.org/metanetx.reaction/MNXR94684'}]}]\n",
      "['http://identifiers.org/metanetx.reaction/MNXR94684']\n",
      "[{'MetaNetX (MNX) Equation': [{'id': 'MNXR94684', 'link': 'http://identifiers.org/metanetx.reaction/MNXR94684'}]}]\n",
      "['http://identifiers.org/metanetx.reaction/MNXR94684']\n",
      "[{'MetaNetX (MNX) Equation': [{'id': 'MNXR94693', 'link': 'http://identifiers.org/metanetx.reaction/MNXR94693'}]}]\n",
      "['http://identifiers.org/metanetx.reaction/MNXR94693']\n",
      "[{'MetaNetX (MNX) Equation': [{'id': 'MNXR94694', 'link': 'http://identifiers.org/metanetx.reaction/MNXR94694'}], 'EC Number': [{'id': '2.4.1.161', 'link': 'http://identifiers.org/ec-code/2.4.1.161'}]}]\n",
      "['http://identifiers.org/metanetx.reaction/MNXR94694']\n",
      "['http://identifiers.org/ec-code/2.4.1.161']\n",
      "[{'MetaNetX (MNX) Equation': [{'id': 'MNXR94718', 'link': 'http://identifiers.org/metanetx.reaction/MNXR94718'}]}]\n",
      "['http://identifiers.org/metanetx.reaction/MNXR94718']\n",
      "[{'MetaNetX (MNX) Equation': [{'id': 'MNXR94720', 'link': 'http://identifiers.org/metanetx.reaction/MNXR94720'}]}]\n",
      "['http://identifiers.org/metanetx.reaction/MNXR94720']\n",
      "[{'MetaNetX (MNX) Equation': [{'id': 'MNXR94721', 'link': 'http://identifiers.org/metanetx.reaction/MNXR94721'}]}]\n",
      "['http://identifiers.org/metanetx.reaction/MNXR94721']\n",
      "[{'MetaNetX (MNX) Equation': [{'id': 'MNXR94726', 'link': 'http://identifiers.org/metanetx.reaction/MNXR94726'}]}]\n",
      "['http://identifiers.org/metanetx.reaction/MNXR94726']\n",
      "[{'MetaNetX (MNX) Equation': [{'id': 'MNXR94727', 'link': 'http://identifiers.org/metanetx.reaction/MNXR94727'}]}]\n",
      "['http://identifiers.org/metanetx.reaction/MNXR94727']\n",
      "[{'MetaNetX (MNX) Equation': [{'id': 'MNXR94728', 'link': 'http://identifiers.org/metanetx.reaction/MNXR94728'}]}]\n",
      "['http://identifiers.org/metanetx.reaction/MNXR94728']\n",
      "[{'MetaNetX (MNX) Equation': [{'id': 'MNXR94723', 'link': 'http://identifiers.org/metanetx.reaction/MNXR94723'}], 'RHEA': [{'id': '27878', 'link': 'http://identifiers.org/rhea/27878'}, {'id': '27879', 'link': 'http://identifiers.org/rhea/27879'}, {'id': '27880', 'link': 'http://identifiers.org/rhea/27880'}, {'id': '27881', 'link': 'http://identifiers.org/rhea/27881'}], 'BioCyc': [{'id': 'META:RXN-14091', 'link': 'http://identifiers.org/biocyc/META:RXN-14091'}], 'EC Number': [{'id': '3.1.4.16', 'link': 'http://identifiers.org/ec-code/3.1.4.16'}], 'KEGG Reaction': [{'id': 'R03538', 'link': 'http://identifiers.org/kegg.reaction/R03538'}]}]\n",
      "['http://identifiers.org/metanetx.reaction/MNXR94723']\n",
      "[]\n",
      "['http://identifiers.org/ec-code/3.1.4.16']\n",
      "['http://identifiers.org/rhea/27878']\n",
      "['http://identifiers.org/kegg.reaction/R03538']\n",
      "[{'MetaNetX (MNX) Equation': [{'id': 'MNXR94724', 'link': 'http://identifiers.org/metanetx.reaction/MNXR94724'}], 'RHEA': [{'id': '27882', 'link': 'http://identifiers.org/rhea/27882'}, {'id': '27883', 'link': 'http://identifiers.org/rhea/27883'}, {'id': '27884', 'link': 'http://identifiers.org/rhea/27884'}, {'id': '27885', 'link': 'http://identifiers.org/rhea/27885'}], 'BioCyc': [{'id': 'META:RXN-14112', 'link': 'http://identifiers.org/biocyc/META:RXN-14112'}], 'EC Number': [{'id': '3.1.4.16', 'link': 'http://identifiers.org/ec-code/3.1.4.16'}], 'KEGG Reaction': [{'id': 'R03929', 'link': 'http://identifiers.org/kegg.reaction/R03929'}]}]\n",
      "['http://identifiers.org/metanetx.reaction/MNXR94724']\n",
      "[]\n",
      "['http://identifiers.org/ec-code/3.1.4.16']\n",
      "['http://identifiers.org/rhea/27882']\n",
      "['http://identifiers.org/kegg.reaction/R03929']\n",
      "[{'MetaNetX (MNX) Equation': [{'id': 'MNXR94722', 'link': 'http://identifiers.org/metanetx.reaction/MNXR94722'}], 'RHEA': [{'id': '27886', 'link': 'http://identifiers.org/rhea/27886'}, {'id': '27887', 'link': 'http://identifiers.org/rhea/27887'}, {'id': '27888', 'link': 'http://identifiers.org/rhea/27888'}, {'id': '27889', 'link': 'http://identifiers.org/rhea/27889'}], 'BioCyc': [{'id': 'META:RXN-14113', 'link': 'http://identifiers.org/biocyc/META:RXN-14113'}], 'EC Number': [{'id': '3.1.4.16', 'link': 'http://identifiers.org/ec-code/3.1.4.16'}], 'KEGG Reaction': [{'id': 'R03537', 'link': 'http://identifiers.org/kegg.reaction/R03537'}]}]\n",
      "['http://identifiers.org/metanetx.reaction/MNXR94722']\n",
      "[]\n",
      "['http://identifiers.org/ec-code/3.1.4.16']\n",
      "['http://identifiers.org/rhea/27886']\n",
      "['http://identifiers.org/kegg.reaction/R03537']\n",
      "[{'MetaNetX (MNX) Equation': [{'id': 'MNXR94725', 'link': 'http://identifiers.org/metanetx.reaction/MNXR94725'}], 'RHEA': [{'id': '27858', 'link': 'http://identifiers.org/rhea/27858'}, {'id': '27859', 'link': 'http://identifiers.org/rhea/27859'}, {'id': '27860', 'link': 'http://identifiers.org/rhea/27860'}, {'id': '27861', 'link': 'http://identifiers.org/rhea/27861'}], 'BioCyc': [{'id': 'META:RXN-14064', 'link': 'http://identifiers.org/biocyc/META:RXN-14064'}], 'EC Number': [{'id': '3.1.4.16', 'link': 'http://identifiers.org/ec-code/3.1.4.16'}], 'KEGG Reaction': [{'id': 'R05135', 'link': 'http://identifiers.org/kegg.reaction/R05135'}]}]\n",
      "['http://identifiers.org/metanetx.reaction/MNXR94725']\n",
      "[]\n",
      "['http://identifiers.org/ec-code/3.1.4.16']\n",
      "['http://identifiers.org/rhea/27858']\n",
      "['http://identifiers.org/kegg.reaction/R05135']\n",
      "[{'MetaNetX (MNX) Equation': [{'id': 'MNXR94741', 'link': 'http://identifiers.org/metanetx.reaction/MNXR94741'}]}]\n",
      "['http://identifiers.org/metanetx.reaction/MNXR94741']\n",
      "[{'MetaNetX (MNX) Equation': [{'id': 'MNXR94743', 'link': 'http://identifiers.org/metanetx.reaction/MNXR94743'}]}]\n",
      "['http://identifiers.org/metanetx.reaction/MNXR94743']\n",
      "[{'MetaNetX (MNX) Equation': [{'id': 'MNXR94744', 'link': 'http://identifiers.org/metanetx.reaction/MNXR94744'}]}]\n",
      "['http://identifiers.org/metanetx.reaction/MNXR94744']\n",
      "[{'MetaNetX (MNX) Equation': [{'id': 'MNXR94745', 'link': 'http://identifiers.org/metanetx.reaction/MNXR94745'}]}]\n",
      "['http://identifiers.org/metanetx.reaction/MNXR94745']\n",
      "[{'MetaNetX (MNX) Equation': [{'id': 'MNXR94746', 'link': 'http://identifiers.org/metanetx.reaction/MNXR94746'}]}]\n",
      "['http://identifiers.org/metanetx.reaction/MNXR94746']\n",
      "[{'MetaNetX (MNX) Equation': [{'id': 'MNXR94747', 'link': 'http://identifiers.org/metanetx.reaction/MNXR94747'}]}]\n",
      "['http://identifiers.org/metanetx.reaction/MNXR94747']\n",
      "[{'MetaNetX (MNX) Equation': [{'id': 'MNXR94748', 'link': 'http://identifiers.org/metanetx.reaction/MNXR94748'}]}]\n",
      "['http://identifiers.org/metanetx.reaction/MNXR94748']\n",
      "[{'MetaNetX (MNX) Equation': [{'id': 'MNXR94749', 'link': 'http://identifiers.org/metanetx.reaction/MNXR94749'}]}]\n",
      "['http://identifiers.org/metanetx.reaction/MNXR94749']\n",
      "[{'MetaNetX (MNX) Equation': [{'id': 'MNXR94750', 'link': 'http://identifiers.org/metanetx.reaction/MNXR94750'}]}]\n",
      "['http://identifiers.org/metanetx.reaction/MNXR94750']\n",
      "[{'MetaNetX (MNX) Equation': [{'id': 'MNXR94751', 'link': 'http://identifiers.org/metanetx.reaction/MNXR94751'}]}]\n",
      "['http://identifiers.org/metanetx.reaction/MNXR94751']\n",
      "[{'MetaNetX (MNX) Equation': [{'id': 'MNXR94752', 'link': 'http://identifiers.org/metanetx.reaction/MNXR94752'}]}]\n",
      "['http://identifiers.org/metanetx.reaction/MNXR94752']\n",
      "[{'MetaNetX (MNX) Equation': [{'id': 'MNXR94753', 'link': 'http://identifiers.org/metanetx.reaction/MNXR94753'}]}]\n",
      "['http://identifiers.org/metanetx.reaction/MNXR94753']\n",
      "[{'MetaNetX (MNX) Equation': [{'id': 'MNXR94754', 'link': 'http://identifiers.org/metanetx.reaction/MNXR94754'}]}]\n",
      "['http://identifiers.org/metanetx.reaction/MNXR94754']\n",
      "[{'MetaNetX (MNX) Equation': [{'id': 'MNXR94755', 'link': 'http://identifiers.org/metanetx.reaction/MNXR94755'}]}]\n",
      "['http://identifiers.org/metanetx.reaction/MNXR94755']\n",
      "[{'MetaNetX (MNX) Equation': [{'id': 'MNXR94756', 'link': 'http://identifiers.org/metanetx.reaction/MNXR94756'}]}]\n",
      "['http://identifiers.org/metanetx.reaction/MNXR94756']\n",
      "[{'MetaNetX (MNX) Equation': [{'id': 'MNXR94757', 'link': 'http://identifiers.org/metanetx.reaction/MNXR94757'}]}]\n",
      "['http://identifiers.org/metanetx.reaction/MNXR94757']\n",
      "[{'MetaNetX (MNX) Equation': [{'id': 'MNXR94758', 'link': 'http://identifiers.org/metanetx.reaction/MNXR94758'}]}]\n",
      "['http://identifiers.org/metanetx.reaction/MNXR94758']\n",
      "[{'MetaNetX (MNX) Equation': [{'id': 'MNXR94759', 'link': 'http://identifiers.org/metanetx.reaction/MNXR94759'}]}]\n",
      "['http://identifiers.org/metanetx.reaction/MNXR94759']\n",
      "[{'MetaNetX (MNX) Equation': [{'id': 'MNXR94760', 'link': 'http://identifiers.org/metanetx.reaction/MNXR94760'}], 'EC Number': [{'id': '2.3.1.40', 'link': 'http://identifiers.org/ec-code/2.3.1.40'}]}]\n",
      "['http://identifiers.org/metanetx.reaction/MNXR94760']\n",
      "['http://identifiers.org/ec-code/2.3.1.40']\n",
      "[{'MetaNetX (MNX) Equation': [{'id': 'MNXR94761', 'link': 'http://identifiers.org/metanetx.reaction/MNXR94761'}]}]\n",
      "['http://identifiers.org/metanetx.reaction/MNXR94761']\n",
      "[{'MetaNetX (MNX) Equation': [{'id': 'MNXR94762', 'link': 'http://identifiers.org/metanetx.reaction/MNXR94762'}], 'EC Number': [{'id': '2.3.1.40', 'link': 'http://identifiers.org/ec-code/2.3.1.40'}]}]\n",
      "['http://identifiers.org/metanetx.reaction/MNXR94762']\n",
      "['http://identifiers.org/ec-code/2.3.1.40']\n",
      "[{'MetaNetX (MNX) Equation': [{'id': 'MNXR94763', 'link': 'http://identifiers.org/metanetx.reaction/MNXR94763'}]}]\n",
      "['http://identifiers.org/metanetx.reaction/MNXR94763']\n",
      "[{'MetaNetX (MNX) Equation': [{'id': 'MNXR94764', 'link': 'http://identifiers.org/metanetx.reaction/MNXR94764'}]}]\n",
      "['http://identifiers.org/metanetx.reaction/MNXR94764']\n",
      "[{'MetaNetX (MNX) Equation': [{'id': 'MNXR94765', 'link': 'http://identifiers.org/metanetx.reaction/MNXR94765'}]}]\n",
      "['http://identifiers.org/metanetx.reaction/MNXR94765']\n",
      "[{'MetaNetX (MNX) Equation': [{'id': 'MNXR94766', 'link': 'http://identifiers.org/metanetx.reaction/MNXR94766'}]}]\n",
      "['http://identifiers.org/metanetx.reaction/MNXR94766']\n",
      "[{'MetaNetX (MNX) Equation': [{'id': 'MNXR94767', 'link': 'http://identifiers.org/metanetx.reaction/MNXR94767'}]}]\n",
      "['http://identifiers.org/metanetx.reaction/MNXR94767']\n",
      "[{'MetaNetX (MNX) Equation': [{'id': 'MNXR94768', 'link': 'http://identifiers.org/metanetx.reaction/MNXR94768'}]}]\n",
      "['http://identifiers.org/metanetx.reaction/MNXR94768']\n"
     ]
    }
   ],
   "source": [
    "for i in range(50):\n",
    "    print (ecoli_db[\"EC_Links\"][i])\n",
    "    if metanet_id in ecoli_db[\"EC_Links\"][i]:\n",
    "        link_metanet=re.findall('.*?(http://identifiers.org/metanetx.reaction/[a-zA-Z0-9]*).*', ecoli_db[\"EC_Links\"][i])\n",
    "        print (link_metanet)\n",
    "    if biocyc_id in ecoli_db[\"EC_Links\"][i]:\n",
    "        #x = re.findall('.*([a-zA-Z]+\\s[0-9][0-9],\\s[0-9][0-9][0-9][0-9]).*', line) \n",
    "\n",
    "        link_biocyc=re.findall('.*?(http://identifiers.org/biocyc/[a-zA-Z0-9]+:+[a-zA-Z0-9]+-+[a-zA-Z0-9]+-+[a-zA-Z0-9]*).*', ecoli_db[\"EC_Links\"][i])\n",
    "        print (link_biocyc)\n",
    "    if ec_id in ecoli_db[\"EC_Links\"][i]:\n",
    "        link_ec=re.findall('.*?(http://identifiers.org/ec-code/[a-zA-Z0-9.]*).*', ecoli_db[\"EC_Links\"][i])\n",
    "        print (link_ec)\n",
    "    if rhea_id in ecoli_db[\"EC_Links\"][i]:\n",
    "        link_rhea=re.findall('.*?(http://identifiers.org/rhea/[a-zA-Z0-9.]*).*', ecoli_db[\"EC_Links\"][i])\n",
    "        print (link_rhea) \n",
    "    if kegg_id in ecoli_db[\"EC_Links\"][i]:\n",
    "        link_kegg=re.findall('.*?(http://identifiers.org/kegg.reaction/[a-zA-Z0-9.]*).*', ecoli_db[\"EC_Links\"][i])\n",
    "        print (link_kegg)     "
   ]
  },
  {
   "cell_type": "code",
   "execution_count": 13,
   "metadata": {
    "collapsed": true
   },
   "outputs": [],
   "source": [
    "bigg_id_list=ecoli_db[\"BIGG_ID\"]\n",
    "link_metanet_list=[]\n",
    "link_biocyc_list=[]\n",
    "link_ec_list=[]\n",
    "link_rhea_list=[]\n",
    "link_kegg_list=[]\n",
    "list_of_links=[bigg_id_list,link_metanet_list,link_biocyc_list,link_ec_list,link_rhea_list,link_kegg_list]\n",
    "\n",
    "for i in range(len(ecoli_db[\"BIGG_ID\"])):\n",
    "    if metanet_id in ecoli_db[\"EC_Links\"][i]:\n",
    "        link_metanet=re.findall('.*?(http://identifiers.org/metanetx.reaction/[a-zA-Z0-9]*).*', ecoli_db[\"EC_Links\"][i])\n",
    "        link_metanet_list.append(link_metanet)\n",
    "    else:\n",
    "        link_metanet_list.append(\"NA\")         \n",
    "    if biocyc_id in ecoli_db[\"EC_Links\"][i]:\n",
    "        link_biocyc=re.findall('.*?(http://identifiers.org/biocyc/[a-zA-Z0-9]+:+[a-zA-Z0-9]+-+[a-zA-Z0-9]+-+[a-zA-Z0-9]*).*', ecoli_db[\"EC_Links\"][i])\n",
    "        link_biocyc_list.append(link_biocyc)\n",
    "    else:\n",
    "        link_biocyc_list.append(\"NA\")           \n",
    "    if ec_id in ecoli_db[\"EC_Links\"][i]:\n",
    "        link_ec=re.findall('.*?(http://identifiers.org/ec-code/[a-zA-Z0-9.]*).*', ecoli_db[\"EC_Links\"][i])\n",
    "        link_ec_list.append(link_ec)\n",
    "    else:\n",
    "        link_ec_list.append(\"NA\")\n",
    "    if rhea_id in ecoli_db[\"EC_Links\"][i]:\n",
    "        link_rhea=re.findall('.*?(http://identifiers.org/rhea/[a-zA-Z0-9.]*).*', ecoli_db[\"EC_Links\"][i])\n",
    "        link_rhea_list.append(link_rhea) \n",
    "    else:\n",
    "        link_rhea_list.append(\"NA\")\n",
    "    if kegg_id in ecoli_db[\"EC_Links\"][i]:\n",
    "        link_kegg=re.findall('.*?(http://identifiers.org/kegg.reaction/[a-zA-Z0-9.]*).*', ecoli_db[\"EC_Links\"][i])\n",
    "        link_kegg_list.append(link_kegg)    \n",
    "    else:\n",
    "        link_kegg_list.append(\"NA\")\n",
    "    "
   ]
  },
  {
   "cell_type": "code",
   "execution_count": 14,
   "metadata": {},
   "outputs": [
    {
     "name": "stdout",
     "output_type": "stream",
     "text": [
      "2583\n",
      "2583\n",
      "2583\n",
      "2583\n",
      "2583\n",
      "2583\n"
     ]
    }
   ],
   "source": [
    "#sanity Check\n",
    "\n",
    "for list_ in list_of_links:\n",
    "    print (len(list_))"
   ]
  },
  {
   "cell_type": "code",
   "execution_count": 20,
   "metadata": {
    "collapsed": true
   },
   "outputs": [],
   "source": [
    "d = {'bigg_id_list':bigg_id_list,'link_metanet_list':link_metanet_list,'link_biocyc_list':link_biocyc_list,\\\n",
    "     'link_ec_list':link_ec_list,'link_rhea_list':link_rhea_list,'link_kegg_list':link_kegg_list}\n",
    "df_links = pd.DataFrame(d)\n",
    "\n",
    "\n",
    "\n"
   ]
  },
  {
   "cell_type": "code",
   "execution_count": 21,
   "metadata": {},
   "outputs": [
    {
     "data": {
      "text/html": [
       "<div>\n",
       "<style>\n",
       "    .dataframe thead tr:only-child th {\n",
       "        text-align: right;\n",
       "    }\n",
       "\n",
       "    .dataframe thead th {\n",
       "        text-align: left;\n",
       "    }\n",
       "\n",
       "    .dataframe tbody tr th {\n",
       "        vertical-align: top;\n",
       "    }\n",
       "</style>\n",
       "<table border=\"1\" class=\"dataframe\">\n",
       "  <thead>\n",
       "    <tr style=\"text-align: right;\">\n",
       "      <th></th>\n",
       "      <th>bigg_id_list</th>\n",
       "      <th>link_biocyc_list</th>\n",
       "      <th>link_ec_list</th>\n",
       "      <th>link_kegg_list</th>\n",
       "      <th>link_metanet_list</th>\n",
       "      <th>link_rhea_list</th>\n",
       "    </tr>\n",
       "  </thead>\n",
       "  <tbody>\n",
       "    <tr>\n",
       "      <th>0</th>\n",
       "      <td>12DGR120tipp</td>\n",
       "      <td>NA</td>\n",
       "      <td>NA</td>\n",
       "      <td>NA</td>\n",
       "      <td>[http://identifiers.org/metanetx.reaction/MNXR...</td>\n",
       "      <td>NA</td>\n",
       "    </tr>\n",
       "    <tr>\n",
       "      <th>1</th>\n",
       "      <td>12DGR140tipp</td>\n",
       "      <td>NA</td>\n",
       "      <td>NA</td>\n",
       "      <td>NA</td>\n",
       "      <td>[http://identifiers.org/metanetx.reaction/MNXR...</td>\n",
       "      <td>NA</td>\n",
       "    </tr>\n",
       "    <tr>\n",
       "      <th>2</th>\n",
       "      <td>12DGR141tipp</td>\n",
       "      <td>NA</td>\n",
       "      <td>NA</td>\n",
       "      <td>NA</td>\n",
       "      <td>[http://identifiers.org/metanetx.reaction/MNXR...</td>\n",
       "      <td>NA</td>\n",
       "    </tr>\n",
       "    <tr>\n",
       "      <th>3</th>\n",
       "      <td>12DGR160tipp</td>\n",
       "      <td>NA</td>\n",
       "      <td>NA</td>\n",
       "      <td>NA</td>\n",
       "      <td>[http://identifiers.org/metanetx.reaction/MNXR...</td>\n",
       "      <td>NA</td>\n",
       "    </tr>\n",
       "    <tr>\n",
       "      <th>4</th>\n",
       "      <td>12DGR161tipp</td>\n",
       "      <td>NA</td>\n",
       "      <td>NA</td>\n",
       "      <td>NA</td>\n",
       "      <td>[http://identifiers.org/metanetx.reaction/MNXR...</td>\n",
       "      <td>NA</td>\n",
       "    </tr>\n",
       "  </tbody>\n",
       "</table>\n",
       "</div>"
      ],
      "text/plain": [
       "   bigg_id_list link_biocyc_list link_ec_list link_kegg_list  \\\n",
       "0  12DGR120tipp               NA           NA             NA   \n",
       "1  12DGR140tipp               NA           NA             NA   \n",
       "2  12DGR141tipp               NA           NA             NA   \n",
       "3  12DGR160tipp               NA           NA             NA   \n",
       "4  12DGR161tipp               NA           NA             NA   \n",
       "\n",
       "                                   link_metanet_list link_rhea_list  \n",
       "0  [http://identifiers.org/metanetx.reaction/MNXR...             NA  \n",
       "1  [http://identifiers.org/metanetx.reaction/MNXR...             NA  \n",
       "2  [http://identifiers.org/metanetx.reaction/MNXR...             NA  \n",
       "3  [http://identifiers.org/metanetx.reaction/MNXR...             NA  \n",
       "4  [http://identifiers.org/metanetx.reaction/MNXR...             NA  "
      ]
     },
     "execution_count": 21,
     "metadata": {},
     "output_type": "execute_result"
    }
   ],
   "source": [
    "df_links.head()"
   ]
  },
  {
   "cell_type": "code",
   "execution_count": 25,
   "metadata": {},
   "outputs": [
    {
     "name": "stdout",
     "output_type": "stream",
     "text": [
      "File name:  EC_db_links.xlsx\n"
     ]
    }
   ],
   "source": [
    "Filename=\"EC_db_links\"\n",
    "writer = pd.ExcelWriter(str(Filename)+'.xlsx', engine='xlsxwriter')\n",
    "df_links.to_excel(writer, sheet_name='Sheet1')\n",
    "writer.save()\n",
    "print (\"File name: \", str(Filename)+'.xlsx')"
   ]
  },
  {
   "cell_type": "code",
   "execution_count": 23,
   "metadata": {},
   "outputs": [
    {
     "name": "stdout",
     "output_type": "stream",
     "text": [
      "C:\\Users\\zafri\\Documents\\Senior_Design\\Output\\from_API\n"
     ]
    }
   ],
   "source": [
    "cwd=os.getcwd()\n",
    "print (cwd)"
   ]
  },
  {
   "cell_type": "code",
   "execution_count": null,
   "metadata": {
    "collapsed": true
   },
   "outputs": [],
   "source": []
  }
 ],
 "metadata": {
  "kernelspec": {
   "display_name": "Python 3",
   "language": "python",
   "name": "python3"
  },
  "language_info": {
   "codemirror_mode": {
    "name": "ipython",
    "version": 3
   },
   "file_extension": ".py",
   "mimetype": "text/x-python",
   "name": "python",
   "nbconvert_exporter": "python",
   "pygments_lexer": "ipython3",
   "version": "3.6.3"
  }
 },
 "nbformat": 4,
 "nbformat_minor": 2
}
